{
 "cells": [
  {
   "cell_type": "markdown",
   "metadata": {},
   "source": [
    "downlaod from fashion MNIST  \n",
    "```\n",
    "wget http://fashion-mnist.s3-website.eu-central-1.amazonaws.com/train-images-idx3-ubyte.gz\n",
    "wget http://fashion-mnist.s3-website.eu-central-1.amazonaws.com/train-labels-idx1-ubyte.gz\n",
    "wget http://fashion-mnist.s3-website.eu-central-1.amazonaws.com/t10k-images-idx3-ubyte.gz\n",
    "wget http://fashion-mnist.s3-website.eu-central-1.amazonaws.com/t10k-labels-idx1-ubyte.gz\n",
    "```\n",
    "put them into data/fashion"
   ]
  },
  {
   "cell_type": "code",
   "execution_count": 1,
   "metadata": {
    "collapsed": true
   },
   "outputs": [],
   "source": [
    "import tensorflow as tf\n",
    "import os\n",
    "import matplotlib.pyplot as plt\n",
    "import numpy as np\n",
    "%matplotlib inline"
   ]
  },
  {
   "cell_type": "code",
   "execution_count": 2,
   "metadata": {
    "collapsed": false
   },
   "outputs": [
    {
     "name": "stdout",
     "output_type": "stream",
     "text": [
      "Extracting ./data/fashion/train-images-idx3-ubyte.gz\n",
      "Extracting ./data/fashion/train-labels-idx1-ubyte.gz\n",
      "Extracting ./data/fashion/t10k-images-idx3-ubyte.gz\n",
      "Extracting ./data/fashion/t10k-labels-idx1-ubyte.gz\n"
     ]
    }
   ],
   "source": [
    "from tensorflow.examples.tutorials.mnist import input_data\n",
    "mnist = input_data.read_data_sets('./data/fashion', one_hot=True)"
   ]
  },
  {
   "cell_type": "code",
   "execution_count": 3,
   "metadata": {
    "collapsed": true
   },
   "outputs": [],
   "source": [
    "img, label = mnist.train.next_batch(10)"
   ]
  },
  {
   "cell_type": "code",
   "execution_count": 4,
   "metadata": {
    "collapsed": false
   },
   "outputs": [
    {
     "data": {
      "image/png": "[encoded data removed]",
      "text/plain": [
       "<matplotlib.figure.Figure at 0x123ce7048>"
      ]
     },
     "metadata": {},
     "output_type": "display_data"
    }
   ],
   "source": [
    "dim = 28\n",
    "fig, axs = plt.subplots(1, len(img), figsize=(20, 3))\n",
    "for i, m in enumerate(img):\n",
    "        axs[i].imshow(np.reshape(m, (dim, dim)),cmap='gray')\n",
    "        axs[i].axis('off')\n",
    "plt.show()"
   ]
  },
  {
   "cell_type": "code",
   "execution_count": 5,
   "metadata": {
    "collapsed": true
   },
   "outputs": [],
   "source": [
    "def weight_variable(shape):\n",
    "    w = tf.truncated_normal(shape, stddev=0.1)\n",
    "    return tf.Variable(w)\n",
    "\n",
    "def bias_variable(shape):\n",
    "    b = tf.constant(0.1, shape=shape)\n",
    "    return tf.Variable(b)\n",
    "\n",
    "def conv2d(x, W):\n",
    "    return tf.nn.conv2d(x, W, strides=[1,1,1,1], padding='SAME')\n",
    "\n",
    "def max_pool_2x2(x):\n",
    "    return tf.nn.max_pool(x, ksize=[1,2,2,1], strides=[1,2,2,1], padding='SAME')\n",
    "\n",
    "def variable_summaries(var):\n",
    "   \n",
    "    with tf.name_scope('summaries'):\n",
    "        mean = tf.reduce_mean(var)\n",
    "        tf.summary.scalar('mean', mean)\n",
    "        with tf.name_scope('stddev'):\n",
    "            stddev = tf.sqrt(tf.reduce_mean(tf.square(var - mean)))\n",
    "        tf.summary.scalar('stddev', stddev)\n",
    "        tf.summary.scalar('max', tf.reduce_max(var))\n",
    "        tf.summary.scalar('min', tf.reduce_min(var))\n",
    "        tf.summary.histogram('histogram', var)"
   ]
  },
  {
   "cell_type": "code",
   "execution_count": 6,
   "metadata": {
    "collapsed": true
   },
   "outputs": [],
   "source": [
    "image_size = 28 * 28\n",
    "log_dir = \"logs\"\n",
    "\n",
    "with tf.name_scope('input'):\n",
    "    x = tf.placeholder(tf.float32, shape=[None, 784], name='x-input')\n",
    "    y_ = tf.placeholder(tf.float32, shape=[None, 10], name='y-input')\n",
    "\n",
    "with tf.name_scope('input_reshape'):    \n",
    "    x_image = tf.reshape(x, [-1, 28, 28, 1])\n",
    "    tf.summary.image('input',  x_image, 10)\n",
    "\n",
    "with tf.name_scope(\"layer1\"):\n",
    "    with tf.name_scope('weights'):\n",
    "        W_conv1 = weight_variable([5,5,1,32])\n",
    "        variable_summaries(W_conv1)        \n",
    "    with tf.name_scope('biases'):\n",
    "        b_conv1 = bias_variable([32])\n",
    "        variable_summaries(b_conv1)\n",
    "        \n",
    "with tf.name_scope(\"conv1\"):\n",
    "    h_conv1 = tf.nn.relu(conv2d(x_image, W_conv1) + b_conv1)\n",
    "    variable_summaries(h_conv1)\n",
    "\n",
    "with tf.name_scope(\"pool1\"):   \n",
    "    h_pool1 = max_pool_2x2(h_conv1)\n",
    "\n",
    "with tf.name_scope(\"layer1\"):\n",
    "    with tf.name_scope('weights'):\n",
    "        W_conv2 = weight_variable([5,5,32,64])\n",
    "    with tf.name_scope('biases'):    \n",
    "        b_conv2 = bias_variable([64])\n",
    "\n",
    "with tf.name_scope(\"conv2\"):\n",
    "    h_conv2 = tf.nn.relu(conv2d(h_pool1, W_conv2) + b_conv2)\n",
    "\n",
    "with tf.name_scope(\"pool2\"):\n",
    "    h_pool2 = max_pool_2x2(h_conv2)\n",
    "    \n",
    "with tf.name_scope(\"pool2_flat\"):\n",
    "    h_pool2_flat = tf.reshape(h_pool2, [-1, 7*7*64])\n",
    "\n",
    "with tf.name_scope(\"fc1\"):\n",
    "    with tf.name_scope('weights'):\n",
    "        W_fc1 = weight_variable([7 * 7 * 64, 1024])\n",
    "    with tf.name_scope('biases'):   \n",
    "        b_fc1 = bias_variable([1024])\n",
    "    h_fc1 = tf.nn.relu(tf.matmul(h_pool2_flat, W_fc1) + b_fc1)\n",
    "\n",
    "with tf.name_scope(\"dropout\"):\n",
    "    keep_prob = tf.placeholder(tf.float32)\n",
    "    h_fc1_drop = tf.nn.dropout(h_fc1, keep_prob)\n",
    "\n",
    "with tf.name_scope(\"fc2\"):\n",
    "    W_fc2 = weight_variable([1024,10])\n",
    "    b_fc2 = bias_variable([10])\n",
    "\n",
    "with tf.name_scope(\"output\"):\n",
    "    y_conv = tf.matmul(h_fc1_drop, W_fc2) + b_fc2\n",
    "\n",
    "with tf.name_scope(\"loss\"):\n",
    "    loss = tf.reduce_mean(\n",
    "        tf.nn.softmax_cross_entropy_with_logits(labels=y_, logits=y_conv))\n",
    "    tf.summary.scalar('cross_entropy', loss)\n",
    "\n",
    "\n",
    "with tf.name_scope(\"opt\"):\n",
    "    opt = tf.train.AdamOptimizer(1e-4).minimize(loss)\n",
    "\n",
    "with tf.name_scope(\"accuracy\"):\n",
    "    correct = tf.equal(tf.argmax(y_conv, 1), tf.argmax(y_, 1))\n",
    "    accuracy = tf.reduce_mean(tf.cast(correct, tf.float32))\n",
    "    tf.summary.scalar('accuracy', accuracy)"
   ]
  },
  {
   "cell_type": "code",
   "execution_count": 7,
   "metadata": {
    "collapsed": false
   },
   "outputs": [
    {
     "name": "stdout",
     "output_type": "stream",
     "text": [
      "step 0, training loss 4.59587, training accuracy 0.16\n",
      "step 100, training loss 0.797613, training accuracy 0.7\n",
      "test accuracy 0.7825\n"
     ]
    }
   ],
   "source": [
    "if tf.gfile.Exists(log_dir):\n",
    "    tf.gfile.DeleteRecursively(log_dir)\n",
    "tf.gfile.MakeDirs(log_dir)\n",
    "\n",
    "with tf.Session() as sess:\n",
    "    sess.run(tf.global_variables_initializer())\n",
    "    \n",
    "    merged = tf.summary.merge_all()\n",
    "    train_writer = tf.summary.FileWriter(log_dir + '/train', sess.graph)\n",
    "    test_writer = tf.summary.FileWriter(log_dir + '/test')\n",
    "    \n",
    "    for i in range(200):\n",
    "        batch = mnist.train.next_batch(50)\n",
    "        opt.run(feed_dict={x: batch[0], y_: batch[1], keep_prob: 0.5})\n",
    "        \n",
    "        if i % 100 == 0:\n",
    "            train_loss, train_accuracy, summary = sess.run([loss, accuracy, merged], feed_dict={\n",
    "                  x: batch[0], y_: batch[1], keep_prob: 1.0})\n",
    "            print('step %d, training loss %g, training accuracy %g' % (i, train_loss, train_accuracy))\n",
    "            train_writer.add_summary(summary, i)\n",
    "        \n",
    "    test_accuracy, test_summary = sess.run([accuracy, merged], \n",
    "                                           feed_dict={x: mnist.test.images, y_: mnist.test.labels, keep_prob: 1.0})\n",
    "    train_writer.add_summary(test_summary, 0)\n",
    "    print('test accuracy %g' % test_accuracy)"
   ]
  },
  {
   "cell_type": "markdown",
   "metadata": {},
   "source": [
    "# Visualization"
   ]
  },
  {
   "cell_type": "code",
   "execution_count": 8,
   "metadata": {
    "collapsed": true
   },
   "outputs": [],
   "source": [
    "from tensorflow.contrib.tensorboard.plugins import projector\n",
    "X = mnist.test.images\n",
    "Y = mnist.test.labels\n",
    "LOG_DIR = os.getcwd() + '/' + log_dir + '/visualization/'\n",
    "tf.gfile.MakeDirs(LOG_DIR)"
   ]
  },
  {
   "cell_type": "code",
   "execution_count": 9,
   "metadata": {
    "collapsed": false
   },
   "outputs": [],
   "source": [
    "labels = ['t_shirt_top', 'trouser', 'pullover', 'dress', 'coat', 'sandal', 'shirt', 'sneaker', 'bag', 'ankle_boots']\n",
    "with open(os.path.join(LOG_DIR, 'metadata.tsv'),'w') as f:\n",
    "    f.write(\"Index\\tLabel\\n\")\n",
    "    for index, label in enumerate(mnist.test.labels):\n",
    "        f.write(\"%d\\t%s\\n\" % (index, labels[np.argmax(label)]))"
   ]
  },
  {
   "cell_type": "code",
   "execution_count": 10,
   "metadata": {
    "collapsed": true
   },
   "outputs": [],
   "source": [
    "rows =[]\n",
    "for idx, img in enumerate(mnist.test.images):\n",
    "    rows.append(np.reshape(img, [28, 28]))\n",
    "columns = []\n",
    "for i in range(100):\n",
    "    columns.append(np.concatenate(rows[100*i:100*(i+1)], axis=0))\n",
    "    \n",
    "images = np.concatenate(columns, axis=1)\n",
    "from scipy import misc\n",
    "misc.imsave(os.path.join(LOG_DIR, 'sprite.png'), images)"
   ]
  },
  {
   "cell_type": "code",
   "execution_count": 11,
   "metadata": {
    "collapsed": false
   },
   "outputs": [
    {
     "data": {
      "text/plain": [
       "'/Users/tdual/Workspace/cnn_feature/logs/visualization/model.ckpt-0'"
      ]
     },
     "execution_count": 11,
     "metadata": {},
     "output_type": "execute_result"
    }
   ],
   "source": [
    "labels = ['t_shirt_top', 'trouser', 'pullover', 'dress', 'coat', 'sandal', 'shirt', 'sneaker', 'bag', 'ankle_boots']\n",
    "\n",
    "#np.savetxt(LOG_DIR +'Xtest.tsv', X, fmt='%.6e', delimiter='\\t')\n",
    "#Y_str = np.array([labels[np.argmax(label)] for label in Y])\n",
    "#np.savetxt(LOG_DIR +'Ytest.tsv', Y_str, fmt='%s')\n",
    "#plt.imsave('zalando-mnist-sprite.png', get_sprite_image(X), cmap='gray')\n",
    "\n",
    "embedding_var = tf.Variable(X, name='mnist_pixels')\n",
    "config = projector.ProjectorConfig()\n",
    "\n",
    "embedding = config.embeddings.add()\n",
    "embedding.tensor_name = embedding_var.name\n",
    "embedding.metadata_path = LOG_DIR +'metadata.tsv'\n",
    "embedding.sprite.image_path = LOG_DIR + 'sprite.png'\n",
    "embedding.sprite.single_image_dim.extend([28, 28])\n",
    "\n",
    "\n",
    "summary_writer = tf.summary.FileWriter(LOG_DIR)\n",
    "\n",
    "\n",
    "projector.visualize_embeddings(summary_writer, config)\n",
    "sess = tf.Session()\n",
    "sess.run(tf.global_variables_initializer())\n",
    "saver = tf.train.Saver()\n",
    "saver.save(sess, LOG_DIR + 'model.ckpt', 0)"
   ]
  },
  {
   "cell_type": "code",
   "execution_count": null,
   "metadata": {
    "collapsed": true
   },
   "outputs": [],
   "source": []
  }
 ],
 "metadata": {
  "kernelspec": {
   "display_name": "Python 3",
   "language": "python",
   "name": "python3"
  },
  "language_info": {
   "codemirror_mode": {
    "name": "ipython",
    "version": 3
   },
   "file_extension": ".py",
   "mimetype": "text/x-python",
   "name": "python",
   "nbconvert_exporter": "python",
   "pygments_lexer": "ipython3",
   "version": "3.6.0"
  }
 },
 "nbformat": 4,
 "nbformat_minor": 2
}
