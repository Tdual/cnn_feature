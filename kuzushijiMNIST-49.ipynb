{
 "cells": [
  {
   "cell_type": "markdown",
   "metadata": {},
   "source": [
    "downlaod from kMNIST  \n",
    "\n",
    "https://github.com/rois-codh/kmnist\n"
   ]
  },
  {
   "cell_type": "code",
   "execution_count": 1,
   "metadata": {},
   "outputs": [],
   "source": [
    "import tensorflow as tf\n",
    "import os\n",
    "import matplotlib.pyplot as plt\n",
    "import numpy as np\n",
    "import pandas as pd\n",
    "import imageio\n",
    "from glob import glob\n",
    "import datetime\n",
    "import scipy\n",
    "import scipy.spatial\n",
    "import pickle\n",
    "import skimage\n",
    "import skimage.transform\n",
    "import random\n",
    "from skimage.color import rgb2gray\n",
    "from tqdm import tqdm_notebook as tqdm\n",
    "%matplotlib inline"
   ]
  },
  {
   "cell_type": "code",
   "execution_count": 2,
   "metadata": {},
   "outputs": [],
   "source": [
    "classmap = pd.read_csv(\"./data/kuzushiji/k49_classmap.csv\", index_col=\"index\")"
   ]
  },
  {
   "cell_type": "code",
   "execution_count": 3,
   "metadata": {},
   "outputs": [
    {
     "data": {
      "text/html": [
       "<div>\n",
       "<style scoped>\n",
       "    .dataframe tbody tr th:only-of-type {\n",
       "        vertical-align: middle;\n",
       "    }\n",
       "\n",
       "    .dataframe tbody tr th {\n",
       "        vertical-align: top;\n",
       "    }\n",
       "\n",
       "    .dataframe thead th {\n",
       "        text-align: right;\n",
       "    }\n",
       "</style>\n",
       "<table border=\"1\" class=\"dataframe\">\n",
       "  <thead>\n",
       "    <tr style=\"text-align: right;\">\n",
       "      <th></th>\n",
       "      <th>codepoint</th>\n",
       "      <th>char</th>\n",
       "    </tr>\n",
       "    <tr>\n",
       "      <th>index</th>\n",
       "      <th></th>\n",
       "      <th></th>\n",
       "    </tr>\n",
       "  </thead>\n",
       "  <tbody>\n",
       "    <tr>\n",
       "      <th>0</th>\n",
       "      <td>U+3042</td>\n",
       "      <td>あ</td>\n",
       "    </tr>\n",
       "    <tr>\n",
       "      <th>1</th>\n",
       "      <td>U+3044</td>\n",
       "      <td>い</td>\n",
       "    </tr>\n",
       "    <tr>\n",
       "      <th>2</th>\n",
       "      <td>U+3046</td>\n",
       "      <td>う</td>\n",
       "    </tr>\n",
       "    <tr>\n",
       "      <th>3</th>\n",
       "      <td>U+3048</td>\n",
       "      <td>え</td>\n",
       "    </tr>\n",
       "    <tr>\n",
       "      <th>4</th>\n",
       "      <td>U+304A</td>\n",
       "      <td>お</td>\n",
       "    </tr>\n",
       "  </tbody>\n",
       "</table>\n",
       "</div>"
      ],
      "text/plain": [
       "      codepoint char\n",
       "index               \n",
       "0        U+3042    あ\n",
       "1        U+3044    い\n",
       "2        U+3046    う\n",
       "3        U+3048    え\n",
       "4        U+304A    お"
      ]
     },
     "execution_count": 3,
     "metadata": {},
     "output_type": "execute_result"
    }
   ],
   "source": [
    "classmap.head()"
   ]
  },
  {
   "cell_type": "code",
   "execution_count": 4,
   "metadata": {},
   "outputs": [
    {
     "data": {
      "text/plain": [
       "'あ'"
      ]
     },
     "execution_count": 4,
     "metadata": {},
     "output_type": "execute_result"
    }
   ],
   "source": [
    "def get_label_str(index):\n",
    "    return classmap.iloc[index][\"char\"]\n",
    "get_label_str(0)"
   ]
  },
  {
   "cell_type": "code",
   "execution_count": 5,
   "metadata": {},
   "outputs": [],
   "source": [
    "train_images = np.load(\"./data/kuzushiji/k49-train-imgs.npz\")['arr_0']\n",
    "train_labels = np.load(\"./data/kuzushiji/k49-train-labels.npz\")['arr_0']"
   ]
  },
  {
   "cell_type": "code",
   "execution_count": 6,
   "metadata": {},
   "outputs": [
    {
     "data": {
      "text/plain": [
       "232365"
      ]
     },
     "execution_count": 6,
     "metadata": {},
     "output_type": "execute_result"
    }
   ],
   "source": [
    "len(train_images)"
   ]
  },
  {
   "cell_type": "code",
   "execution_count": 7,
   "metadata": {},
   "outputs": [
    {
     "data": {
      "text/plain": [
       "(28, 28)"
      ]
     },
     "execution_count": 7,
     "metadata": {},
     "output_type": "execute_result"
    }
   ],
   "source": [
    "train_images[0].shape"
   ]
  },
  {
   "cell_type": "code",
   "execution_count": 8,
   "metadata": {},
   "outputs": [],
   "source": [
    "imgs = train_images[:10]\n",
    "labels = train_labels[:10]"
   ]
  },
  {
   "cell_type": "code",
   "execution_count": 9,
   "metadata": {},
   "outputs": [
    {
     "data": {
      "text/plain": [
       "array([30, 19, 20, 30,  7,  4, 35, 20, 24, 43], dtype=uint8)"
      ]
     },
     "execution_count": 9,
     "metadata": {},
     "output_type": "execute_result"
    }
   ],
   "source": [
    "labels"
   ]
  },
  {
   "cell_type": "code",
   "execution_count": 10,
   "metadata": {},
   "outputs": [
    {
     "data": {
      "image/png": "[encoded data removed]",
      "text/plain": [
       "<Figure size 1440x216 with 10 Axes>"
      ]
     },
     "metadata": {
      "needs_background": "light"
     },
     "output_type": "display_data"
    }
   ],
   "source": [
    "dim = 28\n",
    "\n",
    "fig, axs = plt.subplots(1, len(imgs), figsize=(20, 3))\n",
    "\n",
    "for i, (img, label) in enumerate(zip(imgs, labels)):  \n",
    "        axs[i].imshow(np.reshape(img, (dim, dim)), cmap='gray')\n",
    "        axs[i].axis('off')\n",
    "        axs[i].set_title(get_label_str(label), fontsize=30)\n",
    "plt.show()"
   ]
  },
  {
   "cell_type": "code",
   "execution_count": 27,
   "metadata": {},
   "outputs": [],
   "source": [
    "class DataManager:\n",
    "    def __init__(self):\n",
    "        self.test_offset = 0\n",
    "        self.train_offset = 0\n",
    "        self.n_classes = 49\n",
    "        \n",
    "        self.train_images = np.load(\"./data/kuzushiji/k49-train-imgs.npz\")['arr_0']\n",
    "        self.train_labels = np.load(\"./data/kuzushiji/k49-train-labels.npz\")['arr_0']\n",
    "        self.test_images = np.load(\"./data/kuzushiji/k49-test-imgs.npz\")['arr_0']\n",
    "        self.test_labels = np.load(\"./data/kuzushiji/k49-test-labels.npz\")['arr_0']\n",
    "        \n",
    "        self.classmap = pd.read_csv(\"./data/kuzushiji/k49_classmap.csv\", index_col=\"index\")\n",
    "       \n",
    "        self.n_test = len(self.test_images)\n",
    "        self.n_train = len(self.train_images)\n",
    "\n",
    "        print(\"test/train: {}/{} = {:.4}\".format(\n",
    "            self.n_test, self.n_train, self.n_test/self.n_train))\n",
    "        \n",
    "    def get_label_str(self, index):\n",
    "        return self.classmap.iloc[index][\"char\"]\n",
    "    \n",
    "\n",
    "    def next_batch(self, kind, num, one_hot=True):\n",
    "        if kind == \"test\":\n",
    "            end = self.test_offset + num\n",
    "            if end > self.n_test:\n",
    "                self.test_offset = 0\n",
    "                end = num\n",
    "                #random.shuffle(self.test_images)\n",
    "            images = self.test_images\n",
    "            labels = self.test_labels\n",
    "            offset = self.test_offset\n",
    "        elif kind == \"train\":\n",
    "            end = self.train_offset + num\n",
    "            if end > self.n_train:\n",
    "                self.train_offset = 0\n",
    "                end = num\n",
    "                #random.shuffle(self.train_images)\n",
    "            images = self.train_images\n",
    "            labels = self.train_labels\n",
    "            offset = self.train_offset\n",
    "\n",
    "        else:\n",
    "            raise Exception(\"kind is 'test' or 'train'\")\n",
    "\n",
    "        image_batch = images[offset: end]\n",
    "        label_batch = [np.identity(49)[l]for l in labels[offset: end]]\n",
    "\n",
    "\n",
    "        if kind == \"test\":\n",
    "            self.test_offset = end\n",
    "        elif kind == \"train\":\n",
    "            self.train_offset = end\n",
    "        return label_batch, image_batch"
   ]
  },
  {
   "cell_type": "code",
   "execution_count": 28,
   "metadata": {},
   "outputs": [
    {
     "name": "stdout",
     "output_type": "stream",
     "text": [
      "test/train: 38547/232365 = 0.1659\n"
     ]
    }
   ],
   "source": [
    "dm = DataManager()"
   ]
  },
  {
   "cell_type": "code",
   "execution_count": 29,
   "metadata": {},
   "outputs": [],
   "source": [
    "labels, imgs = dm.next_batch(\"test\", 10)"
   ]
  },
  {
   "cell_type": "code",
   "execution_count": 30,
   "metadata": {},
   "outputs": [
    {
     "data": {
      "text/plain": [
       "(10, 28, 28)"
      ]
     },
     "execution_count": 30,
     "metadata": {},
     "output_type": "execute_result"
    }
   ],
   "source": [
    "imgs.shape"
   ]
  },
  {
   "cell_type": "code",
   "execution_count": 31,
   "metadata": {},
   "outputs": [
    {
     "data": {
      "image/png": "[encoded data removed]",
      "text/plain": [
       "<Figure size 1440x216 with 10 Axes>"
      ]
     },
     "metadata": {
      "needs_background": "light"
     },
     "output_type": "display_data"
    }
   ],
   "source": [
    "dim = 28\n",
    "\n",
    "fig, axs = plt.subplots(1, len(imgs), figsize=(20, 3))\n",
    "\n",
    "for i, (img, label) in enumerate(zip(imgs, labels)):  \n",
    "        axs[i].imshow(np.reshape(img, (dim, dim)), cmap='gray')\n",
    "        axs[i].axis('off')\n",
    "        axs[i].set_title(get_label_str(np.argmax(label)), fontsize=30)\n",
    "plt.show()"
   ]
  },
  {
   "cell_type": "code",
   "execution_count": null,
   "metadata": {},
   "outputs": [],
   "source": []
  },
  {
   "cell_type": "code",
   "execution_count": 34,
   "metadata": {},
   "outputs": [],
   "source": [
    "def weight_variable(shape):\n",
    "    w = tf.truncated_normal(shape, stddev=0.01)\n",
    "    return tf.Variable(w)\n",
    "\n",
    "\n",
    "def bias_variable(shape):\n",
    "    b = tf.constant(0.01, shape=shape)\n",
    "    return tf.Variable(b)\n",
    "\n",
    "\n",
    "def conv2d(x, filt, name):\n",
    "    \"\"\"\n",
    "        x is a batch of images. x.shape is [batch_size, in_height, in_width, in_channels]\n",
    "        filt is a filter. filt.shape is [filter_height, filter_width, in_channels, out_channels]\n",
    "    \"\"\" \n",
    "    return tf.nn.conv2d(x, filt, strides=[1,1,1,1], padding='SAME', name=name)\n",
    "\n",
    "\n",
    "def max_pool(x, name, size=2):\n",
    "    \"\"\"\n",
    "        x is a batch of images. x.shape is [batch_size, in_height, in_width, in_channels]\n",
    "        size is a pooling size using ksize.\n",
    "        (ksize is a kernel size. ksize.shape is [batch_size, height, width, channels]\n",
    "            The batch_size and channels are usual 1 on pooling. If you want 2x2 pooling, ksize=[1, 2, 2, 1])\n",
    "    \n",
    "    \"\"\"\n",
    "    return tf.nn.max_pool(x, ksize=[1, size, size, 1], strides=[1, 2, 2, 1], padding='SAME', name=name)\n",
    "\n",
    "\n",
    "def avg_pool(x, name, size=2):\n",
    "    \"\"\"\n",
    "        x is a batch of images. x.shape is [batch_size, in_height, in_width, in_channels]\n",
    "        size is a pooling size using ksize.\n",
    "        (ksize is a kernel size. ksize.shape is [batch_size, height, width, channels]\n",
    "            The batch_size and channels are usual 1 on pooling. If you want 2x2 pooling, ksize=[1, 2, 2, 1])\n",
    "    \n",
    "    \"\"\"\n",
    "    return tf.nn.avg_pool(x, ksize=[1, size, size, 1], strides=[1, 2, 2, 1], padding='SAME', name=name)\n",
    "\n",
    "\n",
    "def conv_layer(x, out_size, name, act=\"relu\"):\n",
    "    shape =x.get_shape().as_list()\n",
    "    in_channel = shape[-1]\n",
    "    with tf.name_scope(\"conv_{}\".format(name)):\n",
    "        with tf.name_scope('weights'):\n",
    "            W = weight_variable([5,5, in_channel, out_size])\n",
    "            variable_summaries(W)        \n",
    "        with tf.name_scope('biases'):\n",
    "            b = bias_variable([out_size])\n",
    "            variable_summaries(b)\n",
    "        h_conv = conv2d(x, W, \"conv2d_{}\".format(name))\n",
    "        h = tf.nn.bias_add(h_conv, b)\n",
    "        variable_summaries(h)\n",
    "        \n",
    "    if act == \"relu\":\n",
    "        with tf.name_scope(\"conv_relu_{}\".format(name)):\n",
    "            h_act = tf.nn.relu(h)\n",
    "    if act == \"ident\":\n",
    "        h_act = h\n",
    "    return h_act\n",
    "\n",
    "\n",
    "def fc_layer(x_flatten, out_size, name, act=\"relu\"):\n",
    "    shape =x_flatten.get_shape().as_list()\n",
    "    dim = shape[1]\n",
    "    with tf.name_scope(\"fc_{}\".format(name)):\n",
    "        with tf.name_scope('weights'):\n",
    "            W = weight_variable([dim, out_size])\n",
    "        with tf.name_scope('biases'):   \n",
    "            b  = bias_variable([out_size])\n",
    "        h = tf.nn.bias_add(tf.matmul(x_flatten, W), b)\n",
    "      \n",
    "    if act == \"relu\":\n",
    "        with tf.name_scope(\"fc_relu_{}\".format(name)):\n",
    "            h_act = tf.nn.relu(h)\n",
    "    if act == \"ident\":\n",
    "        h_act = h\n",
    "    return h_act\n",
    "\n",
    "\n",
    "def dropout(x, keep_prob, name):\n",
    "    with tf.name_scope(\"dropout_{}\".format(name)):\n",
    "        h = tf.nn.dropout(x, keep_prob)\n",
    "    return h\n",
    "    \n",
    "\n",
    "def flatten(x, name):\n",
    "    shape = x.get_shape().as_list()\n",
    "    dim = 1\n",
    "    for s in shape[1:]:\n",
    "        dim *= s\n",
    "    with tf.name_scope(name):\n",
    "        h = tf.reshape(x, [-1, dim])\n",
    "    return h\n",
    "\n",
    "\n",
    "def block(x, out_size, name):\n",
    "    h_conv_act = conv_layer(x, out_size, name)\n",
    "    \n",
    "    with tf.name_scope(\"pool_{}\".format(name)):   \n",
    "        h_pool1 = max_pool(h_conv_act, name)\n",
    "        variable_summaries(h_pool1)\n",
    "    return h_pool1\n",
    "\n",
    "\n",
    "def variable_summaries(var):  \n",
    "    with tf.name_scope('summaries'):\n",
    "        mean = tf.reduce_mean(var)\n",
    "        tf.summary.scalar('mean', mean)\n",
    "        with tf.name_scope('stddev'):\n",
    "            stddev = tf.sqrt(tf.reduce_mean(tf.square(var - mean)))\n",
    "        tf.summary.scalar('stddev', stddev)\n",
    "        tf.summary.scalar('max', tf.reduce_max(var))\n",
    "        tf.summary.scalar('min', tf.reduce_min(var))\n",
    "        tf.summary.histogram('histogram', var)"
   ]
  },
  {
   "cell_type": "code",
   "execution_count": 40,
   "metadata": {},
   "outputs": [
    {
     "name": "stdout",
     "output_type": "stream",
     "text": [
      "input/y-input:0\n"
     ]
    }
   ],
   "source": [
    "height = 28\n",
    "width = 28\n",
    "image_size = height * width\n",
    "g1 = None\n",
    "n_classes = 49\n",
    "\n",
    "with tf.Graph().as_default() as g1:\n",
    "    with tf.name_scope('input'):\n",
    "        keep_prob = tf.placeholder(tf.float32)\n",
    "        x = tf.placeholder(tf.float32, shape=[None, None, None], name='x-input')\n",
    "        y_ = tf.placeholder(tf.float32, shape=[None, n_classes], name='y-input')\n",
    "\n",
    "    with tf.name_scope('input_reshape'):    \n",
    "        x_image = tf.reshape(x, [-1, height, width, 1])\n",
    "        tf.summary.image('input',  x_image, n_classes)\n",
    "\n",
    "    h_pool1 = block(x_image, 32, \"1\")\n",
    "    h_pool2 = block(h_pool1, 64, \"2\")\n",
    "    h_pool2_flat = flatten(h_pool2, \"pool2_flat\")\n",
    "    h_fc1 = fc_layer(h_pool2_flat, 1024, \"1\", act=\"relu\")\n",
    "    h_fc1_drop = dropout(h_fc1, keep_prob, \"fc1\")\n",
    "    y_conv = fc_layer(h_fc1_drop , n_classes, \"2\", act=\"ident\")\n",
    "\n",
    "    with tf.name_scope(\"loss\"):\n",
    "        print(y_.name)\n",
    "        loss = tf.reduce_mean(\n",
    "            tf.nn.softmax_cross_entropy_with_logits(labels=y_, logits=y_conv))\n",
    "        tf.summary.scalar('cross_entropy', loss)\n",
    "\n",
    "    with tf.name_scope(\"optimizer\"):\n",
    "        opt = tf.train.AdamOptimizer(1e-4).minimize(loss)\n",
    "\n",
    "    with tf.name_scope(\"accuracy\"):\n",
    "        correct = tf.equal(tf.argmax(y_conv, 1), tf.argmax(y_, 1))\n",
    "        accuracy = tf.reduce_mean(tf.cast(correct, tf.float32))\n",
    "        tf.summary.scalar('accuracy', accuracy)"
   ]
  },
  {
   "cell_type": "code",
   "execution_count": 41,
   "metadata": {},
   "outputs": [
    {
     "data": {
      "text/html": [
       "\n",
       "        <iframe seamless style=\"width:1200px;height:620px;border:0\" srcdoc=\"\n",
       "        <script>\n",
       "          function load() {\n",
       "            document.getElementById(&quot;graph0.007797043152323879&quot;).pbtxt = 'node {\\n  name: &quot;input/Placeholder&quot;\\n  op: &quot;Placeholder&quot;\\n  attr {\\n    key: &quot;dtype&quot;\\n    value {\\n      type: DT_FLOAT\\n    }\\n  }\\n  attr {\\n    key: &quot;shape&quot;\\n    value {\\n      shape {\\n        unknown_rank: true\\n      }\\n    }\\n  }\\n}\\nnode {\\n  name: &quot;input/x-input&quot;\\n  op: &quot;Placeholder&quot;\\n  attr {\\n    key: &quot;dtype&quot;\\n    value {\\n      type: DT_FLOAT\\n    }\\n  }\\n  attr {\\n    key: &quot;shape&quot;\\n    value {\\n      shape {\\n        dim {\\n          size: -1\\n        }\\n        dim {\\n          size: -1\\n        }\\n        dim {\\n          size: -1\\n        }\\n      }\\n    }\\n  }\\n}\\nnode {\\n  name: &quot;input/y-input&quot;\\n  op: &quot;Placeholder&quot;\\n  attr {\\n    key: &quot;dtype&quot;\\n    value {\\n      type: DT_FLOAT\\n    }\\n  }\\n  attr {\\n    key: &quot;shape&quot;\\n    value {\\n      shape {\\n        dim {\\n          size: -1\\n        }\\n        dim {\\n          size: 49\\n        }\\n      }\\n    }\\n  }\\n}\\nnode {\\n  name: &quot;input_reshape/Reshape/shape&quot;\\n  op: &quot;Const&quot;\\n  attr {\\n    key: &quot;dtype&quot;\\n    value {\\n      type: DT_INT32\\n    }\\n  }\\n  attr {\\n    key: &quot;value&quot;\\n    value {\\n      tensor {\\n        dtype: DT_INT32\\n        tensor_shape {\\n          dim {\\n            size: 4\\n          }\\n        }\\n        tensor_content: &quot;\\\\377\\\\377\\\\377\\\\377\\\\034\\\\000\\\\000\\\\000\\\\034\\\\000\\\\000\\\\000\\\\001\\\\000\\\\000\\\\000&quot;\\n      }\\n    }\\n  }\\n}\\nnode {\\n  name: &quot;input_reshape/Reshape&quot;\\n  op: &quot;Reshape&quot;\\n  input: &quot;input/x-input&quot;\\n  input: &quot;input_reshape/Reshape/shape&quot;\\n  attr {\\n    key: &quot;T&quot;\\n    value {\\n      type: DT_FLOAT\\n    }\\n  }\\n  attr {\\n    key: &quot;Tshape&quot;\\n    value {\\n      type: DT_INT32\\n    }\\n  }\\n}\\nnode {\\n  name: &quot;input_reshape/input/tag&quot;\\n  op: &quot;Const&quot;\\n  attr {\\n    key: &quot;dtype&quot;\\n    value {\\n      type: DT_STRING\\n    }\\n  }\\n  attr {\\n    key: &quot;value&quot;\\n    value {\\n      tensor {\\n        dtype: DT_STRING\\n        tensor_shape {\\n        }\\n        string_val: &quot;input_reshape/input&quot;\\n      }\\n    }\\n  }\\n}\\nnode {\\n  name: &quot;input_reshape/input&quot;\\n  op: &quot;ImageSummary&quot;\\n  input: &quot;input_reshape/input/tag&quot;\\n  input: &quot;input_reshape/Reshape&quot;\\n  attr {\\n    key: &quot;T&quot;\\n    value {\\n      type: DT_FLOAT\\n    }\\n  }\\n  attr {\\n    key: &quot;bad_color&quot;\\n    value {\\n      tensor {\\n        dtype: DT_UINT8\\n        tensor_shape {\\n          dim {\\n            size: 4\\n          }\\n        }\\n        int_val: 255\\n        int_val: 0\\n        int_val: 0\\n        int_val: 255\\n      }\\n    }\\n  }\\n  attr {\\n    key: &quot;max_images&quot;\\n    value {\\n      i: 49\\n    }\\n  }\\n}\\nnode {\\n  name: &quot;conv_1/weights/truncated_normal/shape&quot;\\n  op: &quot;Const&quot;\\n  attr {\\n    key: &quot;dtype&quot;\\n    value {\\n      type: DT_INT32\\n    }\\n  }\\n  attr {\\n    key: &quot;value&quot;\\n    value {\\n      tensor {\\n        dtype: DT_INT32\\n        tensor_shape {\\n          dim {\\n            size: 4\\n          }\\n        }\\n        tensor_content: &quot;\\\\005\\\\000\\\\000\\\\000\\\\005\\\\000\\\\000\\\\000\\\\001\\\\000\\\\000\\\\000 \\\\000\\\\000\\\\000&quot;\\n      }\\n    }\\n  }\\n}\\nnode {\\n  name: &quot;conv_1/weights/truncated_normal/mean&quot;\\n  op: &quot;Const&quot;\\n  attr {\\n    key: &quot;dtype&quot;\\n    value {\\n      type: DT_FLOAT\\n    }\\n  }\\n  attr {\\n    key: &quot;value&quot;\\n    value {\\n      tensor {\\n        dtype: DT_FLOAT\\n        tensor_shape {\\n        }\\n        float_val: 0.0\\n      }\\n    }\\n  }\\n}\\nnode {\\n  name: &quot;conv_1/weights/truncated_normal/stddev&quot;\\n  op: &quot;Const&quot;\\n  attr {\\n    key: &quot;dtype&quot;\\n    value {\\n      type: DT_FLOAT\\n    }\\n  }\\n  attr {\\n    key: &quot;value&quot;\\n    value {\\n      tensor {\\n        dtype: DT_FLOAT\\n        tensor_shape {\\n        }\\n        float_val: 0.009999999776482582\\n      }\\n    }\\n  }\\n}\\nnode {\\n  name: &quot;conv_1/weights/truncated_normal/TruncatedNormal&quot;\\n  op: &quot;TruncatedNormal&quot;\\n  input: &quot;conv_1/weights/truncated_normal/shape&quot;\\n  attr {\\n    key: &quot;T&quot;\\n    value {\\n      type: DT_INT32\\n    }\\n  }\\n  attr {\\n    key: &quot;dtype&quot;\\n    value {\\n      type: DT_FLOAT\\n    }\\n  }\\n  attr {\\n    key: &quot;seed&quot;\\n    value {\\n      i: 0\\n    }\\n  }\\n  attr {\\n    key: &quot;seed2&quot;\\n    value {\\n      i: 0\\n    }\\n  }\\n}\\nnode {\\n  name: &quot;conv_1/weights/truncated_normal/mul&quot;\\n  op: &quot;Mul&quot;\\n  input: &quot;conv_1/weights/truncated_normal/TruncatedNormal&quot;\\n  input: &quot;conv_1/weights/truncated_normal/stddev&quot;\\n  attr {\\n    key: &quot;T&quot;\\n    value {\\n      type: DT_FLOAT\\n    }\\n  }\\n}\\nnode {\\n  name: &quot;conv_1/weights/truncated_normal&quot;\\n  op: &quot;Add&quot;\\n  input: &quot;conv_1/weights/truncated_normal/mul&quot;\\n  input: &quot;conv_1/weights/truncated_normal/mean&quot;\\n  attr {\\n    key: &quot;T&quot;\\n    value {\\n      type: DT_FLOAT\\n    }\\n  }\\n}\\nnode {\\n  name: &quot;conv_1/weights/Variable&quot;\\n  op: &quot;VariableV2&quot;\\n  attr {\\n    key: &quot;container&quot;\\n    value {\\n      s: &quot;&quot;\\n    }\\n  }\\n  attr {\\n    key: &quot;dtype&quot;\\n    value {\\n      type: DT_FLOAT\\n    }\\n  }\\n  attr {\\n    key: &quot;shape&quot;\\n    value {\\n      shape {\\n        dim {\\n          size: 5\\n        }\\n        dim {\\n          size: 5\\n        }\\n        dim {\\n          size: 1\\n        }\\n        dim {\\n          size: 32\\n        }\\n      }\\n    }\\n  }\\n  attr {\\n    key: &quot;shared_name&quot;\\n    value {\\n      s: &quot;&quot;\\n    }\\n  }\\n}\\nnode {\\n  name: &quot;conv_1/weights/Variable/Assign&quot;\\n  op: &quot;Assign&quot;\\n  input: &quot;conv_1/weights/Variable&quot;\\n  input: &quot;conv_1/weights/truncated_normal&quot;\\n  attr {\\n    key: &quot;T&quot;\\n    value {\\n      type: DT_FLOAT\\n    }\\n  }\\n  attr {\\n    key: &quot;_class&quot;\\n    value {\\n      list {\\n        s: &quot;loc:@conv_1/weights/Variable&quot;\\n      }\\n    }\\n  }\\n  attr {\\n    key: &quot;use_locking&quot;\\n    value {\\n      b: true\\n    }\\n  }\\n  attr {\\n    key: &quot;validate_shape&quot;\\n    value {\\n      b: true\\n    }\\n  }\\n}\\nnode {\\n  name: &quot;conv_1/weights/Variable/read&quot;\\n  op: &quot;Identity&quot;\\n  input: &quot;conv_1/weights/Variable&quot;\\n  attr {\\n    key: &quot;T&quot;\\n    value {\\n      type: DT_FLOAT\\n    }\\n  }\\n  attr {\\n    key: &quot;_class&quot;\\n    value {\\n      list {\\n        s: &quot;loc:@conv_1/weights/Variable&quot;\\n      }\\n    }\\n  }\\n}\\nnode {\\n  name: &quot;conv_1/weights/summaries/Rank&quot;\\n  op: &quot;Const&quot;\\n  attr {\\n    key: &quot;dtype&quot;\\n    value {\\n      type: DT_INT32\\n    }\\n  }\\n  attr {\\n    key: &quot;value&quot;\\n    value {\\n      tensor {\\n        dtype: DT_INT32\\n        tensor_shape {\\n        }\\n        int_val: 4\\n      }\\n    }\\n  }\\n}\\nnode {\\n  name: &quot;conv_1/weights/summaries/range/start&quot;\\n  op: &quot;Const&quot;\\n  attr {\\n    key: &quot;dtype&quot;\\n    value {\\n      type: DT_INT32\\n    }\\n  }\\n  attr {\\n    key: &quot;value&quot;\\n    value {\\n      tensor {\\n        dtype: DT_INT32\\n        tensor_shape {\\n        }\\n        int_val: 0\\n      }\\n    }\\n  }\\n}\\nnode {\\n  name: &quot;conv_1/weights/summaries/range/delta&quot;\\n  op: &quot;Const&quot;\\n  attr {\\n    key: &quot;dtype&quot;\\n    value {\\n      type: DT_INT32\\n    }\\n  }\\n  attr {\\n    key: &quot;value&quot;\\n    value {\\n      tensor {\\n        dtype: DT_INT32\\n        tensor_shape {\\n        }\\n        int_val: 1\\n      }\\n    }\\n  }\\n}\\nnode {\\n  name: &quot;conv_1/weights/summaries/range&quot;\\n  op: &quot;Range&quot;\\n  input: &quot;conv_1/weights/summaries/range/start&quot;\\n  input: &quot;conv_1/weights/summaries/Rank&quot;\\n  input: &quot;conv_1/weights/summaries/range/delta&quot;\\n  attr {\\n    key: &quot;Tidx&quot;\\n    value {\\n      type: DT_INT32\\n    }\\n  }\\n}\\nnode {\\n  name: &quot;conv_1/weights/summaries/Mean&quot;\\n  op: &quot;Mean&quot;\\n  input: &quot;conv_1/weights/Variable/read&quot;\\n  input: &quot;conv_1/weights/summaries/range&quot;\\n  attr {\\n    key: &quot;T&quot;\\n    value {\\n      type: DT_FLOAT\\n    }\\n  }\\n  attr {\\n    key: &quot;Tidx&quot;\\n    value {\\n      type: DT_INT32\\n    }\\n  }\\n  attr {\\n    key: &quot;keep_dims&quot;\\n    value {\\n      b: false\\n    }\\n  }\\n}\\nnode {\\n  name: &quot;conv_1/weights/summaries/mean_1/tags&quot;\\n  op: &quot;Const&quot;\\n  attr {\\n    key: &quot;dtype&quot;\\n    value {\\n      type: DT_STRING\\n    }\\n  }\\n  attr {\\n    key: &quot;value&quot;\\n    value {\\n      tensor {\\n        dtype: DT_STRING\\n        tensor_shape {\\n        }\\n        string_val: &quot;conv_1/weights/summaries/mean_1&quot;\\n      }\\n    }\\n  }\\n}\\nnode {\\n  name: &quot;conv_1/weights/summaries/mean_1&quot;\\n  op: &quot;ScalarSummary&quot;\\n  input: &quot;conv_1/weights/summaries/mean_1/tags&quot;\\n  input: &quot;conv_1/weights/summaries/Mean&quot;\\n  attr {\\n    key: &quot;T&quot;\\n    value {\\n      type: DT_FLOAT\\n    }\\n  }\\n}\\nnode {\\n  name: &quot;conv_1/weights/summaries/stddev/sub&quot;\\n  op: &quot;Sub&quot;\\n  input: &quot;conv_1/weights/Variable/read&quot;\\n  input: &quot;conv_1/weights/summaries/Mean&quot;\\n  attr {\\n    key: &quot;T&quot;\\n    value {\\n      type: DT_FLOAT\\n    }\\n  }\\n}\\nnode {\\n  name: &quot;conv_1/weights/summaries/stddev/Square&quot;\\n  op: &quot;Square&quot;\\n  input: &quot;conv_1/weights/summaries/stddev/sub&quot;\\n  attr {\\n    key: &quot;T&quot;\\n    value {\\n      type: DT_FLOAT\\n    }\\n  }\\n}\\nnode {\\n  name: &quot;conv_1/weights/summaries/stddev/Const&quot;\\n  op: &quot;Const&quot;\\n  attr {\\n    key: &quot;dtype&quot;\\n    value {\\n      type: DT_INT32\\n    }\\n  }\\n  attr {\\n    key: &quot;value&quot;\\n    value {\\n      tensor {\\n        dtype: DT_INT32\\n        tensor_shape {\\n          dim {\\n            size: 4\\n          }\\n        }\\n        tensor_content: &quot;\\\\000\\\\000\\\\000\\\\000\\\\001\\\\000\\\\000\\\\000\\\\002\\\\000\\\\000\\\\000\\\\003\\\\000\\\\000\\\\000&quot;\\n      }\\n    }\\n  }\\n}\\nnode {\\n  name: &quot;conv_1/weights/summaries/stddev/Mean&quot;\\n  op: &quot;Mean&quot;\\n  input: &quot;conv_1/weights/summaries/stddev/Square&quot;\\n  input: &quot;conv_1/weights/summaries/stddev/Const&quot;\\n  attr {\\n    key: &quot;T&quot;\\n    value {\\n      type: DT_FLOAT\\n    }\\n  }\\n  attr {\\n    key: &quot;Tidx&quot;\\n    value {\\n      type: DT_INT32\\n    }\\n  }\\n  attr {\\n    key: &quot;keep_dims&quot;\\n    value {\\n      b: false\\n    }\\n  }\\n}\\nnode {\\n  name: &quot;conv_1/weights/summaries/stddev/Sqrt&quot;\\n  op: &quot;Sqrt&quot;\\n  input: &quot;conv_1/weights/summaries/stddev/Mean&quot;\\n  attr {\\n    key: &quot;T&quot;\\n    value {\\n      type: DT_FLOAT\\n    }\\n  }\\n}\\nnode {\\n  name: &quot;conv_1/weights/summaries/stddev_1/tags&quot;\\n  op: &quot;Const&quot;\\n  attr {\\n    key: &quot;dtype&quot;\\n    value {\\n      type: DT_STRING\\n    }\\n  }\\n  attr {\\n    key: &quot;value&quot;\\n    value {\\n      tensor {\\n        dtype: DT_STRING\\n        tensor_shape {\\n        }\\n        string_val: &quot;conv_1/weights/summaries/stddev_1&quot;\\n      }\\n    }\\n  }\\n}\\nnode {\\n  name: &quot;conv_1/weights/summaries/stddev_1&quot;\\n  op: &quot;ScalarSummary&quot;\\n  input: &quot;conv_1/weights/summaries/stddev_1/tags&quot;\\n  input: &quot;conv_1/weights/summaries/stddev/Sqrt&quot;\\n  attr {\\n    key: &quot;T&quot;\\n    value {\\n      type: DT_FLOAT\\n    }\\n  }\\n}\\nnode {\\n  name: &quot;conv_1/weights/summaries/Rank_1&quot;\\n  op: &quot;Const&quot;\\n  attr {\\n    key: &quot;dtype&quot;\\n    value {\\n      type: DT_INT32\\n    }\\n  }\\n  attr {\\n    key: &quot;value&quot;\\n    value {\\n      tensor {\\n        dtype: DT_INT32\\n        tensor_shape {\\n        }\\n        int_val: 4\\n      }\\n    }\\n  }\\n}\\nnode {\\n  name: &quot;conv_1/weights/summaries/range_1/start&quot;\\n  op: &quot;Const&quot;\\n  attr {\\n    key: &quot;dtype&quot;\\n    value {\\n      type: DT_INT32\\n    }\\n  }\\n  attr {\\n    key: &quot;value&quot;\\n    value {\\n      tensor {\\n        dtype: DT_INT32\\n        tensor_shape {\\n        }\\n        int_val: 0\\n      }\\n    }\\n  }\\n}\\nnode {\\n  name: &quot;conv_1/weights/summaries/range_1/delta&quot;\\n  op: &quot;Const&quot;\\n  attr {\\n    key: &quot;dtype&quot;\\n    value {\\n      type: DT_INT32\\n    }\\n  }\\n  attr {\\n    key: &quot;value&quot;\\n    value {\\n      tensor {\\n        dtype: DT_INT32\\n        tensor_shape {\\n        }\\n        int_val: 1\\n      }\\n    }\\n  }\\n}\\nnode {\\n  name: &quot;conv_1/weights/summaries/range_1&quot;\\n  op: &quot;Range&quot;\\n  input: &quot;conv_1/weights/summaries/range_1/start&quot;\\n  input: &quot;conv_1/weights/summaries/Rank_1&quot;\\n  input: &quot;conv_1/weights/summaries/range_1/delta&quot;\\n  attr {\\n    key: &quot;Tidx&quot;\\n    value {\\n      type: DT_INT32\\n    }\\n  }\\n}\\nnode {\\n  name: &quot;conv_1/weights/summaries/Max&quot;\\n  op: &quot;Max&quot;\\n  input: &quot;conv_1/weights/Variable/read&quot;\\n  input: &quot;conv_1/weights/summaries/range_1&quot;\\n  attr {\\n    key: &quot;T&quot;\\n    value {\\n      type: DT_FLOAT\\n    }\\n  }\\n  attr {\\n    key: &quot;Tidx&quot;\\n    value {\\n      type: DT_INT32\\n    }\\n  }\\n  attr {\\n    key: &quot;keep_dims&quot;\\n    value {\\n      b: false\\n    }\\n  }\\n}\\nnode {\\n  name: &quot;conv_1/weights/summaries/max_1/tags&quot;\\n  op: &quot;Const&quot;\\n  attr {\\n    key: &quot;dtype&quot;\\n    value {\\n      type: DT_STRING\\n    }\\n  }\\n  attr {\\n    key: &quot;value&quot;\\n    value {\\n      tensor {\\n        dtype: DT_STRING\\n        tensor_shape {\\n        }\\n        string_val: &quot;conv_1/weights/summaries/max_1&quot;\\n      }\\n    }\\n  }\\n}\\nnode {\\n  name: &quot;conv_1/weights/summaries/max_1&quot;\\n  op: &quot;ScalarSummary&quot;\\n  input: &quot;conv_1/weights/summaries/max_1/tags&quot;\\n  input: &quot;conv_1/weights/summaries/Max&quot;\\n  attr {\\n    key: &quot;T&quot;\\n    value {\\n      type: DT_FLOAT\\n    }\\n  }\\n}\\nnode {\\n  name: &quot;conv_1/weights/summaries/Rank_2&quot;\\n  op: &quot;Const&quot;\\n  attr {\\n    key: &quot;dtype&quot;\\n    value {\\n      type: DT_INT32\\n    }\\n  }\\n  attr {\\n    key: &quot;value&quot;\\n    value {\\n      tensor {\\n        dtype: DT_INT32\\n        tensor_shape {\\n        }\\n        int_val: 4\\n      }\\n    }\\n  }\\n}\\nnode {\\n  name: &quot;conv_1/weights/summaries/range_2/start&quot;\\n  op: &quot;Const&quot;\\n  attr {\\n    key: &quot;dtype&quot;\\n    value {\\n      type: DT_INT32\\n    }\\n  }\\n  attr {\\n    key: &quot;value&quot;\\n    value {\\n      tensor {\\n        dtype: DT_INT32\\n        tensor_shape {\\n        }\\n        int_val: 0\\n      }\\n    }\\n  }\\n}\\nnode {\\n  name: &quot;conv_1/weights/summaries/range_2/delta&quot;\\n  op: &quot;Const&quot;\\n  attr {\\n    key: &quot;dtype&quot;\\n    value {\\n      type: DT_INT32\\n    }\\n  }\\n  attr {\\n    key: &quot;value&quot;\\n    value {\\n      tensor {\\n        dtype: DT_INT32\\n        tensor_shape {\\n        }\\n        int_val: 1\\n      }\\n    }\\n  }\\n}\\nnode {\\n  name: &quot;conv_1/weights/summaries/range_2&quot;\\n  op: &quot;Range&quot;\\n  input: &quot;conv_1/weights/summaries/range_2/start&quot;\\n  input: &quot;conv_1/weights/summaries/Rank_2&quot;\\n  input: &quot;conv_1/weights/summaries/range_2/delta&quot;\\n  attr {\\n    key: &quot;Tidx&quot;\\n    value {\\n      type: DT_INT32\\n    }\\n  }\\n}\\nnode {\\n  name: &quot;conv_1/weights/summaries/Min&quot;\\n  op: &quot;Min&quot;\\n  input: &quot;conv_1/weights/Variable/read&quot;\\n  input: &quot;conv_1/weights/summaries/range_2&quot;\\n  attr {\\n    key: &quot;T&quot;\\n    value {\\n      type: DT_FLOAT\\n    }\\n  }\\n  attr {\\n    key: &quot;Tidx&quot;\\n    value {\\n      type: DT_INT32\\n    }\\n  }\\n  attr {\\n    key: &quot;keep_dims&quot;\\n    value {\\n      b: false\\n    }\\n  }\\n}\\nnode {\\n  name: &quot;conv_1/weights/summaries/min_1/tags&quot;\\n  op: &quot;Const&quot;\\n  attr {\\n    key: &quot;dtype&quot;\\n    value {\\n      type: DT_STRING\\n    }\\n  }\\n  attr {\\n    key: &quot;value&quot;\\n    value {\\n      tensor {\\n        dtype: DT_STRING\\n        tensor_shape {\\n        }\\n        string_val: &quot;conv_1/weights/summaries/min_1&quot;\\n      }\\n    }\\n  }\\n}\\nnode {\\n  name: &quot;conv_1/weights/summaries/min_1&quot;\\n  op: &quot;ScalarSummary&quot;\\n  input: &quot;conv_1/weights/summaries/min_1/tags&quot;\\n  input: &quot;conv_1/weights/summaries/Min&quot;\\n  attr {\\n    key: &quot;T&quot;\\n    value {\\n      type: DT_FLOAT\\n    }\\n  }\\n}\\nnode {\\n  name: &quot;conv_1/weights/summaries/histogram/tag&quot;\\n  op: &quot;Const&quot;\\n  attr {\\n    key: &quot;dtype&quot;\\n    value {\\n      type: DT_STRING\\n    }\\n  }\\n  attr {\\n    key: &quot;value&quot;\\n    value {\\n      tensor {\\n        dtype: DT_STRING\\n        tensor_shape {\\n        }\\n        string_val: &quot;conv_1/weights/summaries/histogram&quot;\\n      }\\n    }\\n  }\\n}\\nnode {\\n  name: &quot;conv_1/weights/summaries/histogram&quot;\\n  op: &quot;HistogramSummary&quot;\\n  input: &quot;conv_1/weights/summaries/histogram/tag&quot;\\n  input: &quot;conv_1/weights/Variable/read&quot;\\n  attr {\\n    key: &quot;T&quot;\\n    value {\\n      type: DT_FLOAT\\n    }\\n  }\\n}\\nnode {\\n  name: &quot;conv_1/biases/Const&quot;\\n  op: &quot;Const&quot;\\n  attr {\\n    key: &quot;dtype&quot;\\n    value {\\n      type: DT_FLOAT\\n    }\\n  }\\n  attr {\\n    key: &quot;value&quot;\\n    value {\\n      tensor {\\n        dtype: DT_FLOAT\\n        tensor_shape {\\n          dim {\\n            size: 32\\n          }\\n        }\\n        float_val: 0.009999999776482582\\n      }\\n    }\\n  }\\n}\\nnode {\\n  name: &quot;conv_1/biases/Variable&quot;\\n  op: &quot;VariableV2&quot;\\n  attr {\\n    key: &quot;container&quot;\\n    value {\\n      s: &quot;&quot;\\n    }\\n  }\\n  attr {\\n    key: &quot;dtype&quot;\\n    value {\\n      type: DT_FLOAT\\n    }\\n  }\\n  attr {\\n    key: &quot;shape&quot;\\n    value {\\n      shape {\\n        dim {\\n          size: 32\\n        }\\n      }\\n    }\\n  }\\n  attr {\\n    key: &quot;shared_name&quot;\\n    value {\\n      s: &quot;&quot;\\n    }\\n  }\\n}\\nnode {\\n  name: &quot;conv_1/biases/Variable/Assign&quot;\\n  op: &quot;Assign&quot;\\n  input: &quot;conv_1/biases/Variable&quot;\\n  input: &quot;conv_1/biases/Const&quot;\\n  attr {\\n    key: &quot;T&quot;\\n    value {\\n      type: DT_FLOAT\\n    }\\n  }\\n  attr {\\n    key: &quot;_class&quot;\\n    value {\\n      list {\\n        s: &quot;loc:@conv_1/biases/Variable&quot;\\n      }\\n    }\\n  }\\n  attr {\\n    key: &quot;use_locking&quot;\\n    value {\\n      b: true\\n    }\\n  }\\n  attr {\\n    key: &quot;validate_shape&quot;\\n    value {\\n      b: true\\n    }\\n  }\\n}\\nnode {\\n  name: &quot;conv_1/biases/Variable/read&quot;\\n  op: &quot;Identity&quot;\\n  input: &quot;conv_1/biases/Variable&quot;\\n  attr {\\n    key: &quot;T&quot;\\n    value {\\n      type: DT_FLOAT\\n    }\\n  }\\n  attr {\\n    key: &quot;_class&quot;\\n    value {\\n      list {\\n        s: &quot;loc:@conv_1/biases/Variable&quot;\\n      }\\n    }\\n  }\\n}\\nnode {\\n  name: &quot;conv_1/biases/summaries/Rank&quot;\\n  op: &quot;Const&quot;\\n  attr {\\n    key: &quot;dtype&quot;\\n    value {\\n      type: DT_INT32\\n    }\\n  }\\n  attr {\\n    key: &quot;value&quot;\\n    value {\\n      tensor {\\n        dtype: DT_INT32\\n        tensor_shape {\\n        }\\n        int_val: 1\\n      }\\n    }\\n  }\\n}\\nnode {\\n  name: &quot;conv_1/biases/summaries/range/start&quot;\\n  op: &quot;Const&quot;\\n  attr {\\n    key: &quot;dtype&quot;\\n    value {\\n      type: DT_INT32\\n    }\\n  }\\n  attr {\\n    key: &quot;value&quot;\\n    value {\\n      tensor {\\n        dtype: DT_INT32\\n        tensor_shape {\\n        }\\n        int_val: 0\\n      }\\n    }\\n  }\\n}\\nnode {\\n  name: &quot;conv_1/biases/summaries/range/delta&quot;\\n  op: &quot;Const&quot;\\n  attr {\\n    key: &quot;dtype&quot;\\n    value {\\n      type: DT_INT32\\n    }\\n  }\\n  attr {\\n    key: &quot;value&quot;\\n    value {\\n      tensor {\\n        dtype: DT_INT32\\n        tensor_shape {\\n        }\\n        int_val: 1\\n      }\\n    }\\n  }\\n}\\nnode {\\n  name: &quot;conv_1/biases/summaries/range&quot;\\n  op: &quot;Range&quot;\\n  input: &quot;conv_1/biases/summaries/range/start&quot;\\n  input: &quot;conv_1/biases/summaries/Rank&quot;\\n  input: &quot;conv_1/biases/summaries/range/delta&quot;\\n  attr {\\n    key: &quot;Tidx&quot;\\n    value {\\n      type: DT_INT32\\n    }\\n  }\\n}\\nnode {\\n  name: &quot;conv_1/biases/summaries/Mean&quot;\\n  op: &quot;Mean&quot;\\n  input: &quot;conv_1/biases/Variable/read&quot;\\n  input: &quot;conv_1/biases/summaries/range&quot;\\n  attr {\\n    key: &quot;T&quot;\\n    value {\\n      type: DT_FLOAT\\n    }\\n  }\\n  attr {\\n    key: &quot;Tidx&quot;\\n    value {\\n      type: DT_INT32\\n    }\\n  }\\n  attr {\\n    key: &quot;keep_dims&quot;\\n    value {\\n      b: false\\n    }\\n  }\\n}\\nnode {\\n  name: &quot;conv_1/biases/summaries/mean_1/tags&quot;\\n  op: &quot;Const&quot;\\n  attr {\\n    key: &quot;dtype&quot;\\n    value {\\n      type: DT_STRING\\n    }\\n  }\\n  attr {\\n    key: &quot;value&quot;\\n    value {\\n      tensor {\\n        dtype: DT_STRING\\n        tensor_shape {\\n        }\\n        string_val: &quot;conv_1/biases/summaries/mean_1&quot;\\n      }\\n    }\\n  }\\n}\\nnode {\\n  name: &quot;conv_1/biases/summaries/mean_1&quot;\\n  op: &quot;ScalarSummary&quot;\\n  input: &quot;conv_1/biases/summaries/mean_1/tags&quot;\\n  input: &quot;conv_1/biases/summaries/Mean&quot;\\n  attr {\\n    key: &quot;T&quot;\\n    value {\\n      type: DT_FLOAT\\n    }\\n  }\\n}\\nnode {\\n  name: &quot;conv_1/biases/summaries/stddev/sub&quot;\\n  op: &quot;Sub&quot;\\n  input: &quot;conv_1/biases/Variable/read&quot;\\n  input: &quot;conv_1/biases/summaries/Mean&quot;\\n  attr {\\n    key: &quot;T&quot;\\n    value {\\n      type: DT_FLOAT\\n    }\\n  }\\n}\\nnode {\\n  name: &quot;conv_1/biases/summaries/stddev/Square&quot;\\n  op: &quot;Square&quot;\\n  input: &quot;conv_1/biases/summaries/stddev/sub&quot;\\n  attr {\\n    key: &quot;T&quot;\\n    value {\\n      type: DT_FLOAT\\n    }\\n  }\\n}\\nnode {\\n  name: &quot;conv_1/biases/summaries/stddev/Const&quot;\\n  op: &quot;Const&quot;\\n  attr {\\n    key: &quot;dtype&quot;\\n    value {\\n      type: DT_INT32\\n    }\\n  }\\n  attr {\\n    key: &quot;value&quot;\\n    value {\\n      tensor {\\n        dtype: DT_INT32\\n        tensor_shape {\\n          dim {\\n            size: 1\\n          }\\n        }\\n        int_val: 0\\n      }\\n    }\\n  }\\n}\\nnode {\\n  name: &quot;conv_1/biases/summaries/stddev/Mean&quot;\\n  op: &quot;Mean&quot;\\n  input: &quot;conv_1/biases/summaries/stddev/Square&quot;\\n  input: &quot;conv_1/biases/summaries/stddev/Const&quot;\\n  attr {\\n    key: &quot;T&quot;\\n    value {\\n      type: DT_FLOAT\\n    }\\n  }\\n  attr {\\n    key: &quot;Tidx&quot;\\n    value {\\n      type: DT_INT32\\n    }\\n  }\\n  attr {\\n    key: &quot;keep_dims&quot;\\n    value {\\n      b: false\\n    }\\n  }\\n}\\nnode {\\n  name: &quot;conv_1/biases/summaries/stddev/Sqrt&quot;\\n  op: &quot;Sqrt&quot;\\n  input: &quot;conv_1/biases/summaries/stddev/Mean&quot;\\n  attr {\\n    key: &quot;T&quot;\\n    value {\\n      type: DT_FLOAT\\n    }\\n  }\\n}\\nnode {\\n  name: &quot;conv_1/biases/summaries/stddev_1/tags&quot;\\n  op: &quot;Const&quot;\\n  attr {\\n    key: &quot;dtype&quot;\\n    value {\\n      type: DT_STRING\\n    }\\n  }\\n  attr {\\n    key: &quot;value&quot;\\n    value {\\n      tensor {\\n        dtype: DT_STRING\\n        tensor_shape {\\n        }\\n        string_val: &quot;conv_1/biases/summaries/stddev_1&quot;\\n      }\\n    }\\n  }\\n}\\nnode {\\n  name: &quot;conv_1/biases/summaries/stddev_1&quot;\\n  op: &quot;ScalarSummary&quot;\\n  input: &quot;conv_1/biases/summaries/stddev_1/tags&quot;\\n  input: &quot;conv_1/biases/summaries/stddev/Sqrt&quot;\\n  attr {\\n    key: &quot;T&quot;\\n    value {\\n      type: DT_FLOAT\\n    }\\n  }\\n}\\nnode {\\n  name: &quot;conv_1/biases/summaries/Rank_1&quot;\\n  op: &quot;Const&quot;\\n  attr {\\n    key: &quot;dtype&quot;\\n    value {\\n      type: DT_INT32\\n    }\\n  }\\n  attr {\\n    key: &quot;value&quot;\\n    value {\\n      tensor {\\n        dtype: DT_INT32\\n        tensor_shape {\\n        }\\n        int_val: 1\\n      }\\n    }\\n  }\\n}\\nnode {\\n  name: &quot;conv_1/biases/summaries/range_1/start&quot;\\n  op: &quot;Const&quot;\\n  attr {\\n    key: &quot;dtype&quot;\\n    value {\\n      type: DT_INT32\\n    }\\n  }\\n  attr {\\n    key: &quot;value&quot;\\n    value {\\n      tensor {\\n        dtype: DT_INT32\\n        tensor_shape {\\n        }\\n        int_val: 0\\n      }\\n    }\\n  }\\n}\\nnode {\\n  name: &quot;conv_1/biases/summaries/range_1/delta&quot;\\n  op: &quot;Const&quot;\\n  attr {\\n    key: &quot;dtype&quot;\\n    value {\\n      type: DT_INT32\\n    }\\n  }\\n  attr {\\n    key: &quot;value&quot;\\n    value {\\n      tensor {\\n        dtype: DT_INT32\\n        tensor_shape {\\n        }\\n        int_val: 1\\n      }\\n    }\\n  }\\n}\\nnode {\\n  name: &quot;conv_1/biases/summaries/range_1&quot;\\n  op: &quot;Range&quot;\\n  input: &quot;conv_1/biases/summaries/range_1/start&quot;\\n  input: &quot;conv_1/biases/summaries/Rank_1&quot;\\n  input: &quot;conv_1/biases/summaries/range_1/delta&quot;\\n  attr {\\n    key: &quot;Tidx&quot;\\n    value {\\n      type: DT_INT32\\n    }\\n  }\\n}\\nnode {\\n  name: &quot;conv_1/biases/summaries/Max&quot;\\n  op: &quot;Max&quot;\\n  input: &quot;conv_1/biases/Variable/read&quot;\\n  input: &quot;conv_1/biases/summaries/range_1&quot;\\n  attr {\\n    key: &quot;T&quot;\\n    value {\\n      type: DT_FLOAT\\n    }\\n  }\\n  attr {\\n    key: &quot;Tidx&quot;\\n    value {\\n      type: DT_INT32\\n    }\\n  }\\n  attr {\\n    key: &quot;keep_dims&quot;\\n    value {\\n      b: false\\n    }\\n  }\\n}\\nnode {\\n  name: &quot;conv_1/biases/summaries/max_1/tags&quot;\\n  op: &quot;Const&quot;\\n  attr {\\n    key: &quot;dtype&quot;\\n    value {\\n      type: DT_STRING\\n    }\\n  }\\n  attr {\\n    key: &quot;value&quot;\\n    value {\\n      tensor {\\n        dtype: DT_STRING\\n        tensor_shape {\\n        }\\n        string_val: &quot;conv_1/biases/summaries/max_1&quot;\\n      }\\n    }\\n  }\\n}\\nnode {\\n  name: &quot;conv_1/biases/summaries/max_1&quot;\\n  op: &quot;ScalarSummary&quot;\\n  input: &quot;conv_1/biases/summaries/max_1/tags&quot;\\n  input: &quot;conv_1/biases/summaries/Max&quot;\\n  attr {\\n    key: &quot;T&quot;\\n    value {\\n      type: DT_FLOAT\\n    }\\n  }\\n}\\nnode {\\n  name: &quot;conv_1/biases/summaries/Rank_2&quot;\\n  op: &quot;Const&quot;\\n  attr {\\n    key: &quot;dtype&quot;\\n    value {\\n      type: DT_INT32\\n    }\\n  }\\n  attr {\\n    key: &quot;value&quot;\\n    value {\\n      tensor {\\n        dtype: DT_INT32\\n        tensor_shape {\\n        }\\n        int_val: 1\\n      }\\n    }\\n  }\\n}\\nnode {\\n  name: &quot;conv_1/biases/summaries/range_2/start&quot;\\n  op: &quot;Const&quot;\\n  attr {\\n    key: &quot;dtype&quot;\\n    value {\\n      type: DT_INT32\\n    }\\n  }\\n  attr {\\n    key: &quot;value&quot;\\n    value {\\n      tensor {\\n        dtype: DT_INT32\\n        tensor_shape {\\n        }\\n        int_val: 0\\n      }\\n    }\\n  }\\n}\\nnode {\\n  name: &quot;conv_1/biases/summaries/range_2/delta&quot;\\n  op: &quot;Const&quot;\\n  attr {\\n    key: &quot;dtype&quot;\\n    value {\\n      type: DT_INT32\\n    }\\n  }\\n  attr {\\n    key: &quot;value&quot;\\n    value {\\n      tensor {\\n        dtype: DT_INT32\\n        tensor_shape {\\n        }\\n        int_val: 1\\n      }\\n    }\\n  }\\n}\\nnode {\\n  name: &quot;conv_1/biases/summaries/range_2&quot;\\n  op: &quot;Range&quot;\\n  input: &quot;conv_1/biases/summaries/range_2/start&quot;\\n  input: &quot;conv_1/biases/summaries/Rank_2&quot;\\n  input: &quot;conv_1/biases/summaries/range_2/delta&quot;\\n  attr {\\n    key: &quot;Tidx&quot;\\n    value {\\n      type: DT_INT32\\n    }\\n  }\\n}\\nnode {\\n  name: &quot;conv_1/biases/summaries/Min&quot;\\n  op: &quot;Min&quot;\\n  input: &quot;conv_1/biases/Variable/read&quot;\\n  input: &quot;conv_1/biases/summaries/range_2&quot;\\n  attr {\\n    key: &quot;T&quot;\\n    value {\\n      type: DT_FLOAT\\n    }\\n  }\\n  attr {\\n    key: &quot;Tidx&quot;\\n    value {\\n      type: DT_INT32\\n    }\\n  }\\n  attr {\\n    key: &quot;keep_dims&quot;\\n    value {\\n      b: false\\n    }\\n  }\\n}\\nnode {\\n  name: &quot;conv_1/biases/summaries/min_1/tags&quot;\\n  op: &quot;Const&quot;\\n  attr {\\n    key: &quot;dtype&quot;\\n    value {\\n      type: DT_STRING\\n    }\\n  }\\n  attr {\\n    key: &quot;value&quot;\\n    value {\\n      tensor {\\n        dtype: DT_STRING\\n        tensor_shape {\\n        }\\n        string_val: &quot;conv_1/biases/summaries/min_1&quot;\\n      }\\n    }\\n  }\\n}\\nnode {\\n  name: &quot;conv_1/biases/summaries/min_1&quot;\\n  op: &quot;ScalarSummary&quot;\\n  input: &quot;conv_1/biases/summaries/min_1/tags&quot;\\n  input: &quot;conv_1/biases/summaries/Min&quot;\\n  attr {\\n    key: &quot;T&quot;\\n    value {\\n      type: DT_FLOAT\\n    }\\n  }\\n}\\nnode {\\n  name: &quot;conv_1/biases/summaries/histogram/tag&quot;\\n  op: &quot;Const&quot;\\n  attr {\\n    key: &quot;dtype&quot;\\n    value {\\n      type: DT_STRING\\n    }\\n  }\\n  attr {\\n    key: &quot;value&quot;\\n    value {\\n      tensor {\\n        dtype: DT_STRING\\n        tensor_shape {\\n        }\\n        string_val: &quot;conv_1/biases/summaries/histogram&quot;\\n      }\\n    }\\n  }\\n}\\nnode {\\n  name: &quot;conv_1/biases/summaries/histogram&quot;\\n  op: &quot;HistogramSummary&quot;\\n  input: &quot;conv_1/biases/summaries/histogram/tag&quot;\\n  input: &quot;conv_1/biases/Variable/read&quot;\\n  attr {\\n    key: &quot;T&quot;\\n    value {\\n      type: DT_FLOAT\\n    }\\n  }\\n}\\nnode {\\n  name: &quot;conv_1/conv2d_1&quot;\\n  op: &quot;Conv2D&quot;\\n  input: &quot;input_reshape/Reshape&quot;\\n  input: &quot;conv_1/weights/Variable/read&quot;\\n  attr {\\n    key: &quot;T&quot;\\n    value {\\n      type: DT_FLOAT\\n    }\\n  }\\n  attr {\\n    key: &quot;data_format&quot;\\n    value {\\n      s: &quot;NHWC&quot;\\n    }\\n  }\\n  attr {\\n    key: &quot;dilations&quot;\\n    value {\\n      list {\\n        i: 1\\n        i: 1\\n        i: 1\\n        i: 1\\n      }\\n    }\\n  }\\n  attr {\\n    key: &quot;padding&quot;\\n    value {\\n      s: &quot;SAME&quot;\\n    }\\n  }\\n  attr {\\n    key: &quot;strides&quot;\\n    value {\\n      list {\\n        i: 1\\n        i: 1\\n        i: 1\\n        i: 1\\n      }\\n    }\\n  }\\n  attr {\\n    key: &quot;use_cudnn_on_gpu&quot;\\n    value {\\n      b: true\\n    }\\n  }\\n}\\nnode {\\n  name: &quot;conv_1/BiasAdd&quot;\\n  op: &quot;BiasAdd&quot;\\n  input: &quot;conv_1/conv2d_1&quot;\\n  input: &quot;conv_1/biases/Variable/read&quot;\\n  attr {\\n    key: &quot;T&quot;\\n    value {\\n      type: DT_FLOAT\\n    }\\n  }\\n  attr {\\n    key: &quot;data_format&quot;\\n    value {\\n      s: &quot;NHWC&quot;\\n    }\\n  }\\n}\\nnode {\\n  name: &quot;conv_1/summaries/Const&quot;\\n  op: &quot;Const&quot;\\n  attr {\\n    key: &quot;dtype&quot;\\n    value {\\n      type: DT_INT32\\n    }\\n  }\\n  attr {\\n    key: &quot;value&quot;\\n    value {\\n      tensor {\\n        dtype: DT_INT32\\n        tensor_shape {\\n          dim {\\n            size: 4\\n          }\\n        }\\n        tensor_content: &quot;\\\\000\\\\000\\\\000\\\\000\\\\001\\\\000\\\\000\\\\000\\\\002\\\\000\\\\000\\\\000\\\\003\\\\000\\\\000\\\\000&quot;\\n      }\\n    }\\n  }\\n}\\nnode {\\n  name: &quot;conv_1/summaries/Mean&quot;\\n  op: &quot;Mean&quot;\\n  input: &quot;conv_1/BiasAdd&quot;\\n  input: &quot;conv_1/summaries/Const&quot;\\n  attr {\\n    key: &quot;T&quot;\\n    value {\\n      type: DT_FLOAT\\n    }\\n  }\\n  attr {\\n    key: &quot;Tidx&quot;\\n    value {\\n      type: DT_INT32\\n    }\\n  }\\n  attr {\\n    key: &quot;keep_dims&quot;\\n    value {\\n      b: false\\n    }\\n  }\\n}\\nnode {\\n  name: &quot;conv_1/summaries/mean_1/tags&quot;\\n  op: &quot;Const&quot;\\n  attr {\\n    key: &quot;dtype&quot;\\n    value {\\n      type: DT_STRING\\n    }\\n  }\\n  attr {\\n    key: &quot;value&quot;\\n    value {\\n      tensor {\\n        dtype: DT_STRING\\n        tensor_shape {\\n        }\\n        string_val: &quot;conv_1/summaries/mean_1&quot;\\n      }\\n    }\\n  }\\n}\\nnode {\\n  name: &quot;conv_1/summaries/mean_1&quot;\\n  op: &quot;ScalarSummary&quot;\\n  input: &quot;conv_1/summaries/mean_1/tags&quot;\\n  input: &quot;conv_1/summaries/Mean&quot;\\n  attr {\\n    key: &quot;T&quot;\\n    value {\\n      type: DT_FLOAT\\n    }\\n  }\\n}\\nnode {\\n  name: &quot;conv_1/summaries/stddev/sub&quot;\\n  op: &quot;Sub&quot;\\n  input: &quot;conv_1/BiasAdd&quot;\\n  input: &quot;conv_1/summaries/Mean&quot;\\n  attr {\\n    key: &quot;T&quot;\\n    value {\\n      type: DT_FLOAT\\n    }\\n  }\\n}\\nnode {\\n  name: &quot;conv_1/summaries/stddev/Square&quot;\\n  op: &quot;Square&quot;\\n  input: &quot;conv_1/summaries/stddev/sub&quot;\\n  attr {\\n    key: &quot;T&quot;\\n    value {\\n      type: DT_FLOAT\\n    }\\n  }\\n}\\nnode {\\n  name: &quot;conv_1/summaries/stddev/Const&quot;\\n  op: &quot;Const&quot;\\n  attr {\\n    key: &quot;dtype&quot;\\n    value {\\n      type: DT_INT32\\n    }\\n  }\\n  attr {\\n    key: &quot;value&quot;\\n    value {\\n      tensor {\\n        dtype: DT_INT32\\n        tensor_shape {\\n          dim {\\n            size: 4\\n          }\\n        }\\n        tensor_content: &quot;\\\\000\\\\000\\\\000\\\\000\\\\001\\\\000\\\\000\\\\000\\\\002\\\\000\\\\000\\\\000\\\\003\\\\000\\\\000\\\\000&quot;\\n      }\\n    }\\n  }\\n}\\nnode {\\n  name: &quot;conv_1/summaries/stddev/Mean&quot;\\n  op: &quot;Mean&quot;\\n  input: &quot;conv_1/summaries/stddev/Square&quot;\\n  input: &quot;conv_1/summaries/stddev/Const&quot;\\n  attr {\\n    key: &quot;T&quot;\\n    value {\\n      type: DT_FLOAT\\n    }\\n  }\\n  attr {\\n    key: &quot;Tidx&quot;\\n    value {\\n      type: DT_INT32\\n    }\\n  }\\n  attr {\\n    key: &quot;keep_dims&quot;\\n    value {\\n      b: false\\n    }\\n  }\\n}\\nnode {\\n  name: &quot;conv_1/summaries/stddev/Sqrt&quot;\\n  op: &quot;Sqrt&quot;\\n  input: &quot;conv_1/summaries/stddev/Mean&quot;\\n  attr {\\n    key: &quot;T&quot;\\n    value {\\n      type: DT_FLOAT\\n    }\\n  }\\n}\\nnode {\\n  name: &quot;conv_1/summaries/stddev_1/tags&quot;\\n  op: &quot;Const&quot;\\n  attr {\\n    key: &quot;dtype&quot;\\n    value {\\n      type: DT_STRING\\n    }\\n  }\\n  attr {\\n    key: &quot;value&quot;\\n    value {\\n      tensor {\\n        dtype: DT_STRING\\n        tensor_shape {\\n        }\\n        string_val: &quot;conv_1/summaries/stddev_1&quot;\\n      }\\n    }\\n  }\\n}\\nnode {\\n  name: &quot;conv_1/summaries/stddev_1&quot;\\n  op: &quot;ScalarSummary&quot;\\n  input: &quot;conv_1/summaries/stddev_1/tags&quot;\\n  input: &quot;conv_1/summaries/stddev/Sqrt&quot;\\n  attr {\\n    key: &quot;T&quot;\\n    value {\\n      type: DT_FLOAT\\n    }\\n  }\\n}\\nnode {\\n  name: &quot;conv_1/summaries/Const_1&quot;\\n  op: &quot;Const&quot;\\n  attr {\\n    key: &quot;dtype&quot;\\n    value {\\n      type: DT_INT32\\n    }\\n  }\\n  attr {\\n    key: &quot;value&quot;\\n    value {\\n      tensor {\\n        dtype: DT_INT32\\n        tensor_shape {\\n          dim {\\n            size: 4\\n          }\\n        }\\n        tensor_content: &quot;\\\\000\\\\000\\\\000\\\\000\\\\001\\\\000\\\\000\\\\000\\\\002\\\\000\\\\000\\\\000\\\\003\\\\000\\\\000\\\\000&quot;\\n      }\\n    }\\n  }\\n}\\nnode {\\n  name: &quot;conv_1/summaries/Max&quot;\\n  op: &quot;Max&quot;\\n  input: &quot;conv_1/BiasAdd&quot;\\n  input: &quot;conv_1/summaries/Const_1&quot;\\n  attr {\\n    key: &quot;T&quot;\\n    value {\\n      type: DT_FLOAT\\n    }\\n  }\\n  attr {\\n    key: &quot;Tidx&quot;\\n    value {\\n      type: DT_INT32\\n    }\\n  }\\n  attr {\\n    key: &quot;keep_dims&quot;\\n    value {\\n      b: false\\n    }\\n  }\\n}\\nnode {\\n  name: &quot;conv_1/summaries/max_1/tags&quot;\\n  op: &quot;Const&quot;\\n  attr {\\n    key: &quot;dtype&quot;\\n    value {\\n      type: DT_STRING\\n    }\\n  }\\n  attr {\\n    key: &quot;value&quot;\\n    value {\\n      tensor {\\n        dtype: DT_STRING\\n        tensor_shape {\\n        }\\n        string_val: &quot;conv_1/summaries/max_1&quot;\\n      }\\n    }\\n  }\\n}\\nnode {\\n  name: &quot;conv_1/summaries/max_1&quot;\\n  op: &quot;ScalarSummary&quot;\\n  input: &quot;conv_1/summaries/max_1/tags&quot;\\n  input: &quot;conv_1/summaries/Max&quot;\\n  attr {\\n    key: &quot;T&quot;\\n    value {\\n      type: DT_FLOAT\\n    }\\n  }\\n}\\nnode {\\n  name: &quot;conv_1/summaries/Const_2&quot;\\n  op: &quot;Const&quot;\\n  attr {\\n    key: &quot;dtype&quot;\\n    value {\\n      type: DT_INT32\\n    }\\n  }\\n  attr {\\n    key: &quot;value&quot;\\n    value {\\n      tensor {\\n        dtype: DT_INT32\\n        tensor_shape {\\n          dim {\\n            size: 4\\n          }\\n        }\\n        tensor_content: &quot;\\\\000\\\\000\\\\000\\\\000\\\\001\\\\000\\\\000\\\\000\\\\002\\\\000\\\\000\\\\000\\\\003\\\\000\\\\000\\\\000&quot;\\n      }\\n    }\\n  }\\n}\\nnode {\\n  name: &quot;conv_1/summaries/Min&quot;\\n  op: &quot;Min&quot;\\n  input: &quot;conv_1/BiasAdd&quot;\\n  input: &quot;conv_1/summaries/Const_2&quot;\\n  attr {\\n    key: &quot;T&quot;\\n    value {\\n      type: DT_FLOAT\\n    }\\n  }\\n  attr {\\n    key: &quot;Tidx&quot;\\n    value {\\n      type: DT_INT32\\n    }\\n  }\\n  attr {\\n    key: &quot;keep_dims&quot;\\n    value {\\n      b: false\\n    }\\n  }\\n}\\nnode {\\n  name: &quot;conv_1/summaries/min_1/tags&quot;\\n  op: &quot;Const&quot;\\n  attr {\\n    key: &quot;dtype&quot;\\n    value {\\n      type: DT_STRING\\n    }\\n  }\\n  attr {\\n    key: &quot;value&quot;\\n    value {\\n      tensor {\\n        dtype: DT_STRING\\n        tensor_shape {\\n        }\\n        string_val: &quot;conv_1/summaries/min_1&quot;\\n      }\\n    }\\n  }\\n}\\nnode {\\n  name: &quot;conv_1/summaries/min_1&quot;\\n  op: &quot;ScalarSummary&quot;\\n  input: &quot;conv_1/summaries/min_1/tags&quot;\\n  input: &quot;conv_1/summaries/Min&quot;\\n  attr {\\n    key: &quot;T&quot;\\n    value {\\n      type: DT_FLOAT\\n    }\\n  }\\n}\\nnode {\\n  name: &quot;conv_1/summaries/histogram/tag&quot;\\n  op: &quot;Const&quot;\\n  attr {\\n    key: &quot;dtype&quot;\\n    value {\\n      type: DT_STRING\\n    }\\n  }\\n  attr {\\n    key: &quot;value&quot;\\n    value {\\n      tensor {\\n        dtype: DT_STRING\\n        tensor_shape {\\n        }\\n        string_val: &quot;conv_1/summaries/histogram&quot;\\n      }\\n    }\\n  }\\n}\\nnode {\\n  name: &quot;conv_1/summaries/histogram&quot;\\n  op: &quot;HistogramSummary&quot;\\n  input: &quot;conv_1/summaries/histogram/tag&quot;\\n  input: &quot;conv_1/BiasAdd&quot;\\n  attr {\\n    key: &quot;T&quot;\\n    value {\\n      type: DT_FLOAT\\n    }\\n  }\\n}\\nnode {\\n  name: &quot;conv_relu_1/Relu&quot;\\n  op: &quot;Relu&quot;\\n  input: &quot;conv_1/BiasAdd&quot;\\n  attr {\\n    key: &quot;T&quot;\\n    value {\\n      type: DT_FLOAT\\n    }\\n  }\\n}\\nnode {\\n  name: &quot;pool_1/1&quot;\\n  op: &quot;MaxPool&quot;\\n  input: &quot;conv_relu_1/Relu&quot;\\n  attr {\\n    key: &quot;T&quot;\\n    value {\\n      type: DT_FLOAT\\n    }\\n  }\\n  attr {\\n    key: &quot;data_format&quot;\\n    value {\\n      s: &quot;NHWC&quot;\\n    }\\n  }\\n  attr {\\n    key: &quot;ksize&quot;\\n    value {\\n      list {\\n        i: 1\\n        i: 2\\n        i: 2\\n        i: 1\\n      }\\n    }\\n  }\\n  attr {\\n    key: &quot;padding&quot;\\n    value {\\n      s: &quot;SAME&quot;\\n    }\\n  }\\n  attr {\\n    key: &quot;strides&quot;\\n    value {\\n      list {\\n        i: 1\\n        i: 2\\n        i: 2\\n        i: 1\\n      }\\n    }\\n  }\\n}\\nnode {\\n  name: &quot;pool_1/summaries/Const&quot;\\n  op: &quot;Const&quot;\\n  attr {\\n    key: &quot;dtype&quot;\\n    value {\\n      type: DT_INT32\\n    }\\n  }\\n  attr {\\n    key: &quot;value&quot;\\n    value {\\n      tensor {\\n        dtype: DT_INT32\\n        tensor_shape {\\n          dim {\\n            size: 4\\n          }\\n        }\\n        tensor_content: &quot;\\\\000\\\\000\\\\000\\\\000\\\\001\\\\000\\\\000\\\\000\\\\002\\\\000\\\\000\\\\000\\\\003\\\\000\\\\000\\\\000&quot;\\n      }\\n    }\\n  }\\n}\\nnode {\\n  name: &quot;pool_1/summaries/Mean&quot;\\n  op: &quot;Mean&quot;\\n  input: &quot;pool_1/1&quot;\\n  input: &quot;pool_1/summaries/Const&quot;\\n  attr {\\n    key: &quot;T&quot;\\n    value {\\n      type: DT_FLOAT\\n    }\\n  }\\n  attr {\\n    key: &quot;Tidx&quot;\\n    value {\\n      type: DT_INT32\\n    }\\n  }\\n  attr {\\n    key: &quot;keep_dims&quot;\\n    value {\\n      b: false\\n    }\\n  }\\n}\\nnode {\\n  name: &quot;pool_1/summaries/mean_1/tags&quot;\\n  op: &quot;Const&quot;\\n  attr {\\n    key: &quot;dtype&quot;\\n    value {\\n      type: DT_STRING\\n    }\\n  }\\n  attr {\\n    key: &quot;value&quot;\\n    value {\\n      tensor {\\n        dtype: DT_STRING\\n        tensor_shape {\\n        }\\n        string_val: &quot;pool_1/summaries/mean_1&quot;\\n      }\\n    }\\n  }\\n}\\nnode {\\n  name: &quot;pool_1/summaries/mean_1&quot;\\n  op: &quot;ScalarSummary&quot;\\n  input: &quot;pool_1/summaries/mean_1/tags&quot;\\n  input: &quot;pool_1/summaries/Mean&quot;\\n  attr {\\n    key: &quot;T&quot;\\n    value {\\n      type: DT_FLOAT\\n    }\\n  }\\n}\\nnode {\\n  name: &quot;pool_1/summaries/stddev/sub&quot;\\n  op: &quot;Sub&quot;\\n  input: &quot;pool_1/1&quot;\\n  input: &quot;pool_1/summaries/Mean&quot;\\n  attr {\\n    key: &quot;T&quot;\\n    value {\\n      type: DT_FLOAT\\n    }\\n  }\\n}\\nnode {\\n  name: &quot;pool_1/summaries/stddev/Square&quot;\\n  op: &quot;Square&quot;\\n  input: &quot;pool_1/summaries/stddev/sub&quot;\\n  attr {\\n    key: &quot;T&quot;\\n    value {\\n      type: DT_FLOAT\\n    }\\n  }\\n}\\nnode {\\n  name: &quot;pool_1/summaries/stddev/Const&quot;\\n  op: &quot;Const&quot;\\n  attr {\\n    key: &quot;dtype&quot;\\n    value {\\n      type: DT_INT32\\n    }\\n  }\\n  attr {\\n    key: &quot;value&quot;\\n    value {\\n      tensor {\\n        dtype: DT_INT32\\n        tensor_shape {\\n          dim {\\n            size: 4\\n          }\\n        }\\n        tensor_content: &quot;\\\\000\\\\000\\\\000\\\\000\\\\001\\\\000\\\\000\\\\000\\\\002\\\\000\\\\000\\\\000\\\\003\\\\000\\\\000\\\\000&quot;\\n      }\\n    }\\n  }\\n}\\nnode {\\n  name: &quot;pool_1/summaries/stddev/Mean&quot;\\n  op: &quot;Mean&quot;\\n  input: &quot;pool_1/summaries/stddev/Square&quot;\\n  input: &quot;pool_1/summaries/stddev/Const&quot;\\n  attr {\\n    key: &quot;T&quot;\\n    value {\\n      type: DT_FLOAT\\n    }\\n  }\\n  attr {\\n    key: &quot;Tidx&quot;\\n    value {\\n      type: DT_INT32\\n    }\\n  }\\n  attr {\\n    key: &quot;keep_dims&quot;\\n    value {\\n      b: false\\n    }\\n  }\\n}\\nnode {\\n  name: &quot;pool_1/summaries/stddev/Sqrt&quot;\\n  op: &quot;Sqrt&quot;\\n  input: &quot;pool_1/summaries/stddev/Mean&quot;\\n  attr {\\n    key: &quot;T&quot;\\n    value {\\n      type: DT_FLOAT\\n    }\\n  }\\n}\\nnode {\\n  name: &quot;pool_1/summaries/stddev_1/tags&quot;\\n  op: &quot;Const&quot;\\n  attr {\\n    key: &quot;dtype&quot;\\n    value {\\n      type: DT_STRING\\n    }\\n  }\\n  attr {\\n    key: &quot;value&quot;\\n    value {\\n      tensor {\\n        dtype: DT_STRING\\n        tensor_shape {\\n        }\\n        string_val: &quot;pool_1/summaries/stddev_1&quot;\\n      }\\n    }\\n  }\\n}\\nnode {\\n  name: &quot;pool_1/summaries/stddev_1&quot;\\n  op: &quot;ScalarSummary&quot;\\n  input: &quot;pool_1/summaries/stddev_1/tags&quot;\\n  input: &quot;pool_1/summaries/stddev/Sqrt&quot;\\n  attr {\\n    key: &quot;T&quot;\\n    value {\\n      type: DT_FLOAT\\n    }\\n  }\\n}\\nnode {\\n  name: &quot;pool_1/summaries/Const_1&quot;\\n  op: &quot;Const&quot;\\n  attr {\\n    key: &quot;dtype&quot;\\n    value {\\n      type: DT_INT32\\n    }\\n  }\\n  attr {\\n    key: &quot;value&quot;\\n    value {\\n      tensor {\\n        dtype: DT_INT32\\n        tensor_shape {\\n          dim {\\n            size: 4\\n          }\\n        }\\n        tensor_content: &quot;\\\\000\\\\000\\\\000\\\\000\\\\001\\\\000\\\\000\\\\000\\\\002\\\\000\\\\000\\\\000\\\\003\\\\000\\\\000\\\\000&quot;\\n      }\\n    }\\n  }\\n}\\nnode {\\n  name: &quot;pool_1/summaries/Max&quot;\\n  op: &quot;Max&quot;\\n  input: &quot;pool_1/1&quot;\\n  input: &quot;pool_1/summaries/Const_1&quot;\\n  attr {\\n    key: &quot;T&quot;\\n    value {\\n      type: DT_FLOAT\\n    }\\n  }\\n  attr {\\n    key: &quot;Tidx&quot;\\n    value {\\n      type: DT_INT32\\n    }\\n  }\\n  attr {\\n    key: &quot;keep_dims&quot;\\n    value {\\n      b: false\\n    }\\n  }\\n}\\nnode {\\n  name: &quot;pool_1/summaries/max_1/tags&quot;\\n  op: &quot;Const&quot;\\n  attr {\\n    key: &quot;dtype&quot;\\n    value {\\n      type: DT_STRING\\n    }\\n  }\\n  attr {\\n    key: &quot;value&quot;\\n    value {\\n      tensor {\\n        dtype: DT_STRING\\n        tensor_shape {\\n        }\\n        string_val: &quot;pool_1/summaries/max_1&quot;\\n      }\\n    }\\n  }\\n}\\nnode {\\n  name: &quot;pool_1/summaries/max_1&quot;\\n  op: &quot;ScalarSummary&quot;\\n  input: &quot;pool_1/summaries/max_1/tags&quot;\\n  input: &quot;pool_1/summaries/Max&quot;\\n  attr {\\n    key: &quot;T&quot;\\n    value {\\n      type: DT_FLOAT\\n    }\\n  }\\n}\\nnode {\\n  name: &quot;pool_1/summaries/Const_2&quot;\\n  op: &quot;Const&quot;\\n  attr {\\n    key: &quot;dtype&quot;\\n    value {\\n      type: DT_INT32\\n    }\\n  }\\n  attr {\\n    key: &quot;value&quot;\\n    value {\\n      tensor {\\n        dtype: DT_INT32\\n        tensor_shape {\\n          dim {\\n            size: 4\\n          }\\n        }\\n        tensor_content: &quot;\\\\000\\\\000\\\\000\\\\000\\\\001\\\\000\\\\000\\\\000\\\\002\\\\000\\\\000\\\\000\\\\003\\\\000\\\\000\\\\000&quot;\\n      }\\n    }\\n  }\\n}\\nnode {\\n  name: &quot;pool_1/summaries/Min&quot;\\n  op: &quot;Min&quot;\\n  input: &quot;pool_1/1&quot;\\n  input: &quot;pool_1/summaries/Const_2&quot;\\n  attr {\\n    key: &quot;T&quot;\\n    value {\\n      type: DT_FLOAT\\n    }\\n  }\\n  attr {\\n    key: &quot;Tidx&quot;\\n    value {\\n      type: DT_INT32\\n    }\\n  }\\n  attr {\\n    key: &quot;keep_dims&quot;\\n    value {\\n      b: false\\n    }\\n  }\\n}\\nnode {\\n  name: &quot;pool_1/summaries/min_1/tags&quot;\\n  op: &quot;Const&quot;\\n  attr {\\n    key: &quot;dtype&quot;\\n    value {\\n      type: DT_STRING\\n    }\\n  }\\n  attr {\\n    key: &quot;value&quot;\\n    value {\\n      tensor {\\n        dtype: DT_STRING\\n        tensor_shape {\\n        }\\n        string_val: &quot;pool_1/summaries/min_1&quot;\\n      }\\n    }\\n  }\\n}\\nnode {\\n  name: &quot;pool_1/summaries/min_1&quot;\\n  op: &quot;ScalarSummary&quot;\\n  input: &quot;pool_1/summaries/min_1/tags&quot;\\n  input: &quot;pool_1/summaries/Min&quot;\\n  attr {\\n    key: &quot;T&quot;\\n    value {\\n      type: DT_FLOAT\\n    }\\n  }\\n}\\nnode {\\n  name: &quot;pool_1/summaries/histogram/tag&quot;\\n  op: &quot;Const&quot;\\n  attr {\\n    key: &quot;dtype&quot;\\n    value {\\n      type: DT_STRING\\n    }\\n  }\\n  attr {\\n    key: &quot;value&quot;\\n    value {\\n      tensor {\\n        dtype: DT_STRING\\n        tensor_shape {\\n        }\\n        string_val: &quot;pool_1/summaries/histogram&quot;\\n      }\\n    }\\n  }\\n}\\nnode {\\n  name: &quot;pool_1/summaries/histogram&quot;\\n  op: &quot;HistogramSummary&quot;\\n  input: &quot;pool_1/summaries/histogram/tag&quot;\\n  input: &quot;pool_1/1&quot;\\n  attr {\\n    key: &quot;T&quot;\\n    value {\\n      type: DT_FLOAT\\n    }\\n  }\\n}\\nnode {\\n  name: &quot;conv_2/weights/truncated_normal/shape&quot;\\n  op: &quot;Const&quot;\\n  attr {\\n    key: &quot;dtype&quot;\\n    value {\\n      type: DT_INT32\\n    }\\n  }\\n  attr {\\n    key: &quot;value&quot;\\n    value {\\n      tensor {\\n        dtype: DT_INT32\\n        tensor_shape {\\n          dim {\\n            size: 4\\n          }\\n        }\\n        tensor_content: &quot;\\\\005\\\\000\\\\000\\\\000\\\\005\\\\000\\\\000\\\\000 \\\\000\\\\000\\\\000@\\\\000\\\\000\\\\000&quot;\\n      }\\n    }\\n  }\\n}\\nnode {\\n  name: &quot;conv_2/weights/truncated_normal/mean&quot;\\n  op: &quot;Const&quot;\\n  attr {\\n    key: &quot;dtype&quot;\\n    value {\\n      type: DT_FLOAT\\n    }\\n  }\\n  attr {\\n    key: &quot;value&quot;\\n    value {\\n      tensor {\\n        dtype: DT_FLOAT\\n        tensor_shape {\\n        }\\n        float_val: 0.0\\n      }\\n    }\\n  }\\n}\\nnode {\\n  name: &quot;conv_2/weights/truncated_normal/stddev&quot;\\n  op: &quot;Const&quot;\\n  attr {\\n    key: &quot;dtype&quot;\\n    value {\\n      type: DT_FLOAT\\n    }\\n  }\\n  attr {\\n    key: &quot;value&quot;\\n    value {\\n      tensor {\\n        dtype: DT_FLOAT\\n        tensor_shape {\\n        }\\n        float_val: 0.009999999776482582\\n      }\\n    }\\n  }\\n}\\nnode {\\n  name: &quot;conv_2/weights/truncated_normal/TruncatedNormal&quot;\\n  op: &quot;TruncatedNormal&quot;\\n  input: &quot;conv_2/weights/truncated_normal/shape&quot;\\n  attr {\\n    key: &quot;T&quot;\\n    value {\\n      type: DT_INT32\\n    }\\n  }\\n  attr {\\n    key: &quot;dtype&quot;\\n    value {\\n      type: DT_FLOAT\\n    }\\n  }\\n  attr {\\n    key: &quot;seed&quot;\\n    value {\\n      i: 0\\n    }\\n  }\\n  attr {\\n    key: &quot;seed2&quot;\\n    value {\\n      i: 0\\n    }\\n  }\\n}\\nnode {\\n  name: &quot;conv_2/weights/truncated_normal/mul&quot;\\n  op: &quot;Mul&quot;\\n  input: &quot;conv_2/weights/truncated_normal/TruncatedNormal&quot;\\n  input: &quot;conv_2/weights/truncated_normal/stddev&quot;\\n  attr {\\n    key: &quot;T&quot;\\n    value {\\n      type: DT_FLOAT\\n    }\\n  }\\n}\\nnode {\\n  name: &quot;conv_2/weights/truncated_normal&quot;\\n  op: &quot;Add&quot;\\n  input: &quot;conv_2/weights/truncated_normal/mul&quot;\\n  input: &quot;conv_2/weights/truncated_normal/mean&quot;\\n  attr {\\n    key: &quot;T&quot;\\n    value {\\n      type: DT_FLOAT\\n    }\\n  }\\n}\\nnode {\\n  name: &quot;conv_2/weights/Variable&quot;\\n  op: &quot;VariableV2&quot;\\n  attr {\\n    key: &quot;container&quot;\\n    value {\\n      s: &quot;&quot;\\n    }\\n  }\\n  attr {\\n    key: &quot;dtype&quot;\\n    value {\\n      type: DT_FLOAT\\n    }\\n  }\\n  attr {\\n    key: &quot;shape&quot;\\n    value {\\n      shape {\\n        dim {\\n          size: 5\\n        }\\n        dim {\\n          size: 5\\n        }\\n        dim {\\n          size: 32\\n        }\\n        dim {\\n          size: 64\\n        }\\n      }\\n    }\\n  }\\n  attr {\\n    key: &quot;shared_name&quot;\\n    value {\\n      s: &quot;&quot;\\n    }\\n  }\\n}\\nnode {\\n  name: &quot;conv_2/weights/Variable/Assign&quot;\\n  op: &quot;Assign&quot;\\n  input: &quot;conv_2/weights/Variable&quot;\\n  input: &quot;conv_2/weights/truncated_normal&quot;\\n  attr {\\n    key: &quot;T&quot;\\n    value {\\n      type: DT_FLOAT\\n    }\\n  }\\n  attr {\\n    key: &quot;_class&quot;\\n    value {\\n      list {\\n        s: &quot;loc:@conv_2/weights/Variable&quot;\\n      }\\n    }\\n  }\\n  attr {\\n    key: &quot;use_locking&quot;\\n    value {\\n      b: true\\n    }\\n  }\\n  attr {\\n    key: &quot;validate_shape&quot;\\n    value {\\n      b: true\\n    }\\n  }\\n}\\nnode {\\n  name: &quot;conv_2/weights/Variable/read&quot;\\n  op: &quot;Identity&quot;\\n  input: &quot;conv_2/weights/Variable&quot;\\n  attr {\\n    key: &quot;T&quot;\\n    value {\\n      type: DT_FLOAT\\n    }\\n  }\\n  attr {\\n    key: &quot;_class&quot;\\n    value {\\n      list {\\n        s: &quot;loc:@conv_2/weights/Variable&quot;\\n      }\\n    }\\n  }\\n}\\nnode {\\n  name: &quot;conv_2/weights/summaries/Rank&quot;\\n  op: &quot;Const&quot;\\n  attr {\\n    key: &quot;dtype&quot;\\n    value {\\n      type: DT_INT32\\n    }\\n  }\\n  attr {\\n    key: &quot;value&quot;\\n    value {\\n      tensor {\\n        dtype: DT_INT32\\n        tensor_shape {\\n        }\\n        int_val: 4\\n      }\\n    }\\n  }\\n}\\nnode {\\n  name: &quot;conv_2/weights/summaries/range/start&quot;\\n  op: &quot;Const&quot;\\n  attr {\\n    key: &quot;dtype&quot;\\n    value {\\n      type: DT_INT32\\n    }\\n  }\\n  attr {\\n    key: &quot;value&quot;\\n    value {\\n      tensor {\\n        dtype: DT_INT32\\n        tensor_shape {\\n        }\\n        int_val: 0\\n      }\\n    }\\n  }\\n}\\nnode {\\n  name: &quot;conv_2/weights/summaries/range/delta&quot;\\n  op: &quot;Const&quot;\\n  attr {\\n    key: &quot;dtype&quot;\\n    value {\\n      type: DT_INT32\\n    }\\n  }\\n  attr {\\n    key: &quot;value&quot;\\n    value {\\n      tensor {\\n        dtype: DT_INT32\\n        tensor_shape {\\n        }\\n        int_val: 1\\n      }\\n    }\\n  }\\n}\\nnode {\\n  name: &quot;conv_2/weights/summaries/range&quot;\\n  op: &quot;Range&quot;\\n  input: &quot;conv_2/weights/summaries/range/start&quot;\\n  input: &quot;conv_2/weights/summaries/Rank&quot;\\n  input: &quot;conv_2/weights/summaries/range/delta&quot;\\n  attr {\\n    key: &quot;Tidx&quot;\\n    value {\\n      type: DT_INT32\\n    }\\n  }\\n}\\nnode {\\n  name: &quot;conv_2/weights/summaries/Mean&quot;\\n  op: &quot;Mean&quot;\\n  input: &quot;conv_2/weights/Variable/read&quot;\\n  input: &quot;conv_2/weights/summaries/range&quot;\\n  attr {\\n    key: &quot;T&quot;\\n    value {\\n      type: DT_FLOAT\\n    }\\n  }\\n  attr {\\n    key: &quot;Tidx&quot;\\n    value {\\n      type: DT_INT32\\n    }\\n  }\\n  attr {\\n    key: &quot;keep_dims&quot;\\n    value {\\n      b: false\\n    }\\n  }\\n}\\nnode {\\n  name: &quot;conv_2/weights/summaries/mean_1/tags&quot;\\n  op: &quot;Const&quot;\\n  attr {\\n    key: &quot;dtype&quot;\\n    value {\\n      type: DT_STRING\\n    }\\n  }\\n  attr {\\n    key: &quot;value&quot;\\n    value {\\n      tensor {\\n        dtype: DT_STRING\\n        tensor_shape {\\n        }\\n        string_val: &quot;conv_2/weights/summaries/mean_1&quot;\\n      }\\n    }\\n  }\\n}\\nnode {\\n  name: &quot;conv_2/weights/summaries/mean_1&quot;\\n  op: &quot;ScalarSummary&quot;\\n  input: &quot;conv_2/weights/summaries/mean_1/tags&quot;\\n  input: &quot;conv_2/weights/summaries/Mean&quot;\\n  attr {\\n    key: &quot;T&quot;\\n    value {\\n      type: DT_FLOAT\\n    }\\n  }\\n}\\nnode {\\n  name: &quot;conv_2/weights/summaries/stddev/sub&quot;\\n  op: &quot;Sub&quot;\\n  input: &quot;conv_2/weights/Variable/read&quot;\\n  input: &quot;conv_2/weights/summaries/Mean&quot;\\n  attr {\\n    key: &quot;T&quot;\\n    value {\\n      type: DT_FLOAT\\n    }\\n  }\\n}\\nnode {\\n  name: &quot;conv_2/weights/summaries/stddev/Square&quot;\\n  op: &quot;Square&quot;\\n  input: &quot;conv_2/weights/summaries/stddev/sub&quot;\\n  attr {\\n    key: &quot;T&quot;\\n    value {\\n      type: DT_FLOAT\\n    }\\n  }\\n}\\nnode {\\n  name: &quot;conv_2/weights/summaries/stddev/Const&quot;\\n  op: &quot;Const&quot;\\n  attr {\\n    key: &quot;dtype&quot;\\n    value {\\n      type: DT_INT32\\n    }\\n  }\\n  attr {\\n    key: &quot;value&quot;\\n    value {\\n      tensor {\\n        dtype: DT_INT32\\n        tensor_shape {\\n          dim {\\n            size: 4\\n          }\\n        }\\n        tensor_content: &quot;\\\\000\\\\000\\\\000\\\\000\\\\001\\\\000\\\\000\\\\000\\\\002\\\\000\\\\000\\\\000\\\\003\\\\000\\\\000\\\\000&quot;\\n      }\\n    }\\n  }\\n}\\nnode {\\n  name: &quot;conv_2/weights/summaries/stddev/Mean&quot;\\n  op: &quot;Mean&quot;\\n  input: &quot;conv_2/weights/summaries/stddev/Square&quot;\\n  input: &quot;conv_2/weights/summaries/stddev/Const&quot;\\n  attr {\\n    key: &quot;T&quot;\\n    value {\\n      type: DT_FLOAT\\n    }\\n  }\\n  attr {\\n    key: &quot;Tidx&quot;\\n    value {\\n      type: DT_INT32\\n    }\\n  }\\n  attr {\\n    key: &quot;keep_dims&quot;\\n    value {\\n      b: false\\n    }\\n  }\\n}\\nnode {\\n  name: &quot;conv_2/weights/summaries/stddev/Sqrt&quot;\\n  op: &quot;Sqrt&quot;\\n  input: &quot;conv_2/weights/summaries/stddev/Mean&quot;\\n  attr {\\n    key: &quot;T&quot;\\n    value {\\n      type: DT_FLOAT\\n    }\\n  }\\n}\\nnode {\\n  name: &quot;conv_2/weights/summaries/stddev_1/tags&quot;\\n  op: &quot;Const&quot;\\n  attr {\\n    key: &quot;dtype&quot;\\n    value {\\n      type: DT_STRING\\n    }\\n  }\\n  attr {\\n    key: &quot;value&quot;\\n    value {\\n      tensor {\\n        dtype: DT_STRING\\n        tensor_shape {\\n        }\\n        string_val: &quot;conv_2/weights/summaries/stddev_1&quot;\\n      }\\n    }\\n  }\\n}\\nnode {\\n  name: &quot;conv_2/weights/summaries/stddev_1&quot;\\n  op: &quot;ScalarSummary&quot;\\n  input: &quot;conv_2/weights/summaries/stddev_1/tags&quot;\\n  input: &quot;conv_2/weights/summaries/stddev/Sqrt&quot;\\n  attr {\\n    key: &quot;T&quot;\\n    value {\\n      type: DT_FLOAT\\n    }\\n  }\\n}\\nnode {\\n  name: &quot;conv_2/weights/summaries/Rank_1&quot;\\n  op: &quot;Const&quot;\\n  attr {\\n    key: &quot;dtype&quot;\\n    value {\\n      type: DT_INT32\\n    }\\n  }\\n  attr {\\n    key: &quot;value&quot;\\n    value {\\n      tensor {\\n        dtype: DT_INT32\\n        tensor_shape {\\n        }\\n        int_val: 4\\n      }\\n    }\\n  }\\n}\\nnode {\\n  name: &quot;conv_2/weights/summaries/range_1/start&quot;\\n  op: &quot;Const&quot;\\n  attr {\\n    key: &quot;dtype&quot;\\n    value {\\n      type: DT_INT32\\n    }\\n  }\\n  attr {\\n    key: &quot;value&quot;\\n    value {\\n      tensor {\\n        dtype: DT_INT32\\n        tensor_shape {\\n        }\\n        int_val: 0\\n      }\\n    }\\n  }\\n}\\nnode {\\n  name: &quot;conv_2/weights/summaries/range_1/delta&quot;\\n  op: &quot;Const&quot;\\n  attr {\\n    key: &quot;dtype&quot;\\n    value {\\n      type: DT_INT32\\n    }\\n  }\\n  attr {\\n    key: &quot;value&quot;\\n    value {\\n      tensor {\\n        dtype: DT_INT32\\n        tensor_shape {\\n        }\\n        int_val: 1\\n      }\\n    }\\n  }\\n}\\nnode {\\n  name: &quot;conv_2/weights/summaries/range_1&quot;\\n  op: &quot;Range&quot;\\n  input: &quot;conv_2/weights/summaries/range_1/start&quot;\\n  input: &quot;conv_2/weights/summaries/Rank_1&quot;\\n  input: &quot;conv_2/weights/summaries/range_1/delta&quot;\\n  attr {\\n    key: &quot;Tidx&quot;\\n    value {\\n      type: DT_INT32\\n    }\\n  }\\n}\\nnode {\\n  name: &quot;conv_2/weights/summaries/Max&quot;\\n  op: &quot;Max&quot;\\n  input: &quot;conv_2/weights/Variable/read&quot;\\n  input: &quot;conv_2/weights/summaries/range_1&quot;\\n  attr {\\n    key: &quot;T&quot;\\n    value {\\n      type: DT_FLOAT\\n    }\\n  }\\n  attr {\\n    key: &quot;Tidx&quot;\\n    value {\\n      type: DT_INT32\\n    }\\n  }\\n  attr {\\n    key: &quot;keep_dims&quot;\\n    value {\\n      b: false\\n    }\\n  }\\n}\\nnode {\\n  name: &quot;conv_2/weights/summaries/max_1/tags&quot;\\n  op: &quot;Const&quot;\\n  attr {\\n    key: &quot;dtype&quot;\\n    value {\\n      type: DT_STRING\\n    }\\n  }\\n  attr {\\n    key: &quot;value&quot;\\n    value {\\n      tensor {\\n        dtype: DT_STRING\\n        tensor_shape {\\n        }\\n        string_val: &quot;conv_2/weights/summaries/max_1&quot;\\n      }\\n    }\\n  }\\n}\\nnode {\\n  name: &quot;conv_2/weights/summaries/max_1&quot;\\n  op: &quot;ScalarSummary&quot;\\n  input: &quot;conv_2/weights/summaries/max_1/tags&quot;\\n  input: &quot;conv_2/weights/summaries/Max&quot;\\n  attr {\\n    key: &quot;T&quot;\\n    value {\\n      type: DT_FLOAT\\n    }\\n  }\\n}\\nnode {\\n  name: &quot;conv_2/weights/summaries/Rank_2&quot;\\n  op: &quot;Const&quot;\\n  attr {\\n    key: &quot;dtype&quot;\\n    value {\\n      type: DT_INT32\\n    }\\n  }\\n  attr {\\n    key: &quot;value&quot;\\n    value {\\n      tensor {\\n        dtype: DT_INT32\\n        tensor_shape {\\n        }\\n        int_val: 4\\n      }\\n    }\\n  }\\n}\\nnode {\\n  name: &quot;conv_2/weights/summaries/range_2/start&quot;\\n  op: &quot;Const&quot;\\n  attr {\\n    key: &quot;dtype&quot;\\n    value {\\n      type: DT_INT32\\n    }\\n  }\\n  attr {\\n    key: &quot;value&quot;\\n    value {\\n      tensor {\\n        dtype: DT_INT32\\n        tensor_shape {\\n        }\\n        int_val: 0\\n      }\\n    }\\n  }\\n}\\nnode {\\n  name: &quot;conv_2/weights/summaries/range_2/delta&quot;\\n  op: &quot;Const&quot;\\n  attr {\\n    key: &quot;dtype&quot;\\n    value {\\n      type: DT_INT32\\n    }\\n  }\\n  attr {\\n    key: &quot;value&quot;\\n    value {\\n      tensor {\\n        dtype: DT_INT32\\n        tensor_shape {\\n        }\\n        int_val: 1\\n      }\\n    }\\n  }\\n}\\nnode {\\n  name: &quot;conv_2/weights/summaries/range_2&quot;\\n  op: &quot;Range&quot;\\n  input: &quot;conv_2/weights/summaries/range_2/start&quot;\\n  input: &quot;conv_2/weights/summaries/Rank_2&quot;\\n  input: &quot;conv_2/weights/summaries/range_2/delta&quot;\\n  attr {\\n    key: &quot;Tidx&quot;\\n    value {\\n      type: DT_INT32\\n    }\\n  }\\n}\\nnode {\\n  name: &quot;conv_2/weights/summaries/Min&quot;\\n  op: &quot;Min&quot;\\n  input: &quot;conv_2/weights/Variable/read&quot;\\n  input: &quot;conv_2/weights/summaries/range_2&quot;\\n  attr {\\n    key: &quot;T&quot;\\n    value {\\n      type: DT_FLOAT\\n    }\\n  }\\n  attr {\\n    key: &quot;Tidx&quot;\\n    value {\\n      type: DT_INT32\\n    }\\n  }\\n  attr {\\n    key: &quot;keep_dims&quot;\\n    value {\\n      b: false\\n    }\\n  }\\n}\\nnode {\\n  name: &quot;conv_2/weights/summaries/min_1/tags&quot;\\n  op: &quot;Const&quot;\\n  attr {\\n    key: &quot;dtype&quot;\\n    value {\\n      type: DT_STRING\\n    }\\n  }\\n  attr {\\n    key: &quot;value&quot;\\n    value {\\n      tensor {\\n        dtype: DT_STRING\\n        tensor_shape {\\n        }\\n        string_val: &quot;conv_2/weights/summaries/min_1&quot;\\n      }\\n    }\\n  }\\n}\\nnode {\\n  name: &quot;conv_2/weights/summaries/min_1&quot;\\n  op: &quot;ScalarSummary&quot;\\n  input: &quot;conv_2/weights/summaries/min_1/tags&quot;\\n  input: &quot;conv_2/weights/summaries/Min&quot;\\n  attr {\\n    key: &quot;T&quot;\\n    value {\\n      type: DT_FLOAT\\n    }\\n  }\\n}\\nnode {\\n  name: &quot;conv_2/weights/summaries/histogram/tag&quot;\\n  op: &quot;Const&quot;\\n  attr {\\n    key: &quot;dtype&quot;\\n    value {\\n      type: DT_STRING\\n    }\\n  }\\n  attr {\\n    key: &quot;value&quot;\\n    value {\\n      tensor {\\n        dtype: DT_STRING\\n        tensor_shape {\\n        }\\n        string_val: &quot;conv_2/weights/summaries/histogram&quot;\\n      }\\n    }\\n  }\\n}\\nnode {\\n  name: &quot;conv_2/weights/summaries/histogram&quot;\\n  op: &quot;HistogramSummary&quot;\\n  input: &quot;conv_2/weights/summaries/histogram/tag&quot;\\n  input: &quot;conv_2/weights/Variable/read&quot;\\n  attr {\\n    key: &quot;T&quot;\\n    value {\\n      type: DT_FLOAT\\n    }\\n  }\\n}\\nnode {\\n  name: &quot;conv_2/biases/Const&quot;\\n  op: &quot;Const&quot;\\n  attr {\\n    key: &quot;dtype&quot;\\n    value {\\n      type: DT_FLOAT\\n    }\\n  }\\n  attr {\\n    key: &quot;value&quot;\\n    value {\\n      tensor {\\n        dtype: DT_FLOAT\\n        tensor_shape {\\n          dim {\\n            size: 64\\n          }\\n        }\\n        float_val: 0.009999999776482582\\n      }\\n    }\\n  }\\n}\\nnode {\\n  name: &quot;conv_2/biases/Variable&quot;\\n  op: &quot;VariableV2&quot;\\n  attr {\\n    key: &quot;container&quot;\\n    value {\\n      s: &quot;&quot;\\n    }\\n  }\\n  attr {\\n    key: &quot;dtype&quot;\\n    value {\\n      type: DT_FLOAT\\n    }\\n  }\\n  attr {\\n    key: &quot;shape&quot;\\n    value {\\n      shape {\\n        dim {\\n          size: 64\\n        }\\n      }\\n    }\\n  }\\n  attr {\\n    key: &quot;shared_name&quot;\\n    value {\\n      s: &quot;&quot;\\n    }\\n  }\\n}\\nnode {\\n  name: &quot;conv_2/biases/Variable/Assign&quot;\\n  op: &quot;Assign&quot;\\n  input: &quot;conv_2/biases/Variable&quot;\\n  input: &quot;conv_2/biases/Const&quot;\\n  attr {\\n    key: &quot;T&quot;\\n    value {\\n      type: DT_FLOAT\\n    }\\n  }\\n  attr {\\n    key: &quot;_class&quot;\\n    value {\\n      list {\\n        s: &quot;loc:@conv_2/biases/Variable&quot;\\n      }\\n    }\\n  }\\n  attr {\\n    key: &quot;use_locking&quot;\\n    value {\\n      b: true\\n    }\\n  }\\n  attr {\\n    key: &quot;validate_shape&quot;\\n    value {\\n      b: true\\n    }\\n  }\\n}\\nnode {\\n  name: &quot;conv_2/biases/Variable/read&quot;\\n  op: &quot;Identity&quot;\\n  input: &quot;conv_2/biases/Variable&quot;\\n  attr {\\n    key: &quot;T&quot;\\n    value {\\n      type: DT_FLOAT\\n    }\\n  }\\n  attr {\\n    key: &quot;_class&quot;\\n    value {\\n      list {\\n        s: &quot;loc:@conv_2/biases/Variable&quot;\\n      }\\n    }\\n  }\\n}\\nnode {\\n  name: &quot;conv_2/biases/summaries/Rank&quot;\\n  op: &quot;Const&quot;\\n  attr {\\n    key: &quot;dtype&quot;\\n    value {\\n      type: DT_INT32\\n    }\\n  }\\n  attr {\\n    key: &quot;value&quot;\\n    value {\\n      tensor {\\n        dtype: DT_INT32\\n        tensor_shape {\\n        }\\n        int_val: 1\\n      }\\n    }\\n  }\\n}\\nnode {\\n  name: &quot;conv_2/biases/summaries/range/start&quot;\\n  op: &quot;Const&quot;\\n  attr {\\n    key: &quot;dtype&quot;\\n    value {\\n      type: DT_INT32\\n    }\\n  }\\n  attr {\\n    key: &quot;value&quot;\\n    value {\\n      tensor {\\n        dtype: DT_INT32\\n        tensor_shape {\\n        }\\n        int_val: 0\\n      }\\n    }\\n  }\\n}\\nnode {\\n  name: &quot;conv_2/biases/summaries/range/delta&quot;\\n  op: &quot;Const&quot;\\n  attr {\\n    key: &quot;dtype&quot;\\n    value {\\n      type: DT_INT32\\n    }\\n  }\\n  attr {\\n    key: &quot;value&quot;\\n    value {\\n      tensor {\\n        dtype: DT_INT32\\n        tensor_shape {\\n        }\\n        int_val: 1\\n      }\\n    }\\n  }\\n}\\nnode {\\n  name: &quot;conv_2/biases/summaries/range&quot;\\n  op: &quot;Range&quot;\\n  input: &quot;conv_2/biases/summaries/range/start&quot;\\n  input: &quot;conv_2/biases/summaries/Rank&quot;\\n  input: &quot;conv_2/biases/summaries/range/delta&quot;\\n  attr {\\n    key: &quot;Tidx&quot;\\n    value {\\n      type: DT_INT32\\n    }\\n  }\\n}\\nnode {\\n  name: &quot;conv_2/biases/summaries/Mean&quot;\\n  op: &quot;Mean&quot;\\n  input: &quot;conv_2/biases/Variable/read&quot;\\n  input: &quot;conv_2/biases/summaries/range&quot;\\n  attr {\\n    key: &quot;T&quot;\\n    value {\\n      type: DT_FLOAT\\n    }\\n  }\\n  attr {\\n    key: &quot;Tidx&quot;\\n    value {\\n      type: DT_INT32\\n    }\\n  }\\n  attr {\\n    key: &quot;keep_dims&quot;\\n    value {\\n      b: false\\n    }\\n  }\\n}\\nnode {\\n  name: &quot;conv_2/biases/summaries/mean_1/tags&quot;\\n  op: &quot;Const&quot;\\n  attr {\\n    key: &quot;dtype&quot;\\n    value {\\n      type: DT_STRING\\n    }\\n  }\\n  attr {\\n    key: &quot;value&quot;\\n    value {\\n      tensor {\\n        dtype: DT_STRING\\n        tensor_shape {\\n        }\\n        string_val: &quot;conv_2/biases/summaries/mean_1&quot;\\n      }\\n    }\\n  }\\n}\\nnode {\\n  name: &quot;conv_2/biases/summaries/mean_1&quot;\\n  op: &quot;ScalarSummary&quot;\\n  input: &quot;conv_2/biases/summaries/mean_1/tags&quot;\\n  input: &quot;conv_2/biases/summaries/Mean&quot;\\n  attr {\\n    key: &quot;T&quot;\\n    value {\\n      type: DT_FLOAT\\n    }\\n  }\\n}\\nnode {\\n  name: &quot;conv_2/biases/summaries/stddev/sub&quot;\\n  op: &quot;Sub&quot;\\n  input: &quot;conv_2/biases/Variable/read&quot;\\n  input: &quot;conv_2/biases/summaries/Mean&quot;\\n  attr {\\n    key: &quot;T&quot;\\n    value {\\n      type: DT_FLOAT\\n    }\\n  }\\n}\\nnode {\\n  name: &quot;conv_2/biases/summaries/stddev/Square&quot;\\n  op: &quot;Square&quot;\\n  input: &quot;conv_2/biases/summaries/stddev/sub&quot;\\n  attr {\\n    key: &quot;T&quot;\\n    value {\\n      type: DT_FLOAT\\n    }\\n  }\\n}\\nnode {\\n  name: &quot;conv_2/biases/summaries/stddev/Const&quot;\\n  op: &quot;Const&quot;\\n  attr {\\n    key: &quot;dtype&quot;\\n    value {\\n      type: DT_INT32\\n    }\\n  }\\n  attr {\\n    key: &quot;value&quot;\\n    value {\\n      tensor {\\n        dtype: DT_INT32\\n        tensor_shape {\\n          dim {\\n            size: 1\\n          }\\n        }\\n        int_val: 0\\n      }\\n    }\\n  }\\n}\\nnode {\\n  name: &quot;conv_2/biases/summaries/stddev/Mean&quot;\\n  op: &quot;Mean&quot;\\n  input: &quot;conv_2/biases/summaries/stddev/Square&quot;\\n  input: &quot;conv_2/biases/summaries/stddev/Const&quot;\\n  attr {\\n    key: &quot;T&quot;\\n    value {\\n      type: DT_FLOAT\\n    }\\n  }\\n  attr {\\n    key: &quot;Tidx&quot;\\n    value {\\n      type: DT_INT32\\n    }\\n  }\\n  attr {\\n    key: &quot;keep_dims&quot;\\n    value {\\n      b: false\\n    }\\n  }\\n}\\nnode {\\n  name: &quot;conv_2/biases/summaries/stddev/Sqrt&quot;\\n  op: &quot;Sqrt&quot;\\n  input: &quot;conv_2/biases/summaries/stddev/Mean&quot;\\n  attr {\\n    key: &quot;T&quot;\\n    value {\\n      type: DT_FLOAT\\n    }\\n  }\\n}\\nnode {\\n  name: &quot;conv_2/biases/summaries/stddev_1/tags&quot;\\n  op: &quot;Const&quot;\\n  attr {\\n    key: &quot;dtype&quot;\\n    value {\\n      type: DT_STRING\\n    }\\n  }\\n  attr {\\n    key: &quot;value&quot;\\n    value {\\n      tensor {\\n        dtype: DT_STRING\\n        tensor_shape {\\n        }\\n        string_val: &quot;conv_2/biases/summaries/stddev_1&quot;\\n      }\\n    }\\n  }\\n}\\nnode {\\n  name: &quot;conv_2/biases/summaries/stddev_1&quot;\\n  op: &quot;ScalarSummary&quot;\\n  input: &quot;conv_2/biases/summaries/stddev_1/tags&quot;\\n  input: &quot;conv_2/biases/summaries/stddev/Sqrt&quot;\\n  attr {\\n    key: &quot;T&quot;\\n    value {\\n      type: DT_FLOAT\\n    }\\n  }\\n}\\nnode {\\n  name: &quot;conv_2/biases/summaries/Rank_1&quot;\\n  op: &quot;Const&quot;\\n  attr {\\n    key: &quot;dtype&quot;\\n    value {\\n      type: DT_INT32\\n    }\\n  }\\n  attr {\\n    key: &quot;value&quot;\\n    value {\\n      tensor {\\n        dtype: DT_INT32\\n        tensor_shape {\\n        }\\n        int_val: 1\\n      }\\n    }\\n  }\\n}\\nnode {\\n  name: &quot;conv_2/biases/summaries/range_1/start&quot;\\n  op: &quot;Const&quot;\\n  attr {\\n    key: &quot;dtype&quot;\\n    value {\\n      type: DT_INT32\\n    }\\n  }\\n  attr {\\n    key: &quot;value&quot;\\n    value {\\n      tensor {\\n        dtype: DT_INT32\\n        tensor_shape {\\n        }\\n        int_val: 0\\n      }\\n    }\\n  }\\n}\\nnode {\\n  name: &quot;conv_2/biases/summaries/range_1/delta&quot;\\n  op: &quot;Const&quot;\\n  attr {\\n    key: &quot;dtype&quot;\\n    value {\\n      type: DT_INT32\\n    }\\n  }\\n  attr {\\n    key: &quot;value&quot;\\n    value {\\n      tensor {\\n        dtype: DT_INT32\\n        tensor_shape {\\n        }\\n        int_val: 1\\n      }\\n    }\\n  }\\n}\\nnode {\\n  name: &quot;conv_2/biases/summaries/range_1&quot;\\n  op: &quot;Range&quot;\\n  input: &quot;conv_2/biases/summaries/range_1/start&quot;\\n  input: &quot;conv_2/biases/summaries/Rank_1&quot;\\n  input: &quot;conv_2/biases/summaries/range_1/delta&quot;\\n  attr {\\n    key: &quot;Tidx&quot;\\n    value {\\n      type: DT_INT32\\n    }\\n  }\\n}\\nnode {\\n  name: &quot;conv_2/biases/summaries/Max&quot;\\n  op: &quot;Max&quot;\\n  input: &quot;conv_2/biases/Variable/read&quot;\\n  input: &quot;conv_2/biases/summaries/range_1&quot;\\n  attr {\\n    key: &quot;T&quot;\\n    value {\\n      type: DT_FLOAT\\n    }\\n  }\\n  attr {\\n    key: &quot;Tidx&quot;\\n    value {\\n      type: DT_INT32\\n    }\\n  }\\n  attr {\\n    key: &quot;keep_dims&quot;\\n    value {\\n      b: false\\n    }\\n  }\\n}\\nnode {\\n  name: &quot;conv_2/biases/summaries/max_1/tags&quot;\\n  op: &quot;Const&quot;\\n  attr {\\n    key: &quot;dtype&quot;\\n    value {\\n      type: DT_STRING\\n    }\\n  }\\n  attr {\\n    key: &quot;value&quot;\\n    value {\\n      tensor {\\n        dtype: DT_STRING\\n        tensor_shape {\\n        }\\n        string_val: &quot;conv_2/biases/summaries/max_1&quot;\\n      }\\n    }\\n  }\\n}\\nnode {\\n  name: &quot;conv_2/biases/summaries/max_1&quot;\\n  op: &quot;ScalarSummary&quot;\\n  input: &quot;conv_2/biases/summaries/max_1/tags&quot;\\n  input: &quot;conv_2/biases/summaries/Max&quot;\\n  attr {\\n    key: &quot;T&quot;\\n    value {\\n      type: DT_FLOAT\\n    }\\n  }\\n}\\nnode {\\n  name: &quot;conv_2/biases/summaries/Rank_2&quot;\\n  op: &quot;Const&quot;\\n  attr {\\n    key: &quot;dtype&quot;\\n    value {\\n      type: DT_INT32\\n    }\\n  }\\n  attr {\\n    key: &quot;value&quot;\\n    value {\\n      tensor {\\n        dtype: DT_INT32\\n        tensor_shape {\\n        }\\n        int_val: 1\\n      }\\n    }\\n  }\\n}\\nnode {\\n  name: &quot;conv_2/biases/summaries/range_2/start&quot;\\n  op: &quot;Const&quot;\\n  attr {\\n    key: &quot;dtype&quot;\\n    value {\\n      type: DT_INT32\\n    }\\n  }\\n  attr {\\n    key: &quot;value&quot;\\n    value {\\n      tensor {\\n        dtype: DT_INT32\\n        tensor_shape {\\n        }\\n        int_val: 0\\n      }\\n    }\\n  }\\n}\\nnode {\\n  name: &quot;conv_2/biases/summaries/range_2/delta&quot;\\n  op: &quot;Const&quot;\\n  attr {\\n    key: &quot;dtype&quot;\\n    value {\\n      type: DT_INT32\\n    }\\n  }\\n  attr {\\n    key: &quot;value&quot;\\n    value {\\n      tensor {\\n        dtype: DT_INT32\\n        tensor_shape {\\n        }\\n        int_val: 1\\n      }\\n    }\\n  }\\n}\\nnode {\\n  name: &quot;conv_2/biases/summaries/range_2&quot;\\n  op: &quot;Range&quot;\\n  input: &quot;conv_2/biases/summaries/range_2/start&quot;\\n  input: &quot;conv_2/biases/summaries/Rank_2&quot;\\n  input: &quot;conv_2/biases/summaries/range_2/delta&quot;\\n  attr {\\n    key: &quot;Tidx&quot;\\n    value {\\n      type: DT_INT32\\n    }\\n  }\\n}\\nnode {\\n  name: &quot;conv_2/biases/summaries/Min&quot;\\n  op: &quot;Min&quot;\\n  input: &quot;conv_2/biases/Variable/read&quot;\\n  input: &quot;conv_2/biases/summaries/range_2&quot;\\n  attr {\\n    key: &quot;T&quot;\\n    value {\\n      type: DT_FLOAT\\n    }\\n  }\\n  attr {\\n    key: &quot;Tidx&quot;\\n    value {\\n      type: DT_INT32\\n    }\\n  }\\n  attr {\\n    key: &quot;keep_dims&quot;\\n    value {\\n      b: false\\n    }\\n  }\\n}\\nnode {\\n  name: &quot;conv_2/biases/summaries/min_1/tags&quot;\\n  op: &quot;Const&quot;\\n  attr {\\n    key: &quot;dtype&quot;\\n    value {\\n      type: DT_STRING\\n    }\\n  }\\n  attr {\\n    key: &quot;value&quot;\\n    value {\\n      tensor {\\n        dtype: DT_STRING\\n        tensor_shape {\\n        }\\n        string_val: &quot;conv_2/biases/summaries/min_1&quot;\\n      }\\n    }\\n  }\\n}\\nnode {\\n  name: &quot;conv_2/biases/summaries/min_1&quot;\\n  op: &quot;ScalarSummary&quot;\\n  input: &quot;conv_2/biases/summaries/min_1/tags&quot;\\n  input: &quot;conv_2/biases/summaries/Min&quot;\\n  attr {\\n    key: &quot;T&quot;\\n    value {\\n      type: DT_FLOAT\\n    }\\n  }\\n}\\nnode {\\n  name: &quot;conv_2/biases/summaries/histogram/tag&quot;\\n  op: &quot;Const&quot;\\n  attr {\\n    key: &quot;dtype&quot;\\n    value {\\n      type: DT_STRING\\n    }\\n  }\\n  attr {\\n    key: &quot;value&quot;\\n    value {\\n      tensor {\\n        dtype: DT_STRING\\n        tensor_shape {\\n        }\\n        string_val: &quot;conv_2/biases/summaries/histogram&quot;\\n      }\\n    }\\n  }\\n}\\nnode {\\n  name: &quot;conv_2/biases/summaries/histogram&quot;\\n  op: &quot;HistogramSummary&quot;\\n  input: &quot;conv_2/biases/summaries/histogram/tag&quot;\\n  input: &quot;conv_2/biases/Variable/read&quot;\\n  attr {\\n    key: &quot;T&quot;\\n    value {\\n      type: DT_FLOAT\\n    }\\n  }\\n}\\nnode {\\n  name: &quot;conv_2/conv2d_2&quot;\\n  op: &quot;Conv2D&quot;\\n  input: &quot;pool_1/1&quot;\\n  input: &quot;conv_2/weights/Variable/read&quot;\\n  attr {\\n    key: &quot;T&quot;\\n    value {\\n      type: DT_FLOAT\\n    }\\n  }\\n  attr {\\n    key: &quot;data_format&quot;\\n    value {\\n      s: &quot;NHWC&quot;\\n    }\\n  }\\n  attr {\\n    key: &quot;dilations&quot;\\n    value {\\n      list {\\n        i: 1\\n        i: 1\\n        i: 1\\n        i: 1\\n      }\\n    }\\n  }\\n  attr {\\n    key: &quot;padding&quot;\\n    value {\\n      s: &quot;SAME&quot;\\n    }\\n  }\\n  attr {\\n    key: &quot;strides&quot;\\n    value {\\n      list {\\n        i: 1\\n        i: 1\\n        i: 1\\n        i: 1\\n      }\\n    }\\n  }\\n  attr {\\n    key: &quot;use_cudnn_on_gpu&quot;\\n    value {\\n      b: true\\n    }\\n  }\\n}\\nnode {\\n  name: &quot;conv_2/BiasAdd&quot;\\n  op: &quot;BiasAdd&quot;\\n  input: &quot;conv_2/conv2d_2&quot;\\n  input: &quot;conv_2/biases/Variable/read&quot;\\n  attr {\\n    key: &quot;T&quot;\\n    value {\\n      type: DT_FLOAT\\n    }\\n  }\\n  attr {\\n    key: &quot;data_format&quot;\\n    value {\\n      s: &quot;NHWC&quot;\\n    }\\n  }\\n}\\nnode {\\n  name: &quot;conv_2/summaries/Const&quot;\\n  op: &quot;Const&quot;\\n  attr {\\n    key: &quot;dtype&quot;\\n    value {\\n      type: DT_INT32\\n    }\\n  }\\n  attr {\\n    key: &quot;value&quot;\\n    value {\\n      tensor {\\n        dtype: DT_INT32\\n        tensor_shape {\\n          dim {\\n            size: 4\\n          }\\n        }\\n        tensor_content: &quot;\\\\000\\\\000\\\\000\\\\000\\\\001\\\\000\\\\000\\\\000\\\\002\\\\000\\\\000\\\\000\\\\003\\\\000\\\\000\\\\000&quot;\\n      }\\n    }\\n  }\\n}\\nnode {\\n  name: &quot;conv_2/summaries/Mean&quot;\\n  op: &quot;Mean&quot;\\n  input: &quot;conv_2/BiasAdd&quot;\\n  input: &quot;conv_2/summaries/Const&quot;\\n  attr {\\n    key: &quot;T&quot;\\n    value {\\n      type: DT_FLOAT\\n    }\\n  }\\n  attr {\\n    key: &quot;Tidx&quot;\\n    value {\\n      type: DT_INT32\\n    }\\n  }\\n  attr {\\n    key: &quot;keep_dims&quot;\\n    value {\\n      b: false\\n    }\\n  }\\n}\\nnode {\\n  name: &quot;conv_2/summaries/mean_1/tags&quot;\\n  op: &quot;Const&quot;\\n  attr {\\n    key: &quot;dtype&quot;\\n    value {\\n      type: DT_STRING\\n    }\\n  }\\n  attr {\\n    key: &quot;value&quot;\\n    value {\\n      tensor {\\n        dtype: DT_STRING\\n        tensor_shape {\\n        }\\n        string_val: &quot;conv_2/summaries/mean_1&quot;\\n      }\\n    }\\n  }\\n}\\nnode {\\n  name: &quot;conv_2/summaries/mean_1&quot;\\n  op: &quot;ScalarSummary&quot;\\n  input: &quot;conv_2/summaries/mean_1/tags&quot;\\n  input: &quot;conv_2/summaries/Mean&quot;\\n  attr {\\n    key: &quot;T&quot;\\n    value {\\n      type: DT_FLOAT\\n    }\\n  }\\n}\\nnode {\\n  name: &quot;conv_2/summaries/stddev/sub&quot;\\n  op: &quot;Sub&quot;\\n  input: &quot;conv_2/BiasAdd&quot;\\n  input: &quot;conv_2/summaries/Mean&quot;\\n  attr {\\n    key: &quot;T&quot;\\n    value {\\n      type: DT_FLOAT\\n    }\\n  }\\n}\\nnode {\\n  name: &quot;conv_2/summaries/stddev/Square&quot;\\n  op: &quot;Square&quot;\\n  input: &quot;conv_2/summaries/stddev/sub&quot;\\n  attr {\\n    key: &quot;T&quot;\\n    value {\\n      type: DT_FLOAT\\n    }\\n  }\\n}\\nnode {\\n  name: &quot;conv_2/summaries/stddev/Const&quot;\\n  op: &quot;Const&quot;\\n  attr {\\n    key: &quot;dtype&quot;\\n    value {\\n      type: DT_INT32\\n    }\\n  }\\n  attr {\\n    key: &quot;value&quot;\\n    value {\\n      tensor {\\n        dtype: DT_INT32\\n        tensor_shape {\\n          dim {\\n            size: 4\\n          }\\n        }\\n        tensor_content: &quot;\\\\000\\\\000\\\\000\\\\000\\\\001\\\\000\\\\000\\\\000\\\\002\\\\000\\\\000\\\\000\\\\003\\\\000\\\\000\\\\000&quot;\\n      }\\n    }\\n  }\\n}\\nnode {\\n  name: &quot;conv_2/summaries/stddev/Mean&quot;\\n  op: &quot;Mean&quot;\\n  input: &quot;conv_2/summaries/stddev/Square&quot;\\n  input: &quot;conv_2/summaries/stddev/Const&quot;\\n  attr {\\n    key: &quot;T&quot;\\n    value {\\n      type: DT_FLOAT\\n    }\\n  }\\n  attr {\\n    key: &quot;Tidx&quot;\\n    value {\\n      type: DT_INT32\\n    }\\n  }\\n  attr {\\n    key: &quot;keep_dims&quot;\\n    value {\\n      b: false\\n    }\\n  }\\n}\\nnode {\\n  name: &quot;conv_2/summaries/stddev/Sqrt&quot;\\n  op: &quot;Sqrt&quot;\\n  input: &quot;conv_2/summaries/stddev/Mean&quot;\\n  attr {\\n    key: &quot;T&quot;\\n    value {\\n      type: DT_FLOAT\\n    }\\n  }\\n}\\nnode {\\n  name: &quot;conv_2/summaries/stddev_1/tags&quot;\\n  op: &quot;Const&quot;\\n  attr {\\n    key: &quot;dtype&quot;\\n    value {\\n      type: DT_STRING\\n    }\\n  }\\n  attr {\\n    key: &quot;value&quot;\\n    value {\\n      tensor {\\n        dtype: DT_STRING\\n        tensor_shape {\\n        }\\n        string_val: &quot;conv_2/summaries/stddev_1&quot;\\n      }\\n    }\\n  }\\n}\\nnode {\\n  name: &quot;conv_2/summaries/stddev_1&quot;\\n  op: &quot;ScalarSummary&quot;\\n  input: &quot;conv_2/summaries/stddev_1/tags&quot;\\n  input: &quot;conv_2/summaries/stddev/Sqrt&quot;\\n  attr {\\n    key: &quot;T&quot;\\n    value {\\n      type: DT_FLOAT\\n    }\\n  }\\n}\\nnode {\\n  name: &quot;conv_2/summaries/Const_1&quot;\\n  op: &quot;Const&quot;\\n  attr {\\n    key: &quot;dtype&quot;\\n    value {\\n      type: DT_INT32\\n    }\\n  }\\n  attr {\\n    key: &quot;value&quot;\\n    value {\\n      tensor {\\n        dtype: DT_INT32\\n        tensor_shape {\\n          dim {\\n            size: 4\\n          }\\n        }\\n        tensor_content: &quot;\\\\000\\\\000\\\\000\\\\000\\\\001\\\\000\\\\000\\\\000\\\\002\\\\000\\\\000\\\\000\\\\003\\\\000\\\\000\\\\000&quot;\\n      }\\n    }\\n  }\\n}\\nnode {\\n  name: &quot;conv_2/summaries/Max&quot;\\n  op: &quot;Max&quot;\\n  input: &quot;conv_2/BiasAdd&quot;\\n  input: &quot;conv_2/summaries/Const_1&quot;\\n  attr {\\n    key: &quot;T&quot;\\n    value {\\n      type: DT_FLOAT\\n    }\\n  }\\n  attr {\\n    key: &quot;Tidx&quot;\\n    value {\\n      type: DT_INT32\\n    }\\n  }\\n  attr {\\n    key: &quot;keep_dims&quot;\\n    value {\\n      b: false\\n    }\\n  }\\n}\\nnode {\\n  name: &quot;conv_2/summaries/max_1/tags&quot;\\n  op: &quot;Const&quot;\\n  attr {\\n    key: &quot;dtype&quot;\\n    value {\\n      type: DT_STRING\\n    }\\n  }\\n  attr {\\n    key: &quot;value&quot;\\n    value {\\n      tensor {\\n        dtype: DT_STRING\\n        tensor_shape {\\n        }\\n        string_val: &quot;conv_2/summaries/max_1&quot;\\n      }\\n    }\\n  }\\n}\\nnode {\\n  name: &quot;conv_2/summaries/max_1&quot;\\n  op: &quot;ScalarSummary&quot;\\n  input: &quot;conv_2/summaries/max_1/tags&quot;\\n  input: &quot;conv_2/summaries/Max&quot;\\n  attr {\\n    key: &quot;T&quot;\\n    value {\\n      type: DT_FLOAT\\n    }\\n  }\\n}\\nnode {\\n  name: &quot;conv_2/summaries/Const_2&quot;\\n  op: &quot;Const&quot;\\n  attr {\\n    key: &quot;dtype&quot;\\n    value {\\n      type: DT_INT32\\n    }\\n  }\\n  attr {\\n    key: &quot;value&quot;\\n    value {\\n      tensor {\\n        dtype: DT_INT32\\n        tensor_shape {\\n          dim {\\n            size: 4\\n          }\\n        }\\n        tensor_content: &quot;\\\\000\\\\000\\\\000\\\\000\\\\001\\\\000\\\\000\\\\000\\\\002\\\\000\\\\000\\\\000\\\\003\\\\000\\\\000\\\\000&quot;\\n      }\\n    }\\n  }\\n}\\nnode {\\n  name: &quot;conv_2/summaries/Min&quot;\\n  op: &quot;Min&quot;\\n  input: &quot;conv_2/BiasAdd&quot;\\n  input: &quot;conv_2/summaries/Const_2&quot;\\n  attr {\\n    key: &quot;T&quot;\\n    value {\\n      type: DT_FLOAT\\n    }\\n  }\\n  attr {\\n    key: &quot;Tidx&quot;\\n    value {\\n      type: DT_INT32\\n    }\\n  }\\n  attr {\\n    key: &quot;keep_dims&quot;\\n    value {\\n      b: false\\n    }\\n  }\\n}\\nnode {\\n  name: &quot;conv_2/summaries/min_1/tags&quot;\\n  op: &quot;Const&quot;\\n  attr {\\n    key: &quot;dtype&quot;\\n    value {\\n      type: DT_STRING\\n    }\\n  }\\n  attr {\\n    key: &quot;value&quot;\\n    value {\\n      tensor {\\n        dtype: DT_STRING\\n        tensor_shape {\\n        }\\n        string_val: &quot;conv_2/summaries/min_1&quot;\\n      }\\n    }\\n  }\\n}\\nnode {\\n  name: &quot;conv_2/summaries/min_1&quot;\\n  op: &quot;ScalarSummary&quot;\\n  input: &quot;conv_2/summaries/min_1/tags&quot;\\n  input: &quot;conv_2/summaries/Min&quot;\\n  attr {\\n    key: &quot;T&quot;\\n    value {\\n      type: DT_FLOAT\\n    }\\n  }\\n}\\nnode {\\n  name: &quot;conv_2/summaries/histogram/tag&quot;\\n  op: &quot;Const&quot;\\n  attr {\\n    key: &quot;dtype&quot;\\n    value {\\n      type: DT_STRING\\n    }\\n  }\\n  attr {\\n    key: &quot;value&quot;\\n    value {\\n      tensor {\\n        dtype: DT_STRING\\n        tensor_shape {\\n        }\\n        string_val: &quot;conv_2/summaries/histogram&quot;\\n      }\\n    }\\n  }\\n}\\nnode {\\n  name: &quot;conv_2/summaries/histogram&quot;\\n  op: &quot;HistogramSummary&quot;\\n  input: &quot;conv_2/summaries/histogram/tag&quot;\\n  input: &quot;conv_2/BiasAdd&quot;\\n  attr {\\n    key: &quot;T&quot;\\n    value {\\n      type: DT_FLOAT\\n    }\\n  }\\n}\\nnode {\\n  name: &quot;conv_relu_2/Relu&quot;\\n  op: &quot;Relu&quot;\\n  input: &quot;conv_2/BiasAdd&quot;\\n  attr {\\n    key: &quot;T&quot;\\n    value {\\n      type: DT_FLOAT\\n    }\\n  }\\n}\\nnode {\\n  name: &quot;pool_2/2&quot;\\n  op: &quot;MaxPool&quot;\\n  input: &quot;conv_relu_2/Relu&quot;\\n  attr {\\n    key: &quot;T&quot;\\n    value {\\n      type: DT_FLOAT\\n    }\\n  }\\n  attr {\\n    key: &quot;data_format&quot;\\n    value {\\n      s: &quot;NHWC&quot;\\n    }\\n  }\\n  attr {\\n    key: &quot;ksize&quot;\\n    value {\\n      list {\\n        i: 1\\n        i: 2\\n        i: 2\\n        i: 1\\n      }\\n    }\\n  }\\n  attr {\\n    key: &quot;padding&quot;\\n    value {\\n      s: &quot;SAME&quot;\\n    }\\n  }\\n  attr {\\n    key: &quot;strides&quot;\\n    value {\\n      list {\\n        i: 1\\n        i: 2\\n        i: 2\\n        i: 1\\n      }\\n    }\\n  }\\n}\\nnode {\\n  name: &quot;pool_2/summaries/Const&quot;\\n  op: &quot;Const&quot;\\n  attr {\\n    key: &quot;dtype&quot;\\n    value {\\n      type: DT_INT32\\n    }\\n  }\\n  attr {\\n    key: &quot;value&quot;\\n    value {\\n      tensor {\\n        dtype: DT_INT32\\n        tensor_shape {\\n          dim {\\n            size: 4\\n          }\\n        }\\n        tensor_content: &quot;\\\\000\\\\000\\\\000\\\\000\\\\001\\\\000\\\\000\\\\000\\\\002\\\\000\\\\000\\\\000\\\\003\\\\000\\\\000\\\\000&quot;\\n      }\\n    }\\n  }\\n}\\nnode {\\n  name: &quot;pool_2/summaries/Mean&quot;\\n  op: &quot;Mean&quot;\\n  input: &quot;pool_2/2&quot;\\n  input: &quot;pool_2/summaries/Const&quot;\\n  attr {\\n    key: &quot;T&quot;\\n    value {\\n      type: DT_FLOAT\\n    }\\n  }\\n  attr {\\n    key: &quot;Tidx&quot;\\n    value {\\n      type: DT_INT32\\n    }\\n  }\\n  attr {\\n    key: &quot;keep_dims&quot;\\n    value {\\n      b: false\\n    }\\n  }\\n}\\nnode {\\n  name: &quot;pool_2/summaries/mean_1/tags&quot;\\n  op: &quot;Const&quot;\\n  attr {\\n    key: &quot;dtype&quot;\\n    value {\\n      type: DT_STRING\\n    }\\n  }\\n  attr {\\n    key: &quot;value&quot;\\n    value {\\n      tensor {\\n        dtype: DT_STRING\\n        tensor_shape {\\n        }\\n        string_val: &quot;pool_2/summaries/mean_1&quot;\\n      }\\n    }\\n  }\\n}\\nnode {\\n  name: &quot;pool_2/summaries/mean_1&quot;\\n  op: &quot;ScalarSummary&quot;\\n  input: &quot;pool_2/summaries/mean_1/tags&quot;\\n  input: &quot;pool_2/summaries/Mean&quot;\\n  attr {\\n    key: &quot;T&quot;\\n    value {\\n      type: DT_FLOAT\\n    }\\n  }\\n}\\nnode {\\n  name: &quot;pool_2/summaries/stddev/sub&quot;\\n  op: &quot;Sub&quot;\\n  input: &quot;pool_2/2&quot;\\n  input: &quot;pool_2/summaries/Mean&quot;\\n  attr {\\n    key: &quot;T&quot;\\n    value {\\n      type: DT_FLOAT\\n    }\\n  }\\n}\\nnode {\\n  name: &quot;pool_2/summaries/stddev/Square&quot;\\n  op: &quot;Square&quot;\\n  input: &quot;pool_2/summaries/stddev/sub&quot;\\n  attr {\\n    key: &quot;T&quot;\\n    value {\\n      type: DT_FLOAT\\n    }\\n  }\\n}\\nnode {\\n  name: &quot;pool_2/summaries/stddev/Const&quot;\\n  op: &quot;Const&quot;\\n  attr {\\n    key: &quot;dtype&quot;\\n    value {\\n      type: DT_INT32\\n    }\\n  }\\n  attr {\\n    key: &quot;value&quot;\\n    value {\\n      tensor {\\n        dtype: DT_INT32\\n        tensor_shape {\\n          dim {\\n            size: 4\\n          }\\n        }\\n        tensor_content: &quot;\\\\000\\\\000\\\\000\\\\000\\\\001\\\\000\\\\000\\\\000\\\\002\\\\000\\\\000\\\\000\\\\003\\\\000\\\\000\\\\000&quot;\\n      }\\n    }\\n  }\\n}\\nnode {\\n  name: &quot;pool_2/summaries/stddev/Mean&quot;\\n  op: &quot;Mean&quot;\\n  input: &quot;pool_2/summaries/stddev/Square&quot;\\n  input: &quot;pool_2/summaries/stddev/Const&quot;\\n  attr {\\n    key: &quot;T&quot;\\n    value {\\n      type: DT_FLOAT\\n    }\\n  }\\n  attr {\\n    key: &quot;Tidx&quot;\\n    value {\\n      type: DT_INT32\\n    }\\n  }\\n  attr {\\n    key: &quot;keep_dims&quot;\\n    value {\\n      b: false\\n    }\\n  }\\n}\\nnode {\\n  name: &quot;pool_2/summaries/stddev/Sqrt&quot;\\n  op: &quot;Sqrt&quot;\\n  input: &quot;pool_2/summaries/stddev/Mean&quot;\\n  attr {\\n    key: &quot;T&quot;\\n    value {\\n      type: DT_FLOAT\\n    }\\n  }\\n}\\nnode {\\n  name: &quot;pool_2/summaries/stddev_1/tags&quot;\\n  op: &quot;Const&quot;\\n  attr {\\n    key: &quot;dtype&quot;\\n    value {\\n      type: DT_STRING\\n    }\\n  }\\n  attr {\\n    key: &quot;value&quot;\\n    value {\\n      tensor {\\n        dtype: DT_STRING\\n        tensor_shape {\\n        }\\n        string_val: &quot;pool_2/summaries/stddev_1&quot;\\n      }\\n    }\\n  }\\n}\\nnode {\\n  name: &quot;pool_2/summaries/stddev_1&quot;\\n  op: &quot;ScalarSummary&quot;\\n  input: &quot;pool_2/summaries/stddev_1/tags&quot;\\n  input: &quot;pool_2/summaries/stddev/Sqrt&quot;\\n  attr {\\n    key: &quot;T&quot;\\n    value {\\n      type: DT_FLOAT\\n    }\\n  }\\n}\\nnode {\\n  name: &quot;pool_2/summaries/Const_1&quot;\\n  op: &quot;Const&quot;\\n  attr {\\n    key: &quot;dtype&quot;\\n    value {\\n      type: DT_INT32\\n    }\\n  }\\n  attr {\\n    key: &quot;value&quot;\\n    value {\\n      tensor {\\n        dtype: DT_INT32\\n        tensor_shape {\\n          dim {\\n            size: 4\\n          }\\n        }\\n        tensor_content: &quot;\\\\000\\\\000\\\\000\\\\000\\\\001\\\\000\\\\000\\\\000\\\\002\\\\000\\\\000\\\\000\\\\003\\\\000\\\\000\\\\000&quot;\\n      }\\n    }\\n  }\\n}\\nnode {\\n  name: &quot;pool_2/summaries/Max&quot;\\n  op: &quot;Max&quot;\\n  input: &quot;pool_2/2&quot;\\n  input: &quot;pool_2/summaries/Const_1&quot;\\n  attr {\\n    key: &quot;T&quot;\\n    value {\\n      type: DT_FLOAT\\n    }\\n  }\\n  attr {\\n    key: &quot;Tidx&quot;\\n    value {\\n      type: DT_INT32\\n    }\\n  }\\n  attr {\\n    key: &quot;keep_dims&quot;\\n    value {\\n      b: false\\n    }\\n  }\\n}\\nnode {\\n  name: &quot;pool_2/summaries/max_1/tags&quot;\\n  op: &quot;Const&quot;\\n  attr {\\n    key: &quot;dtype&quot;\\n    value {\\n      type: DT_STRING\\n    }\\n  }\\n  attr {\\n    key: &quot;value&quot;\\n    value {\\n      tensor {\\n        dtype: DT_STRING\\n        tensor_shape {\\n        }\\n        string_val: &quot;pool_2/summaries/max_1&quot;\\n      }\\n    }\\n  }\\n}\\nnode {\\n  name: &quot;pool_2/summaries/max_1&quot;\\n  op: &quot;ScalarSummary&quot;\\n  input: &quot;pool_2/summaries/max_1/tags&quot;\\n  input: &quot;pool_2/summaries/Max&quot;\\n  attr {\\n    key: &quot;T&quot;\\n    value {\\n      type: DT_FLOAT\\n    }\\n  }\\n}\\nnode {\\n  name: &quot;pool_2/summaries/Const_2&quot;\\n  op: &quot;Const&quot;\\n  attr {\\n    key: &quot;dtype&quot;\\n    value {\\n      type: DT_INT32\\n    }\\n  }\\n  attr {\\n    key: &quot;value&quot;\\n    value {\\n      tensor {\\n        dtype: DT_INT32\\n        tensor_shape {\\n          dim {\\n            size: 4\\n          }\\n        }\\n        tensor_content: &quot;\\\\000\\\\000\\\\000\\\\000\\\\001\\\\000\\\\000\\\\000\\\\002\\\\000\\\\000\\\\000\\\\003\\\\000\\\\000\\\\000&quot;\\n      }\\n    }\\n  }\\n}\\nnode {\\n  name: &quot;pool_2/summaries/Min&quot;\\n  op: &quot;Min&quot;\\n  input: &quot;pool_2/2&quot;\\n  input: &quot;pool_2/summaries/Const_2&quot;\\n  attr {\\n    key: &quot;T&quot;\\n    value {\\n      type: DT_FLOAT\\n    }\\n  }\\n  attr {\\n    key: &quot;Tidx&quot;\\n    value {\\n      type: DT_INT32\\n    }\\n  }\\n  attr {\\n    key: &quot;keep_dims&quot;\\n    value {\\n      b: false\\n    }\\n  }\\n}\\nnode {\\n  name: &quot;pool_2/summaries/min_1/tags&quot;\\n  op: &quot;Const&quot;\\n  attr {\\n    key: &quot;dtype&quot;\\n    value {\\n      type: DT_STRING\\n    }\\n  }\\n  attr {\\n    key: &quot;value&quot;\\n    value {\\n      tensor {\\n        dtype: DT_STRING\\n        tensor_shape {\\n        }\\n        string_val: &quot;pool_2/summaries/min_1&quot;\\n      }\\n    }\\n  }\\n}\\nnode {\\n  name: &quot;pool_2/summaries/min_1&quot;\\n  op: &quot;ScalarSummary&quot;\\n  input: &quot;pool_2/summaries/min_1/tags&quot;\\n  input: &quot;pool_2/summaries/Min&quot;\\n  attr {\\n    key: &quot;T&quot;\\n    value {\\n      type: DT_FLOAT\\n    }\\n  }\\n}\\nnode {\\n  name: &quot;pool_2/summaries/histogram/tag&quot;\\n  op: &quot;Const&quot;\\n  attr {\\n    key: &quot;dtype&quot;\\n    value {\\n      type: DT_STRING\\n    }\\n  }\\n  attr {\\n    key: &quot;value&quot;\\n    value {\\n      tensor {\\n        dtype: DT_STRING\\n        tensor_shape {\\n        }\\n        string_val: &quot;pool_2/summaries/histogram&quot;\\n      }\\n    }\\n  }\\n}\\nnode {\\n  name: &quot;pool_2/summaries/histogram&quot;\\n  op: &quot;HistogramSummary&quot;\\n  input: &quot;pool_2/summaries/histogram/tag&quot;\\n  input: &quot;pool_2/2&quot;\\n  attr {\\n    key: &quot;T&quot;\\n    value {\\n      type: DT_FLOAT\\n    }\\n  }\\n}\\nnode {\\n  name: &quot;pool2_flat/Reshape/shape&quot;\\n  op: &quot;Const&quot;\\n  attr {\\n    key: &quot;dtype&quot;\\n    value {\\n      type: DT_INT32\\n    }\\n  }\\n  attr {\\n    key: &quot;value&quot;\\n    value {\\n      tensor {\\n        dtype: DT_INT32\\n        tensor_shape {\\n          dim {\\n            size: 2\\n          }\\n        }\\n        tensor_content: &quot;\\\\377\\\\377\\\\377\\\\377@\\\\014\\\\000\\\\000&quot;\\n      }\\n    }\\n  }\\n}\\nnode {\\n  name: &quot;pool2_flat/Reshape&quot;\\n  op: &quot;Reshape&quot;\\n  input: &quot;pool_2/2&quot;\\n  input: &quot;pool2_flat/Reshape/shape&quot;\\n  attr {\\n    key: &quot;T&quot;\\n    value {\\n      type: DT_FLOAT\\n    }\\n  }\\n  attr {\\n    key: &quot;Tshape&quot;\\n    value {\\n      type: DT_INT32\\n    }\\n  }\\n}\\nnode {\\n  name: &quot;fc_1/weights/truncated_normal/shape&quot;\\n  op: &quot;Const&quot;\\n  attr {\\n    key: &quot;dtype&quot;\\n    value {\\n      type: DT_INT32\\n    }\\n  }\\n  attr {\\n    key: &quot;value&quot;\\n    value {\\n      tensor {\\n        dtype: DT_INT32\\n        tensor_shape {\\n          dim {\\n            size: 2\\n          }\\n        }\\n        tensor_content: &quot;@\\\\014\\\\000\\\\000\\\\000\\\\004\\\\000\\\\000&quot;\\n      }\\n    }\\n  }\\n}\\nnode {\\n  name: &quot;fc_1/weights/truncated_normal/mean&quot;\\n  op: &quot;Const&quot;\\n  attr {\\n    key: &quot;dtype&quot;\\n    value {\\n      type: DT_FLOAT\\n    }\\n  }\\n  attr {\\n    key: &quot;value&quot;\\n    value {\\n      tensor {\\n        dtype: DT_FLOAT\\n        tensor_shape {\\n        }\\n        float_val: 0.0\\n      }\\n    }\\n  }\\n}\\nnode {\\n  name: &quot;fc_1/weights/truncated_normal/stddev&quot;\\n  op: &quot;Const&quot;\\n  attr {\\n    key: &quot;dtype&quot;\\n    value {\\n      type: DT_FLOAT\\n    }\\n  }\\n  attr {\\n    key: &quot;value&quot;\\n    value {\\n      tensor {\\n        dtype: DT_FLOAT\\n        tensor_shape {\\n        }\\n        float_val: 0.009999999776482582\\n      }\\n    }\\n  }\\n}\\nnode {\\n  name: &quot;fc_1/weights/truncated_normal/TruncatedNormal&quot;\\n  op: &quot;TruncatedNormal&quot;\\n  input: &quot;fc_1/weights/truncated_normal/shape&quot;\\n  attr {\\n    key: &quot;T&quot;\\n    value {\\n      type: DT_INT32\\n    }\\n  }\\n  attr {\\n    key: &quot;dtype&quot;\\n    value {\\n      type: DT_FLOAT\\n    }\\n  }\\n  attr {\\n    key: &quot;seed&quot;\\n    value {\\n      i: 0\\n    }\\n  }\\n  attr {\\n    key: &quot;seed2&quot;\\n    value {\\n      i: 0\\n    }\\n  }\\n}\\nnode {\\n  name: &quot;fc_1/weights/truncated_normal/mul&quot;\\n  op: &quot;Mul&quot;\\n  input: &quot;fc_1/weights/truncated_normal/TruncatedNormal&quot;\\n  input: &quot;fc_1/weights/truncated_normal/stddev&quot;\\n  attr {\\n    key: &quot;T&quot;\\n    value {\\n      type: DT_FLOAT\\n    }\\n  }\\n}\\nnode {\\n  name: &quot;fc_1/weights/truncated_normal&quot;\\n  op: &quot;Add&quot;\\n  input: &quot;fc_1/weights/truncated_normal/mul&quot;\\n  input: &quot;fc_1/weights/truncated_normal/mean&quot;\\n  attr {\\n    key: &quot;T&quot;\\n    value {\\n      type: DT_FLOAT\\n    }\\n  }\\n}\\nnode {\\n  name: &quot;fc_1/weights/Variable&quot;\\n  op: &quot;VariableV2&quot;\\n  attr {\\n    key: &quot;container&quot;\\n    value {\\n      s: &quot;&quot;\\n    }\\n  }\\n  attr {\\n    key: &quot;dtype&quot;\\n    value {\\n      type: DT_FLOAT\\n    }\\n  }\\n  attr {\\n    key: &quot;shape&quot;\\n    value {\\n      shape {\\n        dim {\\n          size: 3136\\n        }\\n        dim {\\n          size: 1024\\n        }\\n      }\\n    }\\n  }\\n  attr {\\n    key: &quot;shared_name&quot;\\n    value {\\n      s: &quot;&quot;\\n    }\\n  }\\n}\\nnode {\\n  name: &quot;fc_1/weights/Variable/Assign&quot;\\n  op: &quot;Assign&quot;\\n  input: &quot;fc_1/weights/Variable&quot;\\n  input: &quot;fc_1/weights/truncated_normal&quot;\\n  attr {\\n    key: &quot;T&quot;\\n    value {\\n      type: DT_FLOAT\\n    }\\n  }\\n  attr {\\n    key: &quot;_class&quot;\\n    value {\\n      list {\\n        s: &quot;loc:@fc_1/weights/Variable&quot;\\n      }\\n    }\\n  }\\n  attr {\\n    key: &quot;use_locking&quot;\\n    value {\\n      b: true\\n    }\\n  }\\n  attr {\\n    key: &quot;validate_shape&quot;\\n    value {\\n      b: true\\n    }\\n  }\\n}\\nnode {\\n  name: &quot;fc_1/weights/Variable/read&quot;\\n  op: &quot;Identity&quot;\\n  input: &quot;fc_1/weights/Variable&quot;\\n  attr {\\n    key: &quot;T&quot;\\n    value {\\n      type: DT_FLOAT\\n    }\\n  }\\n  attr {\\n    key: &quot;_class&quot;\\n    value {\\n      list {\\n        s: &quot;loc:@fc_1/weights/Variable&quot;\\n      }\\n    }\\n  }\\n}\\nnode {\\n  name: &quot;fc_1/biases/Const&quot;\\n  op: &quot;Const&quot;\\n  attr {\\n    key: &quot;dtype&quot;\\n    value {\\n      type: DT_FLOAT\\n    }\\n  }\\n  attr {\\n    key: &quot;value&quot;\\n    value {\\n      tensor {\\n        dtype: DT_FLOAT\\n        tensor_shape {\\n          dim {\\n            size: 1024\\n          }\\n        }\\n        float_val: 0.009999999776482582\\n      }\\n    }\\n  }\\n}\\nnode {\\n  name: &quot;fc_1/biases/Variable&quot;\\n  op: &quot;VariableV2&quot;\\n  attr {\\n    key: &quot;container&quot;\\n    value {\\n      s: &quot;&quot;\\n    }\\n  }\\n  attr {\\n    key: &quot;dtype&quot;\\n    value {\\n      type: DT_FLOAT\\n    }\\n  }\\n  attr {\\n    key: &quot;shape&quot;\\n    value {\\n      shape {\\n        dim {\\n          size: 1024\\n        }\\n      }\\n    }\\n  }\\n  attr {\\n    key: &quot;shared_name&quot;\\n    value {\\n      s: &quot;&quot;\\n    }\\n  }\\n}\\nnode {\\n  name: &quot;fc_1/biases/Variable/Assign&quot;\\n  op: &quot;Assign&quot;\\n  input: &quot;fc_1/biases/Variable&quot;\\n  input: &quot;fc_1/biases/Const&quot;\\n  attr {\\n    key: &quot;T&quot;\\n    value {\\n      type: DT_FLOAT\\n    }\\n  }\\n  attr {\\n    key: &quot;_class&quot;\\n    value {\\n      list {\\n        s: &quot;loc:@fc_1/biases/Variable&quot;\\n      }\\n    }\\n  }\\n  attr {\\n    key: &quot;use_locking&quot;\\n    value {\\n      b: true\\n    }\\n  }\\n  attr {\\n    key: &quot;validate_shape&quot;\\n    value {\\n      b: true\\n    }\\n  }\\n}\\nnode {\\n  name: &quot;fc_1/biases/Variable/read&quot;\\n  op: &quot;Identity&quot;\\n  input: &quot;fc_1/biases/Variable&quot;\\n  attr {\\n    key: &quot;T&quot;\\n    value {\\n      type: DT_FLOAT\\n    }\\n  }\\n  attr {\\n    key: &quot;_class&quot;\\n    value {\\n      list {\\n        s: &quot;loc:@fc_1/biases/Variable&quot;\\n      }\\n    }\\n  }\\n}\\nnode {\\n  name: &quot;fc_1/MatMul&quot;\\n  op: &quot;MatMul&quot;\\n  input: &quot;pool2_flat/Reshape&quot;\\n  input: &quot;fc_1/weights/Variable/read&quot;\\n  attr {\\n    key: &quot;T&quot;\\n    value {\\n      type: DT_FLOAT\\n    }\\n  }\\n  attr {\\n    key: &quot;transpose_a&quot;\\n    value {\\n      b: false\\n    }\\n  }\\n  attr {\\n    key: &quot;transpose_b&quot;\\n    value {\\n      b: false\\n    }\\n  }\\n}\\nnode {\\n  name: &quot;fc_1/BiasAdd&quot;\\n  op: &quot;BiasAdd&quot;\\n  input: &quot;fc_1/MatMul&quot;\\n  input: &quot;fc_1/biases/Variable/read&quot;\\n  attr {\\n    key: &quot;T&quot;\\n    value {\\n      type: DT_FLOAT\\n    }\\n  }\\n  attr {\\n    key: &quot;data_format&quot;\\n    value {\\n      s: &quot;NHWC&quot;\\n    }\\n  }\\n}\\nnode {\\n  name: &quot;fc_relu_1/Relu&quot;\\n  op: &quot;Relu&quot;\\n  input: &quot;fc_1/BiasAdd&quot;\\n  attr {\\n    key: &quot;T&quot;\\n    value {\\n      type: DT_FLOAT\\n    }\\n  }\\n}\\nnode {\\n  name: &quot;dropout_fc1/dropout/Shape&quot;\\n  op: &quot;Shape&quot;\\n  input: &quot;fc_relu_1/Relu&quot;\\n  attr {\\n    key: &quot;T&quot;\\n    value {\\n      type: DT_FLOAT\\n    }\\n  }\\n  attr {\\n    key: &quot;out_type&quot;\\n    value {\\n      type: DT_INT32\\n    }\\n  }\\n}\\nnode {\\n  name: &quot;dropout_fc1/dropout/random_uniform/min&quot;\\n  op: &quot;Const&quot;\\n  attr {\\n    key: &quot;dtype&quot;\\n    value {\\n      type: DT_FLOAT\\n    }\\n  }\\n  attr {\\n    key: &quot;value&quot;\\n    value {\\n      tensor {\\n        dtype: DT_FLOAT\\n        tensor_shape {\\n        }\\n        float_val: 0.0\\n      }\\n    }\\n  }\\n}\\nnode {\\n  name: &quot;dropout_fc1/dropout/random_uniform/max&quot;\\n  op: &quot;Const&quot;\\n  attr {\\n    key: &quot;dtype&quot;\\n    value {\\n      type: DT_FLOAT\\n    }\\n  }\\n  attr {\\n    key: &quot;value&quot;\\n    value {\\n      tensor {\\n        dtype: DT_FLOAT\\n        tensor_shape {\\n        }\\n        float_val: 1.0\\n      }\\n    }\\n  }\\n}\\nnode {\\n  name: &quot;dropout_fc1/dropout/random_uniform/RandomUniform&quot;\\n  op: &quot;RandomUniform&quot;\\n  input: &quot;dropout_fc1/dropout/Shape&quot;\\n  attr {\\n    key: &quot;T&quot;\\n    value {\\n      type: DT_INT32\\n    }\\n  }\\n  attr {\\n    key: &quot;dtype&quot;\\n    value {\\n      type: DT_FLOAT\\n    }\\n  }\\n  attr {\\n    key: &quot;seed&quot;\\n    value {\\n      i: 0\\n    }\\n  }\\n  attr {\\n    key: &quot;seed2&quot;\\n    value {\\n      i: 0\\n    }\\n  }\\n}\\nnode {\\n  name: &quot;dropout_fc1/dropout/random_uniform/sub&quot;\\n  op: &quot;Sub&quot;\\n  input: &quot;dropout_fc1/dropout/random_uniform/max&quot;\\n  input: &quot;dropout_fc1/dropout/random_uniform/min&quot;\\n  attr {\\n    key: &quot;T&quot;\\n    value {\\n      type: DT_FLOAT\\n    }\\n  }\\n}\\nnode {\\n  name: &quot;dropout_fc1/dropout/random_uniform/mul&quot;\\n  op: &quot;Mul&quot;\\n  input: &quot;dropout_fc1/dropout/random_uniform/RandomUniform&quot;\\n  input: &quot;dropout_fc1/dropout/random_uniform/sub&quot;\\n  attr {\\n    key: &quot;T&quot;\\n    value {\\n      type: DT_FLOAT\\n    }\\n  }\\n}\\nnode {\\n  name: &quot;dropout_fc1/dropout/random_uniform&quot;\\n  op: &quot;Add&quot;\\n  input: &quot;dropout_fc1/dropout/random_uniform/mul&quot;\\n  input: &quot;dropout_fc1/dropout/random_uniform/min&quot;\\n  attr {\\n    key: &quot;T&quot;\\n    value {\\n      type: DT_FLOAT\\n    }\\n  }\\n}\\nnode {\\n  name: &quot;dropout_fc1/dropout/add&quot;\\n  op: &quot;Add&quot;\\n  input: &quot;input/Placeholder&quot;\\n  input: &quot;dropout_fc1/dropout/random_uniform&quot;\\n  attr {\\n    key: &quot;T&quot;\\n    value {\\n      type: DT_FLOAT\\n    }\\n  }\\n}\\nnode {\\n  name: &quot;dropout_fc1/dropout/Floor&quot;\\n  op: &quot;Floor&quot;\\n  input: &quot;dropout_fc1/dropout/add&quot;\\n  attr {\\n    key: &quot;T&quot;\\n    value {\\n      type: DT_FLOAT\\n    }\\n  }\\n}\\nnode {\\n  name: &quot;dropout_fc1/dropout/div&quot;\\n  op: &quot;RealDiv&quot;\\n  input: &quot;fc_relu_1/Relu&quot;\\n  input: &quot;input/Placeholder&quot;\\n  attr {\\n    key: &quot;T&quot;\\n    value {\\n      type: DT_FLOAT\\n    }\\n  }\\n}\\nnode {\\n  name: &quot;dropout_fc1/dropout/mul&quot;\\n  op: &quot;Mul&quot;\\n  input: &quot;dropout_fc1/dropout/div&quot;\\n  input: &quot;dropout_fc1/dropout/Floor&quot;\\n  attr {\\n    key: &quot;T&quot;\\n    value {\\n      type: DT_FLOAT\\n    }\\n  }\\n}\\nnode {\\n  name: &quot;fc_2/weights/truncated_normal/shape&quot;\\n  op: &quot;Const&quot;\\n  attr {\\n    key: &quot;dtype&quot;\\n    value {\\n      type: DT_INT32\\n    }\\n  }\\n  attr {\\n    key: &quot;value&quot;\\n    value {\\n      tensor {\\n        dtype: DT_INT32\\n        tensor_shape {\\n          dim {\\n            size: 2\\n          }\\n        }\\n        tensor_content: &quot;\\\\000\\\\004\\\\000\\\\0001\\\\000\\\\000\\\\000&quot;\\n      }\\n    }\\n  }\\n}\\nnode {\\n  name: &quot;fc_2/weights/truncated_normal/mean&quot;\\n  op: &quot;Const&quot;\\n  attr {\\n    key: &quot;dtype&quot;\\n    value {\\n      type: DT_FLOAT\\n    }\\n  }\\n  attr {\\n    key: &quot;value&quot;\\n    value {\\n      tensor {\\n        dtype: DT_FLOAT\\n        tensor_shape {\\n        }\\n        float_val: 0.0\\n      }\\n    }\\n  }\\n}\\nnode {\\n  name: &quot;fc_2/weights/truncated_normal/stddev&quot;\\n  op: &quot;Const&quot;\\n  attr {\\n    key: &quot;dtype&quot;\\n    value {\\n      type: DT_FLOAT\\n    }\\n  }\\n  attr {\\n    key: &quot;value&quot;\\n    value {\\n      tensor {\\n        dtype: DT_FLOAT\\n        tensor_shape {\\n        }\\n        float_val: 0.009999999776482582\\n      }\\n    }\\n  }\\n}\\nnode {\\n  name: &quot;fc_2/weights/truncated_normal/TruncatedNormal&quot;\\n  op: &quot;TruncatedNormal&quot;\\n  input: &quot;fc_2/weights/truncated_normal/shape&quot;\\n  attr {\\n    key: &quot;T&quot;\\n    value {\\n      type: DT_INT32\\n    }\\n  }\\n  attr {\\n    key: &quot;dtype&quot;\\n    value {\\n      type: DT_FLOAT\\n    }\\n  }\\n  attr {\\n    key: &quot;seed&quot;\\n    value {\\n      i: 0\\n    }\\n  }\\n  attr {\\n    key: &quot;seed2&quot;\\n    value {\\n      i: 0\\n    }\\n  }\\n}\\nnode {\\n  name: &quot;fc_2/weights/truncated_normal/mul&quot;\\n  op: &quot;Mul&quot;\\n  input: &quot;fc_2/weights/truncated_normal/TruncatedNormal&quot;\\n  input: &quot;fc_2/weights/truncated_normal/stddev&quot;\\n  attr {\\n    key: &quot;T&quot;\\n    value {\\n      type: DT_FLOAT\\n    }\\n  }\\n}\\nnode {\\n  name: &quot;fc_2/weights/truncated_normal&quot;\\n  op: &quot;Add&quot;\\n  input: &quot;fc_2/weights/truncated_normal/mul&quot;\\n  input: &quot;fc_2/weights/truncated_normal/mean&quot;\\n  attr {\\n    key: &quot;T&quot;\\n    value {\\n      type: DT_FLOAT\\n    }\\n  }\\n}\\nnode {\\n  name: &quot;fc_2/weights/Variable&quot;\\n  op: &quot;VariableV2&quot;\\n  attr {\\n    key: &quot;container&quot;\\n    value {\\n      s: &quot;&quot;\\n    }\\n  }\\n  attr {\\n    key: &quot;dtype&quot;\\n    value {\\n      type: DT_FLOAT\\n    }\\n  }\\n  attr {\\n    key: &quot;shape&quot;\\n    value {\\n      shape {\\n        dim {\\n          size: 1024\\n        }\\n        dim {\\n          size: 49\\n        }\\n      }\\n    }\\n  }\\n  attr {\\n    key: &quot;shared_name&quot;\\n    value {\\n      s: &quot;&quot;\\n    }\\n  }\\n}\\nnode {\\n  name: &quot;fc_2/weights/Variable/Assign&quot;\\n  op: &quot;Assign&quot;\\n  input: &quot;fc_2/weights/Variable&quot;\\n  input: &quot;fc_2/weights/truncated_normal&quot;\\n  attr {\\n    key: &quot;T&quot;\\n    value {\\n      type: DT_FLOAT\\n    }\\n  }\\n  attr {\\n    key: &quot;_class&quot;\\n    value {\\n      list {\\n        s: &quot;loc:@fc_2/weights/Variable&quot;\\n      }\\n    }\\n  }\\n  attr {\\n    key: &quot;use_locking&quot;\\n    value {\\n      b: true\\n    }\\n  }\\n  attr {\\n    key: &quot;validate_shape&quot;\\n    value {\\n      b: true\\n    }\\n  }\\n}\\nnode {\\n  name: &quot;fc_2/weights/Variable/read&quot;\\n  op: &quot;Identity&quot;\\n  input: &quot;fc_2/weights/Variable&quot;\\n  attr {\\n    key: &quot;T&quot;\\n    value {\\n      type: DT_FLOAT\\n    }\\n  }\\n  attr {\\n    key: &quot;_class&quot;\\n    value {\\n      list {\\n        s: &quot;loc:@fc_2/weights/Variable&quot;\\n      }\\n    }\\n  }\\n}\\nnode {\\n  name: &quot;fc_2/biases/Const&quot;\\n  op: &quot;Const&quot;\\n  attr {\\n    key: &quot;dtype&quot;\\n    value {\\n      type: DT_FLOAT\\n    }\\n  }\\n  attr {\\n    key: &quot;value&quot;\\n    value {\\n      tensor {\\n        dtype: DT_FLOAT\\n        tensor_shape {\\n          dim {\\n            size: 49\\n          }\\n        }\\n        float_val: 0.009999999776482582\\n      }\\n    }\\n  }\\n}\\nnode {\\n  name: &quot;fc_2/biases/Variable&quot;\\n  op: &quot;VariableV2&quot;\\n  attr {\\n    key: &quot;container&quot;\\n    value {\\n      s: &quot;&quot;\\n    }\\n  }\\n  attr {\\n    key: &quot;dtype&quot;\\n    value {\\n      type: DT_FLOAT\\n    }\\n  }\\n  attr {\\n    key: &quot;shape&quot;\\n    value {\\n      shape {\\n        dim {\\n          size: 49\\n        }\\n      }\\n    }\\n  }\\n  attr {\\n    key: &quot;shared_name&quot;\\n    value {\\n      s: &quot;&quot;\\n    }\\n  }\\n}\\nnode {\\n  name: &quot;fc_2/biases/Variable/Assign&quot;\\n  op: &quot;Assign&quot;\\n  input: &quot;fc_2/biases/Variable&quot;\\n  input: &quot;fc_2/biases/Const&quot;\\n  attr {\\n    key: &quot;T&quot;\\n    value {\\n      type: DT_FLOAT\\n    }\\n  }\\n  attr {\\n    key: &quot;_class&quot;\\n    value {\\n      list {\\n        s: &quot;loc:@fc_2/biases/Variable&quot;\\n      }\\n    }\\n  }\\n  attr {\\n    key: &quot;use_locking&quot;\\n    value {\\n      b: true\\n    }\\n  }\\n  attr {\\n    key: &quot;validate_shape&quot;\\n    value {\\n      b: true\\n    }\\n  }\\n}\\nnode {\\n  name: &quot;fc_2/biases/Variable/read&quot;\\n  op: &quot;Identity&quot;\\n  input: &quot;fc_2/biases/Variable&quot;\\n  attr {\\n    key: &quot;T&quot;\\n    value {\\n      type: DT_FLOAT\\n    }\\n  }\\n  attr {\\n    key: &quot;_class&quot;\\n    value {\\n      list {\\n        s: &quot;loc:@fc_2/biases/Variable&quot;\\n      }\\n    }\\n  }\\n}\\nnode {\\n  name: &quot;fc_2/MatMul&quot;\\n  op: &quot;MatMul&quot;\\n  input: &quot;dropout_fc1/dropout/mul&quot;\\n  input: &quot;fc_2/weights/Variable/read&quot;\\n  attr {\\n    key: &quot;T&quot;\\n    value {\\n      type: DT_FLOAT\\n    }\\n  }\\n  attr {\\n    key: &quot;transpose_a&quot;\\n    value {\\n      b: false\\n    }\\n  }\\n  attr {\\n    key: &quot;transpose_b&quot;\\n    value {\\n      b: false\\n    }\\n  }\\n}\\nnode {\\n  name: &quot;fc_2/BiasAdd&quot;\\n  op: &quot;BiasAdd&quot;\\n  input: &quot;fc_2/MatMul&quot;\\n  input: &quot;fc_2/biases/Variable/read&quot;\\n  attr {\\n    key: &quot;T&quot;\\n    value {\\n      type: DT_FLOAT\\n    }\\n  }\\n  attr {\\n    key: &quot;data_format&quot;\\n    value {\\n      s: &quot;NHWC&quot;\\n    }\\n  }\\n}\\nnode {\\n  name: &quot;loss/softmax_cross_entropy_with_logits_sg/labels_stop_gradient&quot;\\n  op: &quot;StopGradient&quot;\\n  input: &quot;input/y-input&quot;\\n  attr {\\n    key: &quot;T&quot;\\n    value {\\n      type: DT_FLOAT\\n    }\\n  }\\n}\\nnode {\\n  name: &quot;loss/softmax_cross_entropy_with_logits_sg/Rank&quot;\\n  op: &quot;Const&quot;\\n  attr {\\n    key: &quot;dtype&quot;\\n    value {\\n      type: DT_INT32\\n    }\\n  }\\n  attr {\\n    key: &quot;value&quot;\\n    value {\\n      tensor {\\n        dtype: DT_INT32\\n        tensor_shape {\\n        }\\n        int_val: 2\\n      }\\n    }\\n  }\\n}\\nnode {\\n  name: &quot;loss/softmax_cross_entropy_with_logits_sg/Shape&quot;\\n  op: &quot;Shape&quot;\\n  input: &quot;fc_2/BiasAdd&quot;\\n  attr {\\n    key: &quot;T&quot;\\n    value {\\n      type: DT_FLOAT\\n    }\\n  }\\n  attr {\\n    key: &quot;out_type&quot;\\n    value {\\n      type: DT_INT32\\n    }\\n  }\\n}\\nnode {\\n  name: &quot;loss/softmax_cross_entropy_with_logits_sg/Rank_1&quot;\\n  op: &quot;Const&quot;\\n  attr {\\n    key: &quot;dtype&quot;\\n    value {\\n      type: DT_INT32\\n    }\\n  }\\n  attr {\\n    key: &quot;value&quot;\\n    value {\\n      tensor {\\n        dtype: DT_INT32\\n        tensor_shape {\\n        }\\n        int_val: 2\\n      }\\n    }\\n  }\\n}\\nnode {\\n  name: &quot;loss/softmax_cross_entropy_with_logits_sg/Shape_1&quot;\\n  op: &quot;Shape&quot;\\n  input: &quot;fc_2/BiasAdd&quot;\\n  attr {\\n    key: &quot;T&quot;\\n    value {\\n      type: DT_FLOAT\\n    }\\n  }\\n  attr {\\n    key: &quot;out_type&quot;\\n    value {\\n      type: DT_INT32\\n    }\\n  }\\n}\\nnode {\\n  name: &quot;loss/softmax_cross_entropy_with_logits_sg/Sub/y&quot;\\n  op: &quot;Const&quot;\\n  attr {\\n    key: &quot;dtype&quot;\\n    value {\\n      type: DT_INT32\\n    }\\n  }\\n  attr {\\n    key: &quot;value&quot;\\n    value {\\n      tensor {\\n        dtype: DT_INT32\\n        tensor_shape {\\n        }\\n        int_val: 1\\n      }\\n    }\\n  }\\n}\\nnode {\\n  name: &quot;loss/softmax_cross_entropy_with_logits_sg/Sub&quot;\\n  op: &quot;Sub&quot;\\n  input: &quot;loss/softmax_cross_entropy_with_logits_sg/Rank_1&quot;\\n  input: &quot;loss/softmax_cross_entropy_with_logits_sg/Sub/y&quot;\\n  attr {\\n    key: &quot;T&quot;\\n    value {\\n      type: DT_INT32\\n    }\\n  }\\n}\\nnode {\\n  name: &quot;loss/softmax_cross_entropy_with_logits_sg/Slice/begin&quot;\\n  op: &quot;Pack&quot;\\n  input: &quot;loss/softmax_cross_entropy_with_logits_sg/Sub&quot;\\n  attr {\\n    key: &quot;N&quot;\\n    value {\\n      i: 1\\n    }\\n  }\\n  attr {\\n    key: &quot;T&quot;\\n    value {\\n      type: DT_INT32\\n    }\\n  }\\n  attr {\\n    key: &quot;axis&quot;\\n    value {\\n      i: 0\\n    }\\n  }\\n}\\nnode {\\n  name: &quot;loss/softmax_cross_entropy_with_logits_sg/Slice/size&quot;\\n  op: &quot;Const&quot;\\n  attr {\\n    key: &quot;dtype&quot;\\n    value {\\n      type: DT_INT32\\n    }\\n  }\\n  attr {\\n    key: &quot;value&quot;\\n    value {\\n      tensor {\\n        dtype: DT_INT32\\n        tensor_shape {\\n          dim {\\n            size: 1\\n          }\\n        }\\n        int_val: 1\\n      }\\n    }\\n  }\\n}\\nnode {\\n  name: &quot;loss/softmax_cross_entropy_with_logits_sg/Slice&quot;\\n  op: &quot;Slice&quot;\\n  input: &quot;loss/softmax_cross_entropy_with_logits_sg/Shape_1&quot;\\n  input: &quot;loss/softmax_cross_entropy_with_logits_sg/Slice/begin&quot;\\n  input: &quot;loss/softmax_cross_entropy_with_logits_sg/Slice/size&quot;\\n  attr {\\n    key: &quot;Index&quot;\\n    value {\\n      type: DT_INT32\\n    }\\n  }\\n  attr {\\n    key: &quot;T&quot;\\n    value {\\n      type: DT_INT32\\n    }\\n  }\\n}\\nnode {\\n  name: &quot;loss/softmax_cross_entropy_with_logits_sg/concat/values_0&quot;\\n  op: &quot;Const&quot;\\n  attr {\\n    key: &quot;dtype&quot;\\n    value {\\n      type: DT_INT32\\n    }\\n  }\\n  attr {\\n    key: &quot;value&quot;\\n    value {\\n      tensor {\\n        dtype: DT_INT32\\n        tensor_shape {\\n          dim {\\n            size: 1\\n          }\\n        }\\n        int_val: -1\\n      }\\n    }\\n  }\\n}\\nnode {\\n  name: &quot;loss/softmax_cross_entropy_with_logits_sg/concat/axis&quot;\\n  op: &quot;Const&quot;\\n  attr {\\n    key: &quot;dtype&quot;\\n    value {\\n      type: DT_INT32\\n    }\\n  }\\n  attr {\\n    key: &quot;value&quot;\\n    value {\\n      tensor {\\n        dtype: DT_INT32\\n        tensor_shape {\\n        }\\n        int_val: 0\\n      }\\n    }\\n  }\\n}\\nnode {\\n  name: &quot;loss/softmax_cross_entropy_with_logits_sg/concat&quot;\\n  op: &quot;ConcatV2&quot;\\n  input: &quot;loss/softmax_cross_entropy_with_logits_sg/concat/values_0&quot;\\n  input: &quot;loss/softmax_cross_entropy_with_logits_sg/Slice&quot;\\n  input: &quot;loss/softmax_cross_entropy_with_logits_sg/concat/axis&quot;\\n  attr {\\n    key: &quot;N&quot;\\n    value {\\n      i: 2\\n    }\\n  }\\n  attr {\\n    key: &quot;T&quot;\\n    value {\\n      type: DT_INT32\\n    }\\n  }\\n  attr {\\n    key: &quot;Tidx&quot;\\n    value {\\n      type: DT_INT32\\n    }\\n  }\\n}\\nnode {\\n  name: &quot;loss/softmax_cross_entropy_with_logits_sg/Reshape&quot;\\n  op: &quot;Reshape&quot;\\n  input: &quot;fc_2/BiasAdd&quot;\\n  input: &quot;loss/softmax_cross_entropy_with_logits_sg/concat&quot;\\n  attr {\\n    key: &quot;T&quot;\\n    value {\\n      type: DT_FLOAT\\n    }\\n  }\\n  attr {\\n    key: &quot;Tshape&quot;\\n    value {\\n      type: DT_INT32\\n    }\\n  }\\n}\\nnode {\\n  name: &quot;loss/softmax_cross_entropy_with_logits_sg/Rank_2&quot;\\n  op: &quot;Const&quot;\\n  attr {\\n    key: &quot;dtype&quot;\\n    value {\\n      type: DT_INT32\\n    }\\n  }\\n  attr {\\n    key: &quot;value&quot;\\n    value {\\n      tensor {\\n        dtype: DT_INT32\\n        tensor_shape {\\n        }\\n        int_val: 2\\n      }\\n    }\\n  }\\n}\\nnode {\\n  name: &quot;loss/softmax_cross_entropy_with_logits_sg/Shape_2&quot;\\n  op: &quot;Shape&quot;\\n  input: &quot;loss/softmax_cross_entropy_with_logits_sg/labels_stop_gradient&quot;\\n  attr {\\n    key: &quot;T&quot;\\n    value {\\n      type: DT_FLOAT\\n    }\\n  }\\n  attr {\\n    key: &quot;out_type&quot;\\n    value {\\n      type: DT_INT32\\n    }\\n  }\\n}\\nnode {\\n  name: &quot;loss/softmax_cross_entropy_with_logits_sg/Sub_1/y&quot;\\n  op: &quot;Const&quot;\\n  attr {\\n    key: &quot;dtype&quot;\\n    value {\\n      type: DT_INT32\\n    }\\n  }\\n  attr {\\n    key: &quot;value&quot;\\n    value {\\n      tensor {\\n        dtype: DT_INT32\\n        tensor_shape {\\n        }\\n        int_val: 1\\n      }\\n    }\\n  }\\n}\\nnode {\\n  name: &quot;loss/softmax_cross_entropy_with_logits_sg/Sub_1&quot;\\n  op: &quot;Sub&quot;\\n  input: &quot;loss/softmax_cross_entropy_with_logits_sg/Rank_2&quot;\\n  input: &quot;loss/softmax_cross_entropy_with_logits_sg/Sub_1/y&quot;\\n  attr {\\n    key: &quot;T&quot;\\n    value {\\n      type: DT_INT32\\n    }\\n  }\\n}\\nnode {\\n  name: &quot;loss/softmax_cross_entropy_with_logits_sg/Slice_1/begin&quot;\\n  op: &quot;Pack&quot;\\n  input: &quot;loss/softmax_cross_entropy_with_logits_sg/Sub_1&quot;\\n  attr {\\n    key: &quot;N&quot;\\n    value {\\n      i: 1\\n    }\\n  }\\n  attr {\\n    key: &quot;T&quot;\\n    value {\\n      type: DT_INT32\\n    }\\n  }\\n  attr {\\n    key: &quot;axis&quot;\\n    value {\\n      i: 0\\n    }\\n  }\\n}\\nnode {\\n  name: &quot;loss/softmax_cross_entropy_with_logits_sg/Slice_1/size&quot;\\n  op: &quot;Const&quot;\\n  attr {\\n    key: &quot;dtype&quot;\\n    value {\\n      type: DT_INT32\\n    }\\n  }\\n  attr {\\n    key: &quot;value&quot;\\n    value {\\n      tensor {\\n        dtype: DT_INT32\\n        tensor_shape {\\n          dim {\\n            size: 1\\n          }\\n        }\\n        int_val: 1\\n      }\\n    }\\n  }\\n}\\nnode {\\n  name: &quot;loss/softmax_cross_entropy_with_logits_sg/Slice_1&quot;\\n  op: &quot;Slice&quot;\\n  input: &quot;loss/softmax_cross_entropy_with_logits_sg/Shape_2&quot;\\n  input: &quot;loss/softmax_cross_entropy_with_logits_sg/Slice_1/begin&quot;\\n  input: &quot;loss/softmax_cross_entropy_with_logits_sg/Slice_1/size&quot;\\n  attr {\\n    key: &quot;Index&quot;\\n    value {\\n      type: DT_INT32\\n    }\\n  }\\n  attr {\\n    key: &quot;T&quot;\\n    value {\\n      type: DT_INT32\\n    }\\n  }\\n}\\nnode {\\n  name: &quot;loss/softmax_cross_entropy_with_logits_sg/concat_1/values_0&quot;\\n  op: &quot;Const&quot;\\n  attr {\\n    key: &quot;dtype&quot;\\n    value {\\n      type: DT_INT32\\n    }\\n  }\\n  attr {\\n    key: &quot;value&quot;\\n    value {\\n      tensor {\\n        dtype: DT_INT32\\n        tensor_shape {\\n          dim {\\n            size: 1\\n          }\\n        }\\n        int_val: -1\\n      }\\n    }\\n  }\\n}\\nnode {\\n  name: &quot;loss/softmax_cross_entropy_with_logits_sg/concat_1/axis&quot;\\n  op: &quot;Const&quot;\\n  attr {\\n    key: &quot;dtype&quot;\\n    value {\\n      type: DT_INT32\\n    }\\n  }\\n  attr {\\n    key: &quot;value&quot;\\n    value {\\n      tensor {\\n        dtype: DT_INT32\\n        tensor_shape {\\n        }\\n        int_val: 0\\n      }\\n    }\\n  }\\n}\\nnode {\\n  name: &quot;loss/softmax_cross_entropy_with_logits_sg/concat_1&quot;\\n  op: &quot;ConcatV2&quot;\\n  input: &quot;loss/softmax_cross_entropy_with_logits_sg/concat_1/values_0&quot;\\n  input: &quot;loss/softmax_cross_entropy_with_logits_sg/Slice_1&quot;\\n  input: &quot;loss/softmax_cross_entropy_with_logits_sg/concat_1/axis&quot;\\n  attr {\\n    key: &quot;N&quot;\\n    value {\\n      i: 2\\n    }\\n  }\\n  attr {\\n    key: &quot;T&quot;\\n    value {\\n      type: DT_INT32\\n    }\\n  }\\n  attr {\\n    key: &quot;Tidx&quot;\\n    value {\\n      type: DT_INT32\\n    }\\n  }\\n}\\nnode {\\n  name: &quot;loss/softmax_cross_entropy_with_logits_sg/Reshape_1&quot;\\n  op: &quot;Reshape&quot;\\n  input: &quot;loss/softmax_cross_entropy_with_logits_sg/labels_stop_gradient&quot;\\n  input: &quot;loss/softmax_cross_entropy_with_logits_sg/concat_1&quot;\\n  attr {\\n    key: &quot;T&quot;\\n    value {\\n      type: DT_FLOAT\\n    }\\n  }\\n  attr {\\n    key: &quot;Tshape&quot;\\n    value {\\n      type: DT_INT32\\n    }\\n  }\\n}\\nnode {\\n  name: &quot;loss/softmax_cross_entropy_with_logits_sg&quot;\\n  op: &quot;SoftmaxCrossEntropyWithLogits&quot;\\n  input: &quot;loss/softmax_cross_entropy_with_logits_sg/Reshape&quot;\\n  input: &quot;loss/softmax_cross_entropy_with_logits_sg/Reshape_1&quot;\\n  attr {\\n    key: &quot;T&quot;\\n    value {\\n      type: DT_FLOAT\\n    }\\n  }\\n}\\nnode {\\n  name: &quot;loss/softmax_cross_entropy_with_logits_sg/Sub_2/y&quot;\\n  op: &quot;Const&quot;\\n  attr {\\n    key: &quot;dtype&quot;\\n    value {\\n      type: DT_INT32\\n    }\\n  }\\n  attr {\\n    key: &quot;value&quot;\\n    value {\\n      tensor {\\n        dtype: DT_INT32\\n        tensor_shape {\\n        }\\n        int_val: 1\\n      }\\n    }\\n  }\\n}\\nnode {\\n  name: &quot;loss/softmax_cross_entropy_with_logits_sg/Sub_2&quot;\\n  op: &quot;Sub&quot;\\n  input: &quot;loss/softmax_cross_entropy_with_logits_sg/Rank&quot;\\n  input: &quot;loss/softmax_cross_entropy_with_logits_sg/Sub_2/y&quot;\\n  attr {\\n    key: &quot;T&quot;\\n    value {\\n      type: DT_INT32\\n    }\\n  }\\n}\\nnode {\\n  name: &quot;loss/softmax_cross_entropy_with_logits_sg/Slice_2/begin&quot;\\n  op: &quot;Const&quot;\\n  attr {\\n    key: &quot;dtype&quot;\\n    value {\\n      type: DT_INT32\\n    }\\n  }\\n  attr {\\n    key: &quot;value&quot;\\n    value {\\n      tensor {\\n        dtype: DT_INT32\\n        tensor_shape {\\n          dim {\\n            size: 1\\n          }\\n        }\\n        int_val: 0\\n      }\\n    }\\n  }\\n}\\nnode {\\n  name: &quot;loss/softmax_cross_entropy_with_logits_sg/Slice_2/size&quot;\\n  op: &quot;Pack&quot;\\n  input: &quot;loss/softmax_cross_entropy_with_logits_sg/Sub_2&quot;\\n  attr {\\n    key: &quot;N&quot;\\n    value {\\n      i: 1\\n    }\\n  }\\n  attr {\\n    key: &quot;T&quot;\\n    value {\\n      type: DT_INT32\\n    }\\n  }\\n  attr {\\n    key: &quot;axis&quot;\\n    value {\\n      i: 0\\n    }\\n  }\\n}\\nnode {\\n  name: &quot;loss/softmax_cross_entropy_with_logits_sg/Slice_2&quot;\\n  op: &quot;Slice&quot;\\n  input: &quot;loss/softmax_cross_entropy_with_logits_sg/Shape&quot;\\n  input: &quot;loss/softmax_cross_entropy_with_logits_sg/Slice_2/begin&quot;\\n  input: &quot;loss/softmax_cross_entropy_with_logits_sg/Slice_2/size&quot;\\n  attr {\\n    key: &quot;Index&quot;\\n    value {\\n      type: DT_INT32\\n    }\\n  }\\n  attr {\\n    key: &quot;T&quot;\\n    value {\\n      type: DT_INT32\\n    }\\n  }\\n}\\nnode {\\n  name: &quot;loss/softmax_cross_entropy_with_logits_sg/Reshape_2&quot;\\n  op: &quot;Reshape&quot;\\n  input: &quot;loss/softmax_cross_entropy_with_logits_sg&quot;\\n  input: &quot;loss/softmax_cross_entropy_with_logits_sg/Slice_2&quot;\\n  attr {\\n    key: &quot;T&quot;\\n    value {\\n      type: DT_FLOAT\\n    }\\n  }\\n  attr {\\n    key: &quot;Tshape&quot;\\n    value {\\n      type: DT_INT32\\n    }\\n  }\\n}\\nnode {\\n  name: &quot;loss/Const&quot;\\n  op: &quot;Const&quot;\\n  attr {\\n    key: &quot;dtype&quot;\\n    value {\\n      type: DT_INT32\\n    }\\n  }\\n  attr {\\n    key: &quot;value&quot;\\n    value {\\n      tensor {\\n        dtype: DT_INT32\\n        tensor_shape {\\n          dim {\\n            size: 1\\n          }\\n        }\\n        int_val: 0\\n      }\\n    }\\n  }\\n}\\nnode {\\n  name: &quot;loss/Mean&quot;\\n  op: &quot;Mean&quot;\\n  input: &quot;loss/softmax_cross_entropy_with_logits_sg/Reshape_2&quot;\\n  input: &quot;loss/Const&quot;\\n  attr {\\n    key: &quot;T&quot;\\n    value {\\n      type: DT_FLOAT\\n    }\\n  }\\n  attr {\\n    key: &quot;Tidx&quot;\\n    value {\\n      type: DT_INT32\\n    }\\n  }\\n  attr {\\n    key: &quot;keep_dims&quot;\\n    value {\\n      b: false\\n    }\\n  }\\n}\\nnode {\\n  name: &quot;loss/cross_entropy/tags&quot;\\n  op: &quot;Const&quot;\\n  attr {\\n    key: &quot;dtype&quot;\\n    value {\\n      type: DT_STRING\\n    }\\n  }\\n  attr {\\n    key: &quot;value&quot;\\n    value {\\n      tensor {\\n        dtype: DT_STRING\\n        tensor_shape {\\n        }\\n        string_val: &quot;loss/cross_entropy&quot;\\n      }\\n    }\\n  }\\n}\\nnode {\\n  name: &quot;loss/cross_entropy&quot;\\n  op: &quot;ScalarSummary&quot;\\n  input: &quot;loss/cross_entropy/tags&quot;\\n  input: &quot;loss/Mean&quot;\\n  attr {\\n    key: &quot;T&quot;\\n    value {\\n      type: DT_FLOAT\\n    }\\n  }\\n}\\nnode {\\n  name: &quot;optimizer/gradients/Shape&quot;\\n  op: &quot;Const&quot;\\n  attr {\\n    key: &quot;dtype&quot;\\n    value {\\n      type: DT_INT32\\n    }\\n  }\\n  attr {\\n    key: &quot;value&quot;\\n    value {\\n      tensor {\\n        dtype: DT_INT32\\n        tensor_shape {\\n          dim {\\n          }\\n        }\\n      }\\n    }\\n  }\\n}\\nnode {\\n  name: &quot;optimizer/gradients/grad_ys_0&quot;\\n  op: &quot;Const&quot;\\n  attr {\\n    key: &quot;dtype&quot;\\n    value {\\n      type: DT_FLOAT\\n    }\\n  }\\n  attr {\\n    key: &quot;value&quot;\\n    value {\\n      tensor {\\n        dtype: DT_FLOAT\\n        tensor_shape {\\n        }\\n        float_val: 1.0\\n      }\\n    }\\n  }\\n}\\nnode {\\n  name: &quot;optimizer/gradients/Fill&quot;\\n  op: &quot;Fill&quot;\\n  input: &quot;optimizer/gradients/Shape&quot;\\n  input: &quot;optimizer/gradients/grad_ys_0&quot;\\n  attr {\\n    key: &quot;T&quot;\\n    value {\\n      type: DT_FLOAT\\n    }\\n  }\\n  attr {\\n    key: &quot;index_type&quot;\\n    value {\\n      type: DT_INT32\\n    }\\n  }\\n}\\nnode {\\n  name: &quot;optimizer/gradients/loss/Mean_grad/Reshape/shape&quot;\\n  op: &quot;Const&quot;\\n  attr {\\n    key: &quot;dtype&quot;\\n    value {\\n      type: DT_INT32\\n    }\\n  }\\n  attr {\\n    key: &quot;value&quot;\\n    value {\\n      tensor {\\n        dtype: DT_INT32\\n        tensor_shape {\\n          dim {\\n            size: 1\\n          }\\n        }\\n        int_val: 1\\n      }\\n    }\\n  }\\n}\\nnode {\\n  name: &quot;optimizer/gradients/loss/Mean_grad/Reshape&quot;\\n  op: &quot;Reshape&quot;\\n  input: &quot;optimizer/gradients/Fill&quot;\\n  input: &quot;optimizer/gradients/loss/Mean_grad/Reshape/shape&quot;\\n  attr {\\n    key: &quot;T&quot;\\n    value {\\n      type: DT_FLOAT\\n    }\\n  }\\n  attr {\\n    key: &quot;Tshape&quot;\\n    value {\\n      type: DT_INT32\\n    }\\n  }\\n}\\nnode {\\n  name: &quot;optimizer/gradients/loss/Mean_grad/Shape&quot;\\n  op: &quot;Shape&quot;\\n  input: &quot;loss/softmax_cross_entropy_with_logits_sg/Reshape_2&quot;\\n  attr {\\n    key: &quot;T&quot;\\n    value {\\n      type: DT_FLOAT\\n    }\\n  }\\n  attr {\\n    key: &quot;out_type&quot;\\n    value {\\n      type: DT_INT32\\n    }\\n  }\\n}\\nnode {\\n  name: &quot;optimizer/gradients/loss/Mean_grad/Tile&quot;\\n  op: &quot;Tile&quot;\\n  input: &quot;optimizer/gradients/loss/Mean_grad/Reshape&quot;\\n  input: &quot;optimizer/gradients/loss/Mean_grad/Shape&quot;\\n  attr {\\n    key: &quot;T&quot;\\n    value {\\n      type: DT_FLOAT\\n    }\\n  }\\n  attr {\\n    key: &quot;Tmultiples&quot;\\n    value {\\n      type: DT_INT32\\n    }\\n  }\\n}\\nnode {\\n  name: &quot;optimizer/gradients/loss/Mean_grad/Shape_1&quot;\\n  op: &quot;Shape&quot;\\n  input: &quot;loss/softmax_cross_entropy_with_logits_sg/Reshape_2&quot;\\n  attr {\\n    key: &quot;T&quot;\\n    value {\\n      type: DT_FLOAT\\n    }\\n  }\\n  attr {\\n    key: &quot;out_type&quot;\\n    value {\\n      type: DT_INT32\\n    }\\n  }\\n}\\nnode {\\n  name: &quot;optimizer/gradients/loss/Mean_grad/Shape_2&quot;\\n  op: &quot;Const&quot;\\n  attr {\\n    key: &quot;dtype&quot;\\n    value {\\n      type: DT_INT32\\n    }\\n  }\\n  attr {\\n    key: &quot;value&quot;\\n    value {\\n      tensor {\\n        dtype: DT_INT32\\n        tensor_shape {\\n          dim {\\n          }\\n        }\\n      }\\n    }\\n  }\\n}\\nnode {\\n  name: &quot;optimizer/gradients/loss/Mean_grad/Const&quot;\\n  op: &quot;Const&quot;\\n  attr {\\n    key: &quot;dtype&quot;\\n    value {\\n      type: DT_INT32\\n    }\\n  }\\n  attr {\\n    key: &quot;value&quot;\\n    value {\\n      tensor {\\n        dtype: DT_INT32\\n        tensor_shape {\\n          dim {\\n            size: 1\\n          }\\n        }\\n        int_val: 0\\n      }\\n    }\\n  }\\n}\\nnode {\\n  name: &quot;optimizer/gradients/loss/Mean_grad/Prod&quot;\\n  op: &quot;Prod&quot;\\n  input: &quot;optimizer/gradients/loss/Mean_grad/Shape_1&quot;\\n  input: &quot;optimizer/gradients/loss/Mean_grad/Const&quot;\\n  attr {\\n    key: &quot;T&quot;\\n    value {\\n      type: DT_INT32\\n    }\\n  }\\n  attr {\\n    key: &quot;Tidx&quot;\\n    value {\\n      type: DT_INT32\\n    }\\n  }\\n  attr {\\n    key: &quot;keep_dims&quot;\\n    value {\\n      b: false\\n    }\\n  }\\n}\\nnode {\\n  name: &quot;optimizer/gradients/loss/Mean_grad/Const_1&quot;\\n  op: &quot;Const&quot;\\n  attr {\\n    key: &quot;dtype&quot;\\n    value {\\n      type: DT_INT32\\n    }\\n  }\\n  attr {\\n    key: &quot;value&quot;\\n    value {\\n      tensor {\\n        dtype: DT_INT32\\n        tensor_shape {\\n          dim {\\n            size: 1\\n          }\\n        }\\n        int_val: 0\\n      }\\n    }\\n  }\\n}\\nnode {\\n  name: &quot;optimizer/gradients/loss/Mean_grad/Prod_1&quot;\\n  op: &quot;Prod&quot;\\n  input: &quot;optimizer/gradients/loss/Mean_grad/Shape_2&quot;\\n  input: &quot;optimizer/gradients/loss/Mean_grad/Const_1&quot;\\n  attr {\\n    key: &quot;T&quot;\\n    value {\\n      type: DT_INT32\\n    }\\n  }\\n  attr {\\n    key: &quot;Tidx&quot;\\n    value {\\n      type: DT_INT32\\n    }\\n  }\\n  attr {\\n    key: &quot;keep_dims&quot;\\n    value {\\n      b: false\\n    }\\n  }\\n}\\nnode {\\n  name: &quot;optimizer/gradients/loss/Mean_grad/Maximum/y&quot;\\n  op: &quot;Const&quot;\\n  attr {\\n    key: &quot;dtype&quot;\\n    value {\\n      type: DT_INT32\\n    }\\n  }\\n  attr {\\n    key: &quot;value&quot;\\n    value {\\n      tensor {\\n        dtype: DT_INT32\\n        tensor_shape {\\n        }\\n        int_val: 1\\n      }\\n    }\\n  }\\n}\\nnode {\\n  name: &quot;optimizer/gradients/loss/Mean_grad/Maximum&quot;\\n  op: &quot;Maximum&quot;\\n  input: &quot;optimizer/gradients/loss/Mean_grad/Prod_1&quot;\\n  input: &quot;optimizer/gradients/loss/Mean_grad/Maximum/y&quot;\\n  attr {\\n    key: &quot;T&quot;\\n    value {\\n      type: DT_INT32\\n    }\\n  }\\n}\\nnode {\\n  name: &quot;optimizer/gradients/loss/Mean_grad/floordiv&quot;\\n  op: &quot;FloorDiv&quot;\\n  input: &quot;optimizer/gradients/loss/Mean_grad/Prod&quot;\\n  input: &quot;optimizer/gradients/loss/Mean_grad/Maximum&quot;\\n  attr {\\n    key: &quot;T&quot;\\n    value {\\n      type: DT_INT32\\n    }\\n  }\\n}\\nnode {\\n  name: &quot;optimizer/gradients/loss/Mean_grad/Cast&quot;\\n  op: &quot;Cast&quot;\\n  input: &quot;optimizer/gradients/loss/Mean_grad/floordiv&quot;\\n  attr {\\n    key: &quot;DstT&quot;\\n    value {\\n      type: DT_FLOAT\\n    }\\n  }\\n  attr {\\n    key: &quot;SrcT&quot;\\n    value {\\n      type: DT_INT32\\n    }\\n  }\\n  attr {\\n    key: &quot;Truncate&quot;\\n    value {\\n      b: false\\n    }\\n  }\\n}\\nnode {\\n  name: &quot;optimizer/gradients/loss/Mean_grad/truediv&quot;\\n  op: &quot;RealDiv&quot;\\n  input: &quot;optimizer/gradients/loss/Mean_grad/Tile&quot;\\n  input: &quot;optimizer/gradients/loss/Mean_grad/Cast&quot;\\n  attr {\\n    key: &quot;T&quot;\\n    value {\\n      type: DT_FLOAT\\n    }\\n  }\\n}\\nnode {\\n  name: &quot;optimizer/gradients/loss/softmax_cross_entropy_with_logits_sg/Reshape_2_grad/Shape&quot;\\n  op: &quot;Shape&quot;\\n  input: &quot;loss/softmax_cross_entropy_with_logits_sg&quot;\\n  attr {\\n    key: &quot;T&quot;\\n    value {\\n      type: DT_FLOAT\\n    }\\n  }\\n  attr {\\n    key: &quot;out_type&quot;\\n    value {\\n      type: DT_INT32\\n    }\\n  }\\n}\\nnode {\\n  name: &quot;optimizer/gradients/loss/softmax_cross_entropy_with_logits_sg/Reshape_2_grad/Reshape&quot;\\n  op: &quot;Reshape&quot;\\n  input: &quot;optimizer/gradients/loss/Mean_grad/truediv&quot;\\n  input: &quot;optimizer/gradients/loss/softmax_cross_entropy_with_logits_sg/Reshape_2_grad/Shape&quot;\\n  attr {\\n    key: &quot;T&quot;\\n    value {\\n      type: DT_FLOAT\\n    }\\n  }\\n  attr {\\n    key: &quot;Tshape&quot;\\n    value {\\n      type: DT_INT32\\n    }\\n  }\\n}\\nnode {\\n  name: &quot;optimizer/gradients/zeros_like&quot;\\n  op: &quot;ZerosLike&quot;\\n  input: &quot;loss/softmax_cross_entropy_with_logits_sg:1&quot;\\n  attr {\\n    key: &quot;T&quot;\\n    value {\\n      type: DT_FLOAT\\n    }\\n  }\\n}\\nnode {\\n  name: &quot;optimizer/gradients/loss/softmax_cross_entropy_with_logits_sg_grad/ExpandDims/dim&quot;\\n  op: &quot;Const&quot;\\n  attr {\\n    key: &quot;dtype&quot;\\n    value {\\n      type: DT_INT32\\n    }\\n  }\\n  attr {\\n    key: &quot;value&quot;\\n    value {\\n      tensor {\\n        dtype: DT_INT32\\n        tensor_shape {\\n        }\\n        int_val: -1\\n      }\\n    }\\n  }\\n}\\nnode {\\n  name: &quot;optimizer/gradients/loss/softmax_cross_entropy_with_logits_sg_grad/ExpandDims&quot;\\n  op: &quot;ExpandDims&quot;\\n  input: &quot;optimizer/gradients/loss/softmax_cross_entropy_with_logits_sg/Reshape_2_grad/Reshape&quot;\\n  input: &quot;optimizer/gradients/loss/softmax_cross_entropy_with_logits_sg_grad/ExpandDims/dim&quot;\\n  attr {\\n    key: &quot;T&quot;\\n    value {\\n      type: DT_FLOAT\\n    }\\n  }\\n  attr {\\n    key: &quot;Tdim&quot;\\n    value {\\n      type: DT_INT32\\n    }\\n  }\\n}\\nnode {\\n  name: &quot;optimizer/gradients/loss/softmax_cross_entropy_with_logits_sg_grad/mul&quot;\\n  op: &quot;Mul&quot;\\n  input: &quot;optimizer/gradients/loss/softmax_cross_entropy_with_logits_sg_grad/ExpandDims&quot;\\n  input: &quot;loss/softmax_cross_entropy_with_logits_sg:1&quot;\\n  attr {\\n    key: &quot;T&quot;\\n    value {\\n      type: DT_FLOAT\\n    }\\n  }\\n}\\nnode {\\n  name: &quot;optimizer/gradients/loss/softmax_cross_entropy_with_logits_sg_grad/LogSoftmax&quot;\\n  op: &quot;LogSoftmax&quot;\\n  input: &quot;loss/softmax_cross_entropy_with_logits_sg/Reshape&quot;\\n  attr {\\n    key: &quot;T&quot;\\n    value {\\n      type: DT_FLOAT\\n    }\\n  }\\n}\\nnode {\\n  name: &quot;optimizer/gradients/loss/softmax_cross_entropy_with_logits_sg_grad/Neg&quot;\\n  op: &quot;Neg&quot;\\n  input: &quot;optimizer/gradients/loss/softmax_cross_entropy_with_logits_sg_grad/LogSoftmax&quot;\\n  attr {\\n    key: &quot;T&quot;\\n    value {\\n      type: DT_FLOAT\\n    }\\n  }\\n}\\nnode {\\n  name: &quot;optimizer/gradients/loss/softmax_cross_entropy_with_logits_sg_grad/ExpandDims_1/dim&quot;\\n  op: &quot;Const&quot;\\n  attr {\\n    key: &quot;dtype&quot;\\n    value {\\n      type: DT_INT32\\n    }\\n  }\\n  attr {\\n    key: &quot;value&quot;\\n    value {\\n      tensor {\\n        dtype: DT_INT32\\n        tensor_shape {\\n        }\\n        int_val: -1\\n      }\\n    }\\n  }\\n}\\nnode {\\n  name: &quot;optimizer/gradients/loss/softmax_cross_entropy_with_logits_sg_grad/ExpandDims_1&quot;\\n  op: &quot;ExpandDims&quot;\\n  input: &quot;optimizer/gradients/loss/softmax_cross_entropy_with_logits_sg/Reshape_2_grad/Reshape&quot;\\n  input: &quot;optimizer/gradients/loss/softmax_cross_entropy_with_logits_sg_grad/ExpandDims_1/dim&quot;\\n  attr {\\n    key: &quot;T&quot;\\n    value {\\n      type: DT_FLOAT\\n    }\\n  }\\n  attr {\\n    key: &quot;Tdim&quot;\\n    value {\\n      type: DT_INT32\\n    }\\n  }\\n}\\nnode {\\n  name: &quot;optimizer/gradients/loss/softmax_cross_entropy_with_logits_sg_grad/mul_1&quot;\\n  op: &quot;Mul&quot;\\n  input: &quot;optimizer/gradients/loss/softmax_cross_entropy_with_logits_sg_grad/ExpandDims_1&quot;\\n  input: &quot;optimizer/gradients/loss/softmax_cross_entropy_with_logits_sg_grad/Neg&quot;\\n  attr {\\n    key: &quot;T&quot;\\n    value {\\n      type: DT_FLOAT\\n    }\\n  }\\n}\\nnode {\\n  name: &quot;optimizer/gradients/loss/softmax_cross_entropy_with_logits_sg_grad/tuple/group_deps&quot;\\n  op: &quot;NoOp&quot;\\n  input: &quot;^optimizer/gradients/loss/softmax_cross_entropy_with_logits_sg_grad/mul&quot;\\n  input: &quot;^optimizer/gradients/loss/softmax_cross_entropy_with_logits_sg_grad/mul_1&quot;\\n}\\nnode {\\n  name: &quot;optimizer/gradients/loss/softmax_cross_entropy_with_logits_sg_grad/tuple/control_dependency&quot;\\n  op: &quot;Identity&quot;\\n  input: &quot;optimizer/gradients/loss/softmax_cross_entropy_with_logits_sg_grad/mul&quot;\\n  input: &quot;^optimizer/gradients/loss/softmax_cross_entropy_with_logits_sg_grad/tuple/group_deps&quot;\\n  attr {\\n    key: &quot;T&quot;\\n    value {\\n      type: DT_FLOAT\\n    }\\n  }\\n  attr {\\n    key: &quot;_class&quot;\\n    value {\\n      list {\\n        s: &quot;loc:@optimizer/gradients/loss/softmax_cross_entropy_with_logits_sg_grad/mul&quot;\\n      }\\n    }\\n  }\\n}\\nnode {\\n  name: &quot;optimizer/gradients/loss/softmax_cross_entropy_with_logits_sg_grad/tuple/control_dependency_1&quot;\\n  op: &quot;Identity&quot;\\n  input: &quot;optimizer/gradients/loss/softmax_cross_entropy_with_logits_sg_grad/mul_1&quot;\\n  input: &quot;^optimizer/gradients/loss/softmax_cross_entropy_with_logits_sg_grad/tuple/group_deps&quot;\\n  attr {\\n    key: &quot;T&quot;\\n    value {\\n      type: DT_FLOAT\\n    }\\n  }\\n  attr {\\n    key: &quot;_class&quot;\\n    value {\\n      list {\\n        s: &quot;loc:@optimizer/gradients/loss/softmax_cross_entropy_with_logits_sg_grad/mul_1&quot;\\n      }\\n    }\\n  }\\n}\\nnode {\\n  name: &quot;optimizer/gradients/loss/softmax_cross_entropy_with_logits_sg/Reshape_grad/Shape&quot;\\n  op: &quot;Shape&quot;\\n  input: &quot;fc_2/BiasAdd&quot;\\n  attr {\\n    key: &quot;T&quot;\\n    value {\\n      type: DT_FLOAT\\n    }\\n  }\\n  attr {\\n    key: &quot;out_type&quot;\\n    value {\\n      type: DT_INT32\\n    }\\n  }\\n}\\nnode {\\n  name: &quot;optimizer/gradients/loss/softmax_cross_entropy_with_logits_sg/Reshape_grad/Reshape&quot;\\n  op: &quot;Reshape&quot;\\n  input: &quot;optimizer/gradients/loss/softmax_cross_entropy_with_logits_sg_grad/tuple/control_dependency&quot;\\n  input: &quot;optimizer/gradients/loss/softmax_cross_entropy_with_logits_sg/Reshape_grad/Shape&quot;\\n  attr {\\n    key: &quot;T&quot;\\n    value {\\n      type: DT_FLOAT\\n    }\\n  }\\n  attr {\\n    key: &quot;Tshape&quot;\\n    value {\\n      type: DT_INT32\\n    }\\n  }\\n}\\nnode {\\n  name: &quot;optimizer/gradients/fc_2/BiasAdd_grad/BiasAddGrad&quot;\\n  op: &quot;BiasAddGrad&quot;\\n  input: &quot;optimizer/gradients/loss/softmax_cross_entropy_with_logits_sg/Reshape_grad/Reshape&quot;\\n  attr {\\n    key: &quot;T&quot;\\n    value {\\n      type: DT_FLOAT\\n    }\\n  }\\n  attr {\\n    key: &quot;data_format&quot;\\n    value {\\n      s: &quot;NHWC&quot;\\n    }\\n  }\\n}\\nnode {\\n  name: &quot;optimizer/gradients/fc_2/BiasAdd_grad/tuple/group_deps&quot;\\n  op: &quot;NoOp&quot;\\n  input: &quot;^optimizer/gradients/fc_2/BiasAdd_grad/BiasAddGrad&quot;\\n  input: &quot;^optimizer/gradients/loss/softmax_cross_entropy_with_logits_sg/Reshape_grad/Reshape&quot;\\n}\\nnode {\\n  name: &quot;optimizer/gradients/fc_2/BiasAdd_grad/tuple/control_dependency&quot;\\n  op: &quot;Identity&quot;\\n  input: &quot;optimizer/gradients/loss/softmax_cross_entropy_with_logits_sg/Reshape_grad/Reshape&quot;\\n  input: &quot;^optimizer/gradients/fc_2/BiasAdd_grad/tuple/group_deps&quot;\\n  attr {\\n    key: &quot;T&quot;\\n    value {\\n      type: DT_FLOAT\\n    }\\n  }\\n  attr {\\n    key: &quot;_class&quot;\\n    value {\\n      list {\\n        s: &quot;loc:@optimizer/gradients/loss/softmax_cross_entropy_with_logits_sg/Reshape_grad/Reshape&quot;\\n      }\\n    }\\n  }\\n}\\nnode {\\n  name: &quot;optimizer/gradients/fc_2/BiasAdd_grad/tuple/control_dependency_1&quot;\\n  op: &quot;Identity&quot;\\n  input: &quot;optimizer/gradients/fc_2/BiasAdd_grad/BiasAddGrad&quot;\\n  input: &quot;^optimizer/gradients/fc_2/BiasAdd_grad/tuple/group_deps&quot;\\n  attr {\\n    key: &quot;T&quot;\\n    value {\\n      type: DT_FLOAT\\n    }\\n  }\\n  attr {\\n    key: &quot;_class&quot;\\n    value {\\n      list {\\n        s: &quot;loc:@optimizer/gradients/fc_2/BiasAdd_grad/BiasAddGrad&quot;\\n      }\\n    }\\n  }\\n}\\nnode {\\n  name: &quot;optimizer/gradients/fc_2/MatMul_grad/MatMul&quot;\\n  op: &quot;MatMul&quot;\\n  input: &quot;optimizer/gradients/fc_2/BiasAdd_grad/tuple/control_dependency&quot;\\n  input: &quot;fc_2/weights/Variable/read&quot;\\n  attr {\\n    key: &quot;T&quot;\\n    value {\\n      type: DT_FLOAT\\n    }\\n  }\\n  attr {\\n    key: &quot;transpose_a&quot;\\n    value {\\n      b: false\\n    }\\n  }\\n  attr {\\n    key: &quot;transpose_b&quot;\\n    value {\\n      b: true\\n    }\\n  }\\n}\\nnode {\\n  name: &quot;optimizer/gradients/fc_2/MatMul_grad/MatMul_1&quot;\\n  op: &quot;MatMul&quot;\\n  input: &quot;dropout_fc1/dropout/mul&quot;\\n  input: &quot;optimizer/gradients/fc_2/BiasAdd_grad/tuple/control_dependency&quot;\\n  attr {\\n    key: &quot;T&quot;\\n    value {\\n      type: DT_FLOAT\\n    }\\n  }\\n  attr {\\n    key: &quot;transpose_a&quot;\\n    value {\\n      b: true\\n    }\\n  }\\n  attr {\\n    key: &quot;transpose_b&quot;\\n    value {\\n      b: false\\n    }\\n  }\\n}\\nnode {\\n  name: &quot;optimizer/gradients/fc_2/MatMul_grad/tuple/group_deps&quot;\\n  op: &quot;NoOp&quot;\\n  input: &quot;^optimizer/gradients/fc_2/MatMul_grad/MatMul&quot;\\n  input: &quot;^optimizer/gradients/fc_2/MatMul_grad/MatMul_1&quot;\\n}\\nnode {\\n  name: &quot;optimizer/gradients/fc_2/MatMul_grad/tuple/control_dependency&quot;\\n  op: &quot;Identity&quot;\\n  input: &quot;optimizer/gradients/fc_2/MatMul_grad/MatMul&quot;\\n  input: &quot;^optimizer/gradients/fc_2/MatMul_grad/tuple/group_deps&quot;\\n  attr {\\n    key: &quot;T&quot;\\n    value {\\n      type: DT_FLOAT\\n    }\\n  }\\n  attr {\\n    key: &quot;_class&quot;\\n    value {\\n      list {\\n        s: &quot;loc:@optimizer/gradients/fc_2/MatMul_grad/MatMul&quot;\\n      }\\n    }\\n  }\\n}\\nnode {\\n  name: &quot;optimizer/gradients/fc_2/MatMul_grad/tuple/control_dependency_1&quot;\\n  op: &quot;Identity&quot;\\n  input: &quot;optimizer/gradients/fc_2/MatMul_grad/MatMul_1&quot;\\n  input: &quot;^optimizer/gradients/fc_2/MatMul_grad/tuple/group_deps&quot;\\n  attr {\\n    key: &quot;T&quot;\\n    value {\\n      type: DT_FLOAT\\n    }\\n  }\\n  attr {\\n    key: &quot;_class&quot;\\n    value {\\n      list {\\n        s: &quot;loc:@optimizer/gradients/fc_2/MatMul_grad/MatMul_1&quot;\\n      }\\n    }\\n  }\\n}\\nnode {\\n  name: &quot;optimizer/gradients/dropout_fc1/dropout/mul_grad/Shape&quot;\\n  op: &quot;Shape&quot;\\n  input: &quot;dropout_fc1/dropout/div&quot;\\n  attr {\\n    key: &quot;T&quot;\\n    value {\\n      type: DT_FLOAT\\n    }\\n  }\\n  attr {\\n    key: &quot;out_type&quot;\\n    value {\\n      type: DT_INT32\\n    }\\n  }\\n}\\nnode {\\n  name: &quot;optimizer/gradients/dropout_fc1/dropout/mul_grad/Shape_1&quot;\\n  op: &quot;Shape&quot;\\n  input: &quot;dropout_fc1/dropout/Floor&quot;\\n  attr {\\n    key: &quot;T&quot;\\n    value {\\n      type: DT_FLOAT\\n    }\\n  }\\n  attr {\\n    key: &quot;out_type&quot;\\n    value {\\n      type: DT_INT32\\n    }\\n  }\\n}\\nnode {\\n  name: &quot;optimizer/gradients/dropout_fc1/dropout/mul_grad/BroadcastGradientArgs&quot;\\n  op: &quot;BroadcastGradientArgs&quot;\\n  input: &quot;optimizer/gradients/dropout_fc1/dropout/mul_grad/Shape&quot;\\n  input: &quot;optimizer/gradients/dropout_fc1/dropout/mul_grad/Shape_1&quot;\\n  attr {\\n    key: &quot;T&quot;\\n    value {\\n      type: DT_INT32\\n    }\\n  }\\n}\\nnode {\\n  name: &quot;optimizer/gradients/dropout_fc1/dropout/mul_grad/Mul&quot;\\n  op: &quot;Mul&quot;\\n  input: &quot;optimizer/gradients/fc_2/MatMul_grad/tuple/control_dependency&quot;\\n  input: &quot;dropout_fc1/dropout/Floor&quot;\\n  attr {\\n    key: &quot;T&quot;\\n    value {\\n      type: DT_FLOAT\\n    }\\n  }\\n}\\nnode {\\n  name: &quot;optimizer/gradients/dropout_fc1/dropout/mul_grad/Sum&quot;\\n  op: &quot;Sum&quot;\\n  input: &quot;optimizer/gradients/dropout_fc1/dropout/mul_grad/Mul&quot;\\n  input: &quot;optimizer/gradients/dropout_fc1/dropout/mul_grad/BroadcastGradientArgs&quot;\\n  attr {\\n    key: &quot;T&quot;\\n    value {\\n      type: DT_FLOAT\\n    }\\n  }\\n  attr {\\n    key: &quot;Tidx&quot;\\n    value {\\n      type: DT_INT32\\n    }\\n  }\\n  attr {\\n    key: &quot;keep_dims&quot;\\n    value {\\n      b: false\\n    }\\n  }\\n}\\nnode {\\n  name: &quot;optimizer/gradients/dropout_fc1/dropout/mul_grad/Reshape&quot;\\n  op: &quot;Reshape&quot;\\n  input: &quot;optimizer/gradients/dropout_fc1/dropout/mul_grad/Sum&quot;\\n  input: &quot;optimizer/gradients/dropout_fc1/dropout/mul_grad/Shape&quot;\\n  attr {\\n    key: &quot;T&quot;\\n    value {\\n      type: DT_FLOAT\\n    }\\n  }\\n  attr {\\n    key: &quot;Tshape&quot;\\n    value {\\n      type: DT_INT32\\n    }\\n  }\\n}\\nnode {\\n  name: &quot;optimizer/gradients/dropout_fc1/dropout/mul_grad/Mul_1&quot;\\n  op: &quot;Mul&quot;\\n  input: &quot;dropout_fc1/dropout/div&quot;\\n  input: &quot;optimizer/gradients/fc_2/MatMul_grad/tuple/control_dependency&quot;\\n  attr {\\n    key: &quot;T&quot;\\n    value {\\n      type: DT_FLOAT\\n    }\\n  }\\n}\\nnode {\\n  name: &quot;optimizer/gradients/dropout_fc1/dropout/mul_grad/Sum_1&quot;\\n  op: &quot;Sum&quot;\\n  input: &quot;optimizer/gradients/dropout_fc1/dropout/mul_grad/Mul_1&quot;\\n  input: &quot;optimizer/gradients/dropout_fc1/dropout/mul_grad/BroadcastGradientArgs:1&quot;\\n  attr {\\n    key: &quot;T&quot;\\n    value {\\n      type: DT_FLOAT\\n    }\\n  }\\n  attr {\\n    key: &quot;Tidx&quot;\\n    value {\\n      type: DT_INT32\\n    }\\n  }\\n  attr {\\n    key: &quot;keep_dims&quot;\\n    value {\\n      b: false\\n    }\\n  }\\n}\\nnode {\\n  name: &quot;optimizer/gradients/dropout_fc1/dropout/mul_grad/Reshape_1&quot;\\n  op: &quot;Reshape&quot;\\n  input: &quot;optimizer/gradients/dropout_fc1/dropout/mul_grad/Sum_1&quot;\\n  input: &quot;optimizer/gradients/dropout_fc1/dropout/mul_grad/Shape_1&quot;\\n  attr {\\n    key: &quot;T&quot;\\n    value {\\n      type: DT_FLOAT\\n    }\\n  }\\n  attr {\\n    key: &quot;Tshape&quot;\\n    value {\\n      type: DT_INT32\\n    }\\n  }\\n}\\nnode {\\n  name: &quot;optimizer/gradients/dropout_fc1/dropout/mul_grad/tuple/group_deps&quot;\\n  op: &quot;NoOp&quot;\\n  input: &quot;^optimizer/gradients/dropout_fc1/dropout/mul_grad/Reshape&quot;\\n  input: &quot;^optimizer/gradients/dropout_fc1/dropout/mul_grad/Reshape_1&quot;\\n}\\nnode {\\n  name: &quot;optimizer/gradients/dropout_fc1/dropout/mul_grad/tuple/control_dependency&quot;\\n  op: &quot;Identity&quot;\\n  input: &quot;optimizer/gradients/dropout_fc1/dropout/mul_grad/Reshape&quot;\\n  input: &quot;^optimizer/gradients/dropout_fc1/dropout/mul_grad/tuple/group_deps&quot;\\n  attr {\\n    key: &quot;T&quot;\\n    value {\\n      type: DT_FLOAT\\n    }\\n  }\\n  attr {\\n    key: &quot;_class&quot;\\n    value {\\n      list {\\n        s: &quot;loc:@optimizer/gradients/dropout_fc1/dropout/mul_grad/Reshape&quot;\\n      }\\n    }\\n  }\\n}\\nnode {\\n  name: &quot;optimizer/gradients/dropout_fc1/dropout/mul_grad/tuple/control_dependency_1&quot;\\n  op: &quot;Identity&quot;\\n  input: &quot;optimizer/gradients/dropout_fc1/dropout/mul_grad/Reshape_1&quot;\\n  input: &quot;^optimizer/gradients/dropout_fc1/dropout/mul_grad/tuple/group_deps&quot;\\n  attr {\\n    key: &quot;T&quot;\\n    value {\\n      type: DT_FLOAT\\n    }\\n  }\\n  attr {\\n    key: &quot;_class&quot;\\n    value {\\n      list {\\n        s: &quot;loc:@optimizer/gradients/dropout_fc1/dropout/mul_grad/Reshape_1&quot;\\n      }\\n    }\\n  }\\n}\\nnode {\\n  name: &quot;optimizer/gradients/dropout_fc1/dropout/div_grad/Shape&quot;\\n  op: &quot;Shape&quot;\\n  input: &quot;fc_relu_1/Relu&quot;\\n  attr {\\n    key: &quot;T&quot;\\n    value {\\n      type: DT_FLOAT\\n    }\\n  }\\n  attr {\\n    key: &quot;out_type&quot;\\n    value {\\n      type: DT_INT32\\n    }\\n  }\\n}\\nnode {\\n  name: &quot;optimizer/gradients/dropout_fc1/dropout/div_grad/Shape_1&quot;\\n  op: &quot;Shape&quot;\\n  input: &quot;input/Placeholder&quot;\\n  attr {\\n    key: &quot;T&quot;\\n    value {\\n      type: DT_FLOAT\\n    }\\n  }\\n  attr {\\n    key: &quot;out_type&quot;\\n    value {\\n      type: DT_INT32\\n    }\\n  }\\n}\\nnode {\\n  name: &quot;optimizer/gradients/dropout_fc1/dropout/div_grad/BroadcastGradientArgs&quot;\\n  op: &quot;BroadcastGradientArgs&quot;\\n  input: &quot;optimizer/gradients/dropout_fc1/dropout/div_grad/Shape&quot;\\n  input: &quot;optimizer/gradients/dropout_fc1/dropout/div_grad/Shape_1&quot;\\n  attr {\\n    key: &quot;T&quot;\\n    value {\\n      type: DT_INT32\\n    }\\n  }\\n}\\nnode {\\n  name: &quot;optimizer/gradients/dropout_fc1/dropout/div_grad/RealDiv&quot;\\n  op: &quot;RealDiv&quot;\\n  input: &quot;optimizer/gradients/dropout_fc1/dropout/mul_grad/tuple/control_dependency&quot;\\n  input: &quot;input/Placeholder&quot;\\n  attr {\\n    key: &quot;T&quot;\\n    value {\\n      type: DT_FLOAT\\n    }\\n  }\\n}\\nnode {\\n  name: &quot;optimizer/gradients/dropout_fc1/dropout/div_grad/Sum&quot;\\n  op: &quot;Sum&quot;\\n  input: &quot;optimizer/gradients/dropout_fc1/dropout/div_grad/RealDiv&quot;\\n  input: &quot;optimizer/gradients/dropout_fc1/dropout/div_grad/BroadcastGradientArgs&quot;\\n  attr {\\n    key: &quot;T&quot;\\n    value {\\n      type: DT_FLOAT\\n    }\\n  }\\n  attr {\\n    key: &quot;Tidx&quot;\\n    value {\\n      type: DT_INT32\\n    }\\n  }\\n  attr {\\n    key: &quot;keep_dims&quot;\\n    value {\\n      b: false\\n    }\\n  }\\n}\\nnode {\\n  name: &quot;optimizer/gradients/dropout_fc1/dropout/div_grad/Reshape&quot;\\n  op: &quot;Reshape&quot;\\n  input: &quot;optimizer/gradients/dropout_fc1/dropout/div_grad/Sum&quot;\\n  input: &quot;optimizer/gradients/dropout_fc1/dropout/div_grad/Shape&quot;\\n  attr {\\n    key: &quot;T&quot;\\n    value {\\n      type: DT_FLOAT\\n    }\\n  }\\n  attr {\\n    key: &quot;Tshape&quot;\\n    value {\\n      type: DT_INT32\\n    }\\n  }\\n}\\nnode {\\n  name: &quot;optimizer/gradients/dropout_fc1/dropout/div_grad/Neg&quot;\\n  op: &quot;Neg&quot;\\n  input: &quot;fc_relu_1/Relu&quot;\\n  attr {\\n    key: &quot;T&quot;\\n    value {\\n      type: DT_FLOAT\\n    }\\n  }\\n}\\nnode {\\n  name: &quot;optimizer/gradients/dropout_fc1/dropout/div_grad/RealDiv_1&quot;\\n  op: &quot;RealDiv&quot;\\n  input: &quot;optimizer/gradients/dropout_fc1/dropout/div_grad/Neg&quot;\\n  input: &quot;input/Placeholder&quot;\\n  attr {\\n    key: &quot;T&quot;\\n    value {\\n      type: DT_FLOAT\\n    }\\n  }\\n}\\nnode {\\n  name: &quot;optimizer/gradients/dropout_fc1/dropout/div_grad/RealDiv_2&quot;\\n  op: &quot;RealDiv&quot;\\n  input: &quot;optimizer/gradients/dropout_fc1/dropout/div_grad/RealDiv_1&quot;\\n  input: &quot;input/Placeholder&quot;\\n  attr {\\n    key: &quot;T&quot;\\n    value {\\n      type: DT_FLOAT\\n    }\\n  }\\n}\\nnode {\\n  name: &quot;optimizer/gradients/dropout_fc1/dropout/div_grad/mul&quot;\\n  op: &quot;Mul&quot;\\n  input: &quot;optimizer/gradients/dropout_fc1/dropout/mul_grad/tuple/control_dependency&quot;\\n  input: &quot;optimizer/gradients/dropout_fc1/dropout/div_grad/RealDiv_2&quot;\\n  attr {\\n    key: &quot;T&quot;\\n    value {\\n      type: DT_FLOAT\\n    }\\n  }\\n}\\nnode {\\n  name: &quot;optimizer/gradients/dropout_fc1/dropout/div_grad/Sum_1&quot;\\n  op: &quot;Sum&quot;\\n  input: &quot;optimizer/gradients/dropout_fc1/dropout/div_grad/mul&quot;\\n  input: &quot;optimizer/gradients/dropout_fc1/dropout/div_grad/BroadcastGradientArgs:1&quot;\\n  attr {\\n    key: &quot;T&quot;\\n    value {\\n      type: DT_FLOAT\\n    }\\n  }\\n  attr {\\n    key: &quot;Tidx&quot;\\n    value {\\n      type: DT_INT32\\n    }\\n  }\\n  attr {\\n    key: &quot;keep_dims&quot;\\n    value {\\n      b: false\\n    }\\n  }\\n}\\nnode {\\n  name: &quot;optimizer/gradients/dropout_fc1/dropout/div_grad/Reshape_1&quot;\\n  op: &quot;Reshape&quot;\\n  input: &quot;optimizer/gradients/dropout_fc1/dropout/div_grad/Sum_1&quot;\\n  input: &quot;optimizer/gradients/dropout_fc1/dropout/div_grad/Shape_1&quot;\\n  attr {\\n    key: &quot;T&quot;\\n    value {\\n      type: DT_FLOAT\\n    }\\n  }\\n  attr {\\n    key: &quot;Tshape&quot;\\n    value {\\n      type: DT_INT32\\n    }\\n  }\\n}\\nnode {\\n  name: &quot;optimizer/gradients/dropout_fc1/dropout/div_grad/tuple/group_deps&quot;\\n  op: &quot;NoOp&quot;\\n  input: &quot;^optimizer/gradients/dropout_fc1/dropout/div_grad/Reshape&quot;\\n  input: &quot;^optimizer/gradients/dropout_fc1/dropout/div_grad/Reshape_1&quot;\\n}\\nnode {\\n  name: &quot;optimizer/gradients/dropout_fc1/dropout/div_grad/tuple/control_dependency&quot;\\n  op: &quot;Identity&quot;\\n  input: &quot;optimizer/gradients/dropout_fc1/dropout/div_grad/Reshape&quot;\\n  input: &quot;^optimizer/gradients/dropout_fc1/dropout/div_grad/tuple/group_deps&quot;\\n  attr {\\n    key: &quot;T&quot;\\n    value {\\n      type: DT_FLOAT\\n    }\\n  }\\n  attr {\\n    key: &quot;_class&quot;\\n    value {\\n      list {\\n        s: &quot;loc:@optimizer/gradients/dropout_fc1/dropout/div_grad/Reshape&quot;\\n      }\\n    }\\n  }\\n}\\nnode {\\n  name: &quot;optimizer/gradients/dropout_fc1/dropout/div_grad/tuple/control_dependency_1&quot;\\n  op: &quot;Identity&quot;\\n  input: &quot;optimizer/gradients/dropout_fc1/dropout/div_grad/Reshape_1&quot;\\n  input: &quot;^optimizer/gradients/dropout_fc1/dropout/div_grad/tuple/group_deps&quot;\\n  attr {\\n    key: &quot;T&quot;\\n    value {\\n      type: DT_FLOAT\\n    }\\n  }\\n  attr {\\n    key: &quot;_class&quot;\\n    value {\\n      list {\\n        s: &quot;loc:@optimizer/gradients/dropout_fc1/dropout/div_grad/Reshape_1&quot;\\n      }\\n    }\\n  }\\n}\\nnode {\\n  name: &quot;optimizer/gradients/fc_relu_1/Relu_grad/ReluGrad&quot;\\n  op: &quot;ReluGrad&quot;\\n  input: &quot;optimizer/gradients/dropout_fc1/dropout/div_grad/tuple/control_dependency&quot;\\n  input: &quot;fc_relu_1/Relu&quot;\\n  attr {\\n    key: &quot;T&quot;\\n    value {\\n      type: DT_FLOAT\\n    }\\n  }\\n}\\nnode {\\n  name: &quot;optimizer/gradients/fc_1/BiasAdd_grad/BiasAddGrad&quot;\\n  op: &quot;BiasAddGrad&quot;\\n  input: &quot;optimizer/gradients/fc_relu_1/Relu_grad/ReluGrad&quot;\\n  attr {\\n    key: &quot;T&quot;\\n    value {\\n      type: DT_FLOAT\\n    }\\n  }\\n  attr {\\n    key: &quot;data_format&quot;\\n    value {\\n      s: &quot;NHWC&quot;\\n    }\\n  }\\n}\\nnode {\\n  name: &quot;optimizer/gradients/fc_1/BiasAdd_grad/tuple/group_deps&quot;\\n  op: &quot;NoOp&quot;\\n  input: &quot;^optimizer/gradients/fc_1/BiasAdd_grad/BiasAddGrad&quot;\\n  input: &quot;^optimizer/gradients/fc_relu_1/Relu_grad/ReluGrad&quot;\\n}\\nnode {\\n  name: &quot;optimizer/gradients/fc_1/BiasAdd_grad/tuple/control_dependency&quot;\\n  op: &quot;Identity&quot;\\n  input: &quot;optimizer/gradients/fc_relu_1/Relu_grad/ReluGrad&quot;\\n  input: &quot;^optimizer/gradients/fc_1/BiasAdd_grad/tuple/group_deps&quot;\\n  attr {\\n    key: &quot;T&quot;\\n    value {\\n      type: DT_FLOAT\\n    }\\n  }\\n  attr {\\n    key: &quot;_class&quot;\\n    value {\\n      list {\\n        s: &quot;loc:@optimizer/gradients/fc_relu_1/Relu_grad/ReluGrad&quot;\\n      }\\n    }\\n  }\\n}\\nnode {\\n  name: &quot;optimizer/gradients/fc_1/BiasAdd_grad/tuple/control_dependency_1&quot;\\n  op: &quot;Identity&quot;\\n  input: &quot;optimizer/gradients/fc_1/BiasAdd_grad/BiasAddGrad&quot;\\n  input: &quot;^optimizer/gradients/fc_1/BiasAdd_grad/tuple/group_deps&quot;\\n  attr {\\n    key: &quot;T&quot;\\n    value {\\n      type: DT_FLOAT\\n    }\\n  }\\n  attr {\\n    key: &quot;_class&quot;\\n    value {\\n      list {\\n        s: &quot;loc:@optimizer/gradients/fc_1/BiasAdd_grad/BiasAddGrad&quot;\\n      }\\n    }\\n  }\\n}\\nnode {\\n  name: &quot;optimizer/gradients/fc_1/MatMul_grad/MatMul&quot;\\n  op: &quot;MatMul&quot;\\n  input: &quot;optimizer/gradients/fc_1/BiasAdd_grad/tuple/control_dependency&quot;\\n  input: &quot;fc_1/weights/Variable/read&quot;\\n  attr {\\n    key: &quot;T&quot;\\n    value {\\n      type: DT_FLOAT\\n    }\\n  }\\n  attr {\\n    key: &quot;transpose_a&quot;\\n    value {\\n      b: false\\n    }\\n  }\\n  attr {\\n    key: &quot;transpose_b&quot;\\n    value {\\n      b: true\\n    }\\n  }\\n}\\nnode {\\n  name: &quot;optimizer/gradients/fc_1/MatMul_grad/MatMul_1&quot;\\n  op: &quot;MatMul&quot;\\n  input: &quot;pool2_flat/Reshape&quot;\\n  input: &quot;optimizer/gradients/fc_1/BiasAdd_grad/tuple/control_dependency&quot;\\n  attr {\\n    key: &quot;T&quot;\\n    value {\\n      type: DT_FLOAT\\n    }\\n  }\\n  attr {\\n    key: &quot;transpose_a&quot;\\n    value {\\n      b: true\\n    }\\n  }\\n  attr {\\n    key: &quot;transpose_b&quot;\\n    value {\\n      b: false\\n    }\\n  }\\n}\\nnode {\\n  name: &quot;optimizer/gradients/fc_1/MatMul_grad/tuple/group_deps&quot;\\n  op: &quot;NoOp&quot;\\n  input: &quot;^optimizer/gradients/fc_1/MatMul_grad/MatMul&quot;\\n  input: &quot;^optimizer/gradients/fc_1/MatMul_grad/MatMul_1&quot;\\n}\\nnode {\\n  name: &quot;optimizer/gradients/fc_1/MatMul_grad/tuple/control_dependency&quot;\\n  op: &quot;Identity&quot;\\n  input: &quot;optimizer/gradients/fc_1/MatMul_grad/MatMul&quot;\\n  input: &quot;^optimizer/gradients/fc_1/MatMul_grad/tuple/group_deps&quot;\\n  attr {\\n    key: &quot;T&quot;\\n    value {\\n      type: DT_FLOAT\\n    }\\n  }\\n  attr {\\n    key: &quot;_class&quot;\\n    value {\\n      list {\\n        s: &quot;loc:@optimizer/gradients/fc_1/MatMul_grad/MatMul&quot;\\n      }\\n    }\\n  }\\n}\\nnode {\\n  name: &quot;optimizer/gradients/fc_1/MatMul_grad/tuple/control_dependency_1&quot;\\n  op: &quot;Identity&quot;\\n  input: &quot;optimizer/gradients/fc_1/MatMul_grad/MatMul_1&quot;\\n  input: &quot;^optimizer/gradients/fc_1/MatMul_grad/tuple/group_deps&quot;\\n  attr {\\n    key: &quot;T&quot;\\n    value {\\n      type: DT_FLOAT\\n    }\\n  }\\n  attr {\\n    key: &quot;_class&quot;\\n    value {\\n      list {\\n        s: &quot;loc:@optimizer/gradients/fc_1/MatMul_grad/MatMul_1&quot;\\n      }\\n    }\\n  }\\n}\\nnode {\\n  name: &quot;optimizer/gradients/pool2_flat/Reshape_grad/Shape&quot;\\n  op: &quot;Shape&quot;\\n  input: &quot;pool_2/2&quot;\\n  attr {\\n    key: &quot;T&quot;\\n    value {\\n      type: DT_FLOAT\\n    }\\n  }\\n  attr {\\n    key: &quot;out_type&quot;\\n    value {\\n      type: DT_INT32\\n    }\\n  }\\n}\\nnode {\\n  name: &quot;optimizer/gradients/pool2_flat/Reshape_grad/Reshape&quot;\\n  op: &quot;Reshape&quot;\\n  input: &quot;optimizer/gradients/fc_1/MatMul_grad/tuple/control_dependency&quot;\\n  input: &quot;optimizer/gradients/pool2_flat/Reshape_grad/Shape&quot;\\n  attr {\\n    key: &quot;T&quot;\\n    value {\\n      type: DT_FLOAT\\n    }\\n  }\\n  attr {\\n    key: &quot;Tshape&quot;\\n    value {\\n      type: DT_INT32\\n    }\\n  }\\n}\\nnode {\\n  name: &quot;optimizer/gradients/pool_2/2_grad/MaxPoolGrad&quot;\\n  op: &quot;MaxPoolGrad&quot;\\n  input: &quot;conv_relu_2/Relu&quot;\\n  input: &quot;pool_2/2&quot;\\n  input: &quot;optimizer/gradients/pool2_flat/Reshape_grad/Reshape&quot;\\n  attr {\\n    key: &quot;T&quot;\\n    value {\\n      type: DT_FLOAT\\n    }\\n  }\\n  attr {\\n    key: &quot;data_format&quot;\\n    value {\\n      s: &quot;NHWC&quot;\\n    }\\n  }\\n  attr {\\n    key: &quot;ksize&quot;\\n    value {\\n      list {\\n        i: 1\\n        i: 2\\n        i: 2\\n        i: 1\\n      }\\n    }\\n  }\\n  attr {\\n    key: &quot;padding&quot;\\n    value {\\n      s: &quot;SAME&quot;\\n    }\\n  }\\n  attr {\\n    key: &quot;strides&quot;\\n    value {\\n      list {\\n        i: 1\\n        i: 2\\n        i: 2\\n        i: 1\\n      }\\n    }\\n  }\\n}\\nnode {\\n  name: &quot;optimizer/gradients/conv_relu_2/Relu_grad/ReluGrad&quot;\\n  op: &quot;ReluGrad&quot;\\n  input: &quot;optimizer/gradients/pool_2/2_grad/MaxPoolGrad&quot;\\n  input: &quot;conv_relu_2/Relu&quot;\\n  attr {\\n    key: &quot;T&quot;\\n    value {\\n      type: DT_FLOAT\\n    }\\n  }\\n}\\nnode {\\n  name: &quot;optimizer/gradients/conv_2/BiasAdd_grad/BiasAddGrad&quot;\\n  op: &quot;BiasAddGrad&quot;\\n  input: &quot;optimizer/gradients/conv_relu_2/Relu_grad/ReluGrad&quot;\\n  attr {\\n    key: &quot;T&quot;\\n    value {\\n      type: DT_FLOAT\\n    }\\n  }\\n  attr {\\n    key: &quot;data_format&quot;\\n    value {\\n      s: &quot;NHWC&quot;\\n    }\\n  }\\n}\\nnode {\\n  name: &quot;optimizer/gradients/conv_2/BiasAdd_grad/tuple/group_deps&quot;\\n  op: &quot;NoOp&quot;\\n  input: &quot;^optimizer/gradients/conv_2/BiasAdd_grad/BiasAddGrad&quot;\\n  input: &quot;^optimizer/gradients/conv_relu_2/Relu_grad/ReluGrad&quot;\\n}\\nnode {\\n  name: &quot;optimizer/gradients/conv_2/BiasAdd_grad/tuple/control_dependency&quot;\\n  op: &quot;Identity&quot;\\n  input: &quot;optimizer/gradients/conv_relu_2/Relu_grad/ReluGrad&quot;\\n  input: &quot;^optimizer/gradients/conv_2/BiasAdd_grad/tuple/group_deps&quot;\\n  attr {\\n    key: &quot;T&quot;\\n    value {\\n      type: DT_FLOAT\\n    }\\n  }\\n  attr {\\n    key: &quot;_class&quot;\\n    value {\\n      list {\\n        s: &quot;loc:@optimizer/gradients/conv_relu_2/Relu_grad/ReluGrad&quot;\\n      }\\n    }\\n  }\\n}\\nnode {\\n  name: &quot;optimizer/gradients/conv_2/BiasAdd_grad/tuple/control_dependency_1&quot;\\n  op: &quot;Identity&quot;\\n  input: &quot;optimizer/gradients/conv_2/BiasAdd_grad/BiasAddGrad&quot;\\n  input: &quot;^optimizer/gradients/conv_2/BiasAdd_grad/tuple/group_deps&quot;\\n  attr {\\n    key: &quot;T&quot;\\n    value {\\n      type: DT_FLOAT\\n    }\\n  }\\n  attr {\\n    key: &quot;_class&quot;\\n    value {\\n      list {\\n        s: &quot;loc:@optimizer/gradients/conv_2/BiasAdd_grad/BiasAddGrad&quot;\\n      }\\n    }\\n  }\\n}\\nnode {\\n  name: &quot;optimizer/gradients/conv_2/conv2d_2_grad/ShapeN&quot;\\n  op: &quot;ShapeN&quot;\\n  input: &quot;pool_1/1&quot;\\n  input: &quot;conv_2/weights/Variable/read&quot;\\n  attr {\\n    key: &quot;N&quot;\\n    value {\\n      i: 2\\n    }\\n  }\\n  attr {\\n    key: &quot;T&quot;\\n    value {\\n      type: DT_FLOAT\\n    }\\n  }\\n  attr {\\n    key: &quot;out_type&quot;\\n    value {\\n      type: DT_INT32\\n    }\\n  }\\n}\\nnode {\\n  name: &quot;optimizer/gradients/conv_2/conv2d_2_grad/Conv2DBackpropInput&quot;\\n  op: &quot;Conv2DBackpropInput&quot;\\n  input: &quot;optimizer/gradients/conv_2/conv2d_2_grad/ShapeN&quot;\\n  input: &quot;conv_2/weights/Variable/read&quot;\\n  input: &quot;optimizer/gradients/conv_2/BiasAdd_grad/tuple/control_dependency&quot;\\n  attr {\\n    key: &quot;T&quot;\\n    value {\\n      type: DT_FLOAT\\n    }\\n  }\\n  attr {\\n    key: &quot;data_format&quot;\\n    value {\\n      s: &quot;NHWC&quot;\\n    }\\n  }\\n  attr {\\n    key: &quot;dilations&quot;\\n    value {\\n      list {\\n        i: 1\\n        i: 1\\n        i: 1\\n        i: 1\\n      }\\n    }\\n  }\\n  attr {\\n    key: &quot;padding&quot;\\n    value {\\n      s: &quot;SAME&quot;\\n    }\\n  }\\n  attr {\\n    key: &quot;strides&quot;\\n    value {\\n      list {\\n        i: 1\\n        i: 1\\n        i: 1\\n        i: 1\\n      }\\n    }\\n  }\\n  attr {\\n    key: &quot;use_cudnn_on_gpu&quot;\\n    value {\\n      b: true\\n    }\\n  }\\n}\\nnode {\\n  name: &quot;optimizer/gradients/conv_2/conv2d_2_grad/Conv2DBackpropFilter&quot;\\n  op: &quot;Conv2DBackpropFilter&quot;\\n  input: &quot;pool_1/1&quot;\\n  input: &quot;optimizer/gradients/conv_2/conv2d_2_grad/ShapeN:1&quot;\\n  input: &quot;optimizer/gradients/conv_2/BiasAdd_grad/tuple/control_dependency&quot;\\n  attr {\\n    key: &quot;T&quot;\\n    value {\\n      type: DT_FLOAT\\n    }\\n  }\\n  attr {\\n    key: &quot;data_format&quot;\\n    value {\\n      s: &quot;NHWC&quot;\\n    }\\n  }\\n  attr {\\n    key: &quot;dilations&quot;\\n    value {\\n      list {\\n        i: 1\\n        i: 1\\n        i: 1\\n        i: 1\\n      }\\n    }\\n  }\\n  attr {\\n    key: &quot;padding&quot;\\n    value {\\n      s: &quot;SAME&quot;\\n    }\\n  }\\n  attr {\\n    key: &quot;strides&quot;\\n    value {\\n      list {\\n        i: 1\\n        i: 1\\n        i: 1\\n        i: 1\\n      }\\n    }\\n  }\\n  attr {\\n    key: &quot;use_cudnn_on_gpu&quot;\\n    value {\\n      b: true\\n    }\\n  }\\n}\\nnode {\\n  name: &quot;optimizer/gradients/conv_2/conv2d_2_grad/tuple/group_deps&quot;\\n  op: &quot;NoOp&quot;\\n  input: &quot;^optimizer/gradients/conv_2/conv2d_2_grad/Conv2DBackpropFilter&quot;\\n  input: &quot;^optimizer/gradients/conv_2/conv2d_2_grad/Conv2DBackpropInput&quot;\\n}\\nnode {\\n  name: &quot;optimizer/gradients/conv_2/conv2d_2_grad/tuple/control_dependency&quot;\\n  op: &quot;Identity&quot;\\n  input: &quot;optimizer/gradients/conv_2/conv2d_2_grad/Conv2DBackpropInput&quot;\\n  input: &quot;^optimizer/gradients/conv_2/conv2d_2_grad/tuple/group_deps&quot;\\n  attr {\\n    key: &quot;T&quot;\\n    value {\\n      type: DT_FLOAT\\n    }\\n  }\\n  attr {\\n    key: &quot;_class&quot;\\n    value {\\n      list {\\n        s: &quot;loc:@optimizer/gradients/conv_2/conv2d_2_grad/Conv2DBackpropInput&quot;\\n      }\\n    }\\n  }\\n}\\nnode {\\n  name: &quot;optimizer/gradients/conv_2/conv2d_2_grad/tuple/control_dependency_1&quot;\\n  op: &quot;Identity&quot;\\n  input: &quot;optimizer/gradients/conv_2/conv2d_2_grad/Conv2DBackpropFilter&quot;\\n  input: &quot;^optimizer/gradients/conv_2/conv2d_2_grad/tuple/group_deps&quot;\\n  attr {\\n    key: &quot;T&quot;\\n    value {\\n      type: DT_FLOAT\\n    }\\n  }\\n  attr {\\n    key: &quot;_class&quot;\\n    value {\\n      list {\\n        s: &quot;loc:@optimizer/gradients/conv_2/conv2d_2_grad/Conv2DBackpropFilter&quot;\\n      }\\n    }\\n  }\\n}\\nnode {\\n  name: &quot;optimizer/gradients/pool_1/1_grad/MaxPoolGrad&quot;\\n  op: &quot;MaxPoolGrad&quot;\\n  input: &quot;conv_relu_1/Relu&quot;\\n  input: &quot;pool_1/1&quot;\\n  input: &quot;optimizer/gradients/conv_2/conv2d_2_grad/tuple/control_dependency&quot;\\n  attr {\\n    key: &quot;T&quot;\\n    value {\\n      type: DT_FLOAT\\n    }\\n  }\\n  attr {\\n    key: &quot;data_format&quot;\\n    value {\\n      s: &quot;NHWC&quot;\\n    }\\n  }\\n  attr {\\n    key: &quot;ksize&quot;\\n    value {\\n      list {\\n        i: 1\\n        i: 2\\n        i: 2\\n        i: 1\\n      }\\n    }\\n  }\\n  attr {\\n    key: &quot;padding&quot;\\n    value {\\n      s: &quot;SAME&quot;\\n    }\\n  }\\n  attr {\\n    key: &quot;strides&quot;\\n    value {\\n      list {\\n        i: 1\\n        i: 2\\n        i: 2\\n        i: 1\\n      }\\n    }\\n  }\\n}\\nnode {\\n  name: &quot;optimizer/gradients/conv_relu_1/Relu_grad/ReluGrad&quot;\\n  op: &quot;ReluGrad&quot;\\n  input: &quot;optimizer/gradients/pool_1/1_grad/MaxPoolGrad&quot;\\n  input: &quot;conv_relu_1/Relu&quot;\\n  attr {\\n    key: &quot;T&quot;\\n    value {\\n      type: DT_FLOAT\\n    }\\n  }\\n}\\nnode {\\n  name: &quot;optimizer/gradients/conv_1/BiasAdd_grad/BiasAddGrad&quot;\\n  op: &quot;BiasAddGrad&quot;\\n  input: &quot;optimizer/gradients/conv_relu_1/Relu_grad/ReluGrad&quot;\\n  attr {\\n    key: &quot;T&quot;\\n    value {\\n      type: DT_FLOAT\\n    }\\n  }\\n  attr {\\n    key: &quot;data_format&quot;\\n    value {\\n      s: &quot;NHWC&quot;\\n    }\\n  }\\n}\\nnode {\\n  name: &quot;optimizer/gradients/conv_1/BiasAdd_grad/tuple/group_deps&quot;\\n  op: &quot;NoOp&quot;\\n  input: &quot;^optimizer/gradients/conv_1/BiasAdd_grad/BiasAddGrad&quot;\\n  input: &quot;^optimizer/gradients/conv_relu_1/Relu_grad/ReluGrad&quot;\\n}\\nnode {\\n  name: &quot;optimizer/gradients/conv_1/BiasAdd_grad/tuple/control_dependency&quot;\\n  op: &quot;Identity&quot;\\n  input: &quot;optimizer/gradients/conv_relu_1/Relu_grad/ReluGrad&quot;\\n  input: &quot;^optimizer/gradients/conv_1/BiasAdd_grad/tuple/group_deps&quot;\\n  attr {\\n    key: &quot;T&quot;\\n    value {\\n      type: DT_FLOAT\\n    }\\n  }\\n  attr {\\n    key: &quot;_class&quot;\\n    value {\\n      list {\\n        s: &quot;loc:@optimizer/gradients/conv_relu_1/Relu_grad/ReluGrad&quot;\\n      }\\n    }\\n  }\\n}\\nnode {\\n  name: &quot;optimizer/gradients/conv_1/BiasAdd_grad/tuple/control_dependency_1&quot;\\n  op: &quot;Identity&quot;\\n  input: &quot;optimizer/gradients/conv_1/BiasAdd_grad/BiasAddGrad&quot;\\n  input: &quot;^optimizer/gradients/conv_1/BiasAdd_grad/tuple/group_deps&quot;\\n  attr {\\n    key: &quot;T&quot;\\n    value {\\n      type: DT_FLOAT\\n    }\\n  }\\n  attr {\\n    key: &quot;_class&quot;\\n    value {\\n      list {\\n        s: &quot;loc:@optimizer/gradients/conv_1/BiasAdd_grad/BiasAddGrad&quot;\\n      }\\n    }\\n  }\\n}\\nnode {\\n  name: &quot;optimizer/gradients/conv_1/conv2d_1_grad/ShapeN&quot;\\n  op: &quot;ShapeN&quot;\\n  input: &quot;input_reshape/Reshape&quot;\\n  input: &quot;conv_1/weights/Variable/read&quot;\\n  attr {\\n    key: &quot;N&quot;\\n    value {\\n      i: 2\\n    }\\n  }\\n  attr {\\n    key: &quot;T&quot;\\n    value {\\n      type: DT_FLOAT\\n    }\\n  }\\n  attr {\\n    key: &quot;out_type&quot;\\n    value {\\n      type: DT_INT32\\n    }\\n  }\\n}\\nnode {\\n  name: &quot;optimizer/gradients/conv_1/conv2d_1_grad/Conv2DBackpropInput&quot;\\n  op: &quot;Conv2DBackpropInput&quot;\\n  input: &quot;optimizer/gradients/conv_1/conv2d_1_grad/ShapeN&quot;\\n  input: &quot;conv_1/weights/Variable/read&quot;\\n  input: &quot;optimizer/gradients/conv_1/BiasAdd_grad/tuple/control_dependency&quot;\\n  attr {\\n    key: &quot;T&quot;\\n    value {\\n      type: DT_FLOAT\\n    }\\n  }\\n  attr {\\n    key: &quot;data_format&quot;\\n    value {\\n      s: &quot;NHWC&quot;\\n    }\\n  }\\n  attr {\\n    key: &quot;dilations&quot;\\n    value {\\n      list {\\n        i: 1\\n        i: 1\\n        i: 1\\n        i: 1\\n      }\\n    }\\n  }\\n  attr {\\n    key: &quot;padding&quot;\\n    value {\\n      s: &quot;SAME&quot;\\n    }\\n  }\\n  attr {\\n    key: &quot;strides&quot;\\n    value {\\n      list {\\n        i: 1\\n        i: 1\\n        i: 1\\n        i: 1\\n      }\\n    }\\n  }\\n  attr {\\n    key: &quot;use_cudnn_on_gpu&quot;\\n    value {\\n      b: true\\n    }\\n  }\\n}\\nnode {\\n  name: &quot;optimizer/gradients/conv_1/conv2d_1_grad/Conv2DBackpropFilter&quot;\\n  op: &quot;Conv2DBackpropFilter&quot;\\n  input: &quot;input_reshape/Reshape&quot;\\n  input: &quot;optimizer/gradients/conv_1/conv2d_1_grad/ShapeN:1&quot;\\n  input: &quot;optimizer/gradients/conv_1/BiasAdd_grad/tuple/control_dependency&quot;\\n  attr {\\n    key: &quot;T&quot;\\n    value {\\n      type: DT_FLOAT\\n    }\\n  }\\n  attr {\\n    key: &quot;data_format&quot;\\n    value {\\n      s: &quot;NHWC&quot;\\n    }\\n  }\\n  attr {\\n    key: &quot;dilations&quot;\\n    value {\\n      list {\\n        i: 1\\n        i: 1\\n        i: 1\\n        i: 1\\n      }\\n    }\\n  }\\n  attr {\\n    key: &quot;padding&quot;\\n    value {\\n      s: &quot;SAME&quot;\\n    }\\n  }\\n  attr {\\n    key: &quot;strides&quot;\\n    value {\\n      list {\\n        i: 1\\n        i: 1\\n        i: 1\\n        i: 1\\n      }\\n    }\\n  }\\n  attr {\\n    key: &quot;use_cudnn_on_gpu&quot;\\n    value {\\n      b: true\\n    }\\n  }\\n}\\nnode {\\n  name: &quot;optimizer/gradients/conv_1/conv2d_1_grad/tuple/group_deps&quot;\\n  op: &quot;NoOp&quot;\\n  input: &quot;^optimizer/gradients/conv_1/conv2d_1_grad/Conv2DBackpropFilter&quot;\\n  input: &quot;^optimizer/gradients/conv_1/conv2d_1_grad/Conv2DBackpropInput&quot;\\n}\\nnode {\\n  name: &quot;optimizer/gradients/conv_1/conv2d_1_grad/tuple/control_dependency&quot;\\n  op: &quot;Identity&quot;\\n  input: &quot;optimizer/gradients/conv_1/conv2d_1_grad/Conv2DBackpropInput&quot;\\n  input: &quot;^optimizer/gradients/conv_1/conv2d_1_grad/tuple/group_deps&quot;\\n  attr {\\n    key: &quot;T&quot;\\n    value {\\n      type: DT_FLOAT\\n    }\\n  }\\n  attr {\\n    key: &quot;_class&quot;\\n    value {\\n      list {\\n        s: &quot;loc:@optimizer/gradients/conv_1/conv2d_1_grad/Conv2DBackpropInput&quot;\\n      }\\n    }\\n  }\\n}\\nnode {\\n  name: &quot;optimizer/gradients/conv_1/conv2d_1_grad/tuple/control_dependency_1&quot;\\n  op: &quot;Identity&quot;\\n  input: &quot;optimizer/gradients/conv_1/conv2d_1_grad/Conv2DBackpropFilter&quot;\\n  input: &quot;^optimizer/gradients/conv_1/conv2d_1_grad/tuple/group_deps&quot;\\n  attr {\\n    key: &quot;T&quot;\\n    value {\\n      type: DT_FLOAT\\n    }\\n  }\\n  attr {\\n    key: &quot;_class&quot;\\n    value {\\n      list {\\n        s: &quot;loc:@optimizer/gradients/conv_1/conv2d_1_grad/Conv2DBackpropFilter&quot;\\n      }\\n    }\\n  }\\n}\\nnode {\\n  name: &quot;optimizer/beta1_power/initial_value&quot;\\n  op: &quot;Const&quot;\\n  attr {\\n    key: &quot;_class&quot;\\n    value {\\n      list {\\n        s: &quot;loc:@conv_1/biases/Variable&quot;\\n      }\\n    }\\n  }\\n  attr {\\n    key: &quot;dtype&quot;\\n    value {\\n      type: DT_FLOAT\\n    }\\n  }\\n  attr {\\n    key: &quot;value&quot;\\n    value {\\n      tensor {\\n        dtype: DT_FLOAT\\n        tensor_shape {\\n        }\\n        float_val: 0.8999999761581421\\n      }\\n    }\\n  }\\n}\\nnode {\\n  name: &quot;optimizer/beta1_power&quot;\\n  op: &quot;VariableV2&quot;\\n  attr {\\n    key: &quot;_class&quot;\\n    value {\\n      list {\\n        s: &quot;loc:@conv_1/biases/Variable&quot;\\n      }\\n    }\\n  }\\n  attr {\\n    key: &quot;container&quot;\\n    value {\\n      s: &quot;&quot;\\n    }\\n  }\\n  attr {\\n    key: &quot;dtype&quot;\\n    value {\\n      type: DT_FLOAT\\n    }\\n  }\\n  attr {\\n    key: &quot;shape&quot;\\n    value {\\n      shape {\\n      }\\n    }\\n  }\\n  attr {\\n    key: &quot;shared_name&quot;\\n    value {\\n      s: &quot;&quot;\\n    }\\n  }\\n}\\nnode {\\n  name: &quot;optimizer/beta1_power/Assign&quot;\\n  op: &quot;Assign&quot;\\n  input: &quot;optimizer/beta1_power&quot;\\n  input: &quot;optimizer/beta1_power/initial_value&quot;\\n  attr {\\n    key: &quot;T&quot;\\n    value {\\n      type: DT_FLOAT\\n    }\\n  }\\n  attr {\\n    key: &quot;_class&quot;\\n    value {\\n      list {\\n        s: &quot;loc:@conv_1/biases/Variable&quot;\\n      }\\n    }\\n  }\\n  attr {\\n    key: &quot;use_locking&quot;\\n    value {\\n      b: true\\n    }\\n  }\\n  attr {\\n    key: &quot;validate_shape&quot;\\n    value {\\n      b: true\\n    }\\n  }\\n}\\nnode {\\n  name: &quot;optimizer/beta1_power/read&quot;\\n  op: &quot;Identity&quot;\\n  input: &quot;optimizer/beta1_power&quot;\\n  attr {\\n    key: &quot;T&quot;\\n    value {\\n      type: DT_FLOAT\\n    }\\n  }\\n  attr {\\n    key: &quot;_class&quot;\\n    value {\\n      list {\\n        s: &quot;loc:@conv_1/biases/Variable&quot;\\n      }\\n    }\\n  }\\n}\\nnode {\\n  name: &quot;optimizer/beta2_power/initial_value&quot;\\n  op: &quot;Const&quot;\\n  attr {\\n    key: &quot;_class&quot;\\n    value {\\n      list {\\n        s: &quot;loc:@conv_1/biases/Variable&quot;\\n      }\\n    }\\n  }\\n  attr {\\n    key: &quot;dtype&quot;\\n    value {\\n      type: DT_FLOAT\\n    }\\n  }\\n  attr {\\n    key: &quot;value&quot;\\n    value {\\n      tensor {\\n        dtype: DT_FLOAT\\n        tensor_shape {\\n        }\\n        float_val: 0.9990000128746033\\n      }\\n    }\\n  }\\n}\\nnode {\\n  name: &quot;optimizer/beta2_power&quot;\\n  op: &quot;VariableV2&quot;\\n  attr {\\n    key: &quot;_class&quot;\\n    value {\\n      list {\\n        s: &quot;loc:@conv_1/biases/Variable&quot;\\n      }\\n    }\\n  }\\n  attr {\\n    key: &quot;container&quot;\\n    value {\\n      s: &quot;&quot;\\n    }\\n  }\\n  attr {\\n    key: &quot;dtype&quot;\\n    value {\\n      type: DT_FLOAT\\n    }\\n  }\\n  attr {\\n    key: &quot;shape&quot;\\n    value {\\n      shape {\\n      }\\n    }\\n  }\\n  attr {\\n    key: &quot;shared_name&quot;\\n    value {\\n      s: &quot;&quot;\\n    }\\n  }\\n}\\nnode {\\n  name: &quot;optimizer/beta2_power/Assign&quot;\\n  op: &quot;Assign&quot;\\n  input: &quot;optimizer/beta2_power&quot;\\n  input: &quot;optimizer/beta2_power/initial_value&quot;\\n  attr {\\n    key: &quot;T&quot;\\n    value {\\n      type: DT_FLOAT\\n    }\\n  }\\n  attr {\\n    key: &quot;_class&quot;\\n    value {\\n      list {\\n        s: &quot;loc:@conv_1/biases/Variable&quot;\\n      }\\n    }\\n  }\\n  attr {\\n    key: &quot;use_locking&quot;\\n    value {\\n      b: true\\n    }\\n  }\\n  attr {\\n    key: &quot;validate_shape&quot;\\n    value {\\n      b: true\\n    }\\n  }\\n}\\nnode {\\n  name: &quot;optimizer/beta2_power/read&quot;\\n  op: &quot;Identity&quot;\\n  input: &quot;optimizer/beta2_power&quot;\\n  attr {\\n    key: &quot;T&quot;\\n    value {\\n      type: DT_FLOAT\\n    }\\n  }\\n  attr {\\n    key: &quot;_class&quot;\\n    value {\\n      list {\\n        s: &quot;loc:@conv_1/biases/Variable&quot;\\n      }\\n    }\\n  }\\n}\\nnode {\\n  name: &quot;conv_1/weights/Variable/Adam/Initializer/zeros&quot;\\n  op: &quot;Const&quot;\\n  attr {\\n    key: &quot;_class&quot;\\n    value {\\n      list {\\n        s: &quot;loc:@conv_1/weights/Variable&quot;\\n      }\\n    }\\n  }\\n  attr {\\n    key: &quot;dtype&quot;\\n    value {\\n      type: DT_FLOAT\\n    }\\n  }\\n  attr {\\n    key: &quot;value&quot;\\n    value {\\n      tensor {\\n        dtype: DT_FLOAT\\n        tensor_shape {\\n          dim {\\n            size: 5\\n          }\\n          dim {\\n            size: 5\\n          }\\n          dim {\\n            size: 1\\n          }\\n          dim {\\n            size: 32\\n          }\\n        }\\n        float_val: 0.0\\n      }\\n    }\\n  }\\n}\\nnode {\\n  name: &quot;conv_1/weights/Variable/Adam&quot;\\n  op: &quot;VariableV2&quot;\\n  attr {\\n    key: &quot;_class&quot;\\n    value {\\n      list {\\n        s: &quot;loc:@conv_1/weights/Variable&quot;\\n      }\\n    }\\n  }\\n  attr {\\n    key: &quot;container&quot;\\n    value {\\n      s: &quot;&quot;\\n    }\\n  }\\n  attr {\\n    key: &quot;dtype&quot;\\n    value {\\n      type: DT_FLOAT\\n    }\\n  }\\n  attr {\\n    key: &quot;shape&quot;\\n    value {\\n      shape {\\n        dim {\\n          size: 5\\n        }\\n        dim {\\n          size: 5\\n        }\\n        dim {\\n          size: 1\\n        }\\n        dim {\\n          size: 32\\n        }\\n      }\\n    }\\n  }\\n  attr {\\n    key: &quot;shared_name&quot;\\n    value {\\n      s: &quot;&quot;\\n    }\\n  }\\n}\\nnode {\\n  name: &quot;conv_1/weights/Variable/Adam/Assign&quot;\\n  op: &quot;Assign&quot;\\n  input: &quot;conv_1/weights/Variable/Adam&quot;\\n  input: &quot;conv_1/weights/Variable/Adam/Initializer/zeros&quot;\\n  attr {\\n    key: &quot;T&quot;\\n    value {\\n      type: DT_FLOAT\\n    }\\n  }\\n  attr {\\n    key: &quot;_class&quot;\\n    value {\\n      list {\\n        s: &quot;loc:@conv_1/weights/Variable&quot;\\n      }\\n    }\\n  }\\n  attr {\\n    key: &quot;use_locking&quot;\\n    value {\\n      b: true\\n    }\\n  }\\n  attr {\\n    key: &quot;validate_shape&quot;\\n    value {\\n      b: true\\n    }\\n  }\\n}\\nnode {\\n  name: &quot;conv_1/weights/Variable/Adam/read&quot;\\n  op: &quot;Identity&quot;\\n  input: &quot;conv_1/weights/Variable/Adam&quot;\\n  attr {\\n    key: &quot;T&quot;\\n    value {\\n      type: DT_FLOAT\\n    }\\n  }\\n  attr {\\n    key: &quot;_class&quot;\\n    value {\\n      list {\\n        s: &quot;loc:@conv_1/weights/Variable&quot;\\n      }\\n    }\\n  }\\n}\\nnode {\\n  name: &quot;conv_1/weights/Variable/Adam_1/Initializer/zeros&quot;\\n  op: &quot;Const&quot;\\n  attr {\\n    key: &quot;_class&quot;\\n    value {\\n      list {\\n        s: &quot;loc:@conv_1/weights/Variable&quot;\\n      }\\n    }\\n  }\\n  attr {\\n    key: &quot;dtype&quot;\\n    value {\\n      type: DT_FLOAT\\n    }\\n  }\\n  attr {\\n    key: &quot;value&quot;\\n    value {\\n      tensor {\\n        dtype: DT_FLOAT\\n        tensor_shape {\\n          dim {\\n            size: 5\\n          }\\n          dim {\\n            size: 5\\n          }\\n          dim {\\n            size: 1\\n          }\\n          dim {\\n            size: 32\\n          }\\n        }\\n        float_val: 0.0\\n      }\\n    }\\n  }\\n}\\nnode {\\n  name: &quot;conv_1/weights/Variable/Adam_1&quot;\\n  op: &quot;VariableV2&quot;\\n  attr {\\n    key: &quot;_class&quot;\\n    value {\\n      list {\\n        s: &quot;loc:@conv_1/weights/Variable&quot;\\n      }\\n    }\\n  }\\n  attr {\\n    key: &quot;container&quot;\\n    value {\\n      s: &quot;&quot;\\n    }\\n  }\\n  attr {\\n    key: &quot;dtype&quot;\\n    value {\\n      type: DT_FLOAT\\n    }\\n  }\\n  attr {\\n    key: &quot;shape&quot;\\n    value {\\n      shape {\\n        dim {\\n          size: 5\\n        }\\n        dim {\\n          size: 5\\n        }\\n        dim {\\n          size: 1\\n        }\\n        dim {\\n          size: 32\\n        }\\n      }\\n    }\\n  }\\n  attr {\\n    key: &quot;shared_name&quot;\\n    value {\\n      s: &quot;&quot;\\n    }\\n  }\\n}\\nnode {\\n  name: &quot;conv_1/weights/Variable/Adam_1/Assign&quot;\\n  op: &quot;Assign&quot;\\n  input: &quot;conv_1/weights/Variable/Adam_1&quot;\\n  input: &quot;conv_1/weights/Variable/Adam_1/Initializer/zeros&quot;\\n  attr {\\n    key: &quot;T&quot;\\n    value {\\n      type: DT_FLOAT\\n    }\\n  }\\n  attr {\\n    key: &quot;_class&quot;\\n    value {\\n      list {\\n        s: &quot;loc:@conv_1/weights/Variable&quot;\\n      }\\n    }\\n  }\\n  attr {\\n    key: &quot;use_locking&quot;\\n    value {\\n      b: true\\n    }\\n  }\\n  attr {\\n    key: &quot;validate_shape&quot;\\n    value {\\n      b: true\\n    }\\n  }\\n}\\nnode {\\n  name: &quot;conv_1/weights/Variable/Adam_1/read&quot;\\n  op: &quot;Identity&quot;\\n  input: &quot;conv_1/weights/Variable/Adam_1&quot;\\n  attr {\\n    key: &quot;T&quot;\\n    value {\\n      type: DT_FLOAT\\n    }\\n  }\\n  attr {\\n    key: &quot;_class&quot;\\n    value {\\n      list {\\n        s: &quot;loc:@conv_1/weights/Variable&quot;\\n      }\\n    }\\n  }\\n}\\nnode {\\n  name: &quot;conv_1/biases/Variable/Adam/Initializer/zeros&quot;\\n  op: &quot;Const&quot;\\n  attr {\\n    key: &quot;_class&quot;\\n    value {\\n      list {\\n        s: &quot;loc:@conv_1/biases/Variable&quot;\\n      }\\n    }\\n  }\\n  attr {\\n    key: &quot;dtype&quot;\\n    value {\\n      type: DT_FLOAT\\n    }\\n  }\\n  attr {\\n    key: &quot;value&quot;\\n    value {\\n      tensor {\\n        dtype: DT_FLOAT\\n        tensor_shape {\\n          dim {\\n            size: 32\\n          }\\n        }\\n        float_val: 0.0\\n      }\\n    }\\n  }\\n}\\nnode {\\n  name: &quot;conv_1/biases/Variable/Adam&quot;\\n  op: &quot;VariableV2&quot;\\n  attr {\\n    key: &quot;_class&quot;\\n    value {\\n      list {\\n        s: &quot;loc:@conv_1/biases/Variable&quot;\\n      }\\n    }\\n  }\\n  attr {\\n    key: &quot;container&quot;\\n    value {\\n      s: &quot;&quot;\\n    }\\n  }\\n  attr {\\n    key: &quot;dtype&quot;\\n    value {\\n      type: DT_FLOAT\\n    }\\n  }\\n  attr {\\n    key: &quot;shape&quot;\\n    value {\\n      shape {\\n        dim {\\n          size: 32\\n        }\\n      }\\n    }\\n  }\\n  attr {\\n    key: &quot;shared_name&quot;\\n    value {\\n      s: &quot;&quot;\\n    }\\n  }\\n}\\nnode {\\n  name: &quot;conv_1/biases/Variable/Adam/Assign&quot;\\n  op: &quot;Assign&quot;\\n  input: &quot;conv_1/biases/Variable/Adam&quot;\\n  input: &quot;conv_1/biases/Variable/Adam/Initializer/zeros&quot;\\n  attr {\\n    key: &quot;T&quot;\\n    value {\\n      type: DT_FLOAT\\n    }\\n  }\\n  attr {\\n    key: &quot;_class&quot;\\n    value {\\n      list {\\n        s: &quot;loc:@conv_1/biases/Variable&quot;\\n      }\\n    }\\n  }\\n  attr {\\n    key: &quot;use_locking&quot;\\n    value {\\n      b: true\\n    }\\n  }\\n  attr {\\n    key: &quot;validate_shape&quot;\\n    value {\\n      b: true\\n    }\\n  }\\n}\\nnode {\\n  name: &quot;conv_1/biases/Variable/Adam/read&quot;\\n  op: &quot;Identity&quot;\\n  input: &quot;conv_1/biases/Variable/Adam&quot;\\n  attr {\\n    key: &quot;T&quot;\\n    value {\\n      type: DT_FLOAT\\n    }\\n  }\\n  attr {\\n    key: &quot;_class&quot;\\n    value {\\n      list {\\n        s: &quot;loc:@conv_1/biases/Variable&quot;\\n      }\\n    }\\n  }\\n}\\nnode {\\n  name: &quot;conv_1/biases/Variable/Adam_1/Initializer/zeros&quot;\\n  op: &quot;Const&quot;\\n  attr {\\n    key: &quot;_class&quot;\\n    value {\\n      list {\\n        s: &quot;loc:@conv_1/biases/Variable&quot;\\n      }\\n    }\\n  }\\n  attr {\\n    key: &quot;dtype&quot;\\n    value {\\n      type: DT_FLOAT\\n    }\\n  }\\n  attr {\\n    key: &quot;value&quot;\\n    value {\\n      tensor {\\n        dtype: DT_FLOAT\\n        tensor_shape {\\n          dim {\\n            size: 32\\n          }\\n        }\\n        float_val: 0.0\\n      }\\n    }\\n  }\\n}\\nnode {\\n  name: &quot;conv_1/biases/Variable/Adam_1&quot;\\n  op: &quot;VariableV2&quot;\\n  attr {\\n    key: &quot;_class&quot;\\n    value {\\n      list {\\n        s: &quot;loc:@conv_1/biases/Variable&quot;\\n      }\\n    }\\n  }\\n  attr {\\n    key: &quot;container&quot;\\n    value {\\n      s: &quot;&quot;\\n    }\\n  }\\n  attr {\\n    key: &quot;dtype&quot;\\n    value {\\n      type: DT_FLOAT\\n    }\\n  }\\n  attr {\\n    key: &quot;shape&quot;\\n    value {\\n      shape {\\n        dim {\\n          size: 32\\n        }\\n      }\\n    }\\n  }\\n  attr {\\n    key: &quot;shared_name&quot;\\n    value {\\n      s: &quot;&quot;\\n    }\\n  }\\n}\\nnode {\\n  name: &quot;conv_1/biases/Variable/Adam_1/Assign&quot;\\n  op: &quot;Assign&quot;\\n  input: &quot;conv_1/biases/Variable/Adam_1&quot;\\n  input: &quot;conv_1/biases/Variable/Adam_1/Initializer/zeros&quot;\\n  attr {\\n    key: &quot;T&quot;\\n    value {\\n      type: DT_FLOAT\\n    }\\n  }\\n  attr {\\n    key: &quot;_class&quot;\\n    value {\\n      list {\\n        s: &quot;loc:@conv_1/biases/Variable&quot;\\n      }\\n    }\\n  }\\n  attr {\\n    key: &quot;use_locking&quot;\\n    value {\\n      b: true\\n    }\\n  }\\n  attr {\\n    key: &quot;validate_shape&quot;\\n    value {\\n      b: true\\n    }\\n  }\\n}\\nnode {\\n  name: &quot;conv_1/biases/Variable/Adam_1/read&quot;\\n  op: &quot;Identity&quot;\\n  input: &quot;conv_1/biases/Variable/Adam_1&quot;\\n  attr {\\n    key: &quot;T&quot;\\n    value {\\n      type: DT_FLOAT\\n    }\\n  }\\n  attr {\\n    key: &quot;_class&quot;\\n    value {\\n      list {\\n        s: &quot;loc:@conv_1/biases/Variable&quot;\\n      }\\n    }\\n  }\\n}\\nnode {\\n  name: &quot;conv_2/weights/Variable/Adam/Initializer/zeros/shape_as_tensor&quot;\\n  op: &quot;Const&quot;\\n  attr {\\n    key: &quot;_class&quot;\\n    value {\\n      list {\\n        s: &quot;loc:@conv_2/weights/Variable&quot;\\n      }\\n    }\\n  }\\n  attr {\\n    key: &quot;dtype&quot;\\n    value {\\n      type: DT_INT32\\n    }\\n  }\\n  attr {\\n    key: &quot;value&quot;\\n    value {\\n      tensor {\\n        dtype: DT_INT32\\n        tensor_shape {\\n          dim {\\n            size: 4\\n          }\\n        }\\n        tensor_content: &quot;\\\\005\\\\000\\\\000\\\\000\\\\005\\\\000\\\\000\\\\000 \\\\000\\\\000\\\\000@\\\\000\\\\000\\\\000&quot;\\n      }\\n    }\\n  }\\n}\\nnode {\\n  name: &quot;conv_2/weights/Variable/Adam/Initializer/zeros/Const&quot;\\n  op: &quot;Const&quot;\\n  attr {\\n    key: &quot;_class&quot;\\n    value {\\n      list {\\n        s: &quot;loc:@conv_2/weights/Variable&quot;\\n      }\\n    }\\n  }\\n  attr {\\n    key: &quot;dtype&quot;\\n    value {\\n      type: DT_FLOAT\\n    }\\n  }\\n  attr {\\n    key: &quot;value&quot;\\n    value {\\n      tensor {\\n        dtype: DT_FLOAT\\n        tensor_shape {\\n        }\\n        float_val: 0.0\\n      }\\n    }\\n  }\\n}\\nnode {\\n  name: &quot;conv_2/weights/Variable/Adam/Initializer/zeros&quot;\\n  op: &quot;Fill&quot;\\n  input: &quot;conv_2/weights/Variable/Adam/Initializer/zeros/shape_as_tensor&quot;\\n  input: &quot;conv_2/weights/Variable/Adam/Initializer/zeros/Const&quot;\\n  attr {\\n    key: &quot;T&quot;\\n    value {\\n      type: DT_FLOAT\\n    }\\n  }\\n  attr {\\n    key: &quot;_class&quot;\\n    value {\\n      list {\\n        s: &quot;loc:@conv_2/weights/Variable&quot;\\n      }\\n    }\\n  }\\n  attr {\\n    key: &quot;index_type&quot;\\n    value {\\n      type: DT_INT32\\n    }\\n  }\\n}\\nnode {\\n  name: &quot;conv_2/weights/Variable/Adam&quot;\\n  op: &quot;VariableV2&quot;\\n  attr {\\n    key: &quot;_class&quot;\\n    value {\\n      list {\\n        s: &quot;loc:@conv_2/weights/Variable&quot;\\n      }\\n    }\\n  }\\n  attr {\\n    key: &quot;container&quot;\\n    value {\\n      s: &quot;&quot;\\n    }\\n  }\\n  attr {\\n    key: &quot;dtype&quot;\\n    value {\\n      type: DT_FLOAT\\n    }\\n  }\\n  attr {\\n    key: &quot;shape&quot;\\n    value {\\n      shape {\\n        dim {\\n          size: 5\\n        }\\n        dim {\\n          size: 5\\n        }\\n        dim {\\n          size: 32\\n        }\\n        dim {\\n          size: 64\\n        }\\n      }\\n    }\\n  }\\n  attr {\\n    key: &quot;shared_name&quot;\\n    value {\\n      s: &quot;&quot;\\n    }\\n  }\\n}\\nnode {\\n  name: &quot;conv_2/weights/Variable/Adam/Assign&quot;\\n  op: &quot;Assign&quot;\\n  input: &quot;conv_2/weights/Variable/Adam&quot;\\n  input: &quot;conv_2/weights/Variable/Adam/Initializer/zeros&quot;\\n  attr {\\n    key: &quot;T&quot;\\n    value {\\n      type: DT_FLOAT\\n    }\\n  }\\n  attr {\\n    key: &quot;_class&quot;\\n    value {\\n      list {\\n        s: &quot;loc:@conv_2/weights/Variable&quot;\\n      }\\n    }\\n  }\\n  attr {\\n    key: &quot;use_locking&quot;\\n    value {\\n      b: true\\n    }\\n  }\\n  attr {\\n    key: &quot;validate_shape&quot;\\n    value {\\n      b: true\\n    }\\n  }\\n}\\nnode {\\n  name: &quot;conv_2/weights/Variable/Adam/read&quot;\\n  op: &quot;Identity&quot;\\n  input: &quot;conv_2/weights/Variable/Adam&quot;\\n  attr {\\n    key: &quot;T&quot;\\n    value {\\n      type: DT_FLOAT\\n    }\\n  }\\n  attr {\\n    key: &quot;_class&quot;\\n    value {\\n      list {\\n        s: &quot;loc:@conv_2/weights/Variable&quot;\\n      }\\n    }\\n  }\\n}\\nnode {\\n  name: &quot;conv_2/weights/Variable/Adam_1/Initializer/zeros/shape_as_tensor&quot;\\n  op: &quot;Const&quot;\\n  attr {\\n    key: &quot;_class&quot;\\n    value {\\n      list {\\n        s: &quot;loc:@conv_2/weights/Variable&quot;\\n      }\\n    }\\n  }\\n  attr {\\n    key: &quot;dtype&quot;\\n    value {\\n      type: DT_INT32\\n    }\\n  }\\n  attr {\\n    key: &quot;value&quot;\\n    value {\\n      tensor {\\n        dtype: DT_INT32\\n        tensor_shape {\\n          dim {\\n            size: 4\\n          }\\n        }\\n        tensor_content: &quot;\\\\005\\\\000\\\\000\\\\000\\\\005\\\\000\\\\000\\\\000 \\\\000\\\\000\\\\000@\\\\000\\\\000\\\\000&quot;\\n      }\\n    }\\n  }\\n}\\nnode {\\n  name: &quot;conv_2/weights/Variable/Adam_1/Initializer/zeros/Const&quot;\\n  op: &quot;Const&quot;\\n  attr {\\n    key: &quot;_class&quot;\\n    value {\\n      list {\\n        s: &quot;loc:@conv_2/weights/Variable&quot;\\n      }\\n    }\\n  }\\n  attr {\\n    key: &quot;dtype&quot;\\n    value {\\n      type: DT_FLOAT\\n    }\\n  }\\n  attr {\\n    key: &quot;value&quot;\\n    value {\\n      tensor {\\n        dtype: DT_FLOAT\\n        tensor_shape {\\n        }\\n        float_val: 0.0\\n      }\\n    }\\n  }\\n}\\nnode {\\n  name: &quot;conv_2/weights/Variable/Adam_1/Initializer/zeros&quot;\\n  op: &quot;Fill&quot;\\n  input: &quot;conv_2/weights/Variable/Adam_1/Initializer/zeros/shape_as_tensor&quot;\\n  input: &quot;conv_2/weights/Variable/Adam_1/Initializer/zeros/Const&quot;\\n  attr {\\n    key: &quot;T&quot;\\n    value {\\n      type: DT_FLOAT\\n    }\\n  }\\n  attr {\\n    key: &quot;_class&quot;\\n    value {\\n      list {\\n        s: &quot;loc:@conv_2/weights/Variable&quot;\\n      }\\n    }\\n  }\\n  attr {\\n    key: &quot;index_type&quot;\\n    value {\\n      type: DT_INT32\\n    }\\n  }\\n}\\nnode {\\n  name: &quot;conv_2/weights/Variable/Adam_1&quot;\\n  op: &quot;VariableV2&quot;\\n  attr {\\n    key: &quot;_class&quot;\\n    value {\\n      list {\\n        s: &quot;loc:@conv_2/weights/Variable&quot;\\n      }\\n    }\\n  }\\n  attr {\\n    key: &quot;container&quot;\\n    value {\\n      s: &quot;&quot;\\n    }\\n  }\\n  attr {\\n    key: &quot;dtype&quot;\\n    value {\\n      type: DT_FLOAT\\n    }\\n  }\\n  attr {\\n    key: &quot;shape&quot;\\n    value {\\n      shape {\\n        dim {\\n          size: 5\\n        }\\n        dim {\\n          size: 5\\n        }\\n        dim {\\n          size: 32\\n        }\\n        dim {\\n          size: 64\\n        }\\n      }\\n    }\\n  }\\n  attr {\\n    key: &quot;shared_name&quot;\\n    value {\\n      s: &quot;&quot;\\n    }\\n  }\\n}\\nnode {\\n  name: &quot;conv_2/weights/Variable/Adam_1/Assign&quot;\\n  op: &quot;Assign&quot;\\n  input: &quot;conv_2/weights/Variable/Adam_1&quot;\\n  input: &quot;conv_2/weights/Variable/Adam_1/Initializer/zeros&quot;\\n  attr {\\n    key: &quot;T&quot;\\n    value {\\n      type: DT_FLOAT\\n    }\\n  }\\n  attr {\\n    key: &quot;_class&quot;\\n    value {\\n      list {\\n        s: &quot;loc:@conv_2/weights/Variable&quot;\\n      }\\n    }\\n  }\\n  attr {\\n    key: &quot;use_locking&quot;\\n    value {\\n      b: true\\n    }\\n  }\\n  attr {\\n    key: &quot;validate_shape&quot;\\n    value {\\n      b: true\\n    }\\n  }\\n}\\nnode {\\n  name: &quot;conv_2/weights/Variable/Adam_1/read&quot;\\n  op: &quot;Identity&quot;\\n  input: &quot;conv_2/weights/Variable/Adam_1&quot;\\n  attr {\\n    key: &quot;T&quot;\\n    value {\\n      type: DT_FLOAT\\n    }\\n  }\\n  attr {\\n    key: &quot;_class&quot;\\n    value {\\n      list {\\n        s: &quot;loc:@conv_2/weights/Variable&quot;\\n      }\\n    }\\n  }\\n}\\nnode {\\n  name: &quot;conv_2/biases/Variable/Adam/Initializer/zeros&quot;\\n  op: &quot;Const&quot;\\n  attr {\\n    key: &quot;_class&quot;\\n    value {\\n      list {\\n        s: &quot;loc:@conv_2/biases/Variable&quot;\\n      }\\n    }\\n  }\\n  attr {\\n    key: &quot;dtype&quot;\\n    value {\\n      type: DT_FLOAT\\n    }\\n  }\\n  attr {\\n    key: &quot;value&quot;\\n    value {\\n      tensor {\\n        dtype: DT_FLOAT\\n        tensor_shape {\\n          dim {\\n            size: 64\\n          }\\n        }\\n        float_val: 0.0\\n      }\\n    }\\n  }\\n}\\nnode {\\n  name: &quot;conv_2/biases/Variable/Adam&quot;\\n  op: &quot;VariableV2&quot;\\n  attr {\\n    key: &quot;_class&quot;\\n    value {\\n      list {\\n        s: &quot;loc:@conv_2/biases/Variable&quot;\\n      }\\n    }\\n  }\\n  attr {\\n    key: &quot;container&quot;\\n    value {\\n      s: &quot;&quot;\\n    }\\n  }\\n  attr {\\n    key: &quot;dtype&quot;\\n    value {\\n      type: DT_FLOAT\\n    }\\n  }\\n  attr {\\n    key: &quot;shape&quot;\\n    value {\\n      shape {\\n        dim {\\n          size: 64\\n        }\\n      }\\n    }\\n  }\\n  attr {\\n    key: &quot;shared_name&quot;\\n    value {\\n      s: &quot;&quot;\\n    }\\n  }\\n}\\nnode {\\n  name: &quot;conv_2/biases/Variable/Adam/Assign&quot;\\n  op: &quot;Assign&quot;\\n  input: &quot;conv_2/biases/Variable/Adam&quot;\\n  input: &quot;conv_2/biases/Variable/Adam/Initializer/zeros&quot;\\n  attr {\\n    key: &quot;T&quot;\\n    value {\\n      type: DT_FLOAT\\n    }\\n  }\\n  attr {\\n    key: &quot;_class&quot;\\n    value {\\n      list {\\n        s: &quot;loc:@conv_2/biases/Variable&quot;\\n      }\\n    }\\n  }\\n  attr {\\n    key: &quot;use_locking&quot;\\n    value {\\n      b: true\\n    }\\n  }\\n  attr {\\n    key: &quot;validate_shape&quot;\\n    value {\\n      b: true\\n    }\\n  }\\n}\\nnode {\\n  name: &quot;conv_2/biases/Variable/Adam/read&quot;\\n  op: &quot;Identity&quot;\\n  input: &quot;conv_2/biases/Variable/Adam&quot;\\n  attr {\\n    key: &quot;T&quot;\\n    value {\\n      type: DT_FLOAT\\n    }\\n  }\\n  attr {\\n    key: &quot;_class&quot;\\n    value {\\n      list {\\n        s: &quot;loc:@conv_2/biases/Variable&quot;\\n      }\\n    }\\n  }\\n}\\nnode {\\n  name: &quot;conv_2/biases/Variable/Adam_1/Initializer/zeros&quot;\\n  op: &quot;Const&quot;\\n  attr {\\n    key: &quot;_class&quot;\\n    value {\\n      list {\\n        s: &quot;loc:@conv_2/biases/Variable&quot;\\n      }\\n    }\\n  }\\n  attr {\\n    key: &quot;dtype&quot;\\n    value {\\n      type: DT_FLOAT\\n    }\\n  }\\n  attr {\\n    key: &quot;value&quot;\\n    value {\\n      tensor {\\n        dtype: DT_FLOAT\\n        tensor_shape {\\n          dim {\\n            size: 64\\n          }\\n        }\\n        float_val: 0.0\\n      }\\n    }\\n  }\\n}\\nnode {\\n  name: &quot;conv_2/biases/Variable/Adam_1&quot;\\n  op: &quot;VariableV2&quot;\\n  attr {\\n    key: &quot;_class&quot;\\n    value {\\n      list {\\n        s: &quot;loc:@conv_2/biases/Variable&quot;\\n      }\\n    }\\n  }\\n  attr {\\n    key: &quot;container&quot;\\n    value {\\n      s: &quot;&quot;\\n    }\\n  }\\n  attr {\\n    key: &quot;dtype&quot;\\n    value {\\n      type: DT_FLOAT\\n    }\\n  }\\n  attr {\\n    key: &quot;shape&quot;\\n    value {\\n      shape {\\n        dim {\\n          size: 64\\n        }\\n      }\\n    }\\n  }\\n  attr {\\n    key: &quot;shared_name&quot;\\n    value {\\n      s: &quot;&quot;\\n    }\\n  }\\n}\\nnode {\\n  name: &quot;conv_2/biases/Variable/Adam_1/Assign&quot;\\n  op: &quot;Assign&quot;\\n  input: &quot;conv_2/biases/Variable/Adam_1&quot;\\n  input: &quot;conv_2/biases/Variable/Adam_1/Initializer/zeros&quot;\\n  attr {\\n    key: &quot;T&quot;\\n    value {\\n      type: DT_FLOAT\\n    }\\n  }\\n  attr {\\n    key: &quot;_class&quot;\\n    value {\\n      list {\\n        s: &quot;loc:@conv_2/biases/Variable&quot;\\n      }\\n    }\\n  }\\n  attr {\\n    key: &quot;use_locking&quot;\\n    value {\\n      b: true\\n    }\\n  }\\n  attr {\\n    key: &quot;validate_shape&quot;\\n    value {\\n      b: true\\n    }\\n  }\\n}\\nnode {\\n  name: &quot;conv_2/biases/Variable/Adam_1/read&quot;\\n  op: &quot;Identity&quot;\\n  input: &quot;conv_2/biases/Variable/Adam_1&quot;\\n  attr {\\n    key: &quot;T&quot;\\n    value {\\n      type: DT_FLOAT\\n    }\\n  }\\n  attr {\\n    key: &quot;_class&quot;\\n    value {\\n      list {\\n        s: &quot;loc:@conv_2/biases/Variable&quot;\\n      }\\n    }\\n  }\\n}\\nnode {\\n  name: &quot;fc_1/weights/Variable/Adam/Initializer/zeros/shape_as_tensor&quot;\\n  op: &quot;Const&quot;\\n  attr {\\n    key: &quot;_class&quot;\\n    value {\\n      list {\\n        s: &quot;loc:@fc_1/weights/Variable&quot;\\n      }\\n    }\\n  }\\n  attr {\\n    key: &quot;dtype&quot;\\n    value {\\n      type: DT_INT32\\n    }\\n  }\\n  attr {\\n    key: &quot;value&quot;\\n    value {\\n      tensor {\\n        dtype: DT_INT32\\n        tensor_shape {\\n          dim {\\n            size: 2\\n          }\\n        }\\n        tensor_content: &quot;@\\\\014\\\\000\\\\000\\\\000\\\\004\\\\000\\\\000&quot;\\n      }\\n    }\\n  }\\n}\\nnode {\\n  name: &quot;fc_1/weights/Variable/Adam/Initializer/zeros/Const&quot;\\n  op: &quot;Const&quot;\\n  attr {\\n    key: &quot;_class&quot;\\n    value {\\n      list {\\n        s: &quot;loc:@fc_1/weights/Variable&quot;\\n      }\\n    }\\n  }\\n  attr {\\n    key: &quot;dtype&quot;\\n    value {\\n      type: DT_FLOAT\\n    }\\n  }\\n  attr {\\n    key: &quot;value&quot;\\n    value {\\n      tensor {\\n        dtype: DT_FLOAT\\n        tensor_shape {\\n        }\\n        float_val: 0.0\\n      }\\n    }\\n  }\\n}\\nnode {\\n  name: &quot;fc_1/weights/Variable/Adam/Initializer/zeros&quot;\\n  op: &quot;Fill&quot;\\n  input: &quot;fc_1/weights/Variable/Adam/Initializer/zeros/shape_as_tensor&quot;\\n  input: &quot;fc_1/weights/Variable/Adam/Initializer/zeros/Const&quot;\\n  attr {\\n    key: &quot;T&quot;\\n    value {\\n      type: DT_FLOAT\\n    }\\n  }\\n  attr {\\n    key: &quot;_class&quot;\\n    value {\\n      list {\\n        s: &quot;loc:@fc_1/weights/Variable&quot;\\n      }\\n    }\\n  }\\n  attr {\\n    key: &quot;index_type&quot;\\n    value {\\n      type: DT_INT32\\n    }\\n  }\\n}\\nnode {\\n  name: &quot;fc_1/weights/Variable/Adam&quot;\\n  op: &quot;VariableV2&quot;\\n  attr {\\n    key: &quot;_class&quot;\\n    value {\\n      list {\\n        s: &quot;loc:@fc_1/weights/Variable&quot;\\n      }\\n    }\\n  }\\n  attr {\\n    key: &quot;container&quot;\\n    value {\\n      s: &quot;&quot;\\n    }\\n  }\\n  attr {\\n    key: &quot;dtype&quot;\\n    value {\\n      type: DT_FLOAT\\n    }\\n  }\\n  attr {\\n    key: &quot;shape&quot;\\n    value {\\n      shape {\\n        dim {\\n          size: 3136\\n        }\\n        dim {\\n          size: 1024\\n        }\\n      }\\n    }\\n  }\\n  attr {\\n    key: &quot;shared_name&quot;\\n    value {\\n      s: &quot;&quot;\\n    }\\n  }\\n}\\nnode {\\n  name: &quot;fc_1/weights/Variable/Adam/Assign&quot;\\n  op: &quot;Assign&quot;\\n  input: &quot;fc_1/weights/Variable/Adam&quot;\\n  input: &quot;fc_1/weights/Variable/Adam/Initializer/zeros&quot;\\n  attr {\\n    key: &quot;T&quot;\\n    value {\\n      type: DT_FLOAT\\n    }\\n  }\\n  attr {\\n    key: &quot;_class&quot;\\n    value {\\n      list {\\n        s: &quot;loc:@fc_1/weights/Variable&quot;\\n      }\\n    }\\n  }\\n  attr {\\n    key: &quot;use_locking&quot;\\n    value {\\n      b: true\\n    }\\n  }\\n  attr {\\n    key: &quot;validate_shape&quot;\\n    value {\\n      b: true\\n    }\\n  }\\n}\\nnode {\\n  name: &quot;fc_1/weights/Variable/Adam/read&quot;\\n  op: &quot;Identity&quot;\\n  input: &quot;fc_1/weights/Variable/Adam&quot;\\n  attr {\\n    key: &quot;T&quot;\\n    value {\\n      type: DT_FLOAT\\n    }\\n  }\\n  attr {\\n    key: &quot;_class&quot;\\n    value {\\n      list {\\n        s: &quot;loc:@fc_1/weights/Variable&quot;\\n      }\\n    }\\n  }\\n}\\nnode {\\n  name: &quot;fc_1/weights/Variable/Adam_1/Initializer/zeros/shape_as_tensor&quot;\\n  op: &quot;Const&quot;\\n  attr {\\n    key: &quot;_class&quot;\\n    value {\\n      list {\\n        s: &quot;loc:@fc_1/weights/Variable&quot;\\n      }\\n    }\\n  }\\n  attr {\\n    key: &quot;dtype&quot;\\n    value {\\n      type: DT_INT32\\n    }\\n  }\\n  attr {\\n    key: &quot;value&quot;\\n    value {\\n      tensor {\\n        dtype: DT_INT32\\n        tensor_shape {\\n          dim {\\n            size: 2\\n          }\\n        }\\n        tensor_content: &quot;@\\\\014\\\\000\\\\000\\\\000\\\\004\\\\000\\\\000&quot;\\n      }\\n    }\\n  }\\n}\\nnode {\\n  name: &quot;fc_1/weights/Variable/Adam_1/Initializer/zeros/Const&quot;\\n  op: &quot;Const&quot;\\n  attr {\\n    key: &quot;_class&quot;\\n    value {\\n      list {\\n        s: &quot;loc:@fc_1/weights/Variable&quot;\\n      }\\n    }\\n  }\\n  attr {\\n    key: &quot;dtype&quot;\\n    value {\\n      type: DT_FLOAT\\n    }\\n  }\\n  attr {\\n    key: &quot;value&quot;\\n    value {\\n      tensor {\\n        dtype: DT_FLOAT\\n        tensor_shape {\\n        }\\n        float_val: 0.0\\n      }\\n    }\\n  }\\n}\\nnode {\\n  name: &quot;fc_1/weights/Variable/Adam_1/Initializer/zeros&quot;\\n  op: &quot;Fill&quot;\\n  input: &quot;fc_1/weights/Variable/Adam_1/Initializer/zeros/shape_as_tensor&quot;\\n  input: &quot;fc_1/weights/Variable/Adam_1/Initializer/zeros/Const&quot;\\n  attr {\\n    key: &quot;T&quot;\\n    value {\\n      type: DT_FLOAT\\n    }\\n  }\\n  attr {\\n    key: &quot;_class&quot;\\n    value {\\n      list {\\n        s: &quot;loc:@fc_1/weights/Variable&quot;\\n      }\\n    }\\n  }\\n  attr {\\n    key: &quot;index_type&quot;\\n    value {\\n      type: DT_INT32\\n    }\\n  }\\n}\\nnode {\\n  name: &quot;fc_1/weights/Variable/Adam_1&quot;\\n  op: &quot;VariableV2&quot;\\n  attr {\\n    key: &quot;_class&quot;\\n    value {\\n      list {\\n        s: &quot;loc:@fc_1/weights/Variable&quot;\\n      }\\n    }\\n  }\\n  attr {\\n    key: &quot;container&quot;\\n    value {\\n      s: &quot;&quot;\\n    }\\n  }\\n  attr {\\n    key: &quot;dtype&quot;\\n    value {\\n      type: DT_FLOAT\\n    }\\n  }\\n  attr {\\n    key: &quot;shape&quot;\\n    value {\\n      shape {\\n        dim {\\n          size: 3136\\n        }\\n        dim {\\n          size: 1024\\n        }\\n      }\\n    }\\n  }\\n  attr {\\n    key: &quot;shared_name&quot;\\n    value {\\n      s: &quot;&quot;\\n    }\\n  }\\n}\\nnode {\\n  name: &quot;fc_1/weights/Variable/Adam_1/Assign&quot;\\n  op: &quot;Assign&quot;\\n  input: &quot;fc_1/weights/Variable/Adam_1&quot;\\n  input: &quot;fc_1/weights/Variable/Adam_1/Initializer/zeros&quot;\\n  attr {\\n    key: &quot;T&quot;\\n    value {\\n      type: DT_FLOAT\\n    }\\n  }\\n  attr {\\n    key: &quot;_class&quot;\\n    value {\\n      list {\\n        s: &quot;loc:@fc_1/weights/Variable&quot;\\n      }\\n    }\\n  }\\n  attr {\\n    key: &quot;use_locking&quot;\\n    value {\\n      b: true\\n    }\\n  }\\n  attr {\\n    key: &quot;validate_shape&quot;\\n    value {\\n      b: true\\n    }\\n  }\\n}\\nnode {\\n  name: &quot;fc_1/weights/Variable/Adam_1/read&quot;\\n  op: &quot;Identity&quot;\\n  input: &quot;fc_1/weights/Variable/Adam_1&quot;\\n  attr {\\n    key: &quot;T&quot;\\n    value {\\n      type: DT_FLOAT\\n    }\\n  }\\n  attr {\\n    key: &quot;_class&quot;\\n    value {\\n      list {\\n        s: &quot;loc:@fc_1/weights/Variable&quot;\\n      }\\n    }\\n  }\\n}\\nnode {\\n  name: &quot;fc_1/biases/Variable/Adam/Initializer/zeros/shape_as_tensor&quot;\\n  op: &quot;Const&quot;\\n  attr {\\n    key: &quot;_class&quot;\\n    value {\\n      list {\\n        s: &quot;loc:@fc_1/biases/Variable&quot;\\n      }\\n    }\\n  }\\n  attr {\\n    key: &quot;dtype&quot;\\n    value {\\n      type: DT_INT32\\n    }\\n  }\\n  attr {\\n    key: &quot;value&quot;\\n    value {\\n      tensor {\\n        dtype: DT_INT32\\n        tensor_shape {\\n          dim {\\n            size: 1\\n          }\\n        }\\n        int_val: 1024\\n      }\\n    }\\n  }\\n}\\nnode {\\n  name: &quot;fc_1/biases/Variable/Adam/Initializer/zeros/Const&quot;\\n  op: &quot;Const&quot;\\n  attr {\\n    key: &quot;_class&quot;\\n    value {\\n      list {\\n        s: &quot;loc:@fc_1/biases/Variable&quot;\\n      }\\n    }\\n  }\\n  attr {\\n    key: &quot;dtype&quot;\\n    value {\\n      type: DT_FLOAT\\n    }\\n  }\\n  attr {\\n    key: &quot;value&quot;\\n    value {\\n      tensor {\\n        dtype: DT_FLOAT\\n        tensor_shape {\\n        }\\n        float_val: 0.0\\n      }\\n    }\\n  }\\n}\\nnode {\\n  name: &quot;fc_1/biases/Variable/Adam/Initializer/zeros&quot;\\n  op: &quot;Fill&quot;\\n  input: &quot;fc_1/biases/Variable/Adam/Initializer/zeros/shape_as_tensor&quot;\\n  input: &quot;fc_1/biases/Variable/Adam/Initializer/zeros/Const&quot;\\n  attr {\\n    key: &quot;T&quot;\\n    value {\\n      type: DT_FLOAT\\n    }\\n  }\\n  attr {\\n    key: &quot;_class&quot;\\n    value {\\n      list {\\n        s: &quot;loc:@fc_1/biases/Variable&quot;\\n      }\\n    }\\n  }\\n  attr {\\n    key: &quot;index_type&quot;\\n    value {\\n      type: DT_INT32\\n    }\\n  }\\n}\\nnode {\\n  name: &quot;fc_1/biases/Variable/Adam&quot;\\n  op: &quot;VariableV2&quot;\\n  attr {\\n    key: &quot;_class&quot;\\n    value {\\n      list {\\n        s: &quot;loc:@fc_1/biases/Variable&quot;\\n      }\\n    }\\n  }\\n  attr {\\n    key: &quot;container&quot;\\n    value {\\n      s: &quot;&quot;\\n    }\\n  }\\n  attr {\\n    key: &quot;dtype&quot;\\n    value {\\n      type: DT_FLOAT\\n    }\\n  }\\n  attr {\\n    key: &quot;shape&quot;\\n    value {\\n      shape {\\n        dim {\\n          size: 1024\\n        }\\n      }\\n    }\\n  }\\n  attr {\\n    key: &quot;shared_name&quot;\\n    value {\\n      s: &quot;&quot;\\n    }\\n  }\\n}\\nnode {\\n  name: &quot;fc_1/biases/Variable/Adam/Assign&quot;\\n  op: &quot;Assign&quot;\\n  input: &quot;fc_1/biases/Variable/Adam&quot;\\n  input: &quot;fc_1/biases/Variable/Adam/Initializer/zeros&quot;\\n  attr {\\n    key: &quot;T&quot;\\n    value {\\n      type: DT_FLOAT\\n    }\\n  }\\n  attr {\\n    key: &quot;_class&quot;\\n    value {\\n      list {\\n        s: &quot;loc:@fc_1/biases/Variable&quot;\\n      }\\n    }\\n  }\\n  attr {\\n    key: &quot;use_locking&quot;\\n    value {\\n      b: true\\n    }\\n  }\\n  attr {\\n    key: &quot;validate_shape&quot;\\n    value {\\n      b: true\\n    }\\n  }\\n}\\nnode {\\n  name: &quot;fc_1/biases/Variable/Adam/read&quot;\\n  op: &quot;Identity&quot;\\n  input: &quot;fc_1/biases/Variable/Adam&quot;\\n  attr {\\n    key: &quot;T&quot;\\n    value {\\n      type: DT_FLOAT\\n    }\\n  }\\n  attr {\\n    key: &quot;_class&quot;\\n    value {\\n      list {\\n        s: &quot;loc:@fc_1/biases/Variable&quot;\\n      }\\n    }\\n  }\\n}\\nnode {\\n  name: &quot;fc_1/biases/Variable/Adam_1/Initializer/zeros/shape_as_tensor&quot;\\n  op: &quot;Const&quot;\\n  attr {\\n    key: &quot;_class&quot;\\n    value {\\n      list {\\n        s: &quot;loc:@fc_1/biases/Variable&quot;\\n      }\\n    }\\n  }\\n  attr {\\n    key: &quot;dtype&quot;\\n    value {\\n      type: DT_INT32\\n    }\\n  }\\n  attr {\\n    key: &quot;value&quot;\\n    value {\\n      tensor {\\n        dtype: DT_INT32\\n        tensor_shape {\\n          dim {\\n            size: 1\\n          }\\n        }\\n        int_val: 1024\\n      }\\n    }\\n  }\\n}\\nnode {\\n  name: &quot;fc_1/biases/Variable/Adam_1/Initializer/zeros/Const&quot;\\n  op: &quot;Const&quot;\\n  attr {\\n    key: &quot;_class&quot;\\n    value {\\n      list {\\n        s: &quot;loc:@fc_1/biases/Variable&quot;\\n      }\\n    }\\n  }\\n  attr {\\n    key: &quot;dtype&quot;\\n    value {\\n      type: DT_FLOAT\\n    }\\n  }\\n  attr {\\n    key: &quot;value&quot;\\n    value {\\n      tensor {\\n        dtype: DT_FLOAT\\n        tensor_shape {\\n        }\\n        float_val: 0.0\\n      }\\n    }\\n  }\\n}\\nnode {\\n  name: &quot;fc_1/biases/Variable/Adam_1/Initializer/zeros&quot;\\n  op: &quot;Fill&quot;\\n  input: &quot;fc_1/biases/Variable/Adam_1/Initializer/zeros/shape_as_tensor&quot;\\n  input: &quot;fc_1/biases/Variable/Adam_1/Initializer/zeros/Const&quot;\\n  attr {\\n    key: &quot;T&quot;\\n    value {\\n      type: DT_FLOAT\\n    }\\n  }\\n  attr {\\n    key: &quot;_class&quot;\\n    value {\\n      list {\\n        s: &quot;loc:@fc_1/biases/Variable&quot;\\n      }\\n    }\\n  }\\n  attr {\\n    key: &quot;index_type&quot;\\n    value {\\n      type: DT_INT32\\n    }\\n  }\\n}\\nnode {\\n  name: &quot;fc_1/biases/Variable/Adam_1&quot;\\n  op: &quot;VariableV2&quot;\\n  attr {\\n    key: &quot;_class&quot;\\n    value {\\n      list {\\n        s: &quot;loc:@fc_1/biases/Variable&quot;\\n      }\\n    }\\n  }\\n  attr {\\n    key: &quot;container&quot;\\n    value {\\n      s: &quot;&quot;\\n    }\\n  }\\n  attr {\\n    key: &quot;dtype&quot;\\n    value {\\n      type: DT_FLOAT\\n    }\\n  }\\n  attr {\\n    key: &quot;shape&quot;\\n    value {\\n      shape {\\n        dim {\\n          size: 1024\\n        }\\n      }\\n    }\\n  }\\n  attr {\\n    key: &quot;shared_name&quot;\\n    value {\\n      s: &quot;&quot;\\n    }\\n  }\\n}\\nnode {\\n  name: &quot;fc_1/biases/Variable/Adam_1/Assign&quot;\\n  op: &quot;Assign&quot;\\n  input: &quot;fc_1/biases/Variable/Adam_1&quot;\\n  input: &quot;fc_1/biases/Variable/Adam_1/Initializer/zeros&quot;\\n  attr {\\n    key: &quot;T&quot;\\n    value {\\n      type: DT_FLOAT\\n    }\\n  }\\n  attr {\\n    key: &quot;_class&quot;\\n    value {\\n      list {\\n        s: &quot;loc:@fc_1/biases/Variable&quot;\\n      }\\n    }\\n  }\\n  attr {\\n    key: &quot;use_locking&quot;\\n    value {\\n      b: true\\n    }\\n  }\\n  attr {\\n    key: &quot;validate_shape&quot;\\n    value {\\n      b: true\\n    }\\n  }\\n}\\nnode {\\n  name: &quot;fc_1/biases/Variable/Adam_1/read&quot;\\n  op: &quot;Identity&quot;\\n  input: &quot;fc_1/biases/Variable/Adam_1&quot;\\n  attr {\\n    key: &quot;T&quot;\\n    value {\\n      type: DT_FLOAT\\n    }\\n  }\\n  attr {\\n    key: &quot;_class&quot;\\n    value {\\n      list {\\n        s: &quot;loc:@fc_1/biases/Variable&quot;\\n      }\\n    }\\n  }\\n}\\nnode {\\n  name: &quot;fc_2/weights/Variable/Adam/Initializer/zeros/shape_as_tensor&quot;\\n  op: &quot;Const&quot;\\n  attr {\\n    key: &quot;_class&quot;\\n    value {\\n      list {\\n        s: &quot;loc:@fc_2/weights/Variable&quot;\\n      }\\n    }\\n  }\\n  attr {\\n    key: &quot;dtype&quot;\\n    value {\\n      type: DT_INT32\\n    }\\n  }\\n  attr {\\n    key: &quot;value&quot;\\n    value {\\n      tensor {\\n        dtype: DT_INT32\\n        tensor_shape {\\n          dim {\\n            size: 2\\n          }\\n        }\\n        tensor_content: &quot;\\\\000\\\\004\\\\000\\\\0001\\\\000\\\\000\\\\000&quot;\\n      }\\n    }\\n  }\\n}\\nnode {\\n  name: &quot;fc_2/weights/Variable/Adam/Initializer/zeros/Const&quot;\\n  op: &quot;Const&quot;\\n  attr {\\n    key: &quot;_class&quot;\\n    value {\\n      list {\\n        s: &quot;loc:@fc_2/weights/Variable&quot;\\n      }\\n    }\\n  }\\n  attr {\\n    key: &quot;dtype&quot;\\n    value {\\n      type: DT_FLOAT\\n    }\\n  }\\n  attr {\\n    key: &quot;value&quot;\\n    value {\\n      tensor {\\n        dtype: DT_FLOAT\\n        tensor_shape {\\n        }\\n        float_val: 0.0\\n      }\\n    }\\n  }\\n}\\nnode {\\n  name: &quot;fc_2/weights/Variable/Adam/Initializer/zeros&quot;\\n  op: &quot;Fill&quot;\\n  input: &quot;fc_2/weights/Variable/Adam/Initializer/zeros/shape_as_tensor&quot;\\n  input: &quot;fc_2/weights/Variable/Adam/Initializer/zeros/Const&quot;\\n  attr {\\n    key: &quot;T&quot;\\n    value {\\n      type: DT_FLOAT\\n    }\\n  }\\n  attr {\\n    key: &quot;_class&quot;\\n    value {\\n      list {\\n        s: &quot;loc:@fc_2/weights/Variable&quot;\\n      }\\n    }\\n  }\\n  attr {\\n    key: &quot;index_type&quot;\\n    value {\\n      type: DT_INT32\\n    }\\n  }\\n}\\nnode {\\n  name: &quot;fc_2/weights/Variable/Adam&quot;\\n  op: &quot;VariableV2&quot;\\n  attr {\\n    key: &quot;_class&quot;\\n    value {\\n      list {\\n        s: &quot;loc:@fc_2/weights/Variable&quot;\\n      }\\n    }\\n  }\\n  attr {\\n    key: &quot;container&quot;\\n    value {\\n      s: &quot;&quot;\\n    }\\n  }\\n  attr {\\n    key: &quot;dtype&quot;\\n    value {\\n      type: DT_FLOAT\\n    }\\n  }\\n  attr {\\n    key: &quot;shape&quot;\\n    value {\\n      shape {\\n        dim {\\n          size: 1024\\n        }\\n        dim {\\n          size: 49\\n        }\\n      }\\n    }\\n  }\\n  attr {\\n    key: &quot;shared_name&quot;\\n    value {\\n      s: &quot;&quot;\\n    }\\n  }\\n}\\nnode {\\n  name: &quot;fc_2/weights/Variable/Adam/Assign&quot;\\n  op: &quot;Assign&quot;\\n  input: &quot;fc_2/weights/Variable/Adam&quot;\\n  input: &quot;fc_2/weights/Variable/Adam/Initializer/zeros&quot;\\n  attr {\\n    key: &quot;T&quot;\\n    value {\\n      type: DT_FLOAT\\n    }\\n  }\\n  attr {\\n    key: &quot;_class&quot;\\n    value {\\n      list {\\n        s: &quot;loc:@fc_2/weights/Variable&quot;\\n      }\\n    }\\n  }\\n  attr {\\n    key: &quot;use_locking&quot;\\n    value {\\n      b: true\\n    }\\n  }\\n  attr {\\n    key: &quot;validate_shape&quot;\\n    value {\\n      b: true\\n    }\\n  }\\n}\\nnode {\\n  name: &quot;fc_2/weights/Variable/Adam/read&quot;\\n  op: &quot;Identity&quot;\\n  input: &quot;fc_2/weights/Variable/Adam&quot;\\n  attr {\\n    key: &quot;T&quot;\\n    value {\\n      type: DT_FLOAT\\n    }\\n  }\\n  attr {\\n    key: &quot;_class&quot;\\n    value {\\n      list {\\n        s: &quot;loc:@fc_2/weights/Variable&quot;\\n      }\\n    }\\n  }\\n}\\nnode {\\n  name: &quot;fc_2/weights/Variable/Adam_1/Initializer/zeros/shape_as_tensor&quot;\\n  op: &quot;Const&quot;\\n  attr {\\n    key: &quot;_class&quot;\\n    value {\\n      list {\\n        s: &quot;loc:@fc_2/weights/Variable&quot;\\n      }\\n    }\\n  }\\n  attr {\\n    key: &quot;dtype&quot;\\n    value {\\n      type: DT_INT32\\n    }\\n  }\\n  attr {\\n    key: &quot;value&quot;\\n    value {\\n      tensor {\\n        dtype: DT_INT32\\n        tensor_shape {\\n          dim {\\n            size: 2\\n          }\\n        }\\n        tensor_content: &quot;\\\\000\\\\004\\\\000\\\\0001\\\\000\\\\000\\\\000&quot;\\n      }\\n    }\\n  }\\n}\\nnode {\\n  name: &quot;fc_2/weights/Variable/Adam_1/Initializer/zeros/Const&quot;\\n  op: &quot;Const&quot;\\n  attr {\\n    key: &quot;_class&quot;\\n    value {\\n      list {\\n        s: &quot;loc:@fc_2/weights/Variable&quot;\\n      }\\n    }\\n  }\\n  attr {\\n    key: &quot;dtype&quot;\\n    value {\\n      type: DT_FLOAT\\n    }\\n  }\\n  attr {\\n    key: &quot;value&quot;\\n    value {\\n      tensor {\\n        dtype: DT_FLOAT\\n        tensor_shape {\\n        }\\n        float_val: 0.0\\n      }\\n    }\\n  }\\n}\\nnode {\\n  name: &quot;fc_2/weights/Variable/Adam_1/Initializer/zeros&quot;\\n  op: &quot;Fill&quot;\\n  input: &quot;fc_2/weights/Variable/Adam_1/Initializer/zeros/shape_as_tensor&quot;\\n  input: &quot;fc_2/weights/Variable/Adam_1/Initializer/zeros/Const&quot;\\n  attr {\\n    key: &quot;T&quot;\\n    value {\\n      type: DT_FLOAT\\n    }\\n  }\\n  attr {\\n    key: &quot;_class&quot;\\n    value {\\n      list {\\n        s: &quot;loc:@fc_2/weights/Variable&quot;\\n      }\\n    }\\n  }\\n  attr {\\n    key: &quot;index_type&quot;\\n    value {\\n      type: DT_INT32\\n    }\\n  }\\n}\\nnode {\\n  name: &quot;fc_2/weights/Variable/Adam_1&quot;\\n  op: &quot;VariableV2&quot;\\n  attr {\\n    key: &quot;_class&quot;\\n    value {\\n      list {\\n        s: &quot;loc:@fc_2/weights/Variable&quot;\\n      }\\n    }\\n  }\\n  attr {\\n    key: &quot;container&quot;\\n    value {\\n      s: &quot;&quot;\\n    }\\n  }\\n  attr {\\n    key: &quot;dtype&quot;\\n    value {\\n      type: DT_FLOAT\\n    }\\n  }\\n  attr {\\n    key: &quot;shape&quot;\\n    value {\\n      shape {\\n        dim {\\n          size: 1024\\n        }\\n        dim {\\n          size: 49\\n        }\\n      }\\n    }\\n  }\\n  attr {\\n    key: &quot;shared_name&quot;\\n    value {\\n      s: &quot;&quot;\\n    }\\n  }\\n}\\nnode {\\n  name: &quot;fc_2/weights/Variable/Adam_1/Assign&quot;\\n  op: &quot;Assign&quot;\\n  input: &quot;fc_2/weights/Variable/Adam_1&quot;\\n  input: &quot;fc_2/weights/Variable/Adam_1/Initializer/zeros&quot;\\n  attr {\\n    key: &quot;T&quot;\\n    value {\\n      type: DT_FLOAT\\n    }\\n  }\\n  attr {\\n    key: &quot;_class&quot;\\n    value {\\n      list {\\n        s: &quot;loc:@fc_2/weights/Variable&quot;\\n      }\\n    }\\n  }\\n  attr {\\n    key: &quot;use_locking&quot;\\n    value {\\n      b: true\\n    }\\n  }\\n  attr {\\n    key: &quot;validate_shape&quot;\\n    value {\\n      b: true\\n    }\\n  }\\n}\\nnode {\\n  name: &quot;fc_2/weights/Variable/Adam_1/read&quot;\\n  op: &quot;Identity&quot;\\n  input: &quot;fc_2/weights/Variable/Adam_1&quot;\\n  attr {\\n    key: &quot;T&quot;\\n    value {\\n      type: DT_FLOAT\\n    }\\n  }\\n  attr {\\n    key: &quot;_class&quot;\\n    value {\\n      list {\\n        s: &quot;loc:@fc_2/weights/Variable&quot;\\n      }\\n    }\\n  }\\n}\\nnode {\\n  name: &quot;fc_2/biases/Variable/Adam/Initializer/zeros&quot;\\n  op: &quot;Const&quot;\\n  attr {\\n    key: &quot;_class&quot;\\n    value {\\n      list {\\n        s: &quot;loc:@fc_2/biases/Variable&quot;\\n      }\\n    }\\n  }\\n  attr {\\n    key: &quot;dtype&quot;\\n    value {\\n      type: DT_FLOAT\\n    }\\n  }\\n  attr {\\n    key: &quot;value&quot;\\n    value {\\n      tensor {\\n        dtype: DT_FLOAT\\n        tensor_shape {\\n          dim {\\n            size: 49\\n          }\\n        }\\n        float_val: 0.0\\n      }\\n    }\\n  }\\n}\\nnode {\\n  name: &quot;fc_2/biases/Variable/Adam&quot;\\n  op: &quot;VariableV2&quot;\\n  attr {\\n    key: &quot;_class&quot;\\n    value {\\n      list {\\n        s: &quot;loc:@fc_2/biases/Variable&quot;\\n      }\\n    }\\n  }\\n  attr {\\n    key: &quot;container&quot;\\n    value {\\n      s: &quot;&quot;\\n    }\\n  }\\n  attr {\\n    key: &quot;dtype&quot;\\n    value {\\n      type: DT_FLOAT\\n    }\\n  }\\n  attr {\\n    key: &quot;shape&quot;\\n    value {\\n      shape {\\n        dim {\\n          size: 49\\n        }\\n      }\\n    }\\n  }\\n  attr {\\n    key: &quot;shared_name&quot;\\n    value {\\n      s: &quot;&quot;\\n    }\\n  }\\n}\\nnode {\\n  name: &quot;fc_2/biases/Variable/Adam/Assign&quot;\\n  op: &quot;Assign&quot;\\n  input: &quot;fc_2/biases/Variable/Adam&quot;\\n  input: &quot;fc_2/biases/Variable/Adam/Initializer/zeros&quot;\\n  attr {\\n    key: &quot;T&quot;\\n    value {\\n      type: DT_FLOAT\\n    }\\n  }\\n  attr {\\n    key: &quot;_class&quot;\\n    value {\\n      list {\\n        s: &quot;loc:@fc_2/biases/Variable&quot;\\n      }\\n    }\\n  }\\n  attr {\\n    key: &quot;use_locking&quot;\\n    value {\\n      b: true\\n    }\\n  }\\n  attr {\\n    key: &quot;validate_shape&quot;\\n    value {\\n      b: true\\n    }\\n  }\\n}\\nnode {\\n  name: &quot;fc_2/biases/Variable/Adam/read&quot;\\n  op: &quot;Identity&quot;\\n  input: &quot;fc_2/biases/Variable/Adam&quot;\\n  attr {\\n    key: &quot;T&quot;\\n    value {\\n      type: DT_FLOAT\\n    }\\n  }\\n  attr {\\n    key: &quot;_class&quot;\\n    value {\\n      list {\\n        s: &quot;loc:@fc_2/biases/Variable&quot;\\n      }\\n    }\\n  }\\n}\\nnode {\\n  name: &quot;fc_2/biases/Variable/Adam_1/Initializer/zeros&quot;\\n  op: &quot;Const&quot;\\n  attr {\\n    key: &quot;_class&quot;\\n    value {\\n      list {\\n        s: &quot;loc:@fc_2/biases/Variable&quot;\\n      }\\n    }\\n  }\\n  attr {\\n    key: &quot;dtype&quot;\\n    value {\\n      type: DT_FLOAT\\n    }\\n  }\\n  attr {\\n    key: &quot;value&quot;\\n    value {\\n      tensor {\\n        dtype: DT_FLOAT\\n        tensor_shape {\\n          dim {\\n            size: 49\\n          }\\n        }\\n        float_val: 0.0\\n      }\\n    }\\n  }\\n}\\nnode {\\n  name: &quot;fc_2/biases/Variable/Adam_1&quot;\\n  op: &quot;VariableV2&quot;\\n  attr {\\n    key: &quot;_class&quot;\\n    value {\\n      list {\\n        s: &quot;loc:@fc_2/biases/Variable&quot;\\n      }\\n    }\\n  }\\n  attr {\\n    key: &quot;container&quot;\\n    value {\\n      s: &quot;&quot;\\n    }\\n  }\\n  attr {\\n    key: &quot;dtype&quot;\\n    value {\\n      type: DT_FLOAT\\n    }\\n  }\\n  attr {\\n    key: &quot;shape&quot;\\n    value {\\n      shape {\\n        dim {\\n          size: 49\\n        }\\n      }\\n    }\\n  }\\n  attr {\\n    key: &quot;shared_name&quot;\\n    value {\\n      s: &quot;&quot;\\n    }\\n  }\\n}\\nnode {\\n  name: &quot;fc_2/biases/Variable/Adam_1/Assign&quot;\\n  op: &quot;Assign&quot;\\n  input: &quot;fc_2/biases/Variable/Adam_1&quot;\\n  input: &quot;fc_2/biases/Variable/Adam_1/Initializer/zeros&quot;\\n  attr {\\n    key: &quot;T&quot;\\n    value {\\n      type: DT_FLOAT\\n    }\\n  }\\n  attr {\\n    key: &quot;_class&quot;\\n    value {\\n      list {\\n        s: &quot;loc:@fc_2/biases/Variable&quot;\\n      }\\n    }\\n  }\\n  attr {\\n    key: &quot;use_locking&quot;\\n    value {\\n      b: true\\n    }\\n  }\\n  attr {\\n    key: &quot;validate_shape&quot;\\n    value {\\n      b: true\\n    }\\n  }\\n}\\nnode {\\n  name: &quot;fc_2/biases/Variable/Adam_1/read&quot;\\n  op: &quot;Identity&quot;\\n  input: &quot;fc_2/biases/Variable/Adam_1&quot;\\n  attr {\\n    key: &quot;T&quot;\\n    value {\\n      type: DT_FLOAT\\n    }\\n  }\\n  attr {\\n    key: &quot;_class&quot;\\n    value {\\n      list {\\n        s: &quot;loc:@fc_2/biases/Variable&quot;\\n      }\\n    }\\n  }\\n}\\nnode {\\n  name: &quot;optimizer/Adam/learning_rate&quot;\\n  op: &quot;Const&quot;\\n  attr {\\n    key: &quot;dtype&quot;\\n    value {\\n      type: DT_FLOAT\\n    }\\n  }\\n  attr {\\n    key: &quot;value&quot;\\n    value {\\n      tensor {\\n        dtype: DT_FLOAT\\n        tensor_shape {\\n        }\\n        float_val: 9.999999974752427e-07\\n      }\\n    }\\n  }\\n}\\nnode {\\n  name: &quot;optimizer/Adam/beta1&quot;\\n  op: &quot;Const&quot;\\n  attr {\\n    key: &quot;dtype&quot;\\n    value {\\n      type: DT_FLOAT\\n    }\\n  }\\n  attr {\\n    key: &quot;value&quot;\\n    value {\\n      tensor {\\n        dtype: DT_FLOAT\\n        tensor_shape {\\n        }\\n        float_val: 0.8999999761581421\\n      }\\n    }\\n  }\\n}\\nnode {\\n  name: &quot;optimizer/Adam/beta2&quot;\\n  op: &quot;Const&quot;\\n  attr {\\n    key: &quot;dtype&quot;\\n    value {\\n      type: DT_FLOAT\\n    }\\n  }\\n  attr {\\n    key: &quot;value&quot;\\n    value {\\n      tensor {\\n        dtype: DT_FLOAT\\n        tensor_shape {\\n        }\\n        float_val: 0.9990000128746033\\n      }\\n    }\\n  }\\n}\\nnode {\\n  name: &quot;optimizer/Adam/epsilon&quot;\\n  op: &quot;Const&quot;\\n  attr {\\n    key: &quot;dtype&quot;\\n    value {\\n      type: DT_FLOAT\\n    }\\n  }\\n  attr {\\n    key: &quot;value&quot;\\n    value {\\n      tensor {\\n        dtype: DT_FLOAT\\n        tensor_shape {\\n        }\\n        float_val: 9.99999993922529e-09\\n      }\\n    }\\n  }\\n}\\nnode {\\n  name: &quot;optimizer/Adam/update_conv_1/weights/Variable/ApplyAdam&quot;\\n  op: &quot;ApplyAdam&quot;\\n  input: &quot;conv_1/weights/Variable&quot;\\n  input: &quot;conv_1/weights/Variable/Adam&quot;\\n  input: &quot;conv_1/weights/Variable/Adam_1&quot;\\n  input: &quot;optimizer/beta1_power/read&quot;\\n  input: &quot;optimizer/beta2_power/read&quot;\\n  input: &quot;optimizer/Adam/learning_rate&quot;\\n  input: &quot;optimizer/Adam/beta1&quot;\\n  input: &quot;optimizer/Adam/beta2&quot;\\n  input: &quot;optimizer/Adam/epsilon&quot;\\n  input: &quot;optimizer/gradients/conv_1/conv2d_1_grad/tuple/control_dependency_1&quot;\\n  attr {\\n    key: &quot;T&quot;\\n    value {\\n      type: DT_FLOAT\\n    }\\n  }\\n  attr {\\n    key: &quot;_class&quot;\\n    value {\\n      list {\\n        s: &quot;loc:@conv_1/weights/Variable&quot;\\n      }\\n    }\\n  }\\n  attr {\\n    key: &quot;use_locking&quot;\\n    value {\\n      b: false\\n    }\\n  }\\n  attr {\\n    key: &quot;use_nesterov&quot;\\n    value {\\n      b: false\\n    }\\n  }\\n}\\nnode {\\n  name: &quot;optimizer/Adam/update_conv_1/biases/Variable/ApplyAdam&quot;\\n  op: &quot;ApplyAdam&quot;\\n  input: &quot;conv_1/biases/Variable&quot;\\n  input: &quot;conv_1/biases/Variable/Adam&quot;\\n  input: &quot;conv_1/biases/Variable/Adam_1&quot;\\n  input: &quot;optimizer/beta1_power/read&quot;\\n  input: &quot;optimizer/beta2_power/read&quot;\\n  input: &quot;optimizer/Adam/learning_rate&quot;\\n  input: &quot;optimizer/Adam/beta1&quot;\\n  input: &quot;optimizer/Adam/beta2&quot;\\n  input: &quot;optimizer/Adam/epsilon&quot;\\n  input: &quot;optimizer/gradients/conv_1/BiasAdd_grad/tuple/control_dependency_1&quot;\\n  attr {\\n    key: &quot;T&quot;\\n    value {\\n      type: DT_FLOAT\\n    }\\n  }\\n  attr {\\n    key: &quot;_class&quot;\\n    value {\\n      list {\\n        s: &quot;loc:@conv_1/biases/Variable&quot;\\n      }\\n    }\\n  }\\n  attr {\\n    key: &quot;use_locking&quot;\\n    value {\\n      b: false\\n    }\\n  }\\n  attr {\\n    key: &quot;use_nesterov&quot;\\n    value {\\n      b: false\\n    }\\n  }\\n}\\nnode {\\n  name: &quot;optimizer/Adam/update_conv_2/weights/Variable/ApplyAdam&quot;\\n  op: &quot;ApplyAdam&quot;\\n  input: &quot;conv_2/weights/Variable&quot;\\n  input: &quot;conv_2/weights/Variable/Adam&quot;\\n  input: &quot;conv_2/weights/Variable/Adam_1&quot;\\n  input: &quot;optimizer/beta1_power/read&quot;\\n  input: &quot;optimizer/beta2_power/read&quot;\\n  input: &quot;optimizer/Adam/learning_rate&quot;\\n  input: &quot;optimizer/Adam/beta1&quot;\\n  input: &quot;optimizer/Adam/beta2&quot;\\n  input: &quot;optimizer/Adam/epsilon&quot;\\n  input: &quot;optimizer/gradients/conv_2/conv2d_2_grad/tuple/control_dependency_1&quot;\\n  attr {\\n    key: &quot;T&quot;\\n    value {\\n      type: DT_FLOAT\\n    }\\n  }\\n  attr {\\n    key: &quot;_class&quot;\\n    value {\\n      list {\\n        s: &quot;loc:@conv_2/weights/Variable&quot;\\n      }\\n    }\\n  }\\n  attr {\\n    key: &quot;use_locking&quot;\\n    value {\\n      b: false\\n    }\\n  }\\n  attr {\\n    key: &quot;use_nesterov&quot;\\n    value {\\n      b: false\\n    }\\n  }\\n}\\nnode {\\n  name: &quot;optimizer/Adam/update_conv_2/biases/Variable/ApplyAdam&quot;\\n  op: &quot;ApplyAdam&quot;\\n  input: &quot;conv_2/biases/Variable&quot;\\n  input: &quot;conv_2/biases/Variable/Adam&quot;\\n  input: &quot;conv_2/biases/Variable/Adam_1&quot;\\n  input: &quot;optimizer/beta1_power/read&quot;\\n  input: &quot;optimizer/beta2_power/read&quot;\\n  input: &quot;optimizer/Adam/learning_rate&quot;\\n  input: &quot;optimizer/Adam/beta1&quot;\\n  input: &quot;optimizer/Adam/beta2&quot;\\n  input: &quot;optimizer/Adam/epsilon&quot;\\n  input: &quot;optimizer/gradients/conv_2/BiasAdd_grad/tuple/control_dependency_1&quot;\\n  attr {\\n    key: &quot;T&quot;\\n    value {\\n      type: DT_FLOAT\\n    }\\n  }\\n  attr {\\n    key: &quot;_class&quot;\\n    value {\\n      list {\\n        s: &quot;loc:@conv_2/biases/Variable&quot;\\n      }\\n    }\\n  }\\n  attr {\\n    key: &quot;use_locking&quot;\\n    value {\\n      b: false\\n    }\\n  }\\n  attr {\\n    key: &quot;use_nesterov&quot;\\n    value {\\n      b: false\\n    }\\n  }\\n}\\nnode {\\n  name: &quot;optimizer/Adam/update_fc_1/weights/Variable/ApplyAdam&quot;\\n  op: &quot;ApplyAdam&quot;\\n  input: &quot;fc_1/weights/Variable&quot;\\n  input: &quot;fc_1/weights/Variable/Adam&quot;\\n  input: &quot;fc_1/weights/Variable/Adam_1&quot;\\n  input: &quot;optimizer/beta1_power/read&quot;\\n  input: &quot;optimizer/beta2_power/read&quot;\\n  input: &quot;optimizer/Adam/learning_rate&quot;\\n  input: &quot;optimizer/Adam/beta1&quot;\\n  input: &quot;optimizer/Adam/beta2&quot;\\n  input: &quot;optimizer/Adam/epsilon&quot;\\n  input: &quot;optimizer/gradients/fc_1/MatMul_grad/tuple/control_dependency_1&quot;\\n  attr {\\n    key: &quot;T&quot;\\n    value {\\n      type: DT_FLOAT\\n    }\\n  }\\n  attr {\\n    key: &quot;_class&quot;\\n    value {\\n      list {\\n        s: &quot;loc:@fc_1/weights/Variable&quot;\\n      }\\n    }\\n  }\\n  attr {\\n    key: &quot;use_locking&quot;\\n    value {\\n      b: false\\n    }\\n  }\\n  attr {\\n    key: &quot;use_nesterov&quot;\\n    value {\\n      b: false\\n    }\\n  }\\n}\\nnode {\\n  name: &quot;optimizer/Adam/update_fc_1/biases/Variable/ApplyAdam&quot;\\n  op: &quot;ApplyAdam&quot;\\n  input: &quot;fc_1/biases/Variable&quot;\\n  input: &quot;fc_1/biases/Variable/Adam&quot;\\n  input: &quot;fc_1/biases/Variable/Adam_1&quot;\\n  input: &quot;optimizer/beta1_power/read&quot;\\n  input: &quot;optimizer/beta2_power/read&quot;\\n  input: &quot;optimizer/Adam/learning_rate&quot;\\n  input: &quot;optimizer/Adam/beta1&quot;\\n  input: &quot;optimizer/Adam/beta2&quot;\\n  input: &quot;optimizer/Adam/epsilon&quot;\\n  input: &quot;optimizer/gradients/fc_1/BiasAdd_grad/tuple/control_dependency_1&quot;\\n  attr {\\n    key: &quot;T&quot;\\n    value {\\n      type: DT_FLOAT\\n    }\\n  }\\n  attr {\\n    key: &quot;_class&quot;\\n    value {\\n      list {\\n        s: &quot;loc:@fc_1/biases/Variable&quot;\\n      }\\n    }\\n  }\\n  attr {\\n    key: &quot;use_locking&quot;\\n    value {\\n      b: false\\n    }\\n  }\\n  attr {\\n    key: &quot;use_nesterov&quot;\\n    value {\\n      b: false\\n    }\\n  }\\n}\\nnode {\\n  name: &quot;optimizer/Adam/update_fc_2/weights/Variable/ApplyAdam&quot;\\n  op: &quot;ApplyAdam&quot;\\n  input: &quot;fc_2/weights/Variable&quot;\\n  input: &quot;fc_2/weights/Variable/Adam&quot;\\n  input: &quot;fc_2/weights/Variable/Adam_1&quot;\\n  input: &quot;optimizer/beta1_power/read&quot;\\n  input: &quot;optimizer/beta2_power/read&quot;\\n  input: &quot;optimizer/Adam/learning_rate&quot;\\n  input: &quot;optimizer/Adam/beta1&quot;\\n  input: &quot;optimizer/Adam/beta2&quot;\\n  input: &quot;optimizer/Adam/epsilon&quot;\\n  input: &quot;optimizer/gradients/fc_2/MatMul_grad/tuple/control_dependency_1&quot;\\n  attr {\\n    key: &quot;T&quot;\\n    value {\\n      type: DT_FLOAT\\n    }\\n  }\\n  attr {\\n    key: &quot;_class&quot;\\n    value {\\n      list {\\n        s: &quot;loc:@fc_2/weights/Variable&quot;\\n      }\\n    }\\n  }\\n  attr {\\n    key: &quot;use_locking&quot;\\n    value {\\n      b: false\\n    }\\n  }\\n  attr {\\n    key: &quot;use_nesterov&quot;\\n    value {\\n      b: false\\n    }\\n  }\\n}\\nnode {\\n  name: &quot;optimizer/Adam/update_fc_2/biases/Variable/ApplyAdam&quot;\\n  op: &quot;ApplyAdam&quot;\\n  input: &quot;fc_2/biases/Variable&quot;\\n  input: &quot;fc_2/biases/Variable/Adam&quot;\\n  input: &quot;fc_2/biases/Variable/Adam_1&quot;\\n  input: &quot;optimizer/beta1_power/read&quot;\\n  input: &quot;optimizer/beta2_power/read&quot;\\n  input: &quot;optimizer/Adam/learning_rate&quot;\\n  input: &quot;optimizer/Adam/beta1&quot;\\n  input: &quot;optimizer/Adam/beta2&quot;\\n  input: &quot;optimizer/Adam/epsilon&quot;\\n  input: &quot;optimizer/gradients/fc_2/BiasAdd_grad/tuple/control_dependency_1&quot;\\n  attr {\\n    key: &quot;T&quot;\\n    value {\\n      type: DT_FLOAT\\n    }\\n  }\\n  attr {\\n    key: &quot;_class&quot;\\n    value {\\n      list {\\n        s: &quot;loc:@fc_2/biases/Variable&quot;\\n      }\\n    }\\n  }\\n  attr {\\n    key: &quot;use_locking&quot;\\n    value {\\n      b: false\\n    }\\n  }\\n  attr {\\n    key: &quot;use_nesterov&quot;\\n    value {\\n      b: false\\n    }\\n  }\\n}\\nnode {\\n  name: &quot;optimizer/Adam/mul&quot;\\n  op: &quot;Mul&quot;\\n  input: &quot;optimizer/beta1_power/read&quot;\\n  input: &quot;optimizer/Adam/beta1&quot;\\n  input: &quot;^optimizer/Adam/update_conv_1/biases/Variable/ApplyAdam&quot;\\n  input: &quot;^optimizer/Adam/update_conv_1/weights/Variable/ApplyAdam&quot;\\n  input: &quot;^optimizer/Adam/update_conv_2/biases/Variable/ApplyAdam&quot;\\n  input: &quot;^optimizer/Adam/update_conv_2/weights/Variable/ApplyAdam&quot;\\n  input: &quot;^optimizer/Adam/update_fc_1/biases/Variable/ApplyAdam&quot;\\n  input: &quot;^optimizer/Adam/update_fc_1/weights/Variable/ApplyAdam&quot;\\n  input: &quot;^optimizer/Adam/update_fc_2/biases/Variable/ApplyAdam&quot;\\n  input: &quot;^optimizer/Adam/update_fc_2/weights/Variable/ApplyAdam&quot;\\n  attr {\\n    key: &quot;T&quot;\\n    value {\\n      type: DT_FLOAT\\n    }\\n  }\\n  attr {\\n    key: &quot;_class&quot;\\n    value {\\n      list {\\n        s: &quot;loc:@conv_1/biases/Variable&quot;\\n      }\\n    }\\n  }\\n}\\nnode {\\n  name: &quot;optimizer/Adam/Assign&quot;\\n  op: &quot;Assign&quot;\\n  input: &quot;optimizer/beta1_power&quot;\\n  input: &quot;optimizer/Adam/mul&quot;\\n  attr {\\n    key: &quot;T&quot;\\n    value {\\n      type: DT_FLOAT\\n    }\\n  }\\n  attr {\\n    key: &quot;_class&quot;\\n    value {\\n      list {\\n        s: &quot;loc:@conv_1/biases/Variable&quot;\\n      }\\n    }\\n  }\\n  attr {\\n    key: &quot;use_locking&quot;\\n    value {\\n      b: false\\n    }\\n  }\\n  attr {\\n    key: &quot;validate_shape&quot;\\n    value {\\n      b: true\\n    }\\n  }\\n}\\nnode {\\n  name: &quot;optimizer/Adam/mul_1&quot;\\n  op: &quot;Mul&quot;\\n  input: &quot;optimizer/beta2_power/read&quot;\\n  input: &quot;optimizer/Adam/beta2&quot;\\n  input: &quot;^optimizer/Adam/update_conv_1/biases/Variable/ApplyAdam&quot;\\n  input: &quot;^optimizer/Adam/update_conv_1/weights/Variable/ApplyAdam&quot;\\n  input: &quot;^optimizer/Adam/update_conv_2/biases/Variable/ApplyAdam&quot;\\n  input: &quot;^optimizer/Adam/update_conv_2/weights/Variable/ApplyAdam&quot;\\n  input: &quot;^optimizer/Adam/update_fc_1/biases/Variable/ApplyAdam&quot;\\n  input: &quot;^optimizer/Adam/update_fc_1/weights/Variable/ApplyAdam&quot;\\n  input: &quot;^optimizer/Adam/update_fc_2/biases/Variable/ApplyAdam&quot;\\n  input: &quot;^optimizer/Adam/update_fc_2/weights/Variable/ApplyAdam&quot;\\n  attr {\\n    key: &quot;T&quot;\\n    value {\\n      type: DT_FLOAT\\n    }\\n  }\\n  attr {\\n    key: &quot;_class&quot;\\n    value {\\n      list {\\n        s: &quot;loc:@conv_1/biases/Variable&quot;\\n      }\\n    }\\n  }\\n}\\nnode {\\n  name: &quot;optimizer/Adam/Assign_1&quot;\\n  op: &quot;Assign&quot;\\n  input: &quot;optimizer/beta2_power&quot;\\n  input: &quot;optimizer/Adam/mul_1&quot;\\n  attr {\\n    key: &quot;T&quot;\\n    value {\\n      type: DT_FLOAT\\n    }\\n  }\\n  attr {\\n    key: &quot;_class&quot;\\n    value {\\n      list {\\n        s: &quot;loc:@conv_1/biases/Variable&quot;\\n      }\\n    }\\n  }\\n  attr {\\n    key: &quot;use_locking&quot;\\n    value {\\n      b: false\\n    }\\n  }\\n  attr {\\n    key: &quot;validate_shape&quot;\\n    value {\\n      b: true\\n    }\\n  }\\n}\\nnode {\\n  name: &quot;optimizer/Adam&quot;\\n  op: &quot;NoOp&quot;\\n  input: &quot;^optimizer/Adam/Assign&quot;\\n  input: &quot;^optimizer/Adam/Assign_1&quot;\\n  input: &quot;^optimizer/Adam/update_conv_1/biases/Variable/ApplyAdam&quot;\\n  input: &quot;^optimizer/Adam/update_conv_1/weights/Variable/ApplyAdam&quot;\\n  input: &quot;^optimizer/Adam/update_conv_2/biases/Variable/ApplyAdam&quot;\\n  input: &quot;^optimizer/Adam/update_conv_2/weights/Variable/ApplyAdam&quot;\\n  input: &quot;^optimizer/Adam/update_fc_1/biases/Variable/ApplyAdam&quot;\\n  input: &quot;^optimizer/Adam/update_fc_1/weights/Variable/ApplyAdam&quot;\\n  input: &quot;^optimizer/Adam/update_fc_2/biases/Variable/ApplyAdam&quot;\\n  input: &quot;^optimizer/Adam/update_fc_2/weights/Variable/ApplyAdam&quot;\\n}\\nnode {\\n  name: &quot;accuracy/ArgMax/dimension&quot;\\n  op: &quot;Const&quot;\\n  attr {\\n    key: &quot;dtype&quot;\\n    value {\\n      type: DT_INT32\\n    }\\n  }\\n  attr {\\n    key: &quot;value&quot;\\n    value {\\n      tensor {\\n        dtype: DT_INT32\\n        tensor_shape {\\n        }\\n        int_val: 1\\n      }\\n    }\\n  }\\n}\\nnode {\\n  name: &quot;accuracy/ArgMax&quot;\\n  op: &quot;ArgMax&quot;\\n  input: &quot;fc_2/BiasAdd&quot;\\n  input: &quot;accuracy/ArgMax/dimension&quot;\\n  attr {\\n    key: &quot;T&quot;\\n    value {\\n      type: DT_FLOAT\\n    }\\n  }\\n  attr {\\n    key: &quot;Tidx&quot;\\n    value {\\n      type: DT_INT32\\n    }\\n  }\\n  attr {\\n    key: &quot;output_type&quot;\\n    value {\\n      type: DT_INT64\\n    }\\n  }\\n}\\nnode {\\n  name: &quot;accuracy/ArgMax_1/dimension&quot;\\n  op: &quot;Const&quot;\\n  attr {\\n    key: &quot;dtype&quot;\\n    value {\\n      type: DT_INT32\\n    }\\n  }\\n  attr {\\n    key: &quot;value&quot;\\n    value {\\n      tensor {\\n        dtype: DT_INT32\\n        tensor_shape {\\n        }\\n        int_val: 1\\n      }\\n    }\\n  }\\n}\\nnode {\\n  name: &quot;accuracy/ArgMax_1&quot;\\n  op: &quot;ArgMax&quot;\\n  input: &quot;input/y-input&quot;\\n  input: &quot;accuracy/ArgMax_1/dimension&quot;\\n  attr {\\n    key: &quot;T&quot;\\n    value {\\n      type: DT_FLOAT\\n    }\\n  }\\n  attr {\\n    key: &quot;Tidx&quot;\\n    value {\\n      type: DT_INT32\\n    }\\n  }\\n  attr {\\n    key: &quot;output_type&quot;\\n    value {\\n      type: DT_INT64\\n    }\\n  }\\n}\\nnode {\\n  name: &quot;accuracy/Equal&quot;\\n  op: &quot;Equal&quot;\\n  input: &quot;accuracy/ArgMax&quot;\\n  input: &quot;accuracy/ArgMax_1&quot;\\n  attr {\\n    key: &quot;T&quot;\\n    value {\\n      type: DT_INT64\\n    }\\n  }\\n}\\nnode {\\n  name: &quot;accuracy/Cast&quot;\\n  op: &quot;Cast&quot;\\n  input: &quot;accuracy/Equal&quot;\\n  attr {\\n    key: &quot;DstT&quot;\\n    value {\\n      type: DT_FLOAT\\n    }\\n  }\\n  attr {\\n    key: &quot;SrcT&quot;\\n    value {\\n      type: DT_BOOL\\n    }\\n  }\\n  attr {\\n    key: &quot;Truncate&quot;\\n    value {\\n      b: false\\n    }\\n  }\\n}\\nnode {\\n  name: &quot;accuracy/Const&quot;\\n  op: &quot;Const&quot;\\n  attr {\\n    key: &quot;dtype&quot;\\n    value {\\n      type: DT_INT32\\n    }\\n  }\\n  attr {\\n    key: &quot;value&quot;\\n    value {\\n      tensor {\\n        dtype: DT_INT32\\n        tensor_shape {\\n          dim {\\n            size: 1\\n          }\\n        }\\n        int_val: 0\\n      }\\n    }\\n  }\\n}\\nnode {\\n  name: &quot;accuracy/Mean&quot;\\n  op: &quot;Mean&quot;\\n  input: &quot;accuracy/Cast&quot;\\n  input: &quot;accuracy/Const&quot;\\n  attr {\\n    key: &quot;T&quot;\\n    value {\\n      type: DT_FLOAT\\n    }\\n  }\\n  attr {\\n    key: &quot;Tidx&quot;\\n    value {\\n      type: DT_INT32\\n    }\\n  }\\n  attr {\\n    key: &quot;keep_dims&quot;\\n    value {\\n      b: false\\n    }\\n  }\\n}\\nnode {\\n  name: &quot;accuracy/accuracy/tags&quot;\\n  op: &quot;Const&quot;\\n  attr {\\n    key: &quot;dtype&quot;\\n    value {\\n      type: DT_STRING\\n    }\\n  }\\n  attr {\\n    key: &quot;value&quot;\\n    value {\\n      tensor {\\n        dtype: DT_STRING\\n        tensor_shape {\\n        }\\n        string_val: &quot;accuracy/accuracy&quot;\\n      }\\n    }\\n  }\\n}\\nnode {\\n  name: &quot;accuracy/accuracy&quot;\\n  op: &quot;ScalarSummary&quot;\\n  input: &quot;accuracy/accuracy/tags&quot;\\n  input: &quot;accuracy/Mean&quot;\\n  attr {\\n    key: &quot;T&quot;\\n    value {\\n      type: DT_FLOAT\\n    }\\n  }\\n}\\n';\n",
       "          }\n",
       "        </script>\n",
       "        <link rel=&quot;import&quot; href=&quot;https://tensorboard.appspot.com/tf-graph-basic.build.html&quot; onload=load()>\n",
       "        <div style=&quot;height:600px&quot;>\n",
       "          <tf-graph-basic id=&quot;graph0.007797043152323879&quot;></tf-graph-basic>\n",
       "        </div>\n",
       "    \"></iframe>\n",
       "    "
      ],
      "text/plain": [
       "<IPython.core.display.HTML object>"
      ]
     },
     "metadata": {},
     "output_type": "display_data"
    }
   ],
   "source": [
    "import tensorboard as tb \n",
    "tb.show_graph(g1)"
   ]
  },
  {
   "cell_type": "code",
   "execution_count": 43,
   "metadata": {},
   "outputs": [],
   "source": [
    "n_iter = 50000\n",
    "batch_size = 100\n",
    "time_path = datetime.datetime.now().strftime(\"%Y_%m_%d_%H_%M_%S\")\n",
    "log_dir= \"logs/\" + time_path  \n",
    "\n",
    "checkpoint_dir = os.path.abspath(os.path.join(log_dir, \"checkpoints\"))\n",
    "checkpoint_prefix = os.path.join(checkpoint_dir, \"model\")\n",
    "\n",
    "tf.gfile.MakeDirs(log_dir)\n",
    "tf.gfile.MakeDirs(checkpoint_dir)"
   ]
  },
  {
   "cell_type": "code",
   "execution_count": 44,
   "metadata": {},
   "outputs": [
    {
     "name": "stdout",
     "output_type": "stream",
     "text": [
      "test/train: 38547/232365 = 0.1659\n"
     ]
    }
   ],
   "source": [
    "dm = DataManager()"
   ]
  },
  {
   "cell_type": "code",
   "execution_count": null,
   "metadata": {},
   "outputs": [
    {
     "data": {
      "application/vnd.jupyter.widget-view+json": {
       "model_id": "8f1e4345ab5e4ba2be551b92b2010af5",
       "version_major": 2,
       "version_minor": 0
      },
      "text/html": [
       "<p>Failed to display Jupyter Widget of type <code>HBox</code>.</p>\n",
       "<p>\n",
       "  If you're reading this message in the Jupyter Notebook or JupyterLab Notebook, it may mean\n",
       "  that the widgets JavaScript is still loading. If this message persists, it\n",
       "  likely means that the widgets JavaScript library is either not installed or\n",
       "  not enabled. See the <a href=\"https://ipywidgets.readthedocs.io/en/stable/user_install.html\">Jupyter\n",
       "  Widgets Documentation</a> for setup instructions.\n",
       "</p>\n",
       "<p>\n",
       "  If you're reading this message in another frontend (for example, a static\n",
       "  rendering on GitHub or <a href=\"https://nbviewer.jupyter.org/\">NBViewer</a>),\n",
       "  it may mean that your frontend doesn't currently support widgets.\n",
       "</p>\n"
      ],
      "text/plain": [
       "HBox(children=(IntProgress(value=0, max=50000), HTML(value='')))"
      ]
     },
     "metadata": {},
     "output_type": "display_data"
    },
    {
     "name": "stdout",
     "output_type": "stream",
     "text": [
      "step 0, training loss 3.88994, training accuracy 0.04\n",
      "Saved model checkpoint to /Users/tdual/Workspace/cnn_feature/logs/2018_12_28_15_49_42/checkpoints/model-0\n",
      "\n",
      "test accuracy 0.02425\n",
      "step 100, training loss 3.86736, training accuracy 0.02\n",
      "step 200, training loss 3.80693, training accuracy 0.06\n",
      "step 300, training loss 3.79946, training accuracy 0.06\n",
      "step 400, training loss 3.7013, training accuracy 0.14\n",
      "step 500, training loss 3.63143, training accuracy 0.21\n",
      "Saved model checkpoint to /Users/tdual/Workspace/cnn_feature/logs/2018_12_28_15_49_42/checkpoints/model-500\n",
      "\n",
      "test accuracy 0.20345\n",
      "step 600, training loss 3.45871, training accuracy 0.36\n",
      "step 700, training loss 3.24754, training accuracy 0.43\n",
      "step 800, training loss 3.20985, training accuracy 0.4\n",
      "step 900, training loss 3.09296, training accuracy 0.38\n",
      "step 1000, training loss 2.88111, training accuracy 0.48\n",
      "Saved model checkpoint to /Users/tdual/Workspace/cnn_feature/logs/2018_12_28_15_49_42/checkpoints/model-1000\n",
      "\n",
      "test accuracy 0.3444\n",
      "step 1100, training loss 2.87618, training accuracy 0.36\n",
      "step 1200, training loss 2.57286, training accuracy 0.49\n",
      "step 1300, training loss 2.46875, training accuracy 0.49\n",
      "step 1400, training loss 2.41228, training accuracy 0.48\n",
      "step 1500, training loss 2.14474, training accuracy 0.59\n",
      "Saved model checkpoint to /Users/tdual/Workspace/cnn_feature/logs/2018_12_28_15_49_42/checkpoints/model-1500\n",
      "\n",
      "test accuracy 0.4017\n",
      "step 1600, training loss 2.37173, training accuracy 0.5\n",
      "step 1700, training loss 2.12025, training accuracy 0.5\n",
      "step 1800, training loss 2.07168, training accuracy 0.47\n",
      "step 1900, training loss 1.9002, training accuracy 0.53\n",
      "step 2000, training loss 1.85337, training accuracy 0.54\n",
      "Saved model checkpoint to /Users/tdual/Workspace/cnn_feature/logs/2018_12_28_15_49_42/checkpoints/model-2000\n",
      "\n",
      "test accuracy 0.43795\n",
      "step 2100, training loss 1.80487, training accuracy 0.57\n",
      "step 2200, training loss 2.05712, training accuracy 0.55\n",
      "step 2300, training loss 1.50282, training accuracy 0.66\n",
      "step 2400, training loss 1.82233, training accuracy 0.63\n",
      "step 2500, training loss 1.77274, training accuracy 0.57\n",
      "Saved model checkpoint to /Users/tdual/Workspace/cnn_feature/logs/2018_12_28_15_49_42/checkpoints/model-2500\n",
      "\n",
      "test accuracy 0.4648\n",
      "step 2600, training loss 1.53181, training accuracy 0.61\n",
      "step 2700, training loss 1.87252, training accuracy 0.52\n",
      "step 2800, training loss 1.7208, training accuracy 0.6\n",
      "step 2900, training loss 1.56791, training accuracy 0.58\n",
      "step 3000, training loss 1.77619, training accuracy 0.52\n",
      "Saved model checkpoint to /Users/tdual/Workspace/cnn_feature/logs/2018_12_28_15_49_42/checkpoints/model-3000\n",
      "\n",
      "test accuracy 0.48645\n",
      "step 3100, training loss 1.73959, training accuracy 0.58\n",
      "step 3200, training loss 1.50923, training accuracy 0.63\n",
      "step 3300, training loss 1.65763, training accuracy 0.56\n",
      "step 3400, training loss 1.55774, training accuracy 0.64\n",
      "step 3500, training loss 1.32199, training accuracy 0.62\n",
      "Saved model checkpoint to /Users/tdual/Workspace/cnn_feature/logs/2018_12_28_15_49_42/checkpoints/model-3500\n",
      "\n",
      "test accuracy 0.50405\n",
      "step 3600, training loss 1.48766, training accuracy 0.63\n",
      "step 3700, training loss 1.59362, training accuracy 0.65\n",
      "step 3800, training loss 1.589, training accuracy 0.64\n",
      "step 3900, training loss 1.47332, training accuracy 0.57\n",
      "step 4000, training loss 1.39914, training accuracy 0.61\n",
      "Saved model checkpoint to /Users/tdual/Workspace/cnn_feature/logs/2018_12_28_15_49_42/checkpoints/model-4000\n",
      "\n",
      "test accuracy 0.5202\n",
      "step 4100, training loss 1.24482, training accuracy 0.68\n",
      "step 4200, training loss 1.45664, training accuracy 0.65\n",
      "step 4300, training loss 1.5177, training accuracy 0.61\n",
      "step 4400, training loss 1.47709, training accuracy 0.62\n",
      "step 4500, training loss 1.49954, training accuracy 0.63\n",
      "Saved model checkpoint to /Users/tdual/Workspace/cnn_feature/logs/2018_12_28_15_49_42/checkpoints/model-4500\n",
      "\n",
      "test accuracy 0.5297\n",
      "step 4600, training loss 1.38435, training accuracy 0.6\n",
      "step 4700, training loss 1.59807, training accuracy 0.58\n",
      "step 4800, training loss 1.3574, training accuracy 0.71\n",
      "step 4900, training loss 1.34191, training accuracy 0.65\n",
      "step 5000, training loss 1.35917, training accuracy 0.63\n",
      "Saved model checkpoint to /Users/tdual/Workspace/cnn_feature/logs/2018_12_28_15_49_42/checkpoints/model-5000\n",
      "\n",
      "test accuracy 0.5389\n",
      "step 5100, training loss 1.24976, training accuracy 0.69\n",
      "step 5200, training loss 1.32302, training accuracy 0.66\n",
      "step 5300, training loss 1.42435, training accuracy 0.61\n",
      "step 5400, training loss 1.33654, training accuracy 0.66\n",
      "step 5500, training loss 1.19364, training accuracy 0.69\n",
      "Saved model checkpoint to /Users/tdual/Workspace/cnn_feature/logs/2018_12_28_15_49_42/checkpoints/model-5500\n",
      "\n",
      "test accuracy 0.55075\n",
      "step 5600, training loss 1.15997, training accuracy 0.7\n",
      "step 5700, training loss 1.24973, training accuracy 0.69\n",
      "step 5800, training loss 1.57132, training accuracy 0.61\n",
      "step 5900, training loss 1.1483, training accuracy 0.67\n",
      "step 6000, training loss 1.20695, training accuracy 0.73\n",
      "Saved model checkpoint to /Users/tdual/Workspace/cnn_feature/logs/2018_12_28_15_49_42/checkpoints/model-6000\n",
      "\n",
      "test accuracy 0.5626\n",
      "step 6100, training loss 1.06104, training accuracy 0.75\n",
      "step 6200, training loss 1.29035, training accuracy 0.64\n",
      "step 6300, training loss 1.2844, training accuracy 0.66\n",
      "step 6400, training loss 1.1574, training accuracy 0.7\n",
      "step 6500, training loss 1.42742, training accuracy 0.66\n",
      "Saved model checkpoint to /Users/tdual/Workspace/cnn_feature/logs/2018_12_28_15_49_42/checkpoints/model-6500\n",
      "\n",
      "test accuracy 0.5707\n",
      "step 6600, training loss 1.14642, training accuracy 0.74\n",
      "step 6700, training loss 1.08159, training accuracy 0.73\n",
      "step 6800, training loss 1.18226, training accuracy 0.73\n",
      "step 6900, training loss 1.2395, training accuracy 0.68\n",
      "step 7000, training loss 1.14672, training accuracy 0.71\n",
      "Saved model checkpoint to /Users/tdual/Workspace/cnn_feature/logs/2018_12_28_15_49_42/checkpoints/model-7000\n",
      "\n",
      "test accuracy 0.5786\n",
      "step 7100, training loss 1.21592, training accuracy 0.66\n",
      "step 7200, training loss 1.43373, training accuracy 0.68\n",
      "step 7300, training loss 1.36247, training accuracy 0.59\n",
      "step 7400, training loss 1.24796, training accuracy 0.72\n",
      "step 7500, training loss 1.18133, training accuracy 0.67\n",
      "Saved model checkpoint to /Users/tdual/Workspace/cnn_feature/logs/2018_12_28_15_49_42/checkpoints/model-7500\n",
      "\n",
      "test accuracy 0.58845\n",
      "step 7600, training loss 1.1081, training accuracy 0.74\n",
      "step 7700, training loss 1.22331, training accuracy 0.68\n",
      "step 7800, training loss 0.975426, training accuracy 0.7\n",
      "step 7900, training loss 1.15791, training accuracy 0.71\n",
      "step 8000, training loss 1.32412, training accuracy 0.62\n",
      "Saved model checkpoint to /Users/tdual/Workspace/cnn_feature/logs/2018_12_28_15_49_42/checkpoints/model-8000\n",
      "\n",
      "test accuracy 0.5955\n",
      "step 8100, training loss 0.868813, training accuracy 0.81\n",
      "step 8200, training loss 1.0631, training accuracy 0.74\n",
      "step 8300, training loss 1.11937, training accuracy 0.74\n",
      "step 8400, training loss 1.05317, training accuracy 0.72\n",
      "step 8500, training loss 1.23077, training accuracy 0.7\n",
      "Saved model checkpoint to /Users/tdual/Workspace/cnn_feature/logs/2018_12_28_15_49_42/checkpoints/model-8500\n",
      "\n",
      "test accuracy 0.60375\n",
      "step 8600, training loss 0.810714, training accuracy 0.8\n",
      "step 8700, training loss 1.01692, training accuracy 0.74\n",
      "step 8800, training loss 1.14102, training accuracy 0.7\n",
      "step 8900, training loss 1.31921, training accuracy 0.63\n",
      "step 9000, training loss 1.04603, training accuracy 0.73\n",
      "Saved model checkpoint to /Users/tdual/Workspace/cnn_feature/logs/2018_12_28_15_49_42/checkpoints/model-9000\n",
      "\n",
      "test accuracy 0.6121\n",
      "step 9100, training loss 1.01352, training accuracy 0.72\n",
      "step 9200, training loss 1.02977, training accuracy 0.72\n",
      "step 9300, training loss 0.869271, training accuracy 0.73\n",
      "step 9400, training loss 1.2434, training accuracy 0.66\n",
      "step 9500, training loss 1.09573, training accuracy 0.74\n",
      "Saved model checkpoint to /Users/tdual/Workspace/cnn_feature/logs/2018_12_28_15_49_42/checkpoints/model-9500\n",
      "\n",
      "test accuracy 0.62055\n",
      "step 9600, training loss 1.15131, training accuracy 0.7\n",
      "step 9700, training loss 1.01434, training accuracy 0.71\n",
      "step 9800, training loss 1.0035, training accuracy 0.76\n"
     ]
    },
    {
     "name": "stdout",
     "output_type": "stream",
     "text": [
      "step 9900, training loss 1.28963, training accuracy 0.67\n",
      "step 10000, training loss 1.03479, training accuracy 0.77\n",
      "Saved model checkpoint to /Users/tdual/Workspace/cnn_feature/logs/2018_12_28_15_49_42/checkpoints/model-10000\n",
      "\n",
      "test accuracy 0.62575\n",
      "step 10100, training loss 0.950744, training accuracy 0.77\n",
      "step 10200, training loss 0.908606, training accuracy 0.78\n",
      "step 10300, training loss 0.88685, training accuracy 0.76\n",
      "step 10400, training loss 0.979625, training accuracy 0.74\n",
      "step 10500, training loss 0.911403, training accuracy 0.75\n",
      "Saved model checkpoint to /Users/tdual/Workspace/cnn_feature/logs/2018_12_28_15_49_42/checkpoints/model-10500\n",
      "\n",
      "test accuracy 0.63255\n",
      "step 10600, training loss 1.24386, training accuracy 0.71\n",
      "step 10700, training loss 0.88873, training accuracy 0.77\n",
      "step 10800, training loss 0.887255, training accuracy 0.75\n",
      "step 10900, training loss 1.0971, training accuracy 0.72\n",
      "step 11000, training loss 1.01628, training accuracy 0.74\n",
      "Saved model checkpoint to /Users/tdual/Workspace/cnn_feature/logs/2018_12_28_15_49_42/checkpoints/model-11000\n",
      "\n",
      "test accuracy 0.6388\n",
      "step 11100, training loss 1.15505, training accuracy 0.73\n",
      "step 11200, training loss 1.04598, training accuracy 0.7\n",
      "step 11300, training loss 1.09831, training accuracy 0.74\n",
      "step 11400, training loss 0.907538, training accuracy 0.72\n",
      "step 11500, training loss 1.3376, training accuracy 0.67\n",
      "Saved model checkpoint to /Users/tdual/Workspace/cnn_feature/logs/2018_12_28_15_49_42/checkpoints/model-11500\n",
      "\n",
      "test accuracy 0.64465\n",
      "step 11600, training loss 1.2045, training accuracy 0.72\n",
      "step 11700, training loss 0.698784, training accuracy 0.84\n",
      "step 11800, training loss 0.991802, training accuracy 0.73\n",
      "step 11900, training loss 0.973136, training accuracy 0.72\n",
      "step 12000, training loss 0.832692, training accuracy 0.76\n",
      "Saved model checkpoint to /Users/tdual/Workspace/cnn_feature/logs/2018_12_28_15_49_42/checkpoints/model-12000\n",
      "\n",
      "test accuracy 0.65055\n",
      "step 12100, training loss 0.592178, training accuracy 0.88\n",
      "step 12200, training loss 0.807477, training accuracy 0.8\n",
      "step 12300, training loss 0.834597, training accuracy 0.79\n",
      "step 12400, training loss 0.772569, training accuracy 0.84\n",
      "step 12500, training loss 0.594377, training accuracy 0.84\n",
      "Saved model checkpoint to /Users/tdual/Workspace/cnn_feature/logs/2018_12_28_15_49_42/checkpoints/model-12500\n",
      "\n",
      "test accuracy 0.65685\n",
      "step 12600, training loss 1.0168, training accuracy 0.73\n",
      "step 12700, training loss 0.929978, training accuracy 0.77\n",
      "step 12800, training loss 1.01815, training accuracy 0.74\n",
      "step 12900, training loss 0.915257, training accuracy 0.8\n",
      "step 13000, training loss 0.976029, training accuracy 0.8\n",
      "Saved model checkpoint to /Users/tdual/Workspace/cnn_feature/logs/2018_12_28_15_49_42/checkpoints/model-13000\n",
      "\n",
      "test accuracy 0.6609\n",
      "step 13100, training loss 0.738579, training accuracy 0.8\n",
      "step 13200, training loss 0.834196, training accuracy 0.76\n",
      "step 13300, training loss 0.944117, training accuracy 0.77\n",
      "step 13400, training loss 0.694654, training accuracy 0.79\n",
      "step 13500, training loss 0.81655, training accuracy 0.78\n",
      "Saved model checkpoint to /Users/tdual/Workspace/cnn_feature/logs/2018_12_28_15_49_42/checkpoints/model-13500\n",
      "\n",
      "test accuracy 0.66655\n",
      "step 13600, training loss 0.780606, training accuracy 0.83\n",
      "step 13700, training loss 0.872585, training accuracy 0.78\n",
      "step 13800, training loss 0.862714, training accuracy 0.77\n",
      "step 13900, training loss 0.778452, training accuracy 0.76\n",
      "step 14000, training loss 0.790817, training accuracy 0.81\n",
      "Saved model checkpoint to /Users/tdual/Workspace/cnn_feature/logs/2018_12_28_15_49_42/checkpoints/model-14000\n",
      "\n",
      "test accuracy 0.67265\n",
      "step 14100, training loss 1.02262, training accuracy 0.67\n",
      "step 14200, training loss 0.755238, training accuracy 0.8\n",
      "step 14300, training loss 0.922491, training accuracy 0.73\n",
      "step 14400, training loss 0.765091, training accuracy 0.83\n",
      "step 14500, training loss 0.915533, training accuracy 0.75\n",
      "Saved model checkpoint to /Users/tdual/Workspace/cnn_feature/logs/2018_12_28_15_49_42/checkpoints/model-14500\n",
      "\n",
      "test accuracy 0.6756\n",
      "step 14600, training loss 0.669711, training accuracy 0.82\n",
      "step 14700, training loss 0.765622, training accuracy 0.79\n",
      "step 14800, training loss 0.850499, training accuracy 0.73\n",
      "step 14900, training loss 0.966545, training accuracy 0.78\n",
      "step 15000, training loss 0.838859, training accuracy 0.77\n",
      "Saved model checkpoint to /Users/tdual/Workspace/cnn_feature/logs/2018_12_28_15_49_42/checkpoints/model-15000\n",
      "\n",
      "test accuracy 0.6807\n",
      "step 15100, training loss 0.820324, training accuracy 0.8\n",
      "step 15200, training loss 0.754116, training accuracy 0.78\n",
      "step 15300, training loss 0.915877, training accuracy 0.77\n",
      "step 15400, training loss 0.731331, training accuracy 0.83\n",
      "step 15500, training loss 1.02324, training accuracy 0.73\n",
      "Saved model checkpoint to /Users/tdual/Workspace/cnn_feature/logs/2018_12_28_15_49_42/checkpoints/model-15500\n",
      "\n",
      "test accuracy 0.68435\n",
      "step 15600, training loss 0.782849, training accuracy 0.8\n",
      "step 15700, training loss 0.698734, training accuracy 0.85\n",
      "step 15800, training loss 0.713216, training accuracy 0.81\n",
      "step 15900, training loss 0.708951, training accuracy 0.82\n",
      "step 16000, training loss 0.806045, training accuracy 0.75\n",
      "Saved model checkpoint to /Users/tdual/Workspace/cnn_feature/logs/2018_12_28_15_49_42/checkpoints/model-16000\n",
      "\n",
      "test accuracy 0.6876\n",
      "step 16100, training loss 0.77357, training accuracy 0.81\n",
      "step 16200, training loss 0.781528, training accuracy 0.82\n",
      "step 16300, training loss 0.848675, training accuracy 0.8\n",
      "step 16400, training loss 0.528611, training accuracy 0.83\n",
      "step 16500, training loss 0.565217, training accuracy 0.87\n",
      "Saved model checkpoint to /Users/tdual/Workspace/cnn_feature/logs/2018_12_28_15_49_42/checkpoints/model-16500\n",
      "\n",
      "test accuracy 0.69275\n",
      "step 16600, training loss 0.953504, training accuracy 0.69\n",
      "step 16700, training loss 0.634062, training accuracy 0.85\n",
      "step 16800, training loss 0.758697, training accuracy 0.83\n",
      "step 16900, training loss 0.600323, training accuracy 0.85\n",
      "step 17000, training loss 1.05292, training accuracy 0.77\n",
      "Saved model checkpoint to /Users/tdual/Workspace/cnn_feature/logs/2018_12_28_15_49_42/checkpoints/model-17000\n",
      "\n",
      "test accuracy 0.69735\n",
      "step 17100, training loss 0.865566, training accuracy 0.75\n",
      "step 17200, training loss 0.628365, training accuracy 0.81\n",
      "step 17300, training loss 0.788747, training accuracy 0.83\n",
      "step 17400, training loss 0.697762, training accuracy 0.84\n",
      "step 17500, training loss 0.678702, training accuracy 0.85\n",
      "Saved model checkpoint to /Users/tdual/Workspace/cnn_feature/logs/2018_12_28_15_49_42/checkpoints/model-17500\n",
      "\n",
      "test accuracy 0.69955\n",
      "step 17600, training loss 0.839051, training accuracy 0.77\n",
      "step 17700, training loss 0.759365, training accuracy 0.86\n",
      "step 17800, training loss 0.60771, training accuracy 0.83\n",
      "step 17900, training loss 0.759532, training accuracy 0.81\n",
      "step 18000, training loss 0.573427, training accuracy 0.84\n",
      "Saved model checkpoint to /Users/tdual/Workspace/cnn_feature/logs/2018_12_28_15_49_42/checkpoints/model-18000\n",
      "\n",
      "test accuracy 0.70425\n",
      "step 18100, training loss 0.839846, training accuracy 0.76\n",
      "step 18200, training loss 0.820651, training accuracy 0.8\n",
      "step 18300, training loss 0.682145, training accuracy 0.82\n",
      "step 18400, training loss 0.689688, training accuracy 0.81\n",
      "step 18500, training loss 0.559777, training accuracy 0.84\n",
      "Saved model checkpoint to /Users/tdual/Workspace/cnn_feature/logs/2018_12_28_15_49_42/checkpoints/model-18500\n",
      "\n",
      "test accuracy 0.70705\n",
      "step 18600, training loss 0.781654, training accuracy 0.78\n",
      "step 18700, training loss 0.843064, training accuracy 0.82\n",
      "step 18800, training loss 0.663484, training accuracy 0.78\n",
      "step 18900, training loss 0.801022, training accuracy 0.84\n",
      "step 19000, training loss 0.66781, training accuracy 0.84\n",
      "Saved model checkpoint to /Users/tdual/Workspace/cnn_feature/logs/2018_12_28_15_49_42/checkpoints/model-19000\n",
      "\n",
      "test accuracy 0.71085\n",
      "step 19100, training loss 0.684142, training accuracy 0.87\n",
      "step 19200, training loss 0.958592, training accuracy 0.77\n",
      "step 19300, training loss 0.863116, training accuracy 0.74\n",
      "step 19400, training loss 0.783803, training accuracy 0.78\n",
      "step 19500, training loss 0.489037, training accuracy 0.88\n"
     ]
    },
    {
     "name": "stdout",
     "output_type": "stream",
     "text": [
      "Saved model checkpoint to /Users/tdual/Workspace/cnn_feature/logs/2018_12_28_15_49_42/checkpoints/model-19500\n",
      "\n",
      "test accuracy 0.71565\n",
      "step 19600, training loss 0.773888, training accuracy 0.78\n",
      "step 19700, training loss 0.625064, training accuracy 0.84\n",
      "step 19800, training loss 0.655778, training accuracy 0.83\n",
      "step 19900, training loss 0.636522, training accuracy 0.83\n",
      "step 20000, training loss 0.636169, training accuracy 0.84\n",
      "Saved model checkpoint to /Users/tdual/Workspace/cnn_feature/logs/2018_12_28_15_49_42/checkpoints/model-20000\n",
      "\n",
      "test accuracy 0.7183\n",
      "step 20100, training loss 0.770187, training accuracy 0.77\n",
      "step 20200, training loss 0.685631, training accuracy 0.84\n",
      "step 20300, training loss 0.733446, training accuracy 0.81\n",
      "step 20400, training loss 0.581715, training accuracy 0.85\n",
      "step 20500, training loss 0.893528, training accuracy 0.78\n",
      "Saved model checkpoint to /Users/tdual/Workspace/cnn_feature/logs/2018_12_28_15_49_42/checkpoints/model-20500\n",
      "\n",
      "test accuracy 0.7216\n",
      "step 20600, training loss 0.695712, training accuracy 0.81\n",
      "step 20700, training loss 0.785502, training accuracy 0.79\n",
      "step 20800, training loss 0.755982, training accuracy 0.84\n",
      "step 20900, training loss 0.650135, training accuracy 0.82\n",
      "step 21000, training loss 0.71086, training accuracy 0.82\n",
      "Saved model checkpoint to /Users/tdual/Workspace/cnn_feature/logs/2018_12_28_15_49_42/checkpoints/model-21000\n",
      "\n",
      "test accuracy 0.7263\n",
      "step 21100, training loss 0.64516, training accuracy 0.79\n",
      "step 21200, training loss 0.613138, training accuracy 0.87\n",
      "step 21300, training loss 0.831618, training accuracy 0.82\n",
      "step 21400, training loss 0.552514, training accuracy 0.86\n",
      "step 21500, training loss 0.569012, training accuracy 0.84\n",
      "Saved model checkpoint to /Users/tdual/Workspace/cnn_feature/logs/2018_12_28_15_49_42/checkpoints/model-21500\n",
      "\n",
      "test accuracy 0.7279\n",
      "step 21600, training loss 0.847059, training accuracy 0.84\n",
      "step 21700, training loss 0.45982, training accuracy 0.89\n",
      "step 21800, training loss 0.637707, training accuracy 0.84\n",
      "step 21900, training loss 0.601014, training accuracy 0.85\n",
      "step 22000, training loss 0.566216, training accuracy 0.85\n",
      "Saved model checkpoint to /Users/tdual/Workspace/cnn_feature/logs/2018_12_28_15_49_42/checkpoints/model-22000\n",
      "\n",
      "test accuracy 0.7304\n",
      "step 22100, training loss 0.614672, training accuracy 0.82\n",
      "step 22200, training loss 0.563707, training accuracy 0.82\n",
      "step 22300, training loss 0.905611, training accuracy 0.8\n",
      "step 22400, training loss 0.820582, training accuracy 0.79\n",
      "step 22500, training loss 0.654289, training accuracy 0.8\n",
      "Saved model checkpoint to /Users/tdual/Workspace/cnn_feature/logs/2018_12_28_15_49_42/checkpoints/model-22500\n",
      "\n",
      "test accuracy 0.73335\n",
      "step 22600, training loss 0.574267, training accuracy 0.84\n",
      "step 22700, training loss 0.675704, training accuracy 0.86\n",
      "step 22800, training loss 0.738966, training accuracy 0.86\n",
      "step 22900, training loss 0.554346, training accuracy 0.85\n",
      "step 23000, training loss 0.689233, training accuracy 0.83\n",
      "Saved model checkpoint to /Users/tdual/Workspace/cnn_feature/logs/2018_12_28_15_49_42/checkpoints/model-23000\n",
      "\n",
      "test accuracy 0.73775\n",
      "step 23100, training loss 0.895085, training accuracy 0.78\n",
      "step 23200, training loss 0.57252, training accuracy 0.87\n",
      "step 23300, training loss 0.683401, training accuracy 0.82\n",
      "step 23400, training loss 0.433673, training accuracy 0.88\n",
      "step 23500, training loss 0.599746, training accuracy 0.83\n",
      "Saved model checkpoint to /Users/tdual/Workspace/cnn_feature/logs/2018_12_28_15_49_42/checkpoints/model-23500\n",
      "\n",
      "test accuracy 0.7374\n",
      "step 23600, training loss 0.603654, training accuracy 0.87\n",
      "step 23700, training loss 0.666655, training accuracy 0.83\n",
      "step 23800, training loss 0.67217, training accuracy 0.82\n",
      "step 23900, training loss 0.47102, training accuracy 0.89\n",
      "step 24000, training loss 0.577697, training accuracy 0.81\n",
      "Saved model checkpoint to /Users/tdual/Workspace/cnn_feature/logs/2018_12_28_15_49_42/checkpoints/model-24000\n",
      "\n",
      "test accuracy 0.7429\n",
      "step 24100, training loss 0.50525, training accuracy 0.84\n",
      "step 24200, training loss 0.588726, training accuracy 0.82\n",
      "step 24300, training loss 0.861615, training accuracy 0.8\n",
      "step 24400, training loss 0.579613, training accuracy 0.82\n",
      "step 24500, training loss 0.4087, training accuracy 0.88\n",
      "Saved model checkpoint to /Users/tdual/Workspace/cnn_feature/logs/2018_12_28_15_49_42/checkpoints/model-24500\n",
      "\n",
      "test accuracy 0.744\n",
      "step 24600, training loss 0.407428, training accuracy 0.9\n",
      "step 24700, training loss 0.77225, training accuracy 0.79\n",
      "step 24800, training loss 0.368582, training accuracy 0.89\n",
      "step 24900, training loss 0.707184, training accuracy 0.82\n",
      "step 25000, training loss 0.673723, training accuracy 0.84\n",
      "Saved model checkpoint to /Users/tdual/Workspace/cnn_feature/logs/2018_12_28_15_49_42/checkpoints/model-25000\n",
      "\n",
      "test accuracy 0.74855\n",
      "step 25100, training loss 0.569327, training accuracy 0.88\n",
      "step 25200, training loss 0.557633, training accuracy 0.86\n",
      "step 25300, training loss 0.413756, training accuracy 0.89\n",
      "step 25400, training loss 0.627993, training accuracy 0.84\n",
      "step 25500, training loss 0.852383, training accuracy 0.77\n",
      "Saved model checkpoint to /Users/tdual/Workspace/cnn_feature/logs/2018_12_28_15_49_42/checkpoints/model-25500\n",
      "\n",
      "test accuracy 0.74775\n",
      "step 25600, training loss 0.57879, training accuracy 0.8\n",
      "step 25700, training loss 0.632414, training accuracy 0.86\n",
      "step 25800, training loss 0.609016, training accuracy 0.8\n",
      "step 25900, training loss 0.77972, training accuracy 0.8\n",
      "step 26000, training loss 0.456522, training accuracy 0.88\n",
      "Saved model checkpoint to /Users/tdual/Workspace/cnn_feature/logs/2018_12_28_15_49_42/checkpoints/model-26000\n",
      "\n",
      "test accuracy 0.7523\n",
      "step 26100, training loss 0.395816, training accuracy 0.89\n",
      "step 26200, training loss 0.435869, training accuracy 0.88\n",
      "step 26300, training loss 0.459017, training accuracy 0.89\n",
      "step 26400, training loss 0.70747, training accuracy 0.84\n",
      "step 26500, training loss 0.523426, training accuracy 0.86\n",
      "Saved model checkpoint to /Users/tdual/Workspace/cnn_feature/logs/2018_12_28_15_49_42/checkpoints/model-26500\n",
      "\n",
      "test accuracy 0.75455\n",
      "step 26600, training loss 0.723475, training accuracy 0.8\n",
      "step 26700, training loss 0.555028, training accuracy 0.83\n",
      "step 26800, training loss 0.484276, training accuracy 0.87\n",
      "step 26900, training loss 0.393153, training accuracy 0.91\n",
      "step 27000, training loss 0.706852, training accuracy 0.83\n",
      "Saved model checkpoint to /Users/tdual/Workspace/cnn_feature/logs/2018_12_28_15_49_42/checkpoints/model-27000\n",
      "\n",
      "test accuracy 0.7549\n",
      "step 27100, training loss 0.528295, training accuracy 0.88\n",
      "step 27200, training loss 0.436224, training accuracy 0.94\n",
      "step 27300, training loss 0.343872, training accuracy 0.88\n",
      "step 27400, training loss 0.48409, training accuracy 0.89\n",
      "step 27500, training loss 0.763741, training accuracy 0.79\n",
      "Saved model checkpoint to /Users/tdual/Workspace/cnn_feature/logs/2018_12_28_15_49_42/checkpoints/model-27500\n",
      "\n",
      "test accuracy 0.7571\n",
      "step 27600, training loss 0.626865, training accuracy 0.81\n",
      "step 27700, training loss 0.544607, training accuracy 0.87\n",
      "step 27800, training loss 0.390109, training accuracy 0.91\n",
      "step 27900, training loss 0.407144, training accuracy 0.89\n",
      "step 28000, training loss 0.665948, training accuracy 0.85\n",
      "Saved model checkpoint to /Users/tdual/Workspace/cnn_feature/logs/2018_12_28_15_49_42/checkpoints/model-28000\n",
      "\n",
      "test accuracy 0.75945\n",
      "step 28100, training loss 0.541386, training accuracy 0.88\n",
      "step 28200, training loss 0.485923, training accuracy 0.88\n",
      "step 28300, training loss 0.56132, training accuracy 0.88\n",
      "step 28400, training loss 0.289482, training accuracy 0.93\n",
      "step 28500, training loss 0.53071, training accuracy 0.85\n",
      "Saved model checkpoint to /Users/tdual/Workspace/cnn_feature/logs/2018_12_28_15_49_42/checkpoints/model-28500\n",
      "\n",
      "test accuracy 0.76255\n",
      "step 28600, training loss 0.461982, training accuracy 0.88\n",
      "step 28700, training loss 0.58085, training accuracy 0.85\n",
      "step 28800, training loss 0.440876, training accuracy 0.86\n",
      "step 28900, training loss 0.6013, training accuracy 0.84\n",
      "step 29000, training loss 0.612715, training accuracy 0.88\n",
      "Saved model checkpoint to /Users/tdual/Workspace/cnn_feature/logs/2018_12_28_15_49_42/checkpoints/model-29000\n",
      "\n",
      "test accuracy 0.7641\n"
     ]
    },
    {
     "name": "stdout",
     "output_type": "stream",
     "text": [
      "step 29100, training loss 0.539764, training accuracy 0.86\n",
      "step 29200, training loss 0.404516, training accuracy 0.9\n",
      "step 29300, training loss 0.532631, training accuracy 0.85\n",
      "step 29400, training loss 0.627141, training accuracy 0.81\n",
      "step 29500, training loss 0.524203, training accuracy 0.82\n",
      "Saved model checkpoint to /Users/tdual/Workspace/cnn_feature/logs/2018_12_28_15_49_42/checkpoints/model-29500\n",
      "\n",
      "test accuracy 0.76605\n",
      "step 29600, training loss 0.407378, training accuracy 0.92\n",
      "step 29700, training loss 0.423215, training accuracy 0.89\n",
      "step 29800, training loss 0.447526, training accuracy 0.9\n",
      "step 29900, training loss 0.578983, training accuracy 0.83\n",
      "step 30000, training loss 0.737284, training accuracy 0.79\n",
      "Saved model checkpoint to /Users/tdual/Workspace/cnn_feature/logs/2018_12_28_15_49_42/checkpoints/model-30000\n",
      "\n",
      "test accuracy 0.7677\n",
      "step 30100, training loss 0.48349, training accuracy 0.87\n",
      "step 30200, training loss 0.492008, training accuracy 0.85\n",
      "step 30300, training loss 0.345804, training accuracy 0.87\n",
      "step 30400, training loss 0.539889, training accuracy 0.89\n",
      "step 30500, training loss 0.656262, training accuracy 0.78\n",
      "Saved model checkpoint to /Users/tdual/Workspace/cnn_feature/logs/2018_12_28_15_49_42/checkpoints/model-30500\n",
      "\n",
      "test accuracy 0.7712\n",
      "step 30600, training loss 0.497431, training accuracy 0.84\n",
      "step 30700, training loss 0.470891, training accuracy 0.89\n",
      "step 30800, training loss 0.638953, training accuracy 0.83\n",
      "step 30900, training loss 0.461246, training accuracy 0.84\n",
      "step 31000, training loss 0.523031, training accuracy 0.88\n",
      "Saved model checkpoint to /Users/tdual/Workspace/cnn_feature/logs/2018_12_28_15_49_42/checkpoints/model-31000\n",
      "\n",
      "test accuracy 0.77145\n",
      "step 31100, training loss 0.377993, training accuracy 0.88\n",
      "step 31200, training loss 0.415697, training accuracy 0.9\n",
      "step 31300, training loss 0.446592, training accuracy 0.86\n",
      "step 31400, training loss 0.556732, training accuracy 0.89\n",
      "step 31500, training loss 0.60373, training accuracy 0.86\n",
      "Saved model checkpoint to /Users/tdual/Workspace/cnn_feature/logs/2018_12_28_15_49_42/checkpoints/model-31500\n",
      "\n",
      "test accuracy 0.7731\n",
      "step 31600, training loss 0.653308, training accuracy 0.83\n",
      "step 31700, training loss 0.298563, training accuracy 0.92\n",
      "step 31800, training loss 0.485293, training accuracy 0.87\n",
      "step 31900, training loss 0.520997, training accuracy 0.84\n",
      "step 32000, training loss 0.519475, training accuracy 0.87\n",
      "Saved model checkpoint to /Users/tdual/Workspace/cnn_feature/logs/2018_12_28_15_49_42/checkpoints/model-32000\n",
      "\n",
      "test accuracy 0.77505\n",
      "step 32100, training loss 0.432358, training accuracy 0.87\n",
      "step 32200, training loss 0.493097, training accuracy 0.86\n",
      "step 32300, training loss 0.628208, training accuracy 0.79\n",
      "step 32400, training loss 0.601971, training accuracy 0.89\n",
      "step 32500, training loss 0.395565, training accuracy 0.91\n",
      "Saved model checkpoint to /Users/tdual/Workspace/cnn_feature/logs/2018_12_28_15_49_42/checkpoints/model-32500\n",
      "\n",
      "test accuracy 0.77785\n",
      "step 32600, training loss 0.440528, training accuracy 0.85\n",
      "step 32700, training loss 0.679663, training accuracy 0.82\n",
      "step 32800, training loss 0.535741, training accuracy 0.83\n",
      "step 32900, training loss 0.505602, training accuracy 0.87\n",
      "step 33000, training loss 0.61891, training accuracy 0.83\n",
      "Saved model checkpoint to /Users/tdual/Workspace/cnn_feature/logs/2018_12_28_15_49_42/checkpoints/model-33000\n",
      "\n",
      "test accuracy 0.779\n",
      "step 33100, training loss 0.402789, training accuracy 0.87\n",
      "step 33200, training loss 0.679959, training accuracy 0.81\n",
      "step 33300, training loss 0.310039, training accuracy 0.91\n",
      "step 33400, training loss 0.619503, training accuracy 0.84\n",
      "step 33500, training loss 0.530713, training accuracy 0.89\n",
      "Saved model checkpoint to /Users/tdual/Workspace/cnn_feature/logs/2018_12_28_15_49_42/checkpoints/model-33500\n",
      "\n",
      "test accuracy 0.7816\n",
      "step 33600, training loss 0.585077, training accuracy 0.87\n",
      "step 33700, training loss 0.321273, training accuracy 0.92\n",
      "step 33800, training loss 0.673548, training accuracy 0.84\n",
      "step 33900, training loss 0.501646, training accuracy 0.91\n",
      "step 34000, training loss 0.65226, training accuracy 0.86\n",
      "Saved model checkpoint to /Users/tdual/Workspace/cnn_feature/logs/2018_12_28_15_49_42/checkpoints/model-34000\n",
      "\n",
      "test accuracy 0.78225\n",
      "step 34100, training loss 0.432307, training accuracy 0.89\n",
      "step 34200, training loss 0.544384, training accuracy 0.86\n",
      "step 34300, training loss 0.229119, training accuracy 0.91\n",
      "step 34400, training loss 0.469279, training accuracy 0.88\n",
      "step 34500, training loss 0.268248, training accuracy 0.93\n",
      "Saved model checkpoint to /Users/tdual/Workspace/cnn_feature/logs/2018_12_28_15_49_42/checkpoints/model-34500\n",
      "\n",
      "test accuracy 0.7828\n",
      "step 34600, training loss 0.407778, training accuracy 0.87\n",
      "step 34700, training loss 0.496644, training accuracy 0.88\n",
      "step 34800, training loss 0.369048, training accuracy 0.9\n",
      "step 34900, training loss 0.289298, training accuracy 0.91\n",
      "step 35000, training loss 0.538743, training accuracy 0.85\n",
      "Saved model checkpoint to /Users/tdual/Workspace/cnn_feature/logs/2018_12_28_15_49_42/checkpoints/model-35000\n",
      "\n",
      "test accuracy 0.78605\n",
      "step 35100, training loss 0.45034, training accuracy 0.87\n",
      "step 35200, training loss 0.565244, training accuracy 0.86\n",
      "step 35300, training loss 0.421495, training accuracy 0.87\n",
      "step 35400, training loss 0.366023, training accuracy 0.89\n",
      "step 35500, training loss 0.630337, training accuracy 0.87\n",
      "Saved model checkpoint to /Users/tdual/Workspace/cnn_feature/logs/2018_12_28_15_49_42/checkpoints/model-35500\n",
      "\n",
      "test accuracy 0.7875\n",
      "step 35600, training loss 0.511914, training accuracy 0.86\n",
      "step 35700, training loss 0.449851, training accuracy 0.87\n",
      "step 35800, training loss 0.415529, training accuracy 0.87\n",
      "step 35900, training loss 0.507269, training accuracy 0.89\n",
      "step 36000, training loss 0.620283, training accuracy 0.83\n",
      "Saved model checkpoint to /Users/tdual/Workspace/cnn_feature/logs/2018_12_28_15_49_42/checkpoints/model-36000\n",
      "\n",
      "test accuracy 0.7888\n",
      "step 36100, training loss 0.604178, training accuracy 0.87\n",
      "step 36200, training loss 0.386989, training accuracy 0.92\n",
      "step 36300, training loss 0.447542, training accuracy 0.91\n"
     ]
    }
   ],
   "source": [
    "with tf.Session(graph=g1) as sess:\n",
    "    sess.run(tf.global_variables_initializer())\n",
    "    \n",
    "    merged = tf.summary.merge_all()\n",
    "    train_writer = tf.summary.FileWriter(log_dir + '/train', sess.graph)\n",
    "    test_writer = tf.summary.FileWriter(log_dir + '/test')\n",
    "    \n",
    "    saver = tf.train.Saver(tf.global_variables(), max_to_keep=5)\n",
    "    \n",
    "    for i in tqdm(range(n_iter)):\n",
    "        batch_lbl, batch_img = dm.next_batch(\"train\", batch_size)\n",
    "        _ = sess.run(opt, feed_dict={x: batch_img, y_: batch_lbl, keep_prob: 0.8})\n",
    "        \n",
    "        if i % 100 == 0:\n",
    "            train_loss, train_accuracy, summary = sess.run([loss, accuracy, merged], feed_dict={x: batch_img, y_:  batch_lbl, keep_prob: 1.0})\n",
    "            print('step %d, training loss %g, training accuracy %g' % (i, train_loss, train_accuracy))\n",
    "            train_writer.add_summary(summary, i)\n",
    "        if i % 500 == 0:\n",
    "            test_batch_lbl, test_batch_img = dm.next_batch(\"test\", 20000)\n",
    "            test_accuracy, test_summary, = sess.run([accuracy, merged],  feed_dict={x: test_batch_img, y_: test_batch_lbl, keep_prob: 1.0})\n",
    "            test_writer.add_summary(test_summary, i)\n",
    "            path = saver.save(sess, checkpoint_prefix, global_step=i)\n",
    "            print(\"Saved model checkpoint to {}\\n\".format(path))\n",
    "            print('test accuracy %g' % test_accuracy)"
   ]
  },
  {
   "cell_type": "code",
   "execution_count": null,
   "metadata": {},
   "outputs": [],
   "source": [
    "ckpt_dir = os.path.join(log_dir, \"checkpoints\" )\n",
    "latest_ckpt = tf.train.get_checkpoint_state(ckpt_dir).model_checkpoint_path\n",
    "latest_ckpt"
   ]
  },
  {
   "cell_type": "code",
   "execution_count": null,
   "metadata": {},
   "outputs": [],
   "source": [
    "#latest_ckpt = '/Users/tdual/Workspace/cnn_feature/logs/2018_09_19_00_41_54/checkpoints/model-100'"
   ]
  },
  {
   "cell_type": "markdown",
   "metadata": {},
   "source": [
    "# similarity"
   ]
  },
  {
   "cell_type": "code",
   "execution_count": null,
   "metadata": {},
   "outputs": [],
   "source": [
    "with tf.Session(graph=g1) as sess:\n",
    "    saver = tf.train.Saver()\n",
    "    saver.restore(sess, latest_ckpt)\n",
    "    h_fc1_ = sess.run(h_fc1, feed_dict={x: mnist.test.images})\n",
    "    y_conv_ = sess.run(y_conv, feed_dict={x: mnist.test.images, keep_prob: 1.0})"
   ]
  },
  {
   "cell_type": "code",
   "execution_count": null,
   "metadata": {},
   "outputs": [],
   "source": [
    "h_fc1_[0].shape"
   ]
  },
  {
   "cell_type": "code",
   "execution_count": null,
   "metadata": {},
   "outputs": [],
   "source": [
    "y_conv_[0].shape"
   ]
  },
  {
   "cell_type": "code",
   "execution_count": null,
   "metadata": {},
   "outputs": [],
   "source": [
    "from scipy.spatial import distance\n",
    "pairwise_10 = distance.squareform(distance.pdist(y_conv_, metric=\"cosine\"))\n",
    "pairwise_1024 = distance.squareform(distance.pdist(h_fc1_, metric=\"cosine\"))"
   ]
  },
  {
   "cell_type": "code",
   "execution_count": null,
   "metadata": {},
   "outputs": [],
   "source": [
    "def similar_to(img_id, num=5, distance=False, pairwise=pairwise_1024):\n",
    "    img = pairwise[img_id]\n",
    "    ids = np.argsort(img)[0: num] \n",
    "    if distance:\n",
    "        dist = np.sort(img)[0: num]\n",
    "        return [(x,y) for x, y in zip(ids, dist)]\n",
    "    else:\n",
    "        return ids\n",
    "\n",
    "def show_sim_image(img_id, num=5, pairwise=pairwise_1024):\n",
    "    id_list = similar_to(img_id, num=num, distance=True, pairwise=pairwise)\n",
    "    fig, axs = plt.subplots(1, len(id_list), figsize=(20, 3))\n",
    "    for i, id in enumerate(id_list):\n",
    "        print(id)\n",
    "        img =imgs[id[0]]\n",
    "        axs[i].imshow(255 - np.reshape(img,[28,28]),cmap='gray')\n",
    "        axs[i].axis('off')\n",
    "    plt.show()"
   ]
  },
  {
   "cell_type": "code",
   "execution_count": null,
   "metadata": {},
   "outputs": [],
   "source": [
    "imgs = mnist.test.images"
   ]
  },
  {
   "cell_type": "code",
   "execution_count": null,
   "metadata": {},
   "outputs": [],
   "source": [
    "show_sim_image(1000, 10, pairwise=pairwise_1024)"
   ]
  },
  {
   "cell_type": "code",
   "execution_count": null,
   "metadata": {},
   "outputs": [],
   "source": [
    "show_sim_image(1000, 10, pairwise=pairwise_10)"
   ]
  },
  {
   "cell_type": "code",
   "execution_count": null,
   "metadata": {},
   "outputs": [],
   "source": [
    "show_sim_image(0, 10)"
   ]
  },
  {
   "cell_type": "markdown",
   "metadata": {},
   "source": [
    "# Visualization\n",
    "ref: https://www.tensorflow.org/versions/r0.12/how_tos/embedding_viz/\n"
   ]
  },
  {
   "cell_type": "code",
   "execution_count": null,
   "metadata": {},
   "outputs": [],
   "source": [
    "from tensorflow.contrib.tensorboard.plugins import projector\n",
    "\n",
    "LOG_DIR = os.path.join(os.getcwd(), log_dir, 'visualization')\n",
    "\n",
    "\n",
    "if tf.gfile.Exists(LOG_DIR):\n",
    "    tf.gfile.DeleteRecursively(LOG_DIR)\n",
    "tf.gfile.MakeDirs(LOG_DIR)"
   ]
  },
  {
   "cell_type": "code",
   "execution_count": null,
   "metadata": {},
   "outputs": [],
   "source": [
    "str_labels = ['o', 'ki', 'su', 'tsu', 'na', 'ha', 'ma', 'ya', 're', 'wo']\n",
    "with open(os.path.join(LOG_DIR, 'metadata.tsv'),'w') as f:\n",
    "    f.write(\"Index\\tLabel\\n\")\n",
    "    for index, label in enumerate(mnist.test.labels):\n",
    "        f.write(\"%d\\t%s\\n\" % (index, str_labels[np.argmax(label)]))"
   ]
  },
  {
   "cell_type": "code",
   "execution_count": null,
   "metadata": {},
   "outputs": [],
   "source": [
    "rows =[]\n",
    "columns = []\n",
    "sprite_size = int(np.sqrt(len(mnist.test.images)))\n",
    "\n",
    "print(\"sprite image size {size} * {size}\".format(**{\"size\": sprite_size}))\n",
    "\n",
    "for img in mnist.test.images:\n",
    "    img_ = np.reshape(img, [height, width]) # reshape and invert grayscale \n",
    "    rows.append(img_)\n",
    "\n",
    "for i in range(sprite_size):\n",
    "    columns.append(np.concatenate(rows[sprite_size * i : sprite_size * (i + 1)], axis=1))\n",
    "    \n",
    "image = np.concatenate(columns, axis=0)#.astype(np.uint8)\n",
    "imageio.imwrite(os.path.join(LOG_DIR, 'sprite.png'), image)"
   ]
  },
  {
   "cell_type": "code",
   "execution_count": null,
   "metadata": {},
   "outputs": [],
   "source": [
    "embedding_var = tf.Variable(mnist.test.images, name='mnist_pixels')\n",
    "config = projector.ProjectorConfig()\n",
    "\n",
    "embedding = config.embeddings.add()\n",
    "embedding.tensor_name = embedding_var.name\n",
    "embedding.metadata_path = os.path.join(LOG_DIR, 'metadata.tsv')\n",
    "embedding.sprite.image_path = os.path.join(LOG_DIR,  'sprite.png')\n",
    "embedding.sprite.single_image_dim.extend([28, 28])\n",
    "\n",
    "summary_writer = tf.summary.FileWriter(LOG_DIR)\n",
    "projector.visualize_embeddings(summary_writer, config)\n",
    "\n",
    "with tf.Session() as sess:\n",
    "    sess.run(tf.global_variables_initializer())\n",
    "    saver = tf.train.Saver()\n",
    "    saver.save(sess, os.path.join(LOG_DIR,  'model.ckpt'), 0)"
   ]
  },
  {
   "cell_type": "markdown",
   "metadata": {},
   "source": [
    "```\n",
    "tensorboard --logdir=logs/visualization/\n",
    "```"
   ]
  },
  {
   "cell_type": "code",
   "execution_count": null,
   "metadata": {},
   "outputs": [],
   "source": []
  },
  {
   "cell_type": "code",
   "execution_count": null,
   "metadata": {},
   "outputs": [],
   "source": []
  },
  {
   "cell_type": "code",
   "execution_count": null,
   "metadata": {},
   "outputs": [],
   "source": [
    "test_images = []\n",
    "orig_images = []\n",
    "for path in tqdm(imgs):\n",
    "    img_ = get_resize_img(path , dim) \n",
    "    if img_.shape != (28,28,3,):\n",
    "        print(path)\n",
    "        print(img_.shape)\n",
    "        rm_list.append(path)\n",
    "    else:\n",
    "        test_images.append(get_flatten_img(path, invert_gray=True))\n",
    "        orig_images.append(imread(path))\n",
    "test_images = np.array(test_images)"
   ]
  },
  {
   "cell_type": "code",
   "execution_count": null,
   "metadata": {},
   "outputs": [],
   "source": [
    "test_images = np.reshape(test_images, [-1, 28*28])"
   ]
  },
  {
   "cell_type": "code",
   "execution_count": null,
   "metadata": {},
   "outputs": [],
   "source": [
    "with tf.Session(graph=g1) as sess:\n",
    "    sess.run(tf.global_variables_initializer())\n",
    "    h_fc1_ = sess.run(h_fc1, feed_dict={x: test_images})"
   ]
  },
  {
   "cell_type": "code",
   "execution_count": null,
   "metadata": {},
   "outputs": [],
   "source": [
    "from scipy.spatial import distance\n",
    "pairwise = distance.squareform(distance.pdist(h_fc1_, metric=\"cosine\"))"
   ]
  },
  {
   "cell_type": "code",
   "execution_count": null,
   "metadata": {},
   "outputs": [],
   "source": [
    "def similar_to(img_id, num=5, distance=False):\n",
    "    img = pairwise[img_id]\n",
    "    ids = np.argsort(img)[0: num] \n",
    "    if distance:\n",
    "        dist = np.sort(img)[0: num]\n",
    "        return [(x,y) for x, y in zip(ids, dist)]\n",
    "    else:\n",
    "        return ids\n",
    "\n",
    "def show_sim_image(img_id, num=5):\n",
    "    id_list = similar_to(img_id, num=num,distance=True)\n",
    "    fig, axs = plt.subplots(1, len(id_list), figsize=(20, 3))\n",
    "    for i, id in enumerate(id_list):\n",
    "        print(id)\n",
    "        img =orig_images[id[0]]\n",
    "        axs[i].imshow(img ,cmap='gray')\n",
    "        axs[i].axis('off')\n",
    "    plt.show()"
   ]
  },
  {
   "cell_type": "code",
   "execution_count": null,
   "metadata": {},
   "outputs": [],
   "source": [
    "show_sim_image(0,10)"
   ]
  },
  {
   "cell_type": "code",
   "execution_count": null,
   "metadata": {},
   "outputs": [],
   "source": [
    "show_sim_image(2,10)"
   ]
  },
  {
   "cell_type": "code",
   "execution_count": null,
   "metadata": {},
   "outputs": [],
   "source": [
    "len(h_fc1_)"
   ]
  },
  {
   "cell_type": "code",
   "execution_count": null,
   "metadata": {},
   "outputs": [],
   "source": [
    "#with open(\"mnist_feature.pkl\", \"wb\") as f:\n",
    "#    pickle.dump(h_fc1_, f)"
   ]
  },
  {
   "cell_type": "code",
   "execution_count": null,
   "metadata": {},
   "outputs": [],
   "source": []
  },
  {
   "cell_type": "code",
   "execution_count": null,
   "metadata": {},
   "outputs": [],
   "source": []
  },
  {
   "cell_type": "markdown",
   "metadata": {},
   "source": [
    "# faiss"
   ]
  },
  {
   "cell_type": "code",
   "execution_count": null,
   "metadata": {},
   "outputs": [],
   "source": [
    "dim = h_fc1_[0].shape[0]\n",
    "dim"
   ]
  },
  {
   "cell_type": "code",
   "execution_count": null,
   "metadata": {},
   "outputs": [],
   "source": [
    "h_fc1_.shape"
   ]
  },
  {
   "cell_type": "code",
   "execution_count": null,
   "metadata": {},
   "outputs": [],
   "source": []
  },
  {
   "cell_type": "code",
   "execution_count": null,
   "metadata": {},
   "outputs": [],
   "source": [
    "import faiss\n",
    "item_index = faiss.IndexFlatL2(dim)\n",
    "item_index.add(h_fc1_)"
   ]
  },
  {
   "cell_type": "code",
   "execution_count": null,
   "metadata": {},
   "outputs": [],
   "source": [
    "item_index.ntotal"
   ]
  },
  {
   "cell_type": "code",
   "execution_count": null,
   "metadata": {},
   "outputs": [],
   "source": [
    "def show_sim_by_faiss(target_index):\n",
    "    plt.imshow(orig_images[target_index])\n",
    "    plt.title(\"the key image\")\n",
    "    plt.axis('off')\n",
    "    plt.show()\n",
    "    key_vec = np.array([h_fc1_[target_index]])\n",
    "    \n",
    "    scores, indices = item_index.search(key_vec, 10)\n",
    "    \n",
    "    fig, axs = plt.subplots(1, len(indices[0]), figsize=(20, 3))\n",
    "    for i, (id, s) in enumerate(zip(indices[0], scores[0]) ):\n",
    "        img =orig_images[id]\n",
    "        axs[i].imshow(img ,cmap='gray')\n",
    "        axs[i].set_title(s)\n",
    "        axs[i].axis('off')\n",
    "    plt.show()"
   ]
  },
  {
   "cell_type": "code",
   "execution_count": null,
   "metadata": {},
   "outputs": [],
   "source": [
    "show_sim_by_faiss(3)"
   ]
  },
  {
   "cell_type": "code",
   "execution_count": null,
   "metadata": {},
   "outputs": [],
   "source": []
  }
 ],
 "metadata": {
  "kernelspec": {
   "display_name": "Environment (conda_py3.6)",
   "language": "python",
   "name": "conda_py3.6"
  },
  "language_info": {
   "codemirror_mode": {
    "name": "ipython",
    "version": 3
   },
   "file_extension": ".py",
   "mimetype": "text/x-python",
   "name": "python",
   "nbconvert_exporter": "python",
   "pygments_lexer": "ipython3",
   "version": "3.6.7"
  },
  "widgets": {
   "state": {
    "021504234ebc45c9b08f0f3f5fc472af": {
     "views": [
      {
       "cell_index": 8
      }
     ]
    },
    "23c9115021454bf788e24c94751a7142": {
     "views": [
      {
       "cell_index": 33
      }
     ]
    },
    "35d39c2ad216493cba4cf2cd28cd2052": {
     "views": [
      {
       "cell_index": 33
      }
     ]
    },
    "4ed46bc510214d70a6b493f9a2cc81dd": {
     "views": [
      {
       "cell_index": 31
      }
     ]
    },
    "580a22a86e344e409f8c9fc09aade004": {
     "views": [
      {
       "cell_index": 25
      }
     ]
    },
    "6112f2ba020945e696480e41022655a1": {
     "views": [
      {
       "cell_index": 32
      }
     ]
    },
    "65873434c4bc46e2861720a22265e4de": {
     "views": [
      {
       "cell_index": 25
      }
     ]
    },
    "807cdd1b8c064bf4a9c2393783afbf98": {
     "views": [
      {
       "cell_index": 25
      }
     ]
    },
    "9b83b13e6100422e871e12809348ccfe": {
     "views": [
      {
       "cell_index": 31
      }
     ]
    },
    "aa28114b10364cf5aa0b139d614f0752": {
     "views": [
      {
       "cell_index": 25
      }
     ]
    },
    "b3893a363c50491ea763ddf282b2ab3c": {
     "views": [
      {
       "cell_index": 31
      }
     ]
    },
    "b48e95c22f7e4d3e9826a6edeb7d80fc": {
     "views": [
      {
       "cell_index": 32
      }
     ]
    },
    "b605744e2a8b4e63ac563cf17ac7bd55": {
     "views": [
      {
       "cell_index": 25
      }
     ]
    },
    "dcfe6f960c5e414484d3e21d8404da5c": {
     "views": [
      {
       "cell_index": 25
      }
     ]
    },
    "eede4fd3811f4033b6ddc0eac67cef05": {
     "views": [
      {
       "cell_index": 25
      }
     ]
    },
    "fe9ec5790834422d84629ac3dda77e3c": {
     "views": [
      {
       "cell_index": 25
      }
     ]
    }
   },
   "version": "1.2.0"
  }
 },
 "nbformat": 4,
 "nbformat_minor": 2
}
